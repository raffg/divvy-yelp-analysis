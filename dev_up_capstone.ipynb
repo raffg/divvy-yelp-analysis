{
 "cells": [
  {
   "cell_type": "code",
   "execution_count": 1,
   "metadata": {},
   "outputs": [],
   "source": [
    "import pandas as pd\n",
    "import numpy as np\n",
    "import json\n",
    "import matplotlib.pyplot as plt\n",
    "%matplotlib inline"
   ]
  },
  {
   "cell_type": "markdown",
   "metadata": {},
   "source": [
    "# Divvy data"
   ]
  },
  {
   "cell_type": "markdown",
   "metadata": {},
   "source": [
    "## Load and concat the Divvy datasets\n",
    "Download Divvy 2017 datasets from here: https://www.divvybikes.com/system-data"
   ]
  },
  {
   "cell_type": "code",
   "execution_count": 2,
   "metadata": {},
   "outputs": [],
   "source": [
    "divvy1 = pd.read_csv('data/Divvy_Trips_2017_Q1Q2/Divvy_Trips_2017_Q1.csv', parse_dates=['start_time', 'end_time'])\n",
    "divvy2 = pd.read_csv('data/Divvy_Trips_2017_Q1Q2/Divvy_Trips_2017_Q2.csv', parse_dates=['start_time', 'end_time'])\n",
    "divvy3 = pd.read_csv('data/Divvy_Trips_2017_Q3Q4/Divvy_Trips_2017_Q3.csv', parse_dates=['start_time', 'end_time'])\n",
    "divvy4 = pd.read_csv('data/Divvy_Trips_2017_Q3Q4/Divvy_Trips_2017_Q4.csv', parse_dates=['start_time', 'end_time'])\n",
    "\n",
    "divvy = pd.concat([divvy1, divvy2, divvy3, divvy4], ignore_index=True)\n",
    "\n",
    "divvy.to_csv('data/divvy_2017.csv', index=False)"
   ]
  },
  {
   "cell_type": "code",
   "execution_count": 3,
   "metadata": {},
   "outputs": [],
   "source": [
    "divvy = pd.read_csv('data/divvy_2017.csv')"
   ]
  },
  {
   "cell_type": "code",
   "execution_count": 4,
   "metadata": {},
   "outputs": [],
   "source": [
    "station_list = set(list(divvy['from_station_name'].unique()) + list(divvy['to_station_name'].unique()))"
   ]
  },
  {
   "cell_type": "code",
   "execution_count": 5,
   "metadata": {},
   "outputs": [
    {
     "data": {
      "text/plain": [
       "593"
      ]
     },
     "execution_count": 5,
     "metadata": {},
     "output_type": "execute_result"
    }
   ],
   "source": [
    "len(station_list)"
   ]
  },
  {
   "cell_type": "code",
   "execution_count": 6,
   "metadata": {},
   "outputs": [
    {
     "data": {
      "text/html": [
       "<div>\n",
       "<style scoped>\n",
       "    .dataframe tbody tr th:only-of-type {\n",
       "        vertical-align: middle;\n",
       "    }\n",
       "\n",
       "    .dataframe tbody tr th {\n",
       "        vertical-align: top;\n",
       "    }\n",
       "\n",
       "    .dataframe thead th {\n",
       "        text-align: right;\n",
       "    }\n",
       "</style>\n",
       "<table border=\"1\" class=\"dataframe\">\n",
       "  <thead>\n",
       "    <tr style=\"text-align: right;\">\n",
       "      <th></th>\n",
       "      <th>trip_id</th>\n",
       "      <th>start_time</th>\n",
       "      <th>end_time</th>\n",
       "      <th>bikeid</th>\n",
       "      <th>tripduration</th>\n",
       "      <th>from_station_id</th>\n",
       "      <th>from_station_name</th>\n",
       "      <th>to_station_id</th>\n",
       "      <th>to_station_name</th>\n",
       "      <th>usertype</th>\n",
       "      <th>gender</th>\n",
       "      <th>birthyear</th>\n",
       "    </tr>\n",
       "  </thead>\n",
       "  <tbody>\n",
       "    <tr>\n",
       "      <th>0</th>\n",
       "      <td>13518905</td>\n",
       "      <td>2017-03-31 23:59:07</td>\n",
       "      <td>2017-04-01 00:13:24</td>\n",
       "      <td>5292</td>\n",
       "      <td>857</td>\n",
       "      <td>66</td>\n",
       "      <td>Clinton St &amp; Lake St</td>\n",
       "      <td>171</td>\n",
       "      <td>May St &amp; Cullerton St</td>\n",
       "      <td>Subscriber</td>\n",
       "      <td>Male</td>\n",
       "      <td>1989.0</td>\n",
       "    </tr>\n",
       "    <tr>\n",
       "      <th>1</th>\n",
       "      <td>13518904</td>\n",
       "      <td>2017-03-31 23:56:25</td>\n",
       "      <td>2017-04-01 00:00:21</td>\n",
       "      <td>4408</td>\n",
       "      <td>236</td>\n",
       "      <td>199</td>\n",
       "      <td>Wabash Ave &amp; Grand Ave</td>\n",
       "      <td>26</td>\n",
       "      <td>McClurg Ct &amp; Illinois St</td>\n",
       "      <td>Subscriber</td>\n",
       "      <td>Male</td>\n",
       "      <td>1990.0</td>\n",
       "    </tr>\n",
       "    <tr>\n",
       "      <th>2</th>\n",
       "      <td>13518903</td>\n",
       "      <td>2017-03-31 23:55:33</td>\n",
       "      <td>2017-04-01 00:01:21</td>\n",
       "      <td>696</td>\n",
       "      <td>348</td>\n",
       "      <td>520</td>\n",
       "      <td>Greenview Ave &amp; Jarvis Ave</td>\n",
       "      <td>432</td>\n",
       "      <td>Clark St &amp; Lunt Ave</td>\n",
       "      <td>Subscriber</td>\n",
       "      <td>Female</td>\n",
       "      <td>1979.0</td>\n",
       "    </tr>\n",
       "    <tr>\n",
       "      <th>3</th>\n",
       "      <td>13518902</td>\n",
       "      <td>2017-03-31 23:54:46</td>\n",
       "      <td>2017-03-31 23:59:34</td>\n",
       "      <td>4915</td>\n",
       "      <td>288</td>\n",
       "      <td>110</td>\n",
       "      <td>Dearborn St &amp; Erie St</td>\n",
       "      <td>142</td>\n",
       "      <td>McClurg Ct &amp; Erie St</td>\n",
       "      <td>Subscriber</td>\n",
       "      <td>Male</td>\n",
       "      <td>1985.0</td>\n",
       "    </tr>\n",
       "    <tr>\n",
       "      <th>4</th>\n",
       "      <td>13518901</td>\n",
       "      <td>2017-03-31 23:53:33</td>\n",
       "      <td>2017-04-01 00:00:28</td>\n",
       "      <td>4247</td>\n",
       "      <td>415</td>\n",
       "      <td>327</td>\n",
       "      <td>Sheffield Ave &amp; Webster Ave</td>\n",
       "      <td>331</td>\n",
       "      <td>Halsted St &amp; Blackhawk St (*)</td>\n",
       "      <td>Subscriber</td>\n",
       "      <td>Female</td>\n",
       "      <td>1989.0</td>\n",
       "    </tr>\n",
       "  </tbody>\n",
       "</table>\n",
       "</div>"
      ],
      "text/plain": [
       "    trip_id           start_time             end_time  bikeid  tripduration  \\\n",
       "0  13518905  2017-03-31 23:59:07  2017-04-01 00:13:24    5292           857   \n",
       "1  13518904  2017-03-31 23:56:25  2017-04-01 00:00:21    4408           236   \n",
       "2  13518903  2017-03-31 23:55:33  2017-04-01 00:01:21     696           348   \n",
       "3  13518902  2017-03-31 23:54:46  2017-03-31 23:59:34    4915           288   \n",
       "4  13518901  2017-03-31 23:53:33  2017-04-01 00:00:28    4247           415   \n",
       "\n",
       "   from_station_id            from_station_name  to_station_id  \\\n",
       "0               66         Clinton St & Lake St            171   \n",
       "1              199       Wabash Ave & Grand Ave             26   \n",
       "2              520   Greenview Ave & Jarvis Ave            432   \n",
       "3              110        Dearborn St & Erie St            142   \n",
       "4              327  Sheffield Ave & Webster Ave            331   \n",
       "\n",
       "                 to_station_name    usertype  gender  birthyear  \n",
       "0          May St & Cullerton St  Subscriber    Male     1989.0  \n",
       "1       McClurg Ct & Illinois St  Subscriber    Male     1990.0  \n",
       "2            Clark St & Lunt Ave  Subscriber  Female     1979.0  \n",
       "3           McClurg Ct & Erie St  Subscriber    Male     1985.0  \n",
       "4  Halsted St & Blackhawk St (*)  Subscriber  Female     1989.0  "
      ]
     },
     "execution_count": 6,
     "metadata": {},
     "output_type": "execute_result"
    }
   ],
   "source": [
    "divvy.head()"
   ]
  },
  {
   "cell_type": "markdown",
   "metadata": {},
   "source": [
    "## Load Divvy station info for GPS coordinates\n",
    "Download the stations json file from the same location: https://www.divvybikes.com/system-data"
   ]
  },
  {
   "cell_type": "code",
   "execution_count": 7,
   "metadata": {},
   "outputs": [],
   "source": [
    "with open('data/stations.json') as json_data:\n",
    "    station_data = json.load(json_data)"
   ]
  },
  {
   "cell_type": "code",
   "execution_count": 8,
   "metadata": {},
   "outputs": [
    {
     "data": {
      "text/plain": [
       "[{'altitude': '',\n",
       "  'availableBikes': 0,\n",
       "  'availableDocks': 39,\n",
       "  'city': 'Chicago',\n",
       "  'id': 2,\n",
       "  'is_renting': True,\n",
       "  'kioskType': 'K3_FULL',\n",
       "  'landMark': '15541',\n",
       "  'lastCommunicationTime': '2018-10-09 13:09:02',\n",
       "  'latitude': 41.87647,\n",
       "  'location': '',\n",
       "  'longitude': -87.62034,\n",
       "  'postalCode': '60605',\n",
       "  'stAddress1': 'Buckingham Fountain',\n",
       "  'stAddress2': '',\n",
       "  'stationName': 'Buckingham Fountain',\n",
       "  'status': 'IN_SERVICE',\n",
       "  'statusKey': 1,\n",
       "  'statusValue': 'In Service',\n",
       "  'testStation': False,\n",
       "  'totalDocks': 39},\n",
       " {'altitude': '',\n",
       "  'availableBikes': 28,\n",
       "  'availableDocks': 26,\n",
       "  'city': 'Chicago',\n",
       "  'id': 3,\n",
       "  'is_renting': True,\n",
       "  'kioskType': 'K3_FULL',\n",
       "  'landMark': '15544',\n",
       "  'lastCommunicationTime': '2018-10-09 13:08:47',\n",
       "  'latitude': 41.86722595682,\n",
       "  'location': '',\n",
       "  'longitude': -87.6153553902,\n",
       "  'postalCode': '',\n",
       "  'stAddress1': 'Shedd Aquarium',\n",
       "  'stAddress2': '',\n",
       "  'stationName': 'Shedd Aquarium',\n",
       "  'status': 'IN_SERVICE',\n",
       "  'statusKey': 1,\n",
       "  'statusValue': 'In Service',\n",
       "  'testStation': False,\n",
       "  'totalDocks': 55}]"
      ]
     },
     "execution_count": 8,
     "metadata": {},
     "output_type": "execute_result"
    }
   ],
   "source": [
    "station_data['stationBeanList'][:2]"
   ]
  },
  {
   "cell_type": "code",
   "execution_count": 9,
   "metadata": {},
   "outputs": [],
   "source": [
    "stations = [station['stationName'] for station in station_data['stationBeanList']]\n",
    "latitude = [station['latitude'] for station in station_data['stationBeanList']]\n",
    "longitude = [station['longitude'] for station in station_data['stationBeanList']]"
   ]
  },
  {
   "cell_type": "code",
   "execution_count": 10,
   "metadata": {},
   "outputs": [],
   "source": [
    "# unknown = []\n",
    "# for station in station_list:\n",
    "#     if station not in stations:\n",
    "#         unknown.append(station)\n",
    "# unknown"
   ]
  },
  {
   "cell_type": "code",
   "execution_count": 11,
   "metadata": {},
   "outputs": [],
   "source": [
    "station_gps = pd.DataFrame({'station_name': stations, 'latitude': latitude, 'longitude': longitude})"
   ]
  },
  {
   "cell_type": "code",
   "execution_count": 12,
   "metadata": {},
   "outputs": [],
   "source": [
    "divvy = divvy.merge(station_gps, how='left', left_on=['from_station_name'], right_on=['station_name'])\n",
    "divvy = divvy.rename(index=str, columns={\"latitude\": \"from_station_latitude\", \"longitude\": \"from_station_longitude\"})\n",
    "\n",
    "divvy = divvy.merge(station_gps, how='left', left_on=['to_station_name'], right_on=['station_name'])\n",
    "divvy = divvy.rename(index=str, columns={\"latitude\": \"to_station_latitude\", \"longitude\": \"to_station_longitude\"})\n",
    "\n",
    "divvy.drop(['station_name_x', 'station_name_y'], axis=1, inplace=True)"
   ]
  },
  {
   "cell_type": "code",
   "execution_count": 13,
   "metadata": {},
   "outputs": [],
   "source": [
    "divvy.to_csv('data/divvy_2017.csv', index=False)"
   ]
  },
  {
   "cell_type": "code",
   "execution_count": 14,
   "metadata": {},
   "outputs": [],
   "source": [
    "divvy = pd.read_csv('data/divvy_2017.csv')"
   ]
  },
  {
   "cell_type": "markdown",
   "metadata": {},
   "source": [
    "### 1) Top 5 stations with the most starts (showing # of starts)"
   ]
  },
  {
   "cell_type": "code",
   "execution_count": 15,
   "metadata": {},
   "outputs": [
    {
     "data": {
      "text/plain": [
       "from_station_name\n",
       "Streeter Dr & Grand Ave         97571\n",
       "Lake Shore Dr & Monroe St       53400\n",
       "Canal St & Adams St             50911\n",
       "Clinton St & Washington Blvd    49832\n",
       "Theater on the Lake             47908\n",
       "Name: from_station_name, dtype: int64"
      ]
     },
     "execution_count": 15,
     "metadata": {},
     "output_type": "execute_result"
    }
   ],
   "source": [
    "station_starts = divvy.groupby(['from_station_name'])['from_station_name'].count().sort_values(ascending=False)\n",
    "station_starts.head()"
   ]
  },
  {
   "cell_type": "code",
   "execution_count": 16,
   "metadata": {},
   "outputs": [
    {
     "data": {
      "image/png": "[encoded data removed]",
      "text/plain": [
       "<Figure size 1080x720 with 1 Axes>"
      ]
     },
     "metadata": {},
     "output_type": "display_data"
    }
   ],
   "source": [
    "ax = station_starts.head(5).plot(kind='bar', figsize=(15, 10), title='Top 5 Stations with Most Starts')\n",
    "for p in ax.patches:\n",
    "    ax.annotate(str(p.get_height()), (p.get_x() * 1.005 + .15, p.get_height() * 1.005))"
   ]
  },
  {
   "cell_type": "markdown",
   "metadata": {},
   "source": [
    "### 2) Trip duration by user type"
   ]
  },
  {
   "cell_type": "code",
   "execution_count": 17,
   "metadata": {},
   "outputs": [
    {
     "data": {
      "text/plain": [
       "usertype\n",
       "Customer      1856.081443\n",
       "Dependent      751.857143\n",
       "Subscriber     703.787619\n",
       "Name: tripduration, dtype: float64"
      ]
     },
     "execution_count": 17,
     "metadata": {},
     "output_type": "execute_result"
    }
   ],
   "source": [
    "trip_duration = divvy.groupby(['usertype'])['tripduration'].mean().sort_values(ascending=False)\n",
    "trip_duration"
   ]
  },
  {
   "cell_type": "code",
   "execution_count": 18,
   "metadata": {},
   "outputs": [
    {
     "data": {
      "image/png": "[encoded data removed]",
      "text/plain": [
       "<Figure size 1080x720 with 1 Axes>"
      ]
     },
     "metadata": {},
     "output_type": "display_data"
    }
   ],
   "source": [
    "ax = divvy.boxplot(column='tripduration', by='usertype', figsize=(15,10))"
   ]
  },
  {
   "cell_type": "code",
   "execution_count": 19,
   "metadata": {},
   "outputs": [
    {
     "data": {
      "image/png": "[encoded data removed]",
      "text/plain": [
       "<Figure size 1080x720 with 1 Axes>"
      ]
     },
     "metadata": {},
     "output_type": "display_data"
    }
   ],
   "source": [
    "ax = divvy.boxplot(column='tripduration', by='usertype', figsize=(15,10), showfliers=False)"
   ]
  },
  {
   "cell_type": "markdown",
   "metadata": {},
   "source": [
    "### 3) Most popular trips based on start station and stop station"
   ]
  },
  {
   "cell_type": "code",
   "execution_count": 20,
   "metadata": {},
   "outputs": [],
   "source": [
    "divvy['trip_stations'] = divvy['from_station_name'] + ' TO ' + divvy['to_station_name']"
   ]
  },
  {
   "cell_type": "code",
   "execution_count": 21,
   "metadata": {},
   "outputs": [
    {
     "data": {
      "text/plain": [
       "trip_stations\n",
       "Lake Shore Dr & Monroe St TO Streeter Dr & Grand Ave     12171\n",
       "Streeter Dr & Grand Ave TO Streeter Dr & Grand Ave       10042\n",
       "Streeter Dr & Grand Ave TO Theater on the Lake            8180\n",
       "Streeter Dr & Grand Ave TO Lake Shore Dr & North Blvd     7993\n",
       "Lake Shore Dr & North Blvd TO Streeter Dr & Grand Ave     7226\n",
       "Name: trip_stations, dtype: int64"
      ]
     },
     "execution_count": 21,
     "metadata": {},
     "output_type": "execute_result"
    }
   ],
   "source": [
    "trip_stations = divvy.groupby(['trip_stations'])['trip_stations'].count().sort_values(ascending=False)\n",
    "trip_stations.head()"
   ]
  },
  {
   "cell_type": "code",
   "execution_count": 22,
   "metadata": {},
   "outputs": [
    {
     "data": {
      "image/png": "[encoded data removed]",
      "text/plain": [
       "<Figure size 1080x720 with 1 Axes>"
      ]
     },
     "metadata": {},
     "output_type": "display_data"
    }
   ],
   "source": [
    "ax = trip_stations.head(10).plot(kind='bar', figsize=(15, 10), title='Top 10 Most Popular Trips')\n",
    "for p in ax.patches:\n",
    "    ax.annotate(str(p.get_height()), (p.get_x() * 1.005 + .05, p.get_height() * 1.005))"
   ]
  },
  {
   "cell_type": "markdown",
   "metadata": {},
   "source": [
    "### Create dataframe of paths for Tableau chart"
   ]
  },
  {
   "cell_type": "code",
   "execution_count": 23,
   "metadata": {},
   "outputs": [],
   "source": [
    "trip_dict = {'path': list(trip_stations.index), 'frequency': list(trip_stations.values)}\n",
    "trip_dict['origin'] = [x.split(' TO ')[0] for x in trip_dict['path']]\n",
    "trip_dict['destination'] = [x.split(' TO ')[1] for x in trip_dict['path']]"
   ]
  },
  {
   "cell_type": "code",
   "execution_count": 24,
   "metadata": {},
   "outputs": [],
   "source": [
    "from collections import defaultdict\n",
    "\n",
    "trips = defaultdict(list)\n",
    "\n",
    "for idx in range(len(trip_dict['path'])):\n",
    "    trips['path'].append(trip_dict['path'][idx])\n",
    "    trips['frequency'].append(trip_dict['frequency'][idx])\n",
    "    trips['origin-destination'].append('origin')\n",
    "    trips['station'].append(trip_dict['origin'][idx])\n",
    "    \n",
    "    trips['path'].append(trip_dict['path'][idx])\n",
    "    trips['frequency'].append(trip_dict['frequency'][idx])\n",
    "    trips['origin-destination'].append('destination')\n",
    "    trips['station'].append(trip_dict['destination'][idx])"
   ]
  },
  {
   "cell_type": "code",
   "execution_count": 25,
   "metadata": {},
   "outputs": [],
   "source": [
    "stations_gps = (divvy[divvy['from_station_name'].duplicated()]\n",
    "                [['from_station_name', 'from_station_latitude', 'from_station_longitude']].reset_index(drop=True))"
   ]
  },
  {
   "cell_type": "code",
   "execution_count": 26,
   "metadata": {},
   "outputs": [],
   "source": [
    "trips_df = pd.DataFrame(trips).merge(stations_gps.drop_duplicates(subset=['from_station_name']),\n",
    "                                     how='left',\n",
    "                                     left_on='station',\n",
    "                                     right_on='from_station_name')"
   ]
  },
  {
   "cell_type": "code",
   "execution_count": 27,
   "metadata": {},
   "outputs": [],
   "source": [
    "trips_df.drop(['from_station_name'], axis=1, inplace=True)"
   ]
  },
  {
   "cell_type": "code",
   "execution_count": 28,
   "metadata": {},
   "outputs": [],
   "source": [
    "trips_df.to_csv('data/divvy_trips.csv')"
   ]
  },
  {
   "cell_type": "markdown",
   "metadata": {},
   "source": [
    "### 4) Rider performance by Gender and Age based on avg trip distance (station to station), median speed (distance traveled / trip duration)"
   ]
  },
  {
   "cell_type": "markdown",
   "metadata": {},
   "source": [
    "Multiply geodesic distance by 1.25. Routes follow roads but the calculated route is direct (geodesic). A route straight down a road would be the same as the direct route; a route diagonal to roads would be multiplied by 1.414 (thanks, Pythagoras!); assuming routes are evenly split between diagonal and direct, with some wiggle room, I'm splitting the difference at 1.25.\n",
    "\n",
    "I looked at using the Google Maps api to calculate the actual, along-the-road distance, but they've removed the free api key option. I also looked at Bing Maps, but it's rate limited and I have more than 98,000 routes in this dataset (and once I saw how big that number was, I realized that using api calls would take more than a few days!). So I opted for this *x1.25* method which is less accurate but far quicker and cheaper."
   ]
  },
  {
   "cell_type": "code",
   "execution_count": 29,
   "metadata": {},
   "outputs": [],
   "source": [
    "from math import isnan\n",
    "from geopy import distance\n",
    "\n",
    "def find_distance(row):\n",
    "    if (not isnan(row['from_station_latitude']) and\n",
    "        not isnan(row['from_station_longitude']) and\n",
    "        not isnan(row['to_station_latitude']) and\n",
    "        not isnan(row['to_station_longitude'])):\n",
    "        dist = (1.25 * (distance.distance((row['from_station_latitude'], row['from_station_longitude']),\n",
    "                                          (row['to_station_latitude'], row['to_station_longitude'])).m))\n",
    "        return dist\n",
    "    else:\n",
    "        return np.nan"
   ]
  },
  {
   "cell_type": "code",
   "execution_count": 30,
   "metadata": {},
   "outputs": [],
   "source": [
    "divvy['trip_distance'] = divvy.apply(find_distance, axis=1)\n",
    "divvy['speed'] = divvy['trip_distance'] / divvy['tripduration']"
   ]
  },
  {
   "cell_type": "code",
   "execution_count": 31,
   "metadata": {},
   "outputs": [],
   "source": [
    "divvy.to_csv('data/divvy_2017.csv')"
   ]
  },
  {
   "cell_type": "code",
   "execution_count": 32,
   "metadata": {},
   "outputs": [],
   "source": [
    "divvy = pd.read_csv('data/divvy_2017.csv')"
   ]
  },
  {
   "cell_type": "markdown",
   "metadata": {},
   "source": [
    "### 5) What is the busiest bike in Chicago in 2017? How many times was it used? How many minutes was it in use?"
   ]
  },
  {
   "cell_type": "code",
   "execution_count": 33,
   "metadata": {},
   "outputs": [
    {
     "data": {
      "text/html": [
       "<div>\n",
       "<style scoped>\n",
       "    .dataframe tbody tr th:only-of-type {\n",
       "        vertical-align: middle;\n",
       "    }\n",
       "\n",
       "    .dataframe tbody tr th {\n",
       "        vertical-align: top;\n",
       "    }\n",
       "\n",
       "    .dataframe thead th {\n",
       "        text-align: right;\n",
       "    }\n",
       "</style>\n",
       "<table border=\"1\" class=\"dataframe\">\n",
       "  <thead>\n",
       "    <tr style=\"text-align: right;\">\n",
       "      <th></th>\n",
       "      <th>Unnamed: 0</th>\n",
       "      <th>trip_id</th>\n",
       "      <th>start_time</th>\n",
       "      <th>end_time</th>\n",
       "      <th>bikeid</th>\n",
       "      <th>tripduration</th>\n",
       "      <th>from_station_id</th>\n",
       "      <th>from_station_name</th>\n",
       "      <th>to_station_id</th>\n",
       "      <th>to_station_name</th>\n",
       "      <th>usertype</th>\n",
       "      <th>gender</th>\n",
       "      <th>birthyear</th>\n",
       "      <th>from_station_latitude</th>\n",
       "      <th>from_station_longitude</th>\n",
       "      <th>to_station_latitude</th>\n",
       "      <th>to_station_longitude</th>\n",
       "      <th>trip_stations</th>\n",
       "      <th>trip_distance</th>\n",
       "      <th>speed</th>\n",
       "    </tr>\n",
       "  </thead>\n",
       "  <tbody>\n",
       "    <tr>\n",
       "      <th>0</th>\n",
       "      <td>0</td>\n",
       "      <td>13518905</td>\n",
       "      <td>2017-03-31 23:59:07</td>\n",
       "      <td>2017-04-01 00:13:24</td>\n",
       "      <td>5292</td>\n",
       "      <td>857</td>\n",
       "      <td>66</td>\n",
       "      <td>Clinton St &amp; Lake St</td>\n",
       "      <td>171</td>\n",
       "      <td>May St &amp; Cullerton St</td>\n",
       "      <td>Subscriber</td>\n",
       "      <td>Male</td>\n",
       "      <td>1989.0</td>\n",
       "      <td>41.885637</td>\n",
       "      <td>-87.641823</td>\n",
       "      <td>41.855136</td>\n",
       "      <td>-87.654127</td>\n",
       "      <td>Clinton St &amp; Lake St TO May St &amp; Cullerton St</td>\n",
       "      <td>4423.016189</td>\n",
       "      <td>5.161046</td>\n",
       "    </tr>\n",
       "    <tr>\n",
       "      <th>1</th>\n",
       "      <td>1</td>\n",
       "      <td>13518904</td>\n",
       "      <td>2017-03-31 23:56:25</td>\n",
       "      <td>2017-04-01 00:00:21</td>\n",
       "      <td>4408</td>\n",
       "      <td>236</td>\n",
       "      <td>199</td>\n",
       "      <td>Wabash Ave &amp; Grand Ave</td>\n",
       "      <td>26</td>\n",
       "      <td>McClurg Ct &amp; Illinois St</td>\n",
       "      <td>Subscriber</td>\n",
       "      <td>Male</td>\n",
       "      <td>1990.0</td>\n",
       "      <td>41.891466</td>\n",
       "      <td>-87.626761</td>\n",
       "      <td>41.890359</td>\n",
       "      <td>-87.617532</td>\n",
       "      <td>Wabash Ave &amp; Grand Ave TO McClurg Ct &amp; Illinoi...</td>\n",
       "      <td>969.675670</td>\n",
       "      <td>4.108795</td>\n",
       "    </tr>\n",
       "    <tr>\n",
       "      <th>2</th>\n",
       "      <td>2</td>\n",
       "      <td>13518903</td>\n",
       "      <td>2017-03-31 23:55:33</td>\n",
       "      <td>2017-04-01 00:01:21</td>\n",
       "      <td>696</td>\n",
       "      <td>348</td>\n",
       "      <td>520</td>\n",
       "      <td>Greenview Ave &amp; Jarvis Ave</td>\n",
       "      <td>432</td>\n",
       "      <td>Clark St &amp; Lunt Ave</td>\n",
       "      <td>Subscriber</td>\n",
       "      <td>Female</td>\n",
       "      <td>1979.0</td>\n",
       "      <td>42.015962</td>\n",
       "      <td>-87.668570</td>\n",
       "      <td>42.009074</td>\n",
       "      <td>-87.674190</td>\n",
       "      <td>Greenview Ave &amp; Jarvis Ave TO Clark St &amp; Lunt Ave</td>\n",
       "      <td>1119.470513</td>\n",
       "      <td>3.216869</td>\n",
       "    </tr>\n",
       "    <tr>\n",
       "      <th>3</th>\n",
       "      <td>3</td>\n",
       "      <td>13518902</td>\n",
       "      <td>2017-03-31 23:54:46</td>\n",
       "      <td>2017-03-31 23:59:34</td>\n",
       "      <td>4915</td>\n",
       "      <td>288</td>\n",
       "      <td>110</td>\n",
       "      <td>Dearborn St &amp; Erie St</td>\n",
       "      <td>142</td>\n",
       "      <td>McClurg Ct &amp; Erie St</td>\n",
       "      <td>Subscriber</td>\n",
       "      <td>Male</td>\n",
       "      <td>1985.0</td>\n",
       "      <td>41.893992</td>\n",
       "      <td>-87.629318</td>\n",
       "      <td>41.894503</td>\n",
       "      <td>-87.617854</td>\n",
       "      <td>Dearborn St &amp; Erie St TO McClurg Ct &amp; Erie St</td>\n",
       "      <td>1191.329565</td>\n",
       "      <td>4.136561</td>\n",
       "    </tr>\n",
       "    <tr>\n",
       "      <th>4</th>\n",
       "      <td>4</td>\n",
       "      <td>13518901</td>\n",
       "      <td>2017-03-31 23:53:33</td>\n",
       "      <td>2017-04-01 00:00:28</td>\n",
       "      <td>4247</td>\n",
       "      <td>415</td>\n",
       "      <td>327</td>\n",
       "      <td>Sheffield Ave &amp; Webster Ave</td>\n",
       "      <td>331</td>\n",
       "      <td>Halsted St &amp; Blackhawk St (*)</td>\n",
       "      <td>Subscriber</td>\n",
       "      <td>Female</td>\n",
       "      <td>1989.0</td>\n",
       "      <td>41.921540</td>\n",
       "      <td>-87.653818</td>\n",
       "      <td>NaN</td>\n",
       "      <td>NaN</td>\n",
       "      <td>Sheffield Ave &amp; Webster Ave TO Halsted St &amp; Bl...</td>\n",
       "      <td>NaN</td>\n",
       "      <td>NaN</td>\n",
       "    </tr>\n",
       "  </tbody>\n",
       "</table>\n",
       "</div>"
      ],
      "text/plain": [
       "   Unnamed: 0   trip_id           start_time             end_time  bikeid  \\\n",
       "0           0  13518905  2017-03-31 23:59:07  2017-04-01 00:13:24    5292   \n",
       "1           1  13518904  2017-03-31 23:56:25  2017-04-01 00:00:21    4408   \n",
       "2           2  13518903  2017-03-31 23:55:33  2017-04-01 00:01:21     696   \n",
       "3           3  13518902  2017-03-31 23:54:46  2017-03-31 23:59:34    4915   \n",
       "4           4  13518901  2017-03-31 23:53:33  2017-04-01 00:00:28    4247   \n",
       "\n",
       "   tripduration  from_station_id            from_station_name  to_station_id  \\\n",
       "0           857               66         Clinton St & Lake St            171   \n",
       "1           236              199       Wabash Ave & Grand Ave             26   \n",
       "2           348              520   Greenview Ave & Jarvis Ave            432   \n",
       "3           288              110        Dearborn St & Erie St            142   \n",
       "4           415              327  Sheffield Ave & Webster Ave            331   \n",
       "\n",
       "                 to_station_name    usertype  gender  birthyear  \\\n",
       "0          May St & Cullerton St  Subscriber    Male     1989.0   \n",
       "1       McClurg Ct & Illinois St  Subscriber    Male     1990.0   \n",
       "2            Clark St & Lunt Ave  Subscriber  Female     1979.0   \n",
       "3           McClurg Ct & Erie St  Subscriber    Male     1985.0   \n",
       "4  Halsted St & Blackhawk St (*)  Subscriber  Female     1989.0   \n",
       "\n",
       "   from_station_latitude  from_station_longitude  to_station_latitude  \\\n",
       "0              41.885637              -87.641823            41.855136   \n",
       "1              41.891466              -87.626761            41.890359   \n",
       "2              42.015962              -87.668570            42.009074   \n",
       "3              41.893992              -87.629318            41.894503   \n",
       "4              41.921540              -87.653818                  NaN   \n",
       "\n",
       "   to_station_longitude                                      trip_stations  \\\n",
       "0            -87.654127      Clinton St & Lake St TO May St & Cullerton St   \n",
       "1            -87.617532  Wabash Ave & Grand Ave TO McClurg Ct & Illinoi...   \n",
       "2            -87.674190  Greenview Ave & Jarvis Ave TO Clark St & Lunt Ave   \n",
       "3            -87.617854      Dearborn St & Erie St TO McClurg Ct & Erie St   \n",
       "4                   NaN  Sheffield Ave & Webster Ave TO Halsted St & Bl...   \n",
       "\n",
       "   trip_distance     speed  \n",
       "0    4423.016189  5.161046  \n",
       "1     969.675670  4.108795  \n",
       "2    1119.470513  3.216869  \n",
       "3    1191.329565  4.136561  \n",
       "4            NaN       NaN  "
      ]
     },
     "execution_count": 33,
     "metadata": {},
     "output_type": "execute_result"
    }
   ],
   "source": [
    "divvy.head()"
   ]
  },
  {
   "cell_type": "code",
   "execution_count": 34,
   "metadata": {},
   "outputs": [],
   "source": [
    "bikes = divvy.groupby(['bikeid']).count()['trip_id'].sort_values(ascending=False)"
   ]
  },
  {
   "cell_type": "code",
   "execution_count": 35,
   "metadata": {},
   "outputs": [],
   "source": [
    "bike_number = bikes.index[0]"
   ]
  },
  {
   "cell_type": "code",
   "execution_count": 36,
   "metadata": {},
   "outputs": [],
   "source": [
    "rides = bikes.iloc[0]"
   ]
  },
  {
   "cell_type": "code",
   "execution_count": 37,
   "metadata": {},
   "outputs": [],
   "source": [
    "minutes_used = (divvy.groupby(['bikeid']).sum()['tripduration'] / 60).loc[bike_number]"
   ]
  },
  {
   "cell_type": "code",
   "execution_count": 38,
   "metadata": {},
   "outputs": [
    {
     "name": "stdout",
     "output_type": "stream",
     "text": [
      "Bike number 2565 was ridden 1489 times in 2017 for a total of 22526 minutes\n"
     ]
    }
   ],
   "source": [
    "print('Bike number {} was ridden {} times in 2017 for a total of {} minutes'\n",
    "      .format(bike_number, rides, int(minutes_used)))"
   ]
  },
  {
   "cell_type": "markdown",
   "metadata": {},
   "source": [
    "# Yelp data\n",
    "Download Yelp datasets from here: https://www.yelp.com/dataset/"
   ]
  },
  {
   "cell_type": "code",
   "execution_count": 39,
   "metadata": {},
   "outputs": [],
   "source": [
    "business = pd.read_json('data/yelp_dataset/yelp_academic_dataset_business.json', lines=True)\n",
    "\n",
    "checkin = pd.read_json('data/yelp_dataset/yelp_academic_dataset_checkin.json', lines=True)\n",
    "\n",
    "max_records = 1e5\n",
    "df = pd.read_json('data/yelp_dataset/yelp_academic_dataset_review.json', lines=True, chunksize=max_records)\n",
    "review = pd.DataFrame() # Initialize the dataframe\n",
    "try:\n",
    "    for df_chunk in df:\n",
    "        review = pd.concat([review, df_chunk])\n",
    "except ValueError:\n",
    "    print ('\\nSome messages in the file cannot be parsed')"
   ]
  },
  {
   "cell_type": "code",
   "execution_count": 40,
   "metadata": {},
   "outputs": [
    {
     "data": {
      "text/html": [
       "<div>\n",
       "<style scoped>\n",
       "    .dataframe tbody tr th:only-of-type {\n",
       "        vertical-align: middle;\n",
       "    }\n",
       "\n",
       "    .dataframe tbody tr th {\n",
       "        vertical-align: top;\n",
       "    }\n",
       "\n",
       "    .dataframe thead th {\n",
       "        text-align: right;\n",
       "    }\n",
       "</style>\n",
       "<table border=\"1\" class=\"dataframe\">\n",
       "  <thead>\n",
       "    <tr style=\"text-align: right;\">\n",
       "      <th></th>\n",
       "      <th>address</th>\n",
       "      <th>attributes</th>\n",
       "      <th>business_id</th>\n",
       "      <th>categories</th>\n",
       "      <th>city</th>\n",
       "      <th>hours</th>\n",
       "      <th>is_open</th>\n",
       "      <th>latitude</th>\n",
       "      <th>longitude</th>\n",
       "      <th>name</th>\n",
       "      <th>neighborhood</th>\n",
       "      <th>postal_code</th>\n",
       "      <th>review_count</th>\n",
       "      <th>stars</th>\n",
       "      <th>state</th>\n",
       "    </tr>\n",
       "  </thead>\n",
       "  <tbody>\n",
       "    <tr>\n",
       "      <th>0</th>\n",
       "      <td>1314 44 Avenue NE</td>\n",
       "      <td>{'BikeParking': 'False', 'BusinessAcceptsCredi...</td>\n",
       "      <td>Apn5Q_b6Nz61Tq4XzPdf9A</td>\n",
       "      <td>Tours, Breweries, Pizza, Restaurants, Food, Ho...</td>\n",
       "      <td>Calgary</td>\n",
       "      <td>{'Monday': '8:30-17:0', 'Tuesday': '11:0-21:0'...</td>\n",
       "      <td>1</td>\n",
       "      <td>51.091813</td>\n",
       "      <td>-114.031675</td>\n",
       "      <td>Minhas Micro Brewery</td>\n",
       "      <td></td>\n",
       "      <td>T2E 6L6</td>\n",
       "      <td>24</td>\n",
       "      <td>4.0</td>\n",
       "      <td>AB</td>\n",
       "    </tr>\n",
       "    <tr>\n",
       "      <th>1</th>\n",
       "      <td></td>\n",
       "      <td>{'Alcohol': 'none', 'BikeParking': 'False', 'B...</td>\n",
       "      <td>AjEbIBw6ZFfln7ePHha9PA</td>\n",
       "      <td>Chicken Wings, Burgers, Caterers, Street Vendo...</td>\n",
       "      <td>Henderson</td>\n",
       "      <td>{'Friday': '17:0-23:0', 'Saturday': '17:0-23:0...</td>\n",
       "      <td>0</td>\n",
       "      <td>35.960734</td>\n",
       "      <td>-114.939821</td>\n",
       "      <td>CK'S BBQ &amp; Catering</td>\n",
       "      <td></td>\n",
       "      <td>89002</td>\n",
       "      <td>3</td>\n",
       "      <td>4.5</td>\n",
       "      <td>NV</td>\n",
       "    </tr>\n",
       "    <tr>\n",
       "      <th>2</th>\n",
       "      <td>1335 rue Beaubien E</td>\n",
       "      <td>{'Alcohol': 'beer_and_wine', 'Ambience': '{'ro...</td>\n",
       "      <td>O8S5hYJ1SMc8fA4QBtVujA</td>\n",
       "      <td>Breakfast &amp; Brunch, Restaurants, French, Sandw...</td>\n",
       "      <td>Montréal</td>\n",
       "      <td>{'Monday': '10:0-22:0', 'Tuesday': '10:0-22:0'...</td>\n",
       "      <td>0</td>\n",
       "      <td>45.540503</td>\n",
       "      <td>-73.599300</td>\n",
       "      <td>La Bastringue</td>\n",
       "      <td>Rosemont-La Petite-Patrie</td>\n",
       "      <td>H2G 1K7</td>\n",
       "      <td>5</td>\n",
       "      <td>4.0</td>\n",
       "      <td>QC</td>\n",
       "    </tr>\n",
       "    <tr>\n",
       "      <th>3</th>\n",
       "      <td>211 W Monroe St</td>\n",
       "      <td>None</td>\n",
       "      <td>bFzdJJ3wp3PZssNEsyU23g</td>\n",
       "      <td>Insurance, Financial Services</td>\n",
       "      <td>Phoenix</td>\n",
       "      <td>None</td>\n",
       "      <td>1</td>\n",
       "      <td>33.449999</td>\n",
       "      <td>-112.076979</td>\n",
       "      <td>Geico Insurance</td>\n",
       "      <td></td>\n",
       "      <td>85003</td>\n",
       "      <td>8</td>\n",
       "      <td>1.5</td>\n",
       "      <td>AZ</td>\n",
       "    </tr>\n",
       "    <tr>\n",
       "      <th>4</th>\n",
       "      <td>2005 Alyth Place SE</td>\n",
       "      <td>{'BusinessAcceptsCreditCards': 'True'}</td>\n",
       "      <td>8USyCYqpScwiNEb58Bt6CA</td>\n",
       "      <td>Home &amp; Garden, Nurseries &amp; Gardening, Shopping...</td>\n",
       "      <td>Calgary</td>\n",
       "      <td>{'Monday': '8:0-17:0', 'Tuesday': '8:0-17:0', ...</td>\n",
       "      <td>1</td>\n",
       "      <td>51.035591</td>\n",
       "      <td>-114.027366</td>\n",
       "      <td>Action Engine</td>\n",
       "      <td></td>\n",
       "      <td>T2H 0N5</td>\n",
       "      <td>4</td>\n",
       "      <td>2.0</td>\n",
       "      <td>AB</td>\n",
       "    </tr>\n",
       "  </tbody>\n",
       "</table>\n",
       "</div>"
      ],
      "text/plain": [
       "               address                                         attributes  \\\n",
       "0    1314 44 Avenue NE  {'BikeParking': 'False', 'BusinessAcceptsCredi...   \n",
       "1                       {'Alcohol': 'none', 'BikeParking': 'False', 'B...   \n",
       "2  1335 rue Beaubien E  {'Alcohol': 'beer_and_wine', 'Ambience': '{'ro...   \n",
       "3      211 W Monroe St                                               None   \n",
       "4  2005 Alyth Place SE             {'BusinessAcceptsCreditCards': 'True'}   \n",
       "\n",
       "              business_id                                         categories  \\\n",
       "0  Apn5Q_b6Nz61Tq4XzPdf9A  Tours, Breweries, Pizza, Restaurants, Food, Ho...   \n",
       "1  AjEbIBw6ZFfln7ePHha9PA  Chicken Wings, Burgers, Caterers, Street Vendo...   \n",
       "2  O8S5hYJ1SMc8fA4QBtVujA  Breakfast & Brunch, Restaurants, French, Sandw...   \n",
       "3  bFzdJJ3wp3PZssNEsyU23g                      Insurance, Financial Services   \n",
       "4  8USyCYqpScwiNEb58Bt6CA  Home & Garden, Nurseries & Gardening, Shopping...   \n",
       "\n",
       "        city                                              hours  is_open  \\\n",
       "0    Calgary  {'Monday': '8:30-17:0', 'Tuesday': '11:0-21:0'...        1   \n",
       "1  Henderson  {'Friday': '17:0-23:0', 'Saturday': '17:0-23:0...        0   \n",
       "2   Montréal  {'Monday': '10:0-22:0', 'Tuesday': '10:0-22:0'...        0   \n",
       "3    Phoenix                                               None        1   \n",
       "4    Calgary  {'Monday': '8:0-17:0', 'Tuesday': '8:0-17:0', ...        1   \n",
       "\n",
       "    latitude   longitude                  name               neighborhood  \\\n",
       "0  51.091813 -114.031675  Minhas Micro Brewery                              \n",
       "1  35.960734 -114.939821   CK'S BBQ & Catering                              \n",
       "2  45.540503  -73.599300         La Bastringue  Rosemont-La Petite-Patrie   \n",
       "3  33.449999 -112.076979       Geico Insurance                              \n",
       "4  51.035591 -114.027366         Action Engine                              \n",
       "\n",
       "  postal_code  review_count  stars state  \n",
       "0     T2E 6L6            24    4.0    AB  \n",
       "1       89002             3    4.5    NV  \n",
       "2     H2G 1K7             5    4.0    QC  \n",
       "3       85003             8    1.5    AZ  \n",
       "4     T2H 0N5             4    2.0    AB  "
      ]
     },
     "execution_count": 40,
     "metadata": {},
     "output_type": "execute_result"
    }
   ],
   "source": [
    "business.head()"
   ]
  },
  {
   "cell_type": "code",
   "execution_count": 41,
   "metadata": {
    "scrolled": true
   },
   "outputs": [
    {
     "data": {
      "text/html": [
       "<div>\n",
       "<style scoped>\n",
       "    .dataframe tbody tr th:only-of-type {\n",
       "        vertical-align: middle;\n",
       "    }\n",
       "\n",
       "    .dataframe tbody tr th {\n",
       "        vertical-align: top;\n",
       "    }\n",
       "\n",
       "    .dataframe thead th {\n",
       "        text-align: right;\n",
       "    }\n",
       "</style>\n",
       "<table border=\"1\" class=\"dataframe\">\n",
       "  <thead>\n",
       "    <tr style=\"text-align: right;\">\n",
       "      <th></th>\n",
       "      <th>business_id</th>\n",
       "      <th>time</th>\n",
       "    </tr>\n",
       "  </thead>\n",
       "  <tbody>\n",
       "    <tr>\n",
       "      <th>0</th>\n",
       "      <td>7KPBkxAOEtb3QeIL9PEErg</td>\n",
       "      <td>{'Fri-0': 2, 'Sat-0': 1, 'Sun-0': 1, 'Wed-0': ...</td>\n",
       "    </tr>\n",
       "    <tr>\n",
       "      <th>1</th>\n",
       "      <td>kREVIrSBbtqBhIYkTccQUg</td>\n",
       "      <td>{'Mon-13': 1, 'Thu-13': 1, 'Sat-16': 1, 'Wed-1...</td>\n",
       "    </tr>\n",
       "    <tr>\n",
       "      <th>2</th>\n",
       "      <td>tJRDll5yqpZwehenzE2cSg</td>\n",
       "      <td>{'Thu-0': 1, 'Mon-1': 1, 'Mon-12': 1, 'Sat-16'...</td>\n",
       "    </tr>\n",
       "    <tr>\n",
       "      <th>3</th>\n",
       "      <td>tZccfdl6JNw-j5BKnCTIQQ</td>\n",
       "      <td>{'Sun-14': 1, 'Fri-18': 1, 'Mon-20': 1}</td>\n",
       "    </tr>\n",
       "    <tr>\n",
       "      <th>4</th>\n",
       "      <td>r1p7RAMzCV_6NPF0dNoR3g</td>\n",
       "      <td>{'Sat-3': 1, 'Sun-18': 1, 'Sat-21': 1, 'Sat-23...</td>\n",
       "    </tr>\n",
       "  </tbody>\n",
       "</table>\n",
       "</div>"
      ],
      "text/plain": [
       "              business_id                                               time\n",
       "0  7KPBkxAOEtb3QeIL9PEErg  {'Fri-0': 2, 'Sat-0': 1, 'Sun-0': 1, 'Wed-0': ...\n",
       "1  kREVIrSBbtqBhIYkTccQUg  {'Mon-13': 1, 'Thu-13': 1, 'Sat-16': 1, 'Wed-1...\n",
       "2  tJRDll5yqpZwehenzE2cSg  {'Thu-0': 1, 'Mon-1': 1, 'Mon-12': 1, 'Sat-16'...\n",
       "3  tZccfdl6JNw-j5BKnCTIQQ            {'Sun-14': 1, 'Fri-18': 1, 'Mon-20': 1}\n",
       "4  r1p7RAMzCV_6NPF0dNoR3g  {'Sat-3': 1, 'Sun-18': 1, 'Sat-21': 1, 'Sat-23..."
      ]
     },
     "execution_count": 41,
     "metadata": {},
     "output_type": "execute_result"
    }
   ],
   "source": [
    "checkin.head()"
   ]
  },
  {
   "cell_type": "code",
   "execution_count": 42,
   "metadata": {},
   "outputs": [
    {
     "data": {
      "text/html": [
       "<div>\n",
       "<style scoped>\n",
       "    .dataframe tbody tr th:only-of-type {\n",
       "        vertical-align: middle;\n",
       "    }\n",
       "\n",
       "    .dataframe tbody tr th {\n",
       "        vertical-align: top;\n",
       "    }\n",
       "\n",
       "    .dataframe thead th {\n",
       "        text-align: right;\n",
       "    }\n",
       "</style>\n",
       "<table border=\"1\" class=\"dataframe\">\n",
       "  <thead>\n",
       "    <tr style=\"text-align: right;\">\n",
       "      <th></th>\n",
       "      <th>business_id</th>\n",
       "      <th>cool</th>\n",
       "      <th>date</th>\n",
       "      <th>funny</th>\n",
       "      <th>review_id</th>\n",
       "      <th>stars</th>\n",
       "      <th>text</th>\n",
       "      <th>useful</th>\n",
       "      <th>user_id</th>\n",
       "    </tr>\n",
       "  </thead>\n",
       "  <tbody>\n",
       "    <tr>\n",
       "      <th>0</th>\n",
       "      <td>iCQpiavjjPzJ5_3gPD5Ebg</td>\n",
       "      <td>0</td>\n",
       "      <td>2011-02-25</td>\n",
       "      <td>0</td>\n",
       "      <td>x7mDIiDB3jEiPGPHOmDzyw</td>\n",
       "      <td>2</td>\n",
       "      <td>The pizza was okay. Not the best I've had. I p...</td>\n",
       "      <td>0</td>\n",
       "      <td>msQe1u7Z_XuqjGoqhB0J5g</td>\n",
       "    </tr>\n",
       "    <tr>\n",
       "      <th>1</th>\n",
       "      <td>pomGBqfbxcqPv14c3XH-ZQ</td>\n",
       "      <td>0</td>\n",
       "      <td>2012-11-13</td>\n",
       "      <td>0</td>\n",
       "      <td>dDl8zu1vWPdKGihJrwQbpw</td>\n",
       "      <td>5</td>\n",
       "      <td>I love this place! My fiance And I go here atl...</td>\n",
       "      <td>0</td>\n",
       "      <td>msQe1u7Z_XuqjGoqhB0J5g</td>\n",
       "    </tr>\n",
       "    <tr>\n",
       "      <th>2</th>\n",
       "      <td>jtQARsP6P-LbkyjbO1qNGg</td>\n",
       "      <td>1</td>\n",
       "      <td>2014-10-23</td>\n",
       "      <td>1</td>\n",
       "      <td>LZp4UX5zK3e-c5ZGSeo3kA</td>\n",
       "      <td>1</td>\n",
       "      <td>Terrible. Dry corn bread. Rib tips were all fa...</td>\n",
       "      <td>3</td>\n",
       "      <td>msQe1u7Z_XuqjGoqhB0J5g</td>\n",
       "    </tr>\n",
       "    <tr>\n",
       "      <th>3</th>\n",
       "      <td>elqbBhBfElMNSrjFqW3now</td>\n",
       "      <td>0</td>\n",
       "      <td>2011-02-25</td>\n",
       "      <td>0</td>\n",
       "      <td>Er4NBWCmCD4nM8_p1GRdow</td>\n",
       "      <td>2</td>\n",
       "      <td>Back in 2005-2007 this place was my FAVORITE t...</td>\n",
       "      <td>2</td>\n",
       "      <td>msQe1u7Z_XuqjGoqhB0J5g</td>\n",
       "    </tr>\n",
       "    <tr>\n",
       "      <th>4</th>\n",
       "      <td>Ums3gaP2qM3W1XcA5r6SsQ</td>\n",
       "      <td>0</td>\n",
       "      <td>2014-09-05</td>\n",
       "      <td>0</td>\n",
       "      <td>jsDu6QEJHbwP2Blom1PLCA</td>\n",
       "      <td>5</td>\n",
       "      <td>Delicious healthy food. The steak is amazing. ...</td>\n",
       "      <td>0</td>\n",
       "      <td>msQe1u7Z_XuqjGoqhB0J5g</td>\n",
       "    </tr>\n",
       "  </tbody>\n",
       "</table>\n",
       "</div>"
      ],
      "text/plain": [
       "              business_id  cool       date  funny               review_id  \\\n",
       "0  iCQpiavjjPzJ5_3gPD5Ebg     0 2011-02-25      0  x7mDIiDB3jEiPGPHOmDzyw   \n",
       "1  pomGBqfbxcqPv14c3XH-ZQ     0 2012-11-13      0  dDl8zu1vWPdKGihJrwQbpw   \n",
       "2  jtQARsP6P-LbkyjbO1qNGg     1 2014-10-23      1  LZp4UX5zK3e-c5ZGSeo3kA   \n",
       "3  elqbBhBfElMNSrjFqW3now     0 2011-02-25      0  Er4NBWCmCD4nM8_p1GRdow   \n",
       "4  Ums3gaP2qM3W1XcA5r6SsQ     0 2014-09-05      0  jsDu6QEJHbwP2Blom1PLCA   \n",
       "\n",
       "   stars                                               text  useful  \\\n",
       "0      2  The pizza was okay. Not the best I've had. I p...       0   \n",
       "1      5  I love this place! My fiance And I go here atl...       0   \n",
       "2      1  Terrible. Dry corn bread. Rib tips were all fa...       3   \n",
       "3      2  Back in 2005-2007 this place was my FAVORITE t...       2   \n",
       "4      5  Delicious healthy food. The steak is amazing. ...       0   \n",
       "\n",
       "                  user_id  \n",
       "0  msQe1u7Z_XuqjGoqhB0J5g  \n",
       "1  msQe1u7Z_XuqjGoqhB0J5g  \n",
       "2  msQe1u7Z_XuqjGoqhB0J5g  \n",
       "3  msQe1u7Z_XuqjGoqhB0J5g  \n",
       "4  msQe1u7Z_XuqjGoqhB0J5g  "
      ]
     },
     "execution_count": 42,
     "metadata": {},
     "output_type": "execute_result"
    }
   ],
   "source": [
    "review.head()"
   ]
  },
  {
   "cell_type": "code",
   "execution_count": 43,
   "metadata": {},
   "outputs": [],
   "source": [
    "checkin['checkins'] = checkin['time'].apply(lambda x : sum(x.values()))\n",
    "yelp = business.merge(checkin, on='business_id', how='outer')"
   ]
  },
  {
   "cell_type": "code",
   "execution_count": 44,
   "metadata": {},
   "outputs": [],
   "source": [
    "review['date'] = pd.to_datetime(review['date'])\n",
    "review = review[review['date'].dt.year == 2017]"
   ]
  },
  {
   "cell_type": "code",
   "execution_count": 45,
   "metadata": {},
   "outputs": [],
   "source": [
    "business.to_csv('data/yelp_business.csv', index=False)\n",
    "checkin.to_csv('data/yelp_checkin.csv', index=False)\n",
    "review.to_csv('data/yelp_review.csv', index=False)\n",
    "yelp.to_csv('data/yelp.csv', index=False)"
   ]
  },
  {
   "cell_type": "code",
   "execution_count": 46,
   "metadata": {},
   "outputs": [],
   "source": [
    "business = pd.read_csv('data/yelp_business.csv')\n",
    "checkin = pd.read_csv('data/yelp_checkin.csv')\n",
    "review = pd.read_csv('data/yelp_review.csv')\n",
    "yelp = pd.read_csv('data/yelp.csv')"
   ]
  },
  {
   "cell_type": "markdown",
   "metadata": {},
   "source": [
    "### Find the top 10 and bottom 10 restaurants in Illinois having most and least checkins respectively."
   ]
  },
  {
   "cell_type": "code",
   "execution_count": 47,
   "metadata": {},
   "outputs": [
    {
     "data": {
      "text/html": [
       "<div>\n",
       "<style scoped>\n",
       "    .dataframe tbody tr th:only-of-type {\n",
       "        vertical-align: middle;\n",
       "    }\n",
       "\n",
       "    .dataframe tbody tr th {\n",
       "        vertical-align: top;\n",
       "    }\n",
       "\n",
       "    .dataframe thead th {\n",
       "        text-align: right;\n",
       "    }\n",
       "</style>\n",
       "<table border=\"1\" class=\"dataframe\">\n",
       "  <thead>\n",
       "    <tr style=\"text-align: right;\">\n",
       "      <th></th>\n",
       "      <th>address</th>\n",
       "      <th>attributes</th>\n",
       "      <th>business_id</th>\n",
       "      <th>categories</th>\n",
       "      <th>city</th>\n",
       "      <th>hours</th>\n",
       "      <th>is_open</th>\n",
       "      <th>latitude</th>\n",
       "      <th>longitude</th>\n",
       "      <th>name</th>\n",
       "      <th>neighborhood</th>\n",
       "      <th>postal_code</th>\n",
       "      <th>review_count</th>\n",
       "      <th>stars</th>\n",
       "      <th>state</th>\n",
       "      <th>time</th>\n",
       "      <th>checkins</th>\n",
       "    </tr>\n",
       "  </thead>\n",
       "  <tbody>\n",
       "    <tr>\n",
       "      <th>0</th>\n",
       "      <td>1314 44 Avenue NE</td>\n",
       "      <td>{'BikeParking': 'False', 'BusinessAcceptsCredi...</td>\n",
       "      <td>Apn5Q_b6Nz61Tq4XzPdf9A</td>\n",
       "      <td>Tours, Breweries, Pizza, Restaurants, Food, Ho...</td>\n",
       "      <td>Calgary</td>\n",
       "      <td>{'Monday': '8:30-17:0', 'Tuesday': '11:0-21:0'...</td>\n",
       "      <td>1</td>\n",
       "      <td>51.091813</td>\n",
       "      <td>-114.031675</td>\n",
       "      <td>Minhas Micro Brewery</td>\n",
       "      <td>NaN</td>\n",
       "      <td>T2E 6L6</td>\n",
       "      <td>24</td>\n",
       "      <td>4.0</td>\n",
       "      <td>AB</td>\n",
       "      <td>{'Fri-0': 1, 'Sun-0': 3, 'Thu-0': 1, 'Fri-1': ...</td>\n",
       "      <td>29.0</td>\n",
       "    </tr>\n",
       "    <tr>\n",
       "      <th>1</th>\n",
       "      <td>NaN</td>\n",
       "      <td>{'Alcohol': 'none', 'BikeParking': 'False', 'B...</td>\n",
       "      <td>AjEbIBw6ZFfln7ePHha9PA</td>\n",
       "      <td>Chicken Wings, Burgers, Caterers, Street Vendo...</td>\n",
       "      <td>Henderson</td>\n",
       "      <td>{'Friday': '17:0-23:0', 'Saturday': '17:0-23:0...</td>\n",
       "      <td>0</td>\n",
       "      <td>35.960734</td>\n",
       "      <td>-114.939821</td>\n",
       "      <td>CK'S BBQ &amp; Catering</td>\n",
       "      <td>NaN</td>\n",
       "      <td>89002</td>\n",
       "      <td>3</td>\n",
       "      <td>4.5</td>\n",
       "      <td>NV</td>\n",
       "      <td>{'Sun-1': 1}</td>\n",
       "      <td>1.0</td>\n",
       "    </tr>\n",
       "    <tr>\n",
       "      <th>2</th>\n",
       "      <td>1335 rue Beaubien E</td>\n",
       "      <td>{'Alcohol': 'beer_and_wine', 'Ambience': \"{'ro...</td>\n",
       "      <td>O8S5hYJ1SMc8fA4QBtVujA</td>\n",
       "      <td>Breakfast &amp; Brunch, Restaurants, French, Sandw...</td>\n",
       "      <td>Montréal</td>\n",
       "      <td>{'Monday': '10:0-22:0', 'Tuesday': '10:0-22:0'...</td>\n",
       "      <td>0</td>\n",
       "      <td>45.540503</td>\n",
       "      <td>-73.599300</td>\n",
       "      <td>La Bastringue</td>\n",
       "      <td>Rosemont-La Petite-Patrie</td>\n",
       "      <td>H2G 1K7</td>\n",
       "      <td>5</td>\n",
       "      <td>4.0</td>\n",
       "      <td>QC</td>\n",
       "      <td>{'Mon-0': 1, 'Sun-0': 1, 'Fri-1': 1, 'Sun-1': ...</td>\n",
       "      <td>7.0</td>\n",
       "    </tr>\n",
       "    <tr>\n",
       "      <th>3</th>\n",
       "      <td>211 W Monroe St</td>\n",
       "      <td>NaN</td>\n",
       "      <td>bFzdJJ3wp3PZssNEsyU23g</td>\n",
       "      <td>Insurance, Financial Services</td>\n",
       "      <td>Phoenix</td>\n",
       "      <td>NaN</td>\n",
       "      <td>1</td>\n",
       "      <td>33.449999</td>\n",
       "      <td>-112.076979</td>\n",
       "      <td>Geico Insurance</td>\n",
       "      <td>NaN</td>\n",
       "      <td>85003</td>\n",
       "      <td>8</td>\n",
       "      <td>1.5</td>\n",
       "      <td>AZ</td>\n",
       "      <td>{'Wed-18': 1}</td>\n",
       "      <td>1.0</td>\n",
       "    </tr>\n",
       "    <tr>\n",
       "      <th>4</th>\n",
       "      <td>2005 Alyth Place SE</td>\n",
       "      <td>{'BusinessAcceptsCreditCards': 'True'}</td>\n",
       "      <td>8USyCYqpScwiNEb58Bt6CA</td>\n",
       "      <td>Home &amp; Garden, Nurseries &amp; Gardening, Shopping...</td>\n",
       "      <td>Calgary</td>\n",
       "      <td>{'Monday': '8:0-17:0', 'Tuesday': '8:0-17:0', ...</td>\n",
       "      <td>1</td>\n",
       "      <td>51.035591</td>\n",
       "      <td>-114.027366</td>\n",
       "      <td>Action Engine</td>\n",
       "      <td>NaN</td>\n",
       "      <td>T2H 0N5</td>\n",
       "      <td>4</td>\n",
       "      <td>2.0</td>\n",
       "      <td>AB</td>\n",
       "      <td>{'Thu-14': 1, 'Thu-20': 1}</td>\n",
       "      <td>2.0</td>\n",
       "    </tr>\n",
       "  </tbody>\n",
       "</table>\n",
       "</div>"
      ],
      "text/plain": [
       "               address                                         attributes  \\\n",
       "0    1314 44 Avenue NE  {'BikeParking': 'False', 'BusinessAcceptsCredi...   \n",
       "1                  NaN  {'Alcohol': 'none', 'BikeParking': 'False', 'B...   \n",
       "2  1335 rue Beaubien E  {'Alcohol': 'beer_and_wine', 'Ambience': \"{'ro...   \n",
       "3      211 W Monroe St                                                NaN   \n",
       "4  2005 Alyth Place SE             {'BusinessAcceptsCreditCards': 'True'}   \n",
       "\n",
       "              business_id                                         categories  \\\n",
       "0  Apn5Q_b6Nz61Tq4XzPdf9A  Tours, Breweries, Pizza, Restaurants, Food, Ho...   \n",
       "1  AjEbIBw6ZFfln7ePHha9PA  Chicken Wings, Burgers, Caterers, Street Vendo...   \n",
       "2  O8S5hYJ1SMc8fA4QBtVujA  Breakfast & Brunch, Restaurants, French, Sandw...   \n",
       "3  bFzdJJ3wp3PZssNEsyU23g                      Insurance, Financial Services   \n",
       "4  8USyCYqpScwiNEb58Bt6CA  Home & Garden, Nurseries & Gardening, Shopping...   \n",
       "\n",
       "        city                                              hours  is_open  \\\n",
       "0    Calgary  {'Monday': '8:30-17:0', 'Tuesday': '11:0-21:0'...        1   \n",
       "1  Henderson  {'Friday': '17:0-23:0', 'Saturday': '17:0-23:0...        0   \n",
       "2   Montréal  {'Monday': '10:0-22:0', 'Tuesday': '10:0-22:0'...        0   \n",
       "3    Phoenix                                                NaN        1   \n",
       "4    Calgary  {'Monday': '8:0-17:0', 'Tuesday': '8:0-17:0', ...        1   \n",
       "\n",
       "    latitude   longitude                  name               neighborhood  \\\n",
       "0  51.091813 -114.031675  Minhas Micro Brewery                        NaN   \n",
       "1  35.960734 -114.939821   CK'S BBQ & Catering                        NaN   \n",
       "2  45.540503  -73.599300         La Bastringue  Rosemont-La Petite-Patrie   \n",
       "3  33.449999 -112.076979       Geico Insurance                        NaN   \n",
       "4  51.035591 -114.027366         Action Engine                        NaN   \n",
       "\n",
       "  postal_code  review_count  stars state  \\\n",
       "0     T2E 6L6            24    4.0    AB   \n",
       "1       89002             3    4.5    NV   \n",
       "2     H2G 1K7             5    4.0    QC   \n",
       "3       85003             8    1.5    AZ   \n",
       "4     T2H 0N5             4    2.0    AB   \n",
       "\n",
       "                                                time  checkins  \n",
       "0  {'Fri-0': 1, 'Sun-0': 3, 'Thu-0': 1, 'Fri-1': ...      29.0  \n",
       "1                                       {'Sun-1': 1}       1.0  \n",
       "2  {'Mon-0': 1, 'Sun-0': 1, 'Fri-1': 1, 'Sun-1': ...       7.0  \n",
       "3                                      {'Wed-18': 1}       1.0  \n",
       "4                         {'Thu-14': 1, 'Thu-20': 1}       2.0  "
      ]
     },
     "execution_count": 47,
     "metadata": {},
     "output_type": "execute_result"
    }
   ],
   "source": [
    "yelp.head()"
   ]
  },
  {
   "cell_type": "code",
   "execution_count": 48,
   "metadata": {},
   "outputs": [
    {
     "data": {
      "text/plain": [
       "11"
      ]
     },
     "execution_count": 48,
     "metadata": {},
     "output_type": "execute_result"
    }
   ],
   "source": [
    "len(yelp[(yelp['state'] == 'IL') &\n",
    "         (yelp['categories'].str.contains('Restaurants')) &\n",
    "         (yelp['checkins'].isnull()) &\n",
    "         (yelp['is_open'] == 1)])"
   ]
  },
  {
   "cell_type": "code",
   "execution_count": 49,
   "metadata": {},
   "outputs": [
    {
     "data": {
      "text/plain": [
       "15"
      ]
     },
     "execution_count": 49,
     "metadata": {},
     "output_type": "execute_result"
    }
   ],
   "source": [
    "len(yelp[(yelp['state'] == 'IL') &\n",
    "         (yelp['categories'].str.contains('Restaurants')) &\n",
    "         (yelp['checkins'] == 1) &\n",
    "         (yelp['is_open'] == 1)])"
   ]
  },
  {
   "cell_type": "code",
   "execution_count": 50,
   "metadata": {},
   "outputs": [
    {
     "data": {
      "text/plain": [
       "12"
      ]
     },
     "execution_count": 50,
     "metadata": {},
     "output_type": "execute_result"
    }
   ],
   "source": [
    "len(yelp[(yelp['state'] == 'IL') &\n",
    "         (yelp['categories'].str.contains('Restaurants')) &\n",
    "         (yelp['checkins'] == 2) &\n",
    "         (yelp['is_open'] == 1)])"
   ]
  },
  {
   "cell_type": "code",
   "execution_count": 51,
   "metadata": {},
   "outputs": [
    {
     "data": {
      "text/plain": [
       "10"
      ]
     },
     "execution_count": 51,
     "metadata": {},
     "output_type": "execute_result"
    }
   ],
   "source": [
    "len(yelp[(yelp['state'] == 'IL') &\n",
    "         (yelp['categories'].str.contains('Restaurants')) &\n",
    "         (yelp['checkins'] == 3) &\n",
    "         (yelp['is_open'] == 1)])"
   ]
  },
  {
   "cell_type": "code",
   "execution_count": 52,
   "metadata": {},
   "outputs": [],
   "source": [
    "top10 = yelp[(yelp['state'] == 'IL') &\n",
    "             (yelp['categories'].str.contains('Restaurants') &\n",
    "              (yelp['is_open'] == 1))\n",
    "            ].sort_values('checkins', ascending=False).head(10)\n",
    "\n",
    "bottom10 = yelp[(yelp['state'] == 'IL') &\n",
    "                (yelp['categories'].str.contains('Restaurants') &\n",
    "                (yelp['is_open'] == 1))\n",
    "               ].sort_values('checkins', ascending=False).tail(30)"
   ]
  },
  {
   "cell_type": "code",
   "execution_count": 53,
   "metadata": {},
   "outputs": [],
   "source": [
    "top10.to_csv('data/yelp_top10_checkins.csv', index=False)\n",
    "bottom10.to_csv('data/yelp_bottom10_checkins.csv', index=False)"
   ]
  },
  {
   "cell_type": "code",
   "execution_count": 54,
   "metadata": {},
   "outputs": [
    {
     "data": {
      "text/plain": [
       "['Sakanaya',\n",
       " 'Black Dog Smoke & Ale House',\n",
       " 'DESTIHL Restaurant & Brew Works',\n",
       " 'Seven Saints',\n",
       " 'Golden Harbor Authentic Chinese Cuisine',\n",
       " 'Maize Mexican Grill',\n",
       " 'Meijer',\n",
       " 'Cafe Kopi',\n",
       " 'Courier Cafe',\n",
       " 'Big Grove Tavern']"
      ]
     },
     "execution_count": 54,
     "metadata": {},
     "output_type": "execute_result"
    }
   ],
   "source": [
    "top10_names = top10['name'].tolist()\n",
    "top10_names"
   ]
  },
  {
   "cell_type": "code",
   "execution_count": 55,
   "metadata": {},
   "outputs": [
    {
     "data": {
      "text/plain": [
       "['Monicals Pizza',\n",
       " 'Subway',\n",
       " \"McDonald's\",\n",
       " 'The Spice Box',\n",
       " 'Subway',\n",
       " 'Taco Bell',\n",
       " 'Subway',\n",
       " 'Asian Noodle and Sushi',\n",
       " 'Red Cape Hot Pot',\n",
       " \"McDonald's\",\n",
       " 'Main Street Belly Deli',\n",
       " 'Subway',\n",
       " 'Little Caesars Pizza',\n",
       " 'Casa Real',\n",
       " 'Tasty Fish Chicken & Grill',\n",
       " \"J & J's Burgers & Beer\",\n",
       " 'Casa Del Mar',\n",
       " 'Dairy Queen',\n",
       " 'Nanjing Bistro',\n",
       " \"Bergie's - The Occasional Place\",\n",
       " 'Sushi San',\n",
       " \"Papa John's Pizza\",\n",
       " \"Domino's Pizza\",\n",
       " 'Golden Kitchen',\n",
       " 'The Wild Hare',\n",
       " 'Stango Cuisine',\n",
       " \"Tortica's Grill\",\n",
       " 'Manzellas Italian Restaurant',\n",
       " \"Jimmy John's\",\n",
       " \"Domino's Pizza\"]"
      ]
     },
     "execution_count": 55,
     "metadata": {},
     "output_type": "execute_result"
    }
   ],
   "source": [
    "bottom10_names = bottom10['name'].tolist()\n",
    "bottom10_names"
   ]
  },
  {
   "cell_type": "markdown",
   "metadata": {},
   "source": [
    "### For the top 10 and bottom 10 restaurants calculated in step 6, calculate the average star rating and average sentiment score of the reviews"
   ]
  },
  {
   "cell_type": "code",
   "execution_count": 56,
   "metadata": {},
   "outputs": [],
   "source": [
    "top_bottom = top10['business_id'].tolist() + bottom10['business_id'].tolist()"
   ]
  },
  {
   "cell_type": "code",
   "execution_count": 57,
   "metadata": {},
   "outputs": [],
   "source": [
    "sentiment = review[review['business_id'].isin(top_bottom)]"
   ]
  },
  {
   "cell_type": "code",
   "execution_count": 58,
   "metadata": {},
   "outputs": [],
   "source": [
    "from vaderSentiment.vaderSentiment import SentimentIntensityAnalyzer\n",
    "\n",
    "def get_vader_scores(text):\n",
    "    '''\n",
    "    Takes a string of text and outputs four values for Vader's negative,\n",
    "    neutral, positive, and compound (normalized) sentiment scores\n",
    "    INPUT: a string\n",
    "    OUTPUT: a dictionary of four sentiment scores\n",
    "    '''\n",
    "\n",
    "    analyser = SentimentIntensityAnalyzer()\n",
    "    return analyser.polarity_scores(text)\n",
    "\n",
    "\n",
    "def apply_vader(df, column):\n",
    "    '''\n",
    "    Takes a DataFrame with a specified column of text and adds four new columns\n",
    "    to the DataFrame, corresponding to the Vader sentiment scores\n",
    "    INPUT: DataFrame, string\n",
    "    OUTPUT: the original DataFrame with four additional columns\n",
    "    '''\n",
    "\n",
    "    sentiment = pd.DataFrame(df[column].apply(get_vader_scores))\n",
    "    unpacked = pd.DataFrame([d for idx, d in sentiment[column].iteritems()],\n",
    "                            index=sentiment.index)\n",
    "    unpacked['compound'] += 1\n",
    "    columns = {'neu': 'neutral', 'pos': 'positive', 'neg': 'negative'}\n",
    "    unpacked.rename(columns=columns, inplace=True)\n",
    "    return pd.concat([df, unpacked], axis=1)"
   ]
  },
  {
   "cell_type": "code",
   "execution_count": 59,
   "metadata": {},
   "outputs": [],
   "source": [
    "sentiment = apply_vader(sentiment, 'text')"
   ]
  },
  {
   "cell_type": "code",
   "execution_count": 60,
   "metadata": {},
   "outputs": [],
   "source": [
    "top10_sentiment = {}\n",
    "for biz_id in top10['business_id'].tolist():\n",
    "    top10_sentiment[yelp.loc[yelp['business_id'] == biz_id, 'name'].iloc[0]] = sentiment[sentiment['business_id'] == biz_id].groupby(['business_id']).mean()"
   ]
  },
  {
   "cell_type": "code",
   "execution_count": 61,
   "metadata": {},
   "outputs": [],
   "source": [
    "top10_scores = pd.DataFrame()\n",
    "for restaurant in top10_sentiment:\n",
    "    top10_scores = top10_scores.append(pd.DataFrame(top10_sentiment[restaurant]))\n",
    "top10_scores.reset_index(level=0, inplace=True)"
   ]
  },
  {
   "cell_type": "code",
   "execution_count": 62,
   "metadata": {},
   "outputs": [],
   "source": [
    "top10_scores['name'] = top10_scores['business_id'].apply(lambda business_id: yelp['name']\n",
    "                                                         [(yelp['business_id'] == business_id)].values[0])"
   ]
  },
  {
   "cell_type": "code",
   "execution_count": 63,
   "metadata": {},
   "outputs": [
    {
     "data": {
      "text/html": [
       "<div>\n",
       "<style scoped>\n",
       "    .dataframe tbody tr th:only-of-type {\n",
       "        vertical-align: middle;\n",
       "    }\n",
       "\n",
       "    .dataframe tbody tr th {\n",
       "        vertical-align: top;\n",
       "    }\n",
       "\n",
       "    .dataframe thead th {\n",
       "        text-align: right;\n",
       "    }\n",
       "</style>\n",
       "<table border=\"1\" class=\"dataframe\">\n",
       "  <thead>\n",
       "    <tr style=\"text-align: right;\">\n",
       "      <th></th>\n",
       "      <th>business_id</th>\n",
       "      <th>cool</th>\n",
       "      <th>funny</th>\n",
       "      <th>stars</th>\n",
       "      <th>useful</th>\n",
       "      <th>compound</th>\n",
       "      <th>negative</th>\n",
       "      <th>neutral</th>\n",
       "      <th>positive</th>\n",
       "      <th>name</th>\n",
       "    </tr>\n",
       "  </thead>\n",
       "  <tbody>\n",
       "    <tr>\n",
       "      <th>0</th>\n",
       "      <td>-zEpEmDfFQL-ph0N3BDlXA</td>\n",
       "      <td>0.160920</td>\n",
       "      <td>0.011494</td>\n",
       "      <td>4.413793</td>\n",
       "      <td>0.275862</td>\n",
       "      <td>1.860336</td>\n",
       "      <td>0.019851</td>\n",
       "      <td>0.699230</td>\n",
       "      <td>0.280862</td>\n",
       "      <td>Sakanaya</td>\n",
       "    </tr>\n",
       "    <tr>\n",
       "      <th>1</th>\n",
       "      <td>9MnbQg7kfb_WgxoV0hXKSQ</td>\n",
       "      <td>0.136364</td>\n",
       "      <td>0.022727</td>\n",
       "      <td>4.409091</td>\n",
       "      <td>0.272727</td>\n",
       "      <td>1.872034</td>\n",
       "      <td>0.027705</td>\n",
       "      <td>0.721068</td>\n",
       "      <td>0.251227</td>\n",
       "      <td>Black Dog Smoke &amp; Ale House</td>\n",
       "    </tr>\n",
       "    <tr>\n",
       "      <th>2</th>\n",
       "      <td>-fiUXzkxRfbHY9TKWwuptw</td>\n",
       "      <td>0.160377</td>\n",
       "      <td>0.037736</td>\n",
       "      <td>4.018868</td>\n",
       "      <td>0.273585</td>\n",
       "      <td>1.796705</td>\n",
       "      <td>0.034849</td>\n",
       "      <td>0.712745</td>\n",
       "      <td>0.252406</td>\n",
       "      <td>DESTIHL Restaurant &amp; Brew Works</td>\n",
       "    </tr>\n",
       "    <tr>\n",
       "      <th>3</th>\n",
       "      <td>L2c-qKZWumCmOCR-dqBLrg</td>\n",
       "      <td>0.333333</td>\n",
       "      <td>0.145833</td>\n",
       "      <td>4.416667</td>\n",
       "      <td>0.458333</td>\n",
       "      <td>1.773444</td>\n",
       "      <td>0.030250</td>\n",
       "      <td>0.720354</td>\n",
       "      <td>0.249458</td>\n",
       "      <td>Seven Saints</td>\n",
       "    </tr>\n",
       "    <tr>\n",
       "      <th>4</th>\n",
       "      <td>t_yiQnxUDdPPCN2z4QyezA</td>\n",
       "      <td>0.342105</td>\n",
       "      <td>0.118421</td>\n",
       "      <td>4.302632</td>\n",
       "      <td>0.828947</td>\n",
       "      <td>1.620366</td>\n",
       "      <td>0.055934</td>\n",
       "      <td>0.748132</td>\n",
       "      <td>0.195816</td>\n",
       "      <td>Golden Harbor Authentic Chinese Cuisine</td>\n",
       "    </tr>\n",
       "    <tr>\n",
       "      <th>5</th>\n",
       "      <td>VIJ2KiDKhUVhhpNylEIfog</td>\n",
       "      <td>0.160000</td>\n",
       "      <td>0.040000</td>\n",
       "      <td>4.160000</td>\n",
       "      <td>0.220000</td>\n",
       "      <td>1.729708</td>\n",
       "      <td>0.033660</td>\n",
       "      <td>0.751300</td>\n",
       "      <td>0.215040</td>\n",
       "      <td>Maize Mexican Grill</td>\n",
       "    </tr>\n",
       "    <tr>\n",
       "      <th>6</th>\n",
       "      <td>XbHxWOciYlBhJOjKRQbo9g</td>\n",
       "      <td>0.333333</td>\n",
       "      <td>0.000000</td>\n",
       "      <td>3.166667</td>\n",
       "      <td>0.666667</td>\n",
       "      <td>1.453317</td>\n",
       "      <td>0.049667</td>\n",
       "      <td>0.777167</td>\n",
       "      <td>0.173000</td>\n",
       "      <td>Meijer</td>\n",
       "    </tr>\n",
       "    <tr>\n",
       "      <th>7</th>\n",
       "      <td>e0prCZXtHGQIKeQ_wTW3uw</td>\n",
       "      <td>0.052632</td>\n",
       "      <td>0.105263</td>\n",
       "      <td>3.842105</td>\n",
       "      <td>0.368421</td>\n",
       "      <td>1.799100</td>\n",
       "      <td>0.036842</td>\n",
       "      <td>0.696263</td>\n",
       "      <td>0.266947</td>\n",
       "      <td>Cafe Kopi</td>\n",
       "    </tr>\n",
       "    <tr>\n",
       "      <th>8</th>\n",
       "      <td>o13eH93qmWVNFZogkjhd9w</td>\n",
       "      <td>0.157895</td>\n",
       "      <td>0.000000</td>\n",
       "      <td>4.368421</td>\n",
       "      <td>0.368421</td>\n",
       "      <td>1.878182</td>\n",
       "      <td>0.024026</td>\n",
       "      <td>0.707500</td>\n",
       "      <td>0.268474</td>\n",
       "      <td>Courier Cafe</td>\n",
       "    </tr>\n",
       "    <tr>\n",
       "      <th>9</th>\n",
       "      <td>dn9lwYUxmhs_mLKPu7L25Q</td>\n",
       "      <td>0.106383</td>\n",
       "      <td>0.212766</td>\n",
       "      <td>2.936170</td>\n",
       "      <td>0.787234</td>\n",
       "      <td>1.552809</td>\n",
       "      <td>0.058340</td>\n",
       "      <td>0.759660</td>\n",
       "      <td>0.181979</td>\n",
       "      <td>Big Grove Tavern</td>\n",
       "    </tr>\n",
       "  </tbody>\n",
       "</table>\n",
       "</div>"
      ],
      "text/plain": [
       "              business_id      cool     funny     stars    useful  compound  \\\n",
       "0  -zEpEmDfFQL-ph0N3BDlXA  0.160920  0.011494  4.413793  0.275862  1.860336   \n",
       "1  9MnbQg7kfb_WgxoV0hXKSQ  0.136364  0.022727  4.409091  0.272727  1.872034   \n",
       "2  -fiUXzkxRfbHY9TKWwuptw  0.160377  0.037736  4.018868  0.273585  1.796705   \n",
       "3  L2c-qKZWumCmOCR-dqBLrg  0.333333  0.145833  4.416667  0.458333  1.773444   \n",
       "4  t_yiQnxUDdPPCN2z4QyezA  0.342105  0.118421  4.302632  0.828947  1.620366   \n",
       "5  VIJ2KiDKhUVhhpNylEIfog  0.160000  0.040000  4.160000  0.220000  1.729708   \n",
       "6  XbHxWOciYlBhJOjKRQbo9g  0.333333  0.000000  3.166667  0.666667  1.453317   \n",
       "7  e0prCZXtHGQIKeQ_wTW3uw  0.052632  0.105263  3.842105  0.368421  1.799100   \n",
       "8  o13eH93qmWVNFZogkjhd9w  0.157895  0.000000  4.368421  0.368421  1.878182   \n",
       "9  dn9lwYUxmhs_mLKPu7L25Q  0.106383  0.212766  2.936170  0.787234  1.552809   \n",
       "\n",
       "   negative   neutral  positive                                     name  \n",
       "0  0.019851  0.699230  0.280862                                 Sakanaya  \n",
       "1  0.027705  0.721068  0.251227              Black Dog Smoke & Ale House  \n",
       "2  0.034849  0.712745  0.252406          DESTIHL Restaurant & Brew Works  \n",
       "3  0.030250  0.720354  0.249458                             Seven Saints  \n",
       "4  0.055934  0.748132  0.195816  Golden Harbor Authentic Chinese Cuisine  \n",
       "5  0.033660  0.751300  0.215040                      Maize Mexican Grill  \n",
       "6  0.049667  0.777167  0.173000                                   Meijer  \n",
       "7  0.036842  0.696263  0.266947                                Cafe Kopi  \n",
       "8  0.024026  0.707500  0.268474                             Courier Cafe  \n",
       "9  0.058340  0.759660  0.181979                         Big Grove Tavern  "
      ]
     },
     "execution_count": 63,
     "metadata": {},
     "output_type": "execute_result"
    }
   ],
   "source": [
    "top10_scores"
   ]
  },
  {
   "cell_type": "code",
   "execution_count": 64,
   "metadata": {},
   "outputs": [],
   "source": [
    "bottom10_sentiment = {}\n",
    "for biz_id in bottom10['business_id'].tolist():\n",
    "    bottom10_sentiment[yelp.loc[yelp['business_id'] == biz_id, 'name'].iloc[0]] = sentiment[sentiment['business_id'] == biz_id].groupby(['business_id']).mean()"
   ]
  },
  {
   "cell_type": "code",
   "execution_count": 65,
   "metadata": {},
   "outputs": [],
   "source": [
    "bottom10_scores = pd.DataFrame()\n",
    "for restaurant in bottom10_sentiment:\n",
    "    bottom10_scores = bottom10_scores.append(pd.DataFrame(bottom10_sentiment[restaurant]))\n",
    "bottom10_scores.reset_index(level=0, inplace=True)"
   ]
  },
  {
   "cell_type": "code",
   "execution_count": 66,
   "metadata": {},
   "outputs": [],
   "source": [
    "bottom10_scores['name'] = bottom10_scores['business_id'].apply(lambda business_id: yelp['name']\n",
    "                                                               [(yelp['business_id'] == business_id)].values[0])"
   ]
  },
  {
   "cell_type": "code",
   "execution_count": 67,
   "metadata": {},
   "outputs": [
    {
     "data": {
      "text/html": [
       "<div>\n",
       "<style scoped>\n",
       "    .dataframe tbody tr th:only-of-type {\n",
       "        vertical-align: middle;\n",
       "    }\n",
       "\n",
       "    .dataframe tbody tr th {\n",
       "        vertical-align: top;\n",
       "    }\n",
       "\n",
       "    .dataframe thead th {\n",
       "        text-align: right;\n",
       "    }\n",
       "</style>\n",
       "<table border=\"1\" class=\"dataframe\">\n",
       "  <thead>\n",
       "    <tr style=\"text-align: right;\">\n",
       "      <th></th>\n",
       "      <th>business_id</th>\n",
       "      <th>cool</th>\n",
       "      <th>funny</th>\n",
       "      <th>stars</th>\n",
       "      <th>useful</th>\n",
       "      <th>compound</th>\n",
       "      <th>negative</th>\n",
       "      <th>neutral</th>\n",
       "      <th>positive</th>\n",
       "      <th>name</th>\n",
       "    </tr>\n",
       "  </thead>\n",
       "  <tbody>\n",
       "    <tr>\n",
       "      <th>0</th>\n",
       "      <td>DLhAuWok29OU8VR-DBxP7A</td>\n",
       "      <td>1.000000</td>\n",
       "      <td>0.0</td>\n",
       "      <td>5.000000</td>\n",
       "      <td>0.000000</td>\n",
       "      <td>1.921700</td>\n",
       "      <td>0.000000</td>\n",
       "      <td>0.694000</td>\n",
       "      <td>0.306000</td>\n",
       "      <td>Monicals Pizza</td>\n",
       "    </tr>\n",
       "    <tr>\n",
       "      <th>1</th>\n",
       "      <td>N9osJe0lQOdnd3xLUkJVMw</td>\n",
       "      <td>0.500000</td>\n",
       "      <td>0.0</td>\n",
       "      <td>5.000000</td>\n",
       "      <td>0.000000</td>\n",
       "      <td>1.948100</td>\n",
       "      <td>0.000000</td>\n",
       "      <td>0.699000</td>\n",
       "      <td>0.301000</td>\n",
       "      <td>Subway</td>\n",
       "    </tr>\n",
       "    <tr>\n",
       "      <th>2</th>\n",
       "      <td>fsBAaw7xwHWB78HRSWwQEQ</td>\n",
       "      <td>0.000000</td>\n",
       "      <td>0.0</td>\n",
       "      <td>5.000000</td>\n",
       "      <td>0.000000</td>\n",
       "      <td>1.970700</td>\n",
       "      <td>0.000000</td>\n",
       "      <td>0.660000</td>\n",
       "      <td>0.340000</td>\n",
       "      <td>The Spice Box</td>\n",
       "    </tr>\n",
       "    <tr>\n",
       "      <th>3</th>\n",
       "      <td>hH7qhup_bGKr9r27RpHJPw</td>\n",
       "      <td>0.000000</td>\n",
       "      <td>0.0</td>\n",
       "      <td>1.000000</td>\n",
       "      <td>0.666667</td>\n",
       "      <td>0.798367</td>\n",
       "      <td>0.069000</td>\n",
       "      <td>0.906000</td>\n",
       "      <td>0.024667</td>\n",
       "      <td>Taco Bell</td>\n",
       "    </tr>\n",
       "    <tr>\n",
       "      <th>4</th>\n",
       "      <td>ZvSy8yaly9Aeh64Qm4Dsfw</td>\n",
       "      <td>1.100000</td>\n",
       "      <td>0.9</td>\n",
       "      <td>3.400000</td>\n",
       "      <td>2.300000</td>\n",
       "      <td>1.382270</td>\n",
       "      <td>0.080200</td>\n",
       "      <td>0.751200</td>\n",
       "      <td>0.168700</td>\n",
       "      <td>Red Cape Hot Pot</td>\n",
       "    </tr>\n",
       "    <tr>\n",
       "      <th>5</th>\n",
       "      <td>IFlSq9YWXHZyLnuh0EffKQ</td>\n",
       "      <td>0.666667</td>\n",
       "      <td>0.0</td>\n",
       "      <td>4.666667</td>\n",
       "      <td>0.666667</td>\n",
       "      <td>1.940767</td>\n",
       "      <td>0.023000</td>\n",
       "      <td>0.721000</td>\n",
       "      <td>0.256333</td>\n",
       "      <td>Main Street Belly Deli</td>\n",
       "    </tr>\n",
       "    <tr>\n",
       "      <th>6</th>\n",
       "      <td>ks6JgGsz7phkGEVh9hoHkg</td>\n",
       "      <td>0.000000</td>\n",
       "      <td>0.0</td>\n",
       "      <td>2.333333</td>\n",
       "      <td>0.000000</td>\n",
       "      <td>0.827967</td>\n",
       "      <td>0.093000</td>\n",
       "      <td>0.840000</td>\n",
       "      <td>0.067000</td>\n",
       "      <td>Little Caesars Pizza</td>\n",
       "    </tr>\n",
       "    <tr>\n",
       "      <th>7</th>\n",
       "      <td>AW_d5hMf7sI6yHrz4Ujv8w</td>\n",
       "      <td>1.000000</td>\n",
       "      <td>0.5</td>\n",
       "      <td>3.500000</td>\n",
       "      <td>1.500000</td>\n",
       "      <td>1.901750</td>\n",
       "      <td>0.035000</td>\n",
       "      <td>0.809000</td>\n",
       "      <td>0.156500</td>\n",
       "      <td>Casa Real</td>\n",
       "    </tr>\n",
       "    <tr>\n",
       "      <th>8</th>\n",
       "      <td>62Ibju8UmUZtPIBLDS_nUw</td>\n",
       "      <td>0.000000</td>\n",
       "      <td>0.0</td>\n",
       "      <td>1.750000</td>\n",
       "      <td>0.250000</td>\n",
       "      <td>0.990875</td>\n",
       "      <td>0.116750</td>\n",
       "      <td>0.776750</td>\n",
       "      <td>0.106500</td>\n",
       "      <td>Tasty Fish Chicken &amp; Grill</td>\n",
       "    </tr>\n",
       "    <tr>\n",
       "      <th>9</th>\n",
       "      <td>sDfN5qJlmvrwTfwEPBsxSg</td>\n",
       "      <td>0.000000</td>\n",
       "      <td>0.0</td>\n",
       "      <td>1.000000</td>\n",
       "      <td>0.000000</td>\n",
       "      <td>0.300300</td>\n",
       "      <td>0.293000</td>\n",
       "      <td>0.707000</td>\n",
       "      <td>0.000000</td>\n",
       "      <td>Dairy Queen</td>\n",
       "    </tr>\n",
       "    <tr>\n",
       "      <th>10</th>\n",
       "      <td>Hc5NrzzzL8RAnbcrIAvZug</td>\n",
       "      <td>0.000000</td>\n",
       "      <td>0.0</td>\n",
       "      <td>3.000000</td>\n",
       "      <td>0.000000</td>\n",
       "      <td>1.931200</td>\n",
       "      <td>0.000000</td>\n",
       "      <td>0.759000</td>\n",
       "      <td>0.241000</td>\n",
       "      <td>Nanjing Bistro</td>\n",
       "    </tr>\n",
       "    <tr>\n",
       "      <th>11</th>\n",
       "      <td>hjo4IYguwprIJ16A8lV75A</td>\n",
       "      <td>1.000000</td>\n",
       "      <td>0.0</td>\n",
       "      <td>1.000000</td>\n",
       "      <td>0.000000</td>\n",
       "      <td>0.217500</td>\n",
       "      <td>0.329000</td>\n",
       "      <td>0.671000</td>\n",
       "      <td>0.000000</td>\n",
       "      <td>Domino's Pizza</td>\n",
       "    </tr>\n",
       "    <tr>\n",
       "      <th>12</th>\n",
       "      <td>W7KtVjq4R_5F5EwbCBENQw</td>\n",
       "      <td>0.000000</td>\n",
       "      <td>0.0</td>\n",
       "      <td>5.000000</td>\n",
       "      <td>1.500000</td>\n",
       "      <td>1.928450</td>\n",
       "      <td>0.000000</td>\n",
       "      <td>0.675500</td>\n",
       "      <td>0.324500</td>\n",
       "      <td>Golden Kitchen</td>\n",
       "    </tr>\n",
       "    <tr>\n",
       "      <th>13</th>\n",
       "      <td>21UO0mP1EgEDZyFUFFI9Mg</td>\n",
       "      <td>0.000000</td>\n",
       "      <td>0.0</td>\n",
       "      <td>4.000000</td>\n",
       "      <td>0.000000</td>\n",
       "      <td>1.875633</td>\n",
       "      <td>0.000000</td>\n",
       "      <td>0.656333</td>\n",
       "      <td>0.343667</td>\n",
       "      <td>The Wild Hare</td>\n",
       "    </tr>\n",
       "    <tr>\n",
       "      <th>14</th>\n",
       "      <td>gWZOW4-8N5dLixQAlp8iRg</td>\n",
       "      <td>0.000000</td>\n",
       "      <td>0.0</td>\n",
       "      <td>2.000000</td>\n",
       "      <td>0.000000</td>\n",
       "      <td>0.891733</td>\n",
       "      <td>0.070667</td>\n",
       "      <td>0.851667</td>\n",
       "      <td>0.077667</td>\n",
       "      <td>Manzellas Italian Restaurant</td>\n",
       "    </tr>\n",
       "    <tr>\n",
       "      <th>15</th>\n",
       "      <td>tkbRjBlZm7ngEVSu22n0vg</td>\n",
       "      <td>0.500000</td>\n",
       "      <td>0.0</td>\n",
       "      <td>5.000000</td>\n",
       "      <td>0.000000</td>\n",
       "      <td>1.914800</td>\n",
       "      <td>0.021500</td>\n",
       "      <td>0.626000</td>\n",
       "      <td>0.352500</td>\n",
       "      <td>Jimmy John's</td>\n",
       "    </tr>\n",
       "  </tbody>\n",
       "</table>\n",
       "</div>"
      ],
      "text/plain": [
       "               business_id      cool  funny     stars    useful  compound  \\\n",
       "0   DLhAuWok29OU8VR-DBxP7A  1.000000    0.0  5.000000  0.000000  1.921700   \n",
       "1   N9osJe0lQOdnd3xLUkJVMw  0.500000    0.0  5.000000  0.000000  1.948100   \n",
       "2   fsBAaw7xwHWB78HRSWwQEQ  0.000000    0.0  5.000000  0.000000  1.970700   \n",
       "3   hH7qhup_bGKr9r27RpHJPw  0.000000    0.0  1.000000  0.666667  0.798367   \n",
       "4   ZvSy8yaly9Aeh64Qm4Dsfw  1.100000    0.9  3.400000  2.300000  1.382270   \n",
       "5   IFlSq9YWXHZyLnuh0EffKQ  0.666667    0.0  4.666667  0.666667  1.940767   \n",
       "6   ks6JgGsz7phkGEVh9hoHkg  0.000000    0.0  2.333333  0.000000  0.827967   \n",
       "7   AW_d5hMf7sI6yHrz4Ujv8w  1.000000    0.5  3.500000  1.500000  1.901750   \n",
       "8   62Ibju8UmUZtPIBLDS_nUw  0.000000    0.0  1.750000  0.250000  0.990875   \n",
       "9   sDfN5qJlmvrwTfwEPBsxSg  0.000000    0.0  1.000000  0.000000  0.300300   \n",
       "10  Hc5NrzzzL8RAnbcrIAvZug  0.000000    0.0  3.000000  0.000000  1.931200   \n",
       "11  hjo4IYguwprIJ16A8lV75A  1.000000    0.0  1.000000  0.000000  0.217500   \n",
       "12  W7KtVjq4R_5F5EwbCBENQw  0.000000    0.0  5.000000  1.500000  1.928450   \n",
       "13  21UO0mP1EgEDZyFUFFI9Mg  0.000000    0.0  4.000000  0.000000  1.875633   \n",
       "14  gWZOW4-8N5dLixQAlp8iRg  0.000000    0.0  2.000000  0.000000  0.891733   \n",
       "15  tkbRjBlZm7ngEVSu22n0vg  0.500000    0.0  5.000000  0.000000  1.914800   \n",
       "\n",
       "    negative   neutral  positive                          name  \n",
       "0   0.000000  0.694000  0.306000                Monicals Pizza  \n",
       "1   0.000000  0.699000  0.301000                        Subway  \n",
       "2   0.000000  0.660000  0.340000                 The Spice Box  \n",
       "3   0.069000  0.906000  0.024667                     Taco Bell  \n",
       "4   0.080200  0.751200  0.168700              Red Cape Hot Pot  \n",
       "5   0.023000  0.721000  0.256333        Main Street Belly Deli  \n",
       "6   0.093000  0.840000  0.067000          Little Caesars Pizza  \n",
       "7   0.035000  0.809000  0.156500                     Casa Real  \n",
       "8   0.116750  0.776750  0.106500    Tasty Fish Chicken & Grill  \n",
       "9   0.293000  0.707000  0.000000                   Dairy Queen  \n",
       "10  0.000000  0.759000  0.241000                Nanjing Bistro  \n",
       "11  0.329000  0.671000  0.000000                Domino's Pizza  \n",
       "12  0.000000  0.675500  0.324500                Golden Kitchen  \n",
       "13  0.000000  0.656333  0.343667                 The Wild Hare  \n",
       "14  0.070667  0.851667  0.077667  Manzellas Italian Restaurant  \n",
       "15  0.021500  0.626000  0.352500                  Jimmy John's  "
      ]
     },
     "execution_count": 67,
     "metadata": {},
     "output_type": "execute_result"
    }
   ],
   "source": [
    "bottom10_scores"
   ]
  },
  {
   "cell_type": "code",
   "execution_count": 68,
   "metadata": {},
   "outputs": [],
   "source": [
    "top10_scores.to_csv('data/yelp_top_scores.csv', index=False)\n",
    "bottom10_scores.to_csv('data/yelp_bottom_scores.csv', index=False)"
   ]
  },
  {
   "cell_type": "markdown",
   "metadata": {},
   "source": [
    "### What are the top 10 Cuisine types (Mexican, American, Thai, etc) based on the number of restaurants and number of check ins"
   ]
  },
  {
   "cell_type": "code",
   "execution_count": 69,
   "metadata": {},
   "outputs": [],
   "source": [
    "restaurants = yelp[yelp['categories'].str.contains('Restaurants', na=False)]"
   ]
  },
  {
   "cell_type": "code",
   "execution_count": 70,
   "metadata": {},
   "outputs": [],
   "source": [
    "pd.options.mode.chained_assignment = None  # default='warn'\n",
    "restaurants['categories'] = restaurants['categories'].apply(lambda x: x.split(', '))"
   ]
  },
  {
   "cell_type": "code",
   "execution_count": 71,
   "metadata": {},
   "outputs": [],
   "source": [
    "restaurants = restaurants.join(pd.get_dummies(pd.DataFrame(restaurants['categories'].tolist()).stack()).astype(int).sum(level=0))"
   ]
  },
  {
   "cell_type": "code",
   "execution_count": 72,
   "metadata": {},
   "outputs": [],
   "source": [
    "columns = [item for item in restaurants.columns.tolist() if item not in yelp.columns.tolist()]\n",
    "columns.remove('Restaurants')"
   ]
  },
  {
   "cell_type": "code",
   "execution_count": 73,
   "metadata": {
    "scrolled": false
   },
   "outputs": [
    {
     "data": {
      "text/plain": [
       "Food                         3607.0\n",
       "Nightlife                    2399.0\n",
       "Bars                         2313.0\n",
       "Sandwiches                   2166.0\n",
       "Pizza                        2139.0\n",
       "Fast Food                    2089.0\n",
       "American (Traditional)       2083.0\n",
       "Breakfast & Brunch           1566.0\n",
       "Burgers                      1558.0\n",
       "Italian                      1384.0\n",
       "Mexican                      1335.0\n",
       "American (New)               1308.0\n",
       "Chinese                      1265.0\n",
       "Coffee & Tea                  992.0\n",
       "Cafes                         955.0\n",
       "Chicken Wings                 809.0\n",
       "Japanese                      794.0\n",
       "Salad                         736.0\n",
       "Seafood                       714.0\n",
       "Event Planning & Services     655.0\n",
       "Sushi Bars                    641.0\n",
       "Canadian (New)                614.0\n",
       "Delis                         591.0\n",
       "Mediterranean                 530.0\n",
       "Barbeque                      526.0\n",
       "Asian Fusion                  519.0\n",
       "Steakhouses                   517.0\n",
       "Specialty Food                504.0\n",
       "Sports Bars                   490.0\n",
       "Bakeries                      459.0\n",
       "Caterers                      455.0\n",
       "Thai                          441.0\n",
       "Pubs                          438.0\n",
       "Diners                        428.0\n",
       "Desserts                      426.0\n",
       "Indian                        419.0\n",
       "Vietnamese                    368.0\n",
       "Middle Eastern                362.0\n",
       "Vegetarian                    324.0\n",
       "French                        318.0\n",
       "Greek                         311.0\n",
       "Wine Bars                     281.0\n",
       "Cocktail Bars                 271.0\n",
       "Korean                        266.0\n",
       "Comfort Food                  259.0\n",
       "Soup                          258.0\n",
       "Buffets                       258.0\n",
       "Beer                          255.0\n",
       "Wine & Spirits                255.0\n",
       "Juice Bars & Smoothies        244.0\n",
       "dtype: float64"
      ]
     },
     "execution_count": 73,
     "metadata": {},
     "output_type": "execute_result"
    }
   ],
   "source": [
    "num_restaurants = restaurants[columns].sum(numeric_only=True).sort_values(ascending=False)\n",
    "num_restaurants.head(50)"
   ]
  },
  {
   "cell_type": "code",
   "execution_count": 74,
   "metadata": {},
   "outputs": [],
   "source": [
    "checkin_dict ={}\n",
    "for item in columns:\n",
    "    cnt = restaurants[restaurants[item] == 1].groupby([item])['checkins'].sum()\n",
    "    if cnt.empty:\n",
    "        checkin_dict[item] = 0\n",
    "    else:\n",
    "        checkin_dict[item] = restaurants[restaurants[item] == 1].groupby([item])['checkins'].sum().values[0]"
   ]
  },
  {
   "cell_type": "code",
   "execution_count": 75,
   "metadata": {},
   "outputs": [],
   "source": [
    "checkin_dict = pd.Series(checkin_dict).sort_values(ascending=False)"
   ]
  },
  {
   "cell_type": "code",
   "execution_count": 76,
   "metadata": {
    "scrolled": false
   },
   "outputs": [
    {
     "data": {
      "text/plain": [
       "Food                         586066.0\n",
       "Nightlife                    425034.0\n",
       "Bars                         412979.0\n",
       "Sandwiches                   340887.0\n",
       "Pizza                        324931.0\n",
       "Fast Food                    323460.0\n",
       "American (Traditional)       301669.0\n",
       "Breakfast & Brunch           240952.0\n",
       "Mexican                      234984.0\n",
       "Burgers                      232747.0\n",
       "Chinese                      199874.0\n",
       "Italian                      194569.0\n",
       "American (New)               192660.0\n",
       "Coffee & Tea                 155729.0\n",
       "Chicken Wings                139867.0\n",
       "Japanese                     130470.0\n",
       "Cafes                        129573.0\n",
       "Event Planning & Services    120586.0\n",
       "Salad                        115175.0\n",
       "Thai                         115110.0\n",
       "dtype: float64"
      ]
     },
     "execution_count": 76,
     "metadata": {},
     "output_type": "execute_result"
    }
   ],
   "source": [
    "checkin_dict.head(20)"
   ]
  },
  {
   "cell_type": "code",
   "execution_count": 77,
   "metadata": {},
   "outputs": [
    {
     "name": "stdout",
     "output_type": "stream",
     "text": [
      "Food\n",
      "Nightlife\n",
      "Bars\n",
      "Sandwiches\n",
      "Pizza\n",
      "Fast Food\n",
      "American (Traditional)\n",
      "Breakfast & Brunch\n",
      "Mexican\n",
      "Burgers\n",
      "Chinese\n",
      "Italian\n",
      "American (New)\n",
      "Coffee & Tea\n",
      "Chicken Wings\n",
      "Japanese\n",
      "Cafes\n",
      "Event Planning & Services\n",
      "Salad\n",
      "Thai\n",
      "Seafood\n",
      "Specialty Food\n",
      "Canadian (New)\n",
      "Sports Bars\n",
      "Sushi Bars\n",
      "Caterers\n",
      "Steakhouses\n",
      "Pubs\n",
      "Barbeque\n",
      "Delis\n",
      "Desserts\n",
      "Mediterranean\n",
      "Asian Fusion\n",
      "Bakeries\n",
      "Indian\n",
      "Beer\n",
      "Wine & Spirits\n",
      "Diners\n",
      "Buffets\n",
      "Korean\n",
      "Lounges\n",
      "Greek\n",
      "Wine Bars\n",
      "Cocktail Bars\n",
      "Vegetarian\n",
      "Middle Eastern\n",
      "Gluten-Free\n",
      "Vietnamese\n",
      "Soup\n",
      "French\n"
     ]
    }
   ],
   "source": [
    "for item in checkin_dict.keys()[:50]:\n",
    "    print(item)"
   ]
  },
  {
   "cell_type": "code",
   "execution_count": 78,
   "metadata": {},
   "outputs": [],
   "source": [
    "pd.DataFrame(checkin_dict).to_csv('data/yelp_cuisine_checkin.csv')\n",
    "pd.DataFrame(num_restaurants).to_csv('data/yelp_cuisine_restaurants.csv')"
   ]
  },
  {
   "cell_type": "markdown",
   "metadata": {},
   "source": [
    "### What are the most popular keywords or adjectives that reviewers use for the above list of cuisines (calculated in step 8)"
   ]
  },
  {
   "cell_type": "code",
   "execution_count": 79,
   "metadata": {},
   "outputs": [
    {
     "name": "stderr",
     "output_type": "stream",
     "text": [
      "/anaconda3/lib/python3.6/site-packages/ipykernel_launcher.py:6: UserWarning: This pattern has match groups. To actually get the groups, use str.extract.\n",
      "  \n"
     ]
    }
   ],
   "source": [
    "cuisine_list = ['American (Traditional)', 'Mexican', 'Chinese', 'Italian', 'American (New)',\n",
    "               'Japanese', 'Thai', 'Mediterranean', 'Asian Fusion', 'Indian', 'Korean',\n",
    "                'Greek', 'Middle Eastern', 'Vietnamese', 'French', 'Tex-Mex', 'Caribbean']\n",
    "cuisines = pd.DataFrame()\n",
    "for cuisine in cuisine_list:\n",
    "    businesses = yelp[yelp['categories'].str.contains(cuisine, na=False)]['business_id'].tolist()\n",
    "    temp = review[review['business_id'].isin(businesses)]\n",
    "    temp['cuisine'] = cuisine\n",
    "    cuisines = pd.concat([cuisines, temp], ignore_index=True)"
   ]
  },
  {
   "cell_type": "code",
   "execution_count": 80,
   "metadata": {},
   "outputs": [
    {
     "data": {
      "text/html": [
       "<div>\n",
       "<style scoped>\n",
       "    .dataframe tbody tr th:only-of-type {\n",
       "        vertical-align: middle;\n",
       "    }\n",
       "\n",
       "    .dataframe tbody tr th {\n",
       "        vertical-align: top;\n",
       "    }\n",
       "\n",
       "    .dataframe thead th {\n",
       "        text-align: right;\n",
       "    }\n",
       "</style>\n",
       "<table border=\"1\" class=\"dataframe\">\n",
       "  <thead>\n",
       "    <tr style=\"text-align: right;\">\n",
       "      <th></th>\n",
       "      <th>business_id</th>\n",
       "      <th>cool</th>\n",
       "      <th>date</th>\n",
       "      <th>funny</th>\n",
       "      <th>review_id</th>\n",
       "      <th>stars</th>\n",
       "      <th>text</th>\n",
       "      <th>useful</th>\n",
       "      <th>user_id</th>\n",
       "      <th>cuisine</th>\n",
       "    </tr>\n",
       "  </thead>\n",
       "  <tbody>\n",
       "    <tr>\n",
       "      <th>0</th>\n",
       "      <td>gZGsReG0VeX4uKViHTB9EQ</td>\n",
       "      <td>0</td>\n",
       "      <td>2017-08-16</td>\n",
       "      <td>0.0</td>\n",
       "      <td>51RHs_V_fjuistnuKxNpEg</td>\n",
       "      <td>5.0</td>\n",
       "      <td>Finally! After trying many Mexican restaurants...</td>\n",
       "      <td>0.0</td>\n",
       "      <td>5ngpW5tf3ep680eG1HxHzA</td>\n",
       "      <td>Mexican</td>\n",
       "    </tr>\n",
       "    <tr>\n",
       "      <th>1</th>\n",
       "      <td>yz66FIUPDKGhILDWzRLeKg</td>\n",
       "      <td>0</td>\n",
       "      <td>2017-11-18</td>\n",
       "      <td>0.0</td>\n",
       "      <td>85DRIjwPJOTb4q0qOlBstw</td>\n",
       "      <td>1.0</td>\n",
       "      <td>I wish i could tell you all about the food but...</td>\n",
       "      <td>1.0</td>\n",
       "      <td>Fc_nb6N6Sdurqb-rwsY1Bw</td>\n",
       "      <td>Mexican</td>\n",
       "    </tr>\n",
       "    <tr>\n",
       "      <th>2</th>\n",
       "      <td>vvHr2uKKIhfxVk-fYDmX9Q</td>\n",
       "      <td>0</td>\n",
       "      <td>2017-04-01</td>\n",
       "      <td>0.0</td>\n",
       "      <td>_5rlmreTSW0FVHvdJluRyg</td>\n",
       "      <td>1.0</td>\n",
       "      <td>This Del Taco is just sad. We have been here t...</td>\n",
       "      <td>1.0</td>\n",
       "      <td>GrgjO23ba8soKwyW6BECuw</td>\n",
       "      <td>Mexican</td>\n",
       "    </tr>\n",
       "    <tr>\n",
       "      <th>3</th>\n",
       "      <td>VH2BjFjc9usDquDgoHhptA</td>\n",
       "      <td>0</td>\n",
       "      <td>2017-12-05</td>\n",
       "      <td>0.0</td>\n",
       "      <td>TSqSiHfqtBigBa6ia59K7w</td>\n",
       "      <td>5.0</td>\n",
       "      <td>Amazing tacos! A must try if you're in the are...</td>\n",
       "      <td>0.0</td>\n",
       "      <td>SZHWhyG7WxJZdGp6fBVlRg</td>\n",
       "      <td>Mexican</td>\n",
       "    </tr>\n",
       "    <tr>\n",
       "      <th>4</th>\n",
       "      <td>YBb-sAYuFv86MGfwQP5Ojg</td>\n",
       "      <td>0</td>\n",
       "      <td>2017-03-19</td>\n",
       "      <td>0.0</td>\n",
       "      <td>qv65IQbhyJT9MeJHTv6hNQ</td>\n",
       "      <td>4.0</td>\n",
       "      <td>Best margaritas around! The food is all a la c...</td>\n",
       "      <td>0.0</td>\n",
       "      <td>1ryvfb9F6hYoCZZZaqeCOA</td>\n",
       "      <td>Mexican</td>\n",
       "    </tr>\n",
       "  </tbody>\n",
       "</table>\n",
       "</div>"
      ],
      "text/plain": [
       "              business_id  cool        date  funny               review_id  \\\n",
       "0  gZGsReG0VeX4uKViHTB9EQ     0  2017-08-16    0.0  51RHs_V_fjuistnuKxNpEg   \n",
       "1  yz66FIUPDKGhILDWzRLeKg     0  2017-11-18    0.0  85DRIjwPJOTb4q0qOlBstw   \n",
       "2  vvHr2uKKIhfxVk-fYDmX9Q     0  2017-04-01    0.0  _5rlmreTSW0FVHvdJluRyg   \n",
       "3  VH2BjFjc9usDquDgoHhptA     0  2017-12-05    0.0  TSqSiHfqtBigBa6ia59K7w   \n",
       "4  YBb-sAYuFv86MGfwQP5Ojg     0  2017-03-19    0.0  qv65IQbhyJT9MeJHTv6hNQ   \n",
       "\n",
       "   stars                                               text  useful  \\\n",
       "0    5.0  Finally! After trying many Mexican restaurants...     0.0   \n",
       "1    1.0  I wish i could tell you all about the food but...     1.0   \n",
       "2    1.0  This Del Taco is just sad. We have been here t...     1.0   \n",
       "3    5.0  Amazing tacos! A must try if you're in the are...     0.0   \n",
       "4    4.0  Best margaritas around! The food is all a la c...     0.0   \n",
       "\n",
       "                  user_id  cuisine  \n",
       "0  5ngpW5tf3ep680eG1HxHzA  Mexican  \n",
       "1  Fc_nb6N6Sdurqb-rwsY1Bw  Mexican  \n",
       "2  GrgjO23ba8soKwyW6BECuw  Mexican  \n",
       "3  SZHWhyG7WxJZdGp6fBVlRg  Mexican  \n",
       "4  1ryvfb9F6hYoCZZZaqeCOA  Mexican  "
      ]
     },
     "execution_count": 80,
     "metadata": {},
     "output_type": "execute_result"
    }
   ],
   "source": [
    "cuisines.head()"
   ]
  },
  {
   "cell_type": "code",
   "execution_count": 81,
   "metadata": {},
   "outputs": [],
   "source": [
    "import spacy\n",
    "from collections import Counter\n",
    "\n",
    "nlp = spacy.load('en')\n",
    "\n",
    "nlp.max_length = 1500000"
   ]
  },
  {
   "cell_type": "code",
   "execution_count": 82,
   "metadata": {
    "scrolled": false
   },
   "outputs": [
    {
     "name": "stdout",
     "output_type": "stream",
     "text": [
      "\n",
      "American (Traditional)\n",
      "  chunk 1 of 1\n",
      "\n",
      "Mexican\n",
      "  chunk 1 of 34\n",
      "  chunk 2 of 34\n",
      "  chunk 3 of 34\n",
      "  chunk 4 of 34\n",
      "  chunk 5 of 34\n",
      "  chunk 6 of 34\n",
      "  chunk 7 of 34\n",
      "  chunk 8 of 34\n",
      "  chunk 9 of 34\n",
      "  chunk 10 of 34\n",
      "  chunk 11 of 34\n",
      "  chunk 12 of 34\n",
      "  chunk 13 of 34\n",
      "  chunk 14 of 34\n",
      "  chunk 15 of 34\n",
      "  chunk 16 of 34\n",
      "  chunk 17 of 34\n",
      "  chunk 18 of 34\n",
      "  chunk 19 of 34\n",
      "  chunk 20 of 34\n",
      "  chunk 21 of 34\n",
      "  chunk 22 of 34\n",
      "  chunk 23 of 34\n",
      "  chunk 24 of 34\n",
      "  chunk 25 of 34\n",
      "  chunk 26 of 34\n",
      "  chunk 27 of 34\n",
      "  chunk 28 of 34\n",
      "  chunk 29 of 34\n",
      "  chunk 30 of 34\n",
      "  chunk 31 of 34\n",
      "  chunk 32 of 34\n",
      "  chunk 33 of 34\n",
      "  chunk 34 of 34\n",
      "\n",
      "Chinese\n",
      "  chunk 1 of 24\n",
      "  chunk 2 of 24\n",
      "  chunk 3 of 24\n",
      "  chunk 4 of 24\n",
      "  chunk 5 of 24\n",
      "  chunk 6 of 24\n",
      "  chunk 7 of 24\n",
      "  chunk 8 of 24\n",
      "  chunk 9 of 24\n",
      "  chunk 10 of 24\n",
      "  chunk 11 of 24\n",
      "  chunk 12 of 24\n",
      "  chunk 13 of 24\n",
      "  chunk 14 of 24\n",
      "  chunk 15 of 24\n",
      "  chunk 16 of 24\n",
      "  chunk 17 of 24\n",
      "  chunk 18 of 24\n",
      "  chunk 19 of 24\n",
      "  chunk 20 of 24\n",
      "  chunk 21 of 24\n",
      "  chunk 22 of 24\n",
      "  chunk 23 of 24\n",
      "  chunk 24 of 24\n",
      "\n",
      "Italian\n",
      "  chunk 1 of 33\n",
      "  chunk 2 of 33\n",
      "  chunk 3 of 33\n",
      "  chunk 4 of 33\n",
      "  chunk 5 of 33\n",
      "  chunk 6 of 33\n",
      "  chunk 7 of 33\n",
      "  chunk 8 of 33\n",
      "  chunk 9 of 33\n",
      "  chunk 10 of 33\n",
      "  chunk 11 of 33\n",
      "  chunk 12 of 33\n",
      "  chunk 13 of 33\n",
      "  chunk 14 of 33\n",
      "  chunk 15 of 33\n",
      "  chunk 16 of 33\n",
      "  chunk 17 of 33\n",
      "  chunk 18 of 33\n",
      "  chunk 19 of 33\n",
      "  chunk 20 of 33\n",
      "  chunk 21 of 33\n",
      "  chunk 22 of 33\n",
      "  chunk 23 of 33\n",
      "  chunk 24 of 33\n",
      "  chunk 25 of 33\n",
      "  chunk 26 of 33\n",
      "  chunk 27 of 33\n",
      "  chunk 28 of 33\n",
      "  chunk 29 of 33\n",
      "  chunk 30 of 33\n",
      "  chunk 31 of 33\n",
      "  chunk 32 of 33\n",
      "  chunk 33 of 33\n",
      "\n",
      "American (New)\n",
      "  chunk 1 of 1\n",
      "\n",
      "Japanese\n",
      "  chunk 1 of 30\n",
      "  chunk 2 of 30\n",
      "  chunk 3 of 30\n",
      "  chunk 4 of 30\n",
      "  chunk 5 of 30\n",
      "  chunk 6 of 30\n",
      "  chunk 7 of 30\n",
      "  chunk 8 of 30\n",
      "  chunk 9 of 30\n",
      "  chunk 10 of 30\n",
      "  chunk 11 of 30\n",
      "  chunk 12 of 30\n",
      "  chunk 13 of 30\n",
      "  chunk 14 of 30\n",
      "  chunk 15 of 30\n",
      "  chunk 16 of 30\n",
      "  chunk 17 of 30\n",
      "  chunk 18 of 30\n",
      "  chunk 19 of 30\n",
      "  chunk 20 of 30\n",
      "  chunk 21 of 30\n",
      "  chunk 22 of 30\n",
      "  chunk 23 of 30\n",
      "  chunk 24 of 30\n",
      "  chunk 25 of 30\n",
      "  chunk 26 of 30\n",
      "  chunk 27 of 30\n",
      "  chunk 28 of 30\n",
      "  chunk 29 of 30\n",
      "  chunk 30 of 30\n",
      "\n",
      "Thai\n",
      "  chunk 1 of 11\n",
      "  chunk 2 of 11\n",
      "  chunk 3 of 11\n",
      "  chunk 4 of 11\n",
      "  chunk 5 of 11\n",
      "  chunk 6 of 11\n",
      "  chunk 7 of 11\n",
      "  chunk 8 of 11\n",
      "  chunk 9 of 11\n",
      "  chunk 10 of 11\n",
      "  chunk 11 of 11\n",
      "\n",
      "Mediterranean\n",
      "  chunk 1 of 12\n",
      "  chunk 2 of 12\n",
      "  chunk 3 of 12\n",
      "  chunk 4 of 12\n",
      "  chunk 5 of 12\n",
      "  chunk 6 of 12\n",
      "  chunk 7 of 12\n",
      "  chunk 8 of 12\n",
      "  chunk 9 of 12\n",
      "  chunk 10 of 12\n",
      "  chunk 11 of 12\n",
      "  chunk 12 of 12\n",
      "\n",
      "Asian Fusion\n",
      "  chunk 1 of 23\n",
      "  chunk 2 of 23\n",
      "  chunk 3 of 23\n",
      "  chunk 4 of 23\n",
      "  chunk 5 of 23\n",
      "  chunk 6 of 23\n",
      "  chunk 7 of 23\n",
      "  chunk 8 of 23\n",
      "  chunk 9 of 23\n",
      "  chunk 10 of 23\n",
      "  chunk 11 of 23\n",
      "  chunk 12 of 23\n",
      "  chunk 13 of 23\n",
      "  chunk 14 of 23\n",
      "  chunk 15 of 23\n",
      "  chunk 16 of 23\n",
      "  chunk 17 of 23\n",
      "  chunk 18 of 23\n",
      "  chunk 19 of 23\n",
      "  chunk 20 of 23\n",
      "  chunk 21 of 23\n",
      "  chunk 22 of 23\n",
      "  chunk 23 of 23\n",
      "\n",
      "Indian\n",
      "  chunk 1 of 7\n",
      "  chunk 2 of 7\n",
      "  chunk 3 of 7\n",
      "  chunk 4 of 7\n",
      "  chunk 5 of 7\n",
      "  chunk 6 of 7\n",
      "  chunk 7 of 7\n",
      "\n",
      "Korean\n",
      "  chunk 1 of 11\n",
      "  chunk 2 of 11\n",
      "  chunk 3 of 11\n",
      "  chunk 4 of 11\n",
      "  chunk 5 of 11\n",
      "  chunk 6 of 11\n",
      "  chunk 7 of 11\n",
      "  chunk 8 of 11\n",
      "  chunk 9 of 11\n",
      "  chunk 10 of 11\n",
      "  chunk 11 of 11\n",
      "\n",
      "Greek\n",
      "  chunk 1 of 5\n",
      "  chunk 2 of 5\n",
      "  chunk 3 of 5\n",
      "  chunk 4 of 5\n",
      "  chunk 5 of 5\n",
      "\n",
      "Middle Eastern\n",
      "  chunk 1 of 6\n",
      "  chunk 2 of 6\n",
      "  chunk 3 of 6\n",
      "  chunk 4 of 6\n",
      "  chunk 5 of 6\n",
      "  chunk 6 of 6\n",
      "\n",
      "Vietnamese\n",
      "  chunk 1 of 8\n",
      "  chunk 2 of 8\n",
      "  chunk 3 of 8\n",
      "  chunk 4 of 8\n",
      "  chunk 5 of 8\n",
      "  chunk 6 of 8\n",
      "  chunk 7 of 8\n",
      "  chunk 8 of 8\n",
      "\n",
      "French\n",
      "  chunk 1 of 9\n",
      "  chunk 2 of 9\n",
      "  chunk 3 of 9\n",
      "  chunk 4 of 9\n",
      "  chunk 5 of 9\n",
      "  chunk 6 of 9\n",
      "  chunk 7 of 9\n",
      "  chunk 8 of 9\n",
      "  chunk 9 of 9\n",
      "\n",
      "Tex-Mex\n",
      "  chunk 1 of 5\n",
      "  chunk 2 of 5\n",
      "  chunk 3 of 5\n",
      "  chunk 4 of 5\n",
      "  chunk 5 of 5\n",
      "\n",
      "Caribbean\n",
      "  chunk 1 of 3\n",
      "  chunk 2 of 3\n",
      "  chunk 3 of 3\n"
     ]
    }
   ],
   "source": [
    "cuisine_docs = {}\n",
    "\n",
    "for cuisine in cuisine_list:\n",
    "    print()\n",
    "    print(cuisine)\n",
    "    text = cuisines[cuisines['cuisine'] == cuisine]['text'].str.cat(sep=' ')\n",
    "    chunk_size = 1000000\n",
    "    num_chunks = len(text) // chunk_size + 1\n",
    "    \n",
    "    words = []\n",
    "    adj = []\n",
    "    \n",
    "    for chunk in range(num_chunks):\n",
    "        print('  chunk', chunk + 1, 'of', num_chunks)\n",
    "        chunk_start = chunk_size * (chunk - 1)\n",
    "        chunk_end = chunk_size * chunk\n",
    "        chunk_text = text[chunk_start: chunk_end]\n",
    "    \n",
    "        doc = nlp(chunk_text)\n",
    "        # all tokens that arent stop words or punctuations\n",
    "        words.extend([token.text for token in doc if\n",
    "                      token.is_stop !=True and token.is_punct != True])\n",
    "\n",
    "        # adjective tokens that arent stop words or punctuations\n",
    "        adj.extend([token.text for token in doc if\n",
    "                    token.is_stop != True and\n",
    "                    token.is_punct != True and token.pos_ == \"ADJ\"])\n",
    "\n",
    "    # 200 most common tokens\n",
    "    word_freq = Counter(words)\n",
    "    common_words = word_freq.most_common(200)\n",
    "\n",
    "    # five most common adjective tokens\n",
    "    adj_freq = Counter(adj)\n",
    "    common_adj = adj_freq.most_common(200)\n",
    "    \n",
    "    cuisine_docs[cuisine] = {'words': words,\n",
    "                               'adj': adj,\n",
    "                               'common_words': common_words,\n",
    "                               'common_adj': common_adj}"
   ]
  },
  {
   "cell_type": "code",
   "execution_count": 83,
   "metadata": {},
   "outputs": [],
   "source": [
    "for cuisine in cuisine_docs.keys():\n",
    "    with open('data/yelp_cuisine_' + cuisine + '.json', 'w') as fp:\n",
    "        json.dump(cuisine_docs[cuisine], fp)"
   ]
  },
  {
   "cell_type": "code",
   "execution_count": 84,
   "metadata": {},
   "outputs": [],
   "source": [
    "cuisine_adj = pd.DataFrame()\n",
    "\n",
    "for cuisine in cuisine_docs.keys():\n",
    "    if len(cuisine_docs[cuisine]['adj']) > 0:\n",
    "        temp = pd.DataFrame({'adj': cuisine_docs[cuisine]['adj'], 'cuisine': cuisine})\n",
    "        cuisine_adj = pd.concat([cuisine_adj, temp], ignore_index=True)"
   ]
  },
  {
   "cell_type": "code",
   "execution_count": 85,
   "metadata": {},
   "outputs": [],
   "source": [
    "adjectives = cuisine_adj['adj'].unique().tolist()"
   ]
  },
  {
   "cell_type": "code",
   "execution_count": 86,
   "metadata": {},
   "outputs": [
    {
     "data": {
      "text/plain": [
       "\"\\nfrom collections import Counter\\nc = Counter(cuisine_adj['adj'])\\nadjectives = list(Counter({k: c for k, c in c.items() if c >= 20}))\\n\""
      ]
     },
     "execution_count": 86,
     "metadata": {},
     "output_type": "execute_result"
    }
   ],
   "source": [
    "'''\n",
    "from collections import Counter\n",
    "c = Counter(cuisine_adj['adj'])\n",
    "adjectives = list(Counter({k: c for k, c in c.items() if c >= 20}))\n",
    "'''"
   ]
  },
  {
   "cell_type": "code",
   "execution_count": 87,
   "metadata": {},
   "outputs": [],
   "source": [
    "cuisine_adj['compound'] = np.nan\n",
    "cuisine_adj['negative'] = np.nan\n",
    "cuisine_adj['neutral'] = np.nan\n",
    "cuisine_adj['positive'] = np.nan"
   ]
  },
  {
   "cell_type": "code",
   "execution_count": 88,
   "metadata": {},
   "outputs": [
    {
     "data": {
      "text/plain": [
       "\"\\nfrom threading import Thread\\nfrom time import sleep\\nfrom queue import Queue\\n\\ndef get_one_result(text, Queue):\\n    sentiment = get_vader_scores(text)\\n    queue.put(sentiment)\\n    \\nthreads = []\\nqueue = Queue()\\ntotal = len(adjectives)\\nthreshold = int(total / 100)\\ncnt = 0\\n\\nfor adjective in adjectives:\\n    t = Thread(target=get_one_result, args=(adjective, queue))\\n    threads.append(t)\\n    t.start()\\n    t.join()\\n    sentiment = queue.get()\\n    cuisine_adj.loc[cuisine_adj['adj'] == adjective, 'compound'] = sentiment['compound']\\n    cuisine_adj.loc[cuisine_adj['adj'] == adjective, 'negative'] = sentiment['neg']\\n    cuisine_adj.loc[cuisine_adj['adj'] == adjective, 'neutral'] = sentiment['neu']\\n    cuisine_adj.loc[cuisine_adj['adj'] == adjective, 'positive'] = sentiment['pos']\\n           \\n    cnt += 1    \\n    print(cnt)\\n    if cnt % 500 == 0:\\n        print('{:.2f}% complete'.format(100* cnt / total))\\n\""
      ]
     },
     "execution_count": 88,
     "metadata": {},
     "output_type": "execute_result"
    }
   ],
   "source": [
    "'''\n",
    "from threading import Thread\n",
    "from time import sleep\n",
    "from queue import Queue\n",
    "\n",
    "def get_one_result(text, Queue):\n",
    "    sentiment = get_vader_scores(text)\n",
    "    queue.put(sentiment)\n",
    "    \n",
    "threads = []\n",
    "queue = Queue()\n",
    "total = len(adjectives)\n",
    "threshold = int(total / 100)\n",
    "cnt = 0\n",
    "\n",
    "for adjective in adjectives:\n",
    "    t = Thread(target=get_one_result, args=(adjective, queue))\n",
    "    threads.append(t)\n",
    "    t.start()\n",
    "    t.join()\n",
    "    sentiment = queue.get()\n",
    "    cuisine_adj.loc[cuisine_adj['adj'] == adjective, 'compound'] = sentiment['compound']\n",
    "    cuisine_adj.loc[cuisine_adj['adj'] == adjective, 'negative'] = sentiment['neg']\n",
    "    cuisine_adj.loc[cuisine_adj['adj'] == adjective, 'neutral'] = sentiment['neu']\n",
    "    cuisine_adj.loc[cuisine_adj['adj'] == adjective, 'positive'] = sentiment['pos']\n",
    "           \n",
    "    cnt += 1    \n",
    "    print(cnt)\n",
    "    if cnt % 500 == 0:\n",
    "        print('{:.2f}% complete'.format(100* cnt / total))\n",
    "'''"
   ]
  },
  {
   "cell_type": "code",
   "execution_count": 89,
   "metadata": {
    "scrolled": false
   },
   "outputs": [
    {
     "name": "stdout",
     "output_type": "stream",
     "text": [
      "1.00% complete\n",
      "1.99% complete\n",
      "2.99% complete\n",
      "3.99% complete\n",
      "4.98% complete\n",
      "5.98% complete\n",
      "6.98% complete\n",
      "7.98% complete\n",
      "8.97% complete\n",
      "9.97% complete\n",
      "10.97% complete\n",
      "11.96% complete\n",
      "12.96% complete\n",
      "13.96% complete\n",
      "14.95% complete\n",
      "15.95% complete\n",
      "16.95% complete\n",
      "17.94% complete\n",
      "18.94% complete\n",
      "19.94% complete\n",
      "20.94% complete\n",
      "21.93% complete\n",
      "22.93% complete\n",
      "23.93% complete\n",
      "24.92% complete\n",
      "25.92% complete\n",
      "26.92% complete\n",
      "27.91% complete\n",
      "28.91% complete\n",
      "29.91% complete\n",
      "30.90% complete\n",
      "31.90% complete\n",
      "32.90% complete\n",
      "33.90% complete\n",
      "34.89% complete\n",
      "35.89% complete\n",
      "36.89% complete\n",
      "37.88% complete\n",
      "38.88% complete\n",
      "39.88% complete\n",
      "40.87% complete\n",
      "41.87% complete\n",
      "42.87% complete\n",
      "43.86% complete\n",
      "44.86% complete\n",
      "45.86% complete\n",
      "46.85% complete\n",
      "47.85% complete\n",
      "48.85% complete\n",
      "49.85% complete\n",
      "50.84% complete\n",
      "51.84% complete\n",
      "52.84% complete\n",
      "53.83% complete\n",
      "54.83% complete\n",
      "55.83% complete\n",
      "56.82% complete\n",
      "57.82% complete\n",
      "58.82% complete\n",
      "59.81% complete\n",
      "60.81% complete\n",
      "61.81% complete\n",
      "62.81% complete\n",
      "63.80% complete\n",
      "64.80% complete\n",
      "65.80% complete\n",
      "66.79% complete\n",
      "67.79% complete\n",
      "68.79% complete\n",
      "69.78% complete\n",
      "70.78% complete\n",
      "71.78% complete\n",
      "72.77% complete\n",
      "73.77% complete\n",
      "74.77% complete\n",
      "75.77% complete\n",
      "76.76% complete\n",
      "77.76% complete\n",
      "78.76% complete\n",
      "79.75% complete\n",
      "80.75% complete\n",
      "81.75% complete\n",
      "82.74% complete\n",
      "83.74% complete\n",
      "84.74% complete\n",
      "85.73% complete\n",
      "86.73% complete\n",
      "87.73% complete\n",
      "88.73% complete\n",
      "89.72% complete\n",
      "90.72% complete\n",
      "91.72% complete\n",
      "92.71% complete\n",
      "93.71% complete\n",
      "94.71% complete\n",
      "95.70% complete\n",
      "96.70% complete\n",
      "97.70% complete\n",
      "98.69% complete\n",
      "99.69% complete\n"
     ]
    }
   ],
   "source": [
    "total = len(adjectives)\n",
    "threshold = int(total / 100)\n",
    "cnt = 0\n",
    "\n",
    "for adjective in adjectives:\n",
    "    sentiment = get_vader_scores(adjective)\n",
    "    cuisine_adj.loc[cuisine_adj['adj'] == adjective, 'compound'] = sentiment['compound']\n",
    "    cuisine_adj.loc[cuisine_adj['adj'] == adjective, 'negative'] = sentiment['neg']\n",
    "    cuisine_adj.loc[cuisine_adj['adj'] == adjective, 'neutral'] = sentiment['neu']\n",
    "    cuisine_adj.loc[cuisine_adj['adj'] == adjective, 'positive'] = sentiment['pos']\n",
    "    \n",
    "    cnt += 1\n",
    "    if cnt % threshold == 0:\n",
    "        print('{:.2f}% complete'.format(100 * cnt / total))"
   ]
  },
  {
   "cell_type": "code",
   "execution_count": 90,
   "metadata": {},
   "outputs": [],
   "source": [
    "cuisine_adj.to_csv('data/yelp_cuisine_adj_sentiment.csv', index=False)"
   ]
  },
  {
   "cell_type": "code",
   "execution_count": 91,
   "metadata": {},
   "outputs": [],
   "source": [
    "cuisine_df = pd.DataFrame()\n",
    "\n",
    "for cuisine in cuisine_docs.keys():\n",
    "    temp = pd.DataFrame({'words': ' '.join(cuisine_docs[cuisine]['words']).replace('\\n', ' ').replace('\\r', ''),\n",
    "                         'adj': ' '.join(cuisine_docs[cuisine]['adj']).replace('\\n', ' ').replace('\\r', ''),\n",
    "                         'common_words': [cuisine_docs[cuisine]['common_words']],\n",
    "                         'common_adj': [cuisine_docs[cuisine]['common_adj']]})\n",
    "    temp['cuisine'] = cuisine\n",
    "    cuisine_df = pd.concat([cuisine_df, temp], ignore_index=True)"
   ]
  },
  {
   "cell_type": "code",
   "execution_count": 92,
   "metadata": {},
   "outputs": [
    {
     "data": {
      "text/html": [
       "<div>\n",
       "<style scoped>\n",
       "    .dataframe tbody tr th:only-of-type {\n",
       "        vertical-align: middle;\n",
       "    }\n",
       "\n",
       "    .dataframe tbody tr th {\n",
       "        vertical-align: top;\n",
       "    }\n",
       "\n",
       "    .dataframe thead th {\n",
       "        text-align: right;\n",
       "    }\n",
       "</style>\n",
       "<table border=\"1\" class=\"dataframe\">\n",
       "  <thead>\n",
       "    <tr style=\"text-align: right;\">\n",
       "      <th></th>\n",
       "      <th>words</th>\n",
       "      <th>adj</th>\n",
       "      <th>common_words</th>\n",
       "      <th>common_adj</th>\n",
       "      <th>cuisine</th>\n",
       "    </tr>\n",
       "  </thead>\n",
       "  <tbody>\n",
       "    <tr>\n",
       "      <th>0</th>\n",
       "      <td></td>\n",
       "      <td></td>\n",
       "      <td>[]</td>\n",
       "      <td>[]</td>\n",
       "      <td>American (Traditional)</td>\n",
       "    </tr>\n",
       "    <tr>\n",
       "      <th>1</th>\n",
       "      <td>Finally After trying Mexican restaurants Phoen...</td>\n",
       "      <td>Mexican authentic Mexican AMAZING Fresh ready ...</td>\n",
       "      <td>[(I, 170290), ( , 66807), (The, 64525), (food,...</td>\n",
       "      <td>[(good, 35021), (great, 23566), (Mexican, 1490...</td>\n",
       "      <td>Mexican</td>\n",
       "    </tr>\n",
       "    <tr>\n",
       "      <th>2</th>\n",
       "      <td>The spicy wonton favorite We ordered round pot...</td>\n",
       "      <td>spicy favorite good better salty okay Great ye...</td>\n",
       "      <td>[(I, 111244), (The, 45001), ( , 42063), (food,...</td>\n",
       "      <td>[(good, 24698), (great, 11356), (Chinese, 1116...</td>\n",
       "      <td>Chinese</td>\n",
       "    </tr>\n",
       "    <tr>\n",
       "      <th>3</th>\n",
       "      <td>Had ruby salad carpaccio salmon ravioli litera...</td>\n",
       "      <td>amazing amazing bad quick cold hot ok busy bes...</td>\n",
       "      <td>[(I, 147247), ( , 71353), (The, 62021), (food,...</td>\n",
       "      <td>[(good, 30445), (great, 23426), (My, 12007), (...</td>\n",
       "      <td>Italian</td>\n",
       "    </tr>\n",
       "    <tr>\n",
       "      <th>4</th>\n",
       "      <td></td>\n",
       "      <td></td>\n",
       "      <td>[]</td>\n",
       "      <td>[]</td>\n",
       "      <td>American (New)</td>\n",
       "    </tr>\n",
       "    <tr>\n",
       "      <th>5</th>\n",
       "      <td>Sansotei serves notch ramen They reservations ...</td>\n",
       "      <td>half normal favorite Our spicy exceptional rig...</td>\n",
       "      <td>[(I, 142615), (The, 58878), ( , 45463), (\\n\\n,...</td>\n",
       "      <td>[(good, 30031), (great, 18401), (fresh, 9945),...</td>\n",
       "      <td>Japanese</td>\n",
       "    </tr>\n",
       "    <tr>\n",
       "      <th>6</th>\n",
       "      <td>I REALLY wanted like place A lot friends menti...</td>\n",
       "      <td>amazing nice great busy amazing yellow generou...</td>\n",
       "      <td>[(I, 52779), (The, 20374), (food, 18759), ( , ...</td>\n",
       "      <td>[(good, 11000), (great, 6321), (delicious, 393...</td>\n",
       "      <td>Thai</td>\n",
       "    </tr>\n",
       "    <tr>\n",
       "      <th>7</th>\n",
       "      <td>This far favorite Mediterranean restaurant Alw...</td>\n",
       "      <td>favorite fresh delightful amazing large primar...</td>\n",
       "      <td>[(I, 56064), (The, 23747), ( , 21145), (food, ...</td>\n",
       "      <td>[(good, 10908), (great, 7978), (delicious, 523...</td>\n",
       "      <td>Mediterranean</td>\n",
       "    </tr>\n",
       "    <tr>\n",
       "      <th>8</th>\n",
       "      <td>The spicy wonton favorite We ordered round pot...</td>\n",
       "      <td>spicy favorite good better salty okay good fri...</td>\n",
       "      <td>[(I, 109313), (The, 44566), ( , 38044), (\\n\\n,...</td>\n",
       "      <td>[(good, 23127), (great, 13914), (delicious, 72...</td>\n",
       "      <td>Asian Fusion</td>\n",
       "    </tr>\n",
       "    <tr>\n",
       "      <th>9</th>\n",
       "      <td>Non existened service   The waiter great liste...</td>\n",
       "      <td>male different Its dreadful worse fast YOUR Ex...</td>\n",
       "      <td>[(I, 28206), (food, 13771), (The, 12647), ( , ...</td>\n",
       "      <td>[(good, 6598), (Indian, 6398), (great, 3456), ...</td>\n",
       "      <td>Indian</td>\n",
       "    </tr>\n",
       "    <tr>\n",
       "      <th>10</th>\n",
       "      <td>Excellent food service friendly servers seriou...</td>\n",
       "      <td>Excellent friendly soft best attentive quick k...</td>\n",
       "      <td>[(I, 45482), (The, 20621), (\\n\\n, 16445), ( , ...</td>\n",
       "      <td>[(good, 10660), (Korean, 8026), (great, 5954),...</td>\n",
       "      <td>Korean</td>\n",
       "    </tr>\n",
       "    <tr>\n",
       "      <th>11</th>\n",
       "      <td>Not happy meal I got Mama Mia gyro meat small ...</td>\n",
       "      <td>happy gyro small small heavy odd Greek greek d...</td>\n",
       "      <td>[(I, 21204), (The, 8716), ( , 8602), (food, 76...</td>\n",
       "      <td>[(good, 4265), (great, 2973), (Greek, 2549), (...</td>\n",
       "      <td>Greek</td>\n",
       "    </tr>\n",
       "    <tr>\n",
       "      <th>12</th>\n",
       "      <td>Posted photos experience wife I yesterday Para...</td>\n",
       "      <td>busy fresh disappointed difficult worst upset ...</td>\n",
       "      <td>[(I, 26061), (The, 10894), (food, 9206), ( , 8...</td>\n",
       "      <td>[(good, 5034), (great, 3257), (delicious, 2505...</td>\n",
       "      <td>Middle Eastern</td>\n",
       "    </tr>\n",
       "    <tr>\n",
       "      <th>13</th>\n",
       "      <td>Food good   Prices Jen 's street meat portions...</td>\n",
       "      <td>good bigger My favourite homemade outstanding ...</td>\n",
       "      <td>[(I, 38374), (The, 14488), ( , 11719), (\\n\\n, ...</td>\n",
       "      <td>[(good, 8228), (great, 4039), (Vietnamese, 328...</td>\n",
       "      <td>Vietnamese</td>\n",
       "    </tr>\n",
       "    <tr>\n",
       "      <th>14</th>\n",
       "      <td>Loved fried goat cheese tomato sauce dogfish 6...</td>\n",
       "      <td>nice excellent new streaky warm cool warm blan...</td>\n",
       "      <td>[(I, 33768), (The, 16550), ( , 15027), (\\n\\n, ...</td>\n",
       "      <td>[(good, 6594), (great, 4937), (delicious, 3310...</td>\n",
       "      <td>French</td>\n",
       "    </tr>\n",
       "    <tr>\n",
       "      <th>15</th>\n",
       "      <td>Let start saying I love Taco Bell worst I 've ...</td>\n",
       "      <td>worst wrong Last spicy burrito sour awful new ...</td>\n",
       "      <td>[(I, 20756), ( , 8051), (The, 7314), (food, 59...</td>\n",
       "      <td>[(good, 3919), (great, 2762), (My, 1413), (nic...</td>\n",
       "      <td>Tex-Mex</td>\n",
       "    </tr>\n",
       "    <tr>\n",
       "      <th>16</th>\n",
       "      <td>First let service fantastic Jason Elsie came c...</td>\n",
       "      <td>fantastic multiple Fabulous closer good amazin...</td>\n",
       "      <td>[(I, 11027), (The, 4384), ( , 3620), (food, 35...</td>\n",
       "      <td>[(good, 2064), (great, 1191), (delicious, 842)...</td>\n",
       "      <td>Caribbean</td>\n",
       "    </tr>\n",
       "  </tbody>\n",
       "</table>\n",
       "</div>"
      ],
      "text/plain": [
       "                                                words  \\\n",
       "0                                                       \n",
       "1   Finally After trying Mexican restaurants Phoen...   \n",
       "2   The spicy wonton favorite We ordered round pot...   \n",
       "3   Had ruby salad carpaccio salmon ravioli litera...   \n",
       "4                                                       \n",
       "5   Sansotei serves notch ramen They reservations ...   \n",
       "6   I REALLY wanted like place A lot friends menti...   \n",
       "7   This far favorite Mediterranean restaurant Alw...   \n",
       "8   The spicy wonton favorite We ordered round pot...   \n",
       "9   Non existened service   The waiter great liste...   \n",
       "10  Excellent food service friendly servers seriou...   \n",
       "11  Not happy meal I got Mama Mia gyro meat small ...   \n",
       "12  Posted photos experience wife I yesterday Para...   \n",
       "13  Food good   Prices Jen 's street meat portions...   \n",
       "14  Loved fried goat cheese tomato sauce dogfish 6...   \n",
       "15  Let start saying I love Taco Bell worst I 've ...   \n",
       "16  First let service fantastic Jason Elsie came c...   \n",
       "\n",
       "                                                  adj  \\\n",
       "0                                                       \n",
       "1   Mexican authentic Mexican AMAZING Fresh ready ...   \n",
       "2   spicy favorite good better salty okay Great ye...   \n",
       "3   amazing amazing bad quick cold hot ok busy bes...   \n",
       "4                                                       \n",
       "5   half normal favorite Our spicy exceptional rig...   \n",
       "6   amazing nice great busy amazing yellow generou...   \n",
       "7   favorite fresh delightful amazing large primar...   \n",
       "8   spicy favorite good better salty okay good fri...   \n",
       "9   male different Its dreadful worse fast YOUR Ex...   \n",
       "10  Excellent friendly soft best attentive quick k...   \n",
       "11  happy gyro small small heavy odd Greek greek d...   \n",
       "12  busy fresh disappointed difficult worst upset ...   \n",
       "13  good bigger My favourite homemade outstanding ...   \n",
       "14  nice excellent new streaky warm cool warm blan...   \n",
       "15  worst wrong Last spicy burrito sour awful new ...   \n",
       "16  fantastic multiple Fabulous closer good amazin...   \n",
       "\n",
       "                                         common_words  \\\n",
       "0                                                  []   \n",
       "1   [(I, 170290), ( , 66807), (The, 64525), (food,...   \n",
       "2   [(I, 111244), (The, 45001), ( , 42063), (food,...   \n",
       "3   [(I, 147247), ( , 71353), (The, 62021), (food,...   \n",
       "4                                                  []   \n",
       "5   [(I, 142615), (The, 58878), ( , 45463), (\\n\\n,...   \n",
       "6   [(I, 52779), (The, 20374), (food, 18759), ( , ...   \n",
       "7   [(I, 56064), (The, 23747), ( , 21145), (food, ...   \n",
       "8   [(I, 109313), (The, 44566), ( , 38044), (\\n\\n,...   \n",
       "9   [(I, 28206), (food, 13771), (The, 12647), ( , ...   \n",
       "10  [(I, 45482), (The, 20621), (\\n\\n, 16445), ( , ...   \n",
       "11  [(I, 21204), (The, 8716), ( , 8602), (food, 76...   \n",
       "12  [(I, 26061), (The, 10894), (food, 9206), ( , 8...   \n",
       "13  [(I, 38374), (The, 14488), ( , 11719), (\\n\\n, ...   \n",
       "14  [(I, 33768), (The, 16550), ( , 15027), (\\n\\n, ...   \n",
       "15  [(I, 20756), ( , 8051), (The, 7314), (food, 59...   \n",
       "16  [(I, 11027), (The, 4384), ( , 3620), (food, 35...   \n",
       "\n",
       "                                           common_adj                 cuisine  \n",
       "0                                                  []  American (Traditional)  \n",
       "1   [(good, 35021), (great, 23566), (Mexican, 1490...                 Mexican  \n",
       "2   [(good, 24698), (great, 11356), (Chinese, 1116...                 Chinese  \n",
       "3   [(good, 30445), (great, 23426), (My, 12007), (...                 Italian  \n",
       "4                                                  []          American (New)  \n",
       "5   [(good, 30031), (great, 18401), (fresh, 9945),...                Japanese  \n",
       "6   [(good, 11000), (great, 6321), (delicious, 393...                    Thai  \n",
       "7   [(good, 10908), (great, 7978), (delicious, 523...           Mediterranean  \n",
       "8   [(good, 23127), (great, 13914), (delicious, 72...            Asian Fusion  \n",
       "9   [(good, 6598), (Indian, 6398), (great, 3456), ...                  Indian  \n",
       "10  [(good, 10660), (Korean, 8026), (great, 5954),...                  Korean  \n",
       "11  [(good, 4265), (great, 2973), (Greek, 2549), (...                   Greek  \n",
       "12  [(good, 5034), (great, 3257), (delicious, 2505...          Middle Eastern  \n",
       "13  [(good, 8228), (great, 4039), (Vietnamese, 328...              Vietnamese  \n",
       "14  [(good, 6594), (great, 4937), (delicious, 3310...                  French  \n",
       "15  [(good, 3919), (great, 2762), (My, 1413), (nic...                 Tex-Mex  \n",
       "16  [(good, 2064), (great, 1191), (delicious, 842)...               Caribbean  "
      ]
     },
     "execution_count": 92,
     "metadata": {},
     "output_type": "execute_result"
    }
   ],
   "source": [
    "cuisine_df.head(20)"
   ]
  },
  {
   "cell_type": "code",
   "execution_count": 93,
   "metadata": {},
   "outputs": [],
   "source": [
    "cuisine_df.to_csv('data/yelp_cuisine_words.csv', index=False)"
   ]
  },
  {
   "cell_type": "markdown",
   "metadata": {},
   "source": [
    "## The Mayor would like Divvy Bike to add a new feature to their kiosks: “Enter a destination and we’ll tell you how long the trip will take”. We need you to build a model that can predict how long a trip will take given a starting point and destination. You will need to get creative about the factors that will predict travel time. For example, weather and traffic patterns may have an impact on Divvy Bike travel time. There is certainly dataout there –you just should find it."
   ]
  },
  {
   "cell_type": "markdown",
   "metadata": {},
   "source": [
    "### Download weather data from Weather Underground\n",
    "Unfortunately, Weather Underground has started charging for their API: https://www.wunderground.com/weather/api"
   ]
  },
  {
   "cell_type": "code",
   "execution_count": 94,
   "metadata": {},
   "outputs": [],
   "source": [
    "# # Query data in different years\n",
    "# # You can get keys from https://www.wunderground.com/\n",
    "# keys = ['***************', '***************', '***************', \n",
    "#         '***************', '***************']\n",
    "# years = [2017]\n",
    "\n",
    "# for key, year in zip(keys, years):\n",
    "#     path = './data/weather_' + str(year) + '.csv'\n",
    "#     if os.path.isfile(path):\n",
    "#         continue\n",
    "#     df, _ = query_weather(key=key, year=year, state='IL', area='Chicago')\n",
    "#     df.to_csv(path, index=False)\n",
    "#     print('File saved:\\t', path)"
   ]
  },
  {
   "cell_type": "markdown",
   "metadata": {},
   "source": [
    "### so, just join with the Kaggle dataset instead\n",
    "download the dataset here: https://www.kaggle.com/yingwurenjian/chicago-divvy-bicycle-sharing-data\n",
    "\n",
    "We'll be only extracting the weather information from this dataset"
   ]
  },
  {
   "cell_type": "code",
   "execution_count": 95,
   "metadata": {},
   "outputs": [],
   "source": [
    "divvy_kaggle = pd.read_csv('data/chicago-divvy-bicycle-sharing-data/data_raw.csv', parse_dates=['starttime', 'stoptime'])"
   ]
  },
  {
   "cell_type": "code",
   "execution_count": 96,
   "metadata": {},
   "outputs": [],
   "source": [
    "divvy_kaggle = divvy_kaggle[divvy_kaggle['starttime'].dt.year == 2017].reset_index(drop=True)"
   ]
  },
  {
   "cell_type": "code",
   "execution_count": 97,
   "metadata": {},
   "outputs": [],
   "source": [
    "divvy_kaggle.to_csv('data/divvy_2017_kaggle.csv', index=False)"
   ]
  },
  {
   "cell_type": "code",
   "execution_count": 98,
   "metadata": {},
   "outputs": [],
   "source": [
    "divvy_kaggle = pd.read_csv('data/divvy_2017_kaggle.csv')"
   ]
  },
  {
   "cell_type": "code",
   "execution_count": 99,
   "metadata": {},
   "outputs": [
    {
     "data": {
      "text/plain": [
       "Index(['trip_id', 'usertype', 'gender', 'starttime', 'stoptime',\n",
       "       'tripduration', 'from_station_id', 'from_station_name',\n",
       "       'latitude_start', 'longitude_start', 'dpcapacity_start',\n",
       "       'to_station_id', 'to_station_name', 'latitude_end', 'longitude_end',\n",
       "       'dpcapacity_end', 'temperature', 'windchill', 'dewpoint', 'humidity',\n",
       "       'pressure', 'visibility', 'wind_speed', 'precipitation', 'events',\n",
       "       'rain', 'conditions'],\n",
       "      dtype='object')"
      ]
     },
     "execution_count": 99,
     "metadata": {},
     "output_type": "execute_result"
    }
   ],
   "source": [
    "divvy_kaggle.columns"
   ]
  },
  {
   "cell_type": "code",
   "execution_count": 100,
   "metadata": {},
   "outputs": [
    {
     "data": {
      "text/plain": [
       "Index(['Unnamed: 0', 'trip_id', 'start_time', 'end_time', 'bikeid',\n",
       "       'tripduration', 'from_station_id', 'from_station_name', 'to_station_id',\n",
       "       'to_station_name', 'usertype', 'gender', 'birthyear',\n",
       "       'from_station_latitude', 'from_station_longitude',\n",
       "       'to_station_latitude', 'to_station_longitude', 'trip_stations',\n",
       "       'trip_distance', 'speed'],\n",
       "      dtype='object')"
      ]
     },
     "execution_count": 100,
     "metadata": {},
     "output_type": "execute_result"
    }
   ],
   "source": [
    "divvy.columns"
   ]
  },
  {
   "cell_type": "code",
   "execution_count": 101,
   "metadata": {},
   "outputs": [
    {
     "data": {
      "text/plain": [
       "3826746"
      ]
     },
     "execution_count": 101,
     "metadata": {},
     "output_type": "execute_result"
    }
   ],
   "source": [
    "len(divvy_kaggle)"
   ]
  },
  {
   "cell_type": "code",
   "execution_count": 102,
   "metadata": {},
   "outputs": [
    {
     "data": {
      "text/plain": [
       "3829014"
      ]
     },
     "execution_count": 102,
     "metadata": {},
     "output_type": "execute_result"
    }
   ],
   "source": [
    "len(divvy)"
   ]
  },
  {
   "cell_type": "code",
   "execution_count": 103,
   "metadata": {},
   "outputs": [],
   "source": [
    "df = divvy.merge(divvy_kaggle[['trip_id', 'temperature', 'windchill',\n",
    "                               'dewpoint', 'humidity', 'pressure',\n",
    "                               'visibility', 'wind_speed',\n",
    "                               'precipitation', 'events',\n",
    "                               'rain', 'conditions']], on='trip_id', how='inner')"
   ]
  },
  {
   "cell_type": "code",
   "execution_count": 104,
   "metadata": {},
   "outputs": [],
   "source": [
    "df.dropna(inplace=True)\n",
    "df = df[(df['tripduration'] <= 3600) & (df['trip_distance'] >= 200)]"
   ]
  },
  {
   "cell_type": "code",
   "execution_count": 105,
   "metadata": {},
   "outputs": [],
   "source": [
    "df.to_csv('data/divvy_weather.csv', index=False)"
   ]
  },
  {
   "cell_type": "code",
   "execution_count": 106,
   "metadata": {},
   "outputs": [
    {
     "data": {
      "text/plain": [
       "Index(['Unnamed: 0', 'trip_id', 'start_time', 'end_time', 'bikeid',\n",
       "       'tripduration', 'from_station_id', 'from_station_name', 'to_station_id',\n",
       "       'to_station_name', 'usertype', 'gender', 'birthyear',\n",
       "       'from_station_latitude', 'from_station_longitude',\n",
       "       'to_station_latitude', 'to_station_longitude', 'trip_stations',\n",
       "       'trip_distance', 'speed', 'temperature', 'windchill', 'dewpoint',\n",
       "       'humidity', 'pressure', 'visibility', 'wind_speed', 'precipitation',\n",
       "       'events', 'rain', 'conditions'],\n",
       "      dtype='object')"
      ]
     },
     "execution_count": 106,
     "metadata": {},
     "output_type": "execute_result"
    }
   ],
   "source": [
    "df.columns"
   ]
  },
  {
   "cell_type": "code",
   "execution_count": 107,
   "metadata": {},
   "outputs": [
    {
     "data": {
      "text/html": [
       "<div>\n",
       "<style scoped>\n",
       "    .dataframe tbody tr th:only-of-type {\n",
       "        vertical-align: middle;\n",
       "    }\n",
       "\n",
       "    .dataframe tbody tr th {\n",
       "        vertical-align: top;\n",
       "    }\n",
       "\n",
       "    .dataframe thead th {\n",
       "        text-align: right;\n",
       "    }\n",
       "</style>\n",
       "<table border=\"1\" class=\"dataframe\">\n",
       "  <thead>\n",
       "    <tr style=\"text-align: right;\">\n",
       "      <th></th>\n",
       "      <th>Unnamed: 0</th>\n",
       "      <th>trip_id</th>\n",
       "      <th>start_time</th>\n",
       "      <th>end_time</th>\n",
       "      <th>bikeid</th>\n",
       "      <th>tripduration</th>\n",
       "      <th>from_station_id</th>\n",
       "      <th>from_station_name</th>\n",
       "      <th>to_station_id</th>\n",
       "      <th>to_station_name</th>\n",
       "      <th>...</th>\n",
       "      <th>windchill</th>\n",
       "      <th>dewpoint</th>\n",
       "      <th>humidity</th>\n",
       "      <th>pressure</th>\n",
       "      <th>visibility</th>\n",
       "      <th>wind_speed</th>\n",
       "      <th>precipitation</th>\n",
       "      <th>events</th>\n",
       "      <th>rain</th>\n",
       "      <th>conditions</th>\n",
       "    </tr>\n",
       "  </thead>\n",
       "  <tbody>\n",
       "    <tr>\n",
       "      <th>0</th>\n",
       "      <td>0</td>\n",
       "      <td>13518905</td>\n",
       "      <td>2017-03-31 23:59:07</td>\n",
       "      <td>2017-04-01 00:13:24</td>\n",
       "      <td>5292</td>\n",
       "      <td>857</td>\n",
       "      <td>66</td>\n",
       "      <td>Clinton St &amp; Lake St</td>\n",
       "      <td>171</td>\n",
       "      <td>May St &amp; Cullerton St</td>\n",
       "      <td>...</td>\n",
       "      <td>32.1</td>\n",
       "      <td>30.9</td>\n",
       "      <td>76.0</td>\n",
       "      <td>30.05</td>\n",
       "      <td>10.0</td>\n",
       "      <td>8.1</td>\n",
       "      <td>-9999.0</td>\n",
       "      <td>partlycloudy</td>\n",
       "      <td>0</td>\n",
       "      <td>Partly Cloudy</td>\n",
       "    </tr>\n",
       "    <tr>\n",
       "      <th>1</th>\n",
       "      <td>1</td>\n",
       "      <td>13518904</td>\n",
       "      <td>2017-03-31 23:56:25</td>\n",
       "      <td>2017-04-01 00:00:21</td>\n",
       "      <td>4408</td>\n",
       "      <td>236</td>\n",
       "      <td>199</td>\n",
       "      <td>Wabash Ave &amp; Grand Ave</td>\n",
       "      <td>26</td>\n",
       "      <td>McClurg Ct &amp; Illinois St</td>\n",
       "      <td>...</td>\n",
       "      <td>32.1</td>\n",
       "      <td>30.9</td>\n",
       "      <td>76.0</td>\n",
       "      <td>30.05</td>\n",
       "      <td>10.0</td>\n",
       "      <td>8.1</td>\n",
       "      <td>-9999.0</td>\n",
       "      <td>partlycloudy</td>\n",
       "      <td>0</td>\n",
       "      <td>Partly Cloudy</td>\n",
       "    </tr>\n",
       "    <tr>\n",
       "      <th>2</th>\n",
       "      <td>2</td>\n",
       "      <td>13518903</td>\n",
       "      <td>2017-03-31 23:55:33</td>\n",
       "      <td>2017-04-01 00:01:21</td>\n",
       "      <td>696</td>\n",
       "      <td>348</td>\n",
       "      <td>520</td>\n",
       "      <td>Greenview Ave &amp; Jarvis Ave</td>\n",
       "      <td>432</td>\n",
       "      <td>Clark St &amp; Lunt Ave</td>\n",
       "      <td>...</td>\n",
       "      <td>32.1</td>\n",
       "      <td>30.9</td>\n",
       "      <td>76.0</td>\n",
       "      <td>30.05</td>\n",
       "      <td>10.0</td>\n",
       "      <td>8.1</td>\n",
       "      <td>-9999.0</td>\n",
       "      <td>partlycloudy</td>\n",
       "      <td>0</td>\n",
       "      <td>Partly Cloudy</td>\n",
       "    </tr>\n",
       "    <tr>\n",
       "      <th>3</th>\n",
       "      <td>3</td>\n",
       "      <td>13518902</td>\n",
       "      <td>2017-03-31 23:54:46</td>\n",
       "      <td>2017-03-31 23:59:34</td>\n",
       "      <td>4915</td>\n",
       "      <td>288</td>\n",
       "      <td>110</td>\n",
       "      <td>Dearborn St &amp; Erie St</td>\n",
       "      <td>142</td>\n",
       "      <td>McClurg Ct &amp; Erie St</td>\n",
       "      <td>...</td>\n",
       "      <td>32.1</td>\n",
       "      <td>30.9</td>\n",
       "      <td>76.0</td>\n",
       "      <td>30.05</td>\n",
       "      <td>10.0</td>\n",
       "      <td>8.1</td>\n",
       "      <td>-9999.0</td>\n",
       "      <td>partlycloudy</td>\n",
       "      <td>0</td>\n",
       "      <td>Partly Cloudy</td>\n",
       "    </tr>\n",
       "    <tr>\n",
       "      <th>5</th>\n",
       "      <td>5</td>\n",
       "      <td>13518900</td>\n",
       "      <td>2017-03-31 23:51:17</td>\n",
       "      <td>2017-03-31 23:55:19</td>\n",
       "      <td>3536</td>\n",
       "      <td>242</td>\n",
       "      <td>143</td>\n",
       "      <td>Sedgwick St &amp; Webster Ave</td>\n",
       "      <td>289</td>\n",
       "      <td>Wells St &amp; Concord Ln</td>\n",
       "      <td>...</td>\n",
       "      <td>32.1</td>\n",
       "      <td>30.9</td>\n",
       "      <td>76.0</td>\n",
       "      <td>30.05</td>\n",
       "      <td>10.0</td>\n",
       "      <td>8.1</td>\n",
       "      <td>-9999.0</td>\n",
       "      <td>partlycloudy</td>\n",
       "      <td>0</td>\n",
       "      <td>Partly Cloudy</td>\n",
       "    </tr>\n",
       "  </tbody>\n",
       "</table>\n",
       "<p>5 rows × 31 columns</p>\n",
       "</div>"
      ],
      "text/plain": [
       "   Unnamed: 0   trip_id           start_time             end_time  bikeid  \\\n",
       "0           0  13518905  2017-03-31 23:59:07  2017-04-01 00:13:24    5292   \n",
       "1           1  13518904  2017-03-31 23:56:25  2017-04-01 00:00:21    4408   \n",
       "2           2  13518903  2017-03-31 23:55:33  2017-04-01 00:01:21     696   \n",
       "3           3  13518902  2017-03-31 23:54:46  2017-03-31 23:59:34    4915   \n",
       "5           5  13518900  2017-03-31 23:51:17  2017-03-31 23:55:19    3536   \n",
       "\n",
       "   tripduration  from_station_id           from_station_name  to_station_id  \\\n",
       "0           857               66        Clinton St & Lake St            171   \n",
       "1           236              199      Wabash Ave & Grand Ave             26   \n",
       "2           348              520  Greenview Ave & Jarvis Ave            432   \n",
       "3           288              110       Dearborn St & Erie St            142   \n",
       "5           242              143   Sedgwick St & Webster Ave            289   \n",
       "\n",
       "            to_station_name      ...       windchill dewpoint  humidity  \\\n",
       "0     May St & Cullerton St      ...            32.1     30.9      76.0   \n",
       "1  McClurg Ct & Illinois St      ...            32.1     30.9      76.0   \n",
       "2       Clark St & Lunt Ave      ...            32.1     30.9      76.0   \n",
       "3      McClurg Ct & Erie St      ...            32.1     30.9      76.0   \n",
       "5     Wells St & Concord Ln      ...            32.1     30.9      76.0   \n",
       "\n",
       "   pressure  visibility  wind_speed  precipitation        events  rain  \\\n",
       "0     30.05        10.0         8.1        -9999.0  partlycloudy     0   \n",
       "1     30.05        10.0         8.1        -9999.0  partlycloudy     0   \n",
       "2     30.05        10.0         8.1        -9999.0  partlycloudy     0   \n",
       "3     30.05        10.0         8.1        -9999.0  partlycloudy     0   \n",
       "5     30.05        10.0         8.1        -9999.0  partlycloudy     0   \n",
       "\n",
       "      conditions  \n",
       "0  Partly Cloudy  \n",
       "1  Partly Cloudy  \n",
       "2  Partly Cloudy  \n",
       "3  Partly Cloudy  \n",
       "5  Partly Cloudy  \n",
       "\n",
       "[5 rows x 31 columns]"
      ]
     },
     "execution_count": 107,
     "metadata": {},
     "output_type": "execute_result"
    }
   ],
   "source": [
    "df.head()"
   ]
  },
  {
   "cell_type": "code",
   "execution_count": 108,
   "metadata": {},
   "outputs": [],
   "source": [
    "df['start_time'] = pd.to_datetime(df['start_time'])"
   ]
  },
  {
   "cell_type": "code",
   "execution_count": 109,
   "metadata": {},
   "outputs": [],
   "source": [
    "df['day'] = df['start_time'].dt.dayofweek\n",
    "df['month'] = df['start_time'].dt.month"
   ]
  },
  {
   "cell_type": "code",
   "execution_count": 110,
   "metadata": {},
   "outputs": [],
   "source": [
    "df = pd.get_dummies(df, columns=['day'], drop_first=True)\n",
    "df = pd.get_dummies(df, columns=['month'], drop_first=True)\n",
    "df = pd.get_dummies(df, columns=['usertype'], drop_first=True)\n",
    "df = pd.get_dummies(df, columns=['events'], drop_first=True)\n",
    "df = pd.get_dummies(df, columns=['conditions'], drop_first=True)"
   ]
  },
  {
   "cell_type": "markdown",
   "metadata": {},
   "source": [
    "### Get traffic data for Chicago rush hours: https://www.illinoisvehicle.com/about-us/blog/traffic-patterns-chicago/"
   ]
  },
  {
   "cell_type": "code",
   "execution_count": 111,
   "metadata": {},
   "outputs": [],
   "source": [
    "df['morning_rush_hour'] = np.where(((df['start_time'].dt.hour > 6) &\n",
    "                                    (df['start_time'].dt.hour < 10)),\n",
    "                                    1, 0)\n",
    "\n",
    "df['evening_rush_hour'] = np.where(((df['start_time'].dt.hour > 15) &\n",
    "                                    (df['start_time'].dt.hour < 19)),\n",
    "                                    1, 0)\n",
    "\n",
    "df['night'] = np.where(((df['start_time'].dt.hour <= 19) &\n",
    "                        (df['start_time'].dt.hour <= 6)),\n",
    "                         1, 0)\n",
    "\n",
    "df['midday'] = np.where(((df['start_time'].dt.hour >= 10) &\n",
    "                         (df['start_time'].dt.hour <= 15)),\n",
    "                         1, 0)"
   ]
  },
  {
   "cell_type": "code",
   "execution_count": 112,
   "metadata": {},
   "outputs": [
    {
     "data": {
      "text/plain": [
       "Index(['Unnamed: 0', 'trip_id', 'start_time', 'end_time', 'bikeid',\n",
       "       'tripduration', 'from_station_id', 'from_station_name', 'to_station_id',\n",
       "       'to_station_name', 'gender', 'birthyear', 'from_station_latitude',\n",
       "       'from_station_longitude', 'to_station_latitude', 'to_station_longitude',\n",
       "       'trip_stations', 'trip_distance', 'speed', 'temperature', 'windchill',\n",
       "       'dewpoint', 'humidity', 'pressure', 'visibility', 'wind_speed',\n",
       "       'precipitation', 'rain', 'day_1', 'day_2', 'day_3', 'day_4', 'day_5',\n",
       "       'day_6', 'month_2', 'month_3', 'month_4', 'month_5', 'month_6',\n",
       "       'month_7', 'month_8', 'month_9', 'month_10', 'month_11', 'month_12',\n",
       "       'usertype_Dependent', 'usertype_Subscriber', 'events_cloudy',\n",
       "       'events_fog', 'events_hazy', 'events_mostlycloudy',\n",
       "       'events_partlycloudy', 'events_rain', 'events_sleet', 'events_snow',\n",
       "       'events_tstorms', 'conditions_Drizzle', 'conditions_Fog',\n",
       "       'conditions_Freezing Rain', 'conditions_Haze', 'conditions_Heavy Rain',\n",
       "       'conditions_Heavy Thunderstorms and Rain', 'conditions_Light Drizzle',\n",
       "       'conditions_Light Freezing Drizzle', 'conditions_Light Freezing Rain',\n",
       "       'conditions_Light Hail', 'conditions_Light Rain',\n",
       "       'conditions_Light Snow', 'conditions_Light Thunderstorms and Rain',\n",
       "       'conditions_Mist', 'conditions_Mostly Cloudy', 'conditions_Overcast',\n",
       "       'conditions_Partly Cloudy', 'conditions_Rain',\n",
       "       'conditions_Scattered Clouds', 'conditions_Smoke', 'conditions_Snow',\n",
       "       'conditions_Thunderstorm', 'conditions_Thunderstorms and Rain',\n",
       "       'morning_rush_hour', 'evening_rush_hour', 'night', 'midday'],\n",
       "      dtype='object')"
      ]
     },
     "execution_count": 112,
     "metadata": {},
     "output_type": "execute_result"
    }
   ],
   "source": [
    "df.columns"
   ]
  },
  {
   "cell_type": "code",
   "execution_count": 113,
   "metadata": {},
   "outputs": [],
   "source": [
    "from sklearn.linear_model import LinearRegression\n",
    "from sklearn.linear_model import RidgeCV\n",
    "from sklearn.metrics import mean_squared_error"
   ]
  },
  {
   "cell_type": "code",
   "execution_count": 114,
   "metadata": {},
   "outputs": [],
   "source": [
    "columns = ['trip_distance', 'temperature', 'windchill', 'dewpoint',\n",
    "           'humidity', 'pressure', 'visibility', 'wind_speed', 'precipitation',\n",
    "           'rain', 'morning_rush_hour',\n",
    "           'evening_rush_hour', 'night', 'midday', 'day_1', 'day_2',\n",
    "           'day_3', 'day_4', 'day_5', 'day_6', 'month_2', 'month_3',\n",
    "           'month_4', 'month_5', 'month_6', 'month_7', 'month_8', 'month_9',\n",
    "           'month_10', 'month_11', 'month_12',\n",
    "           'usertype_Dependent', 'usertype_Subscriber',\n",
    "           'events_cloudy', 'events_fog', 'events_hazy',\n",
    "           'events_mostlycloudy', 'events_partlycloudy', 'events_rain',\n",
    "           'events_sleet', 'events_snow', 'events_tstorms',\n",
    "           'conditions_Drizzle', 'conditions_Fog', 'conditions_Freezing Rain',\n",
    "           'conditions_Haze', 'conditions_Heavy Rain',\n",
    "           'conditions_Heavy Thunderstorms and Rain', 'conditions_Light Drizzle',\n",
    "           'conditions_Light Freezing Drizzle', 'conditions_Light Freezing Rain',\n",
    "           'conditions_Light Hail', 'conditions_Light Rain',\n",
    "           'conditions_Light Snow', 'conditions_Light Thunderstorms and Rain',\n",
    "           'conditions_Mist', 'conditions_Mostly Cloudy', 'conditions_Overcast',\n",
    "           'conditions_Partly Cloudy', 'conditions_Rain',\n",
    "           'conditions_Scattered Clouds', 'conditions_Smoke', 'conditions_Snow',\n",
    "           'conditions_Thunderstorm', 'conditions_Thunderstorms and Rain']"
   ]
  },
  {
   "cell_type": "code",
   "execution_count": 115,
   "metadata": {},
   "outputs": [],
   "source": [
    "from sklearn.model_selection import train_test_split\n",
    "X_train, X_test, y_train, y_test = train_test_split(df[columns],\n",
    "                                                    df['tripduration'],\n",
    "                                                    test_size=0.2, random_state=0)"
   ]
  },
  {
   "cell_type": "code",
   "execution_count": 116,
   "metadata": {},
   "outputs": [
    {
     "data": {
      "text/plain": [
       "0.6953289274367874"
      ]
     },
     "execution_count": 116,
     "metadata": {},
     "output_type": "execute_result"
    }
   ],
   "source": [
    "model = LinearRegression(normalize=True)\n",
    "model.fit(X_train, y_train)\n",
    "model.score(X_test, y_test)"
   ]
  },
  {
   "cell_type": "code",
   "execution_count": 118,
   "metadata": {},
   "outputs": [
    {
     "data": {
      "image/png": "[encoded data removed]",
      "text/plain": [
       "<Figure size 720x720 with 1 Axes>"
      ]
     },
     "metadata": {},
     "output_type": "display_data"
    }
   ],
   "source": [
    "# plot prediction and actual data\n",
    "y_pred = model.predict(X_test) \n",
    "plt.figure(figsize=(10, 10))\n",
    "plt.xlabel('Actual Trip Duration')\n",
    "plt.ylabel('Predicted Trip Duraction')\n",
    "plt.plot(y_test, y_pred, '.')\n",
    "\n",
    "# plot a line, a perfit predict would all fall on this line\n",
    "x = np.linspace(min(y_test.min(), y_pred.min()), max(y_test.max(), y_pred.max()))\n",
    "y = x\n",
    "plt.plot(x, y)\n",
    "plt.show()"
   ]
  },
  {
   "cell_type": "code",
   "execution_count": 119,
   "metadata": {},
   "outputs": [
    {
     "data": {
      "text/plain": [
       "56705.93879952913"
      ]
     },
     "execution_count": 119,
     "metadata": {},
     "output_type": "execute_result"
    }
   ],
   "source": [
    "mean_squared_error(y_test, y_pred)"
   ]
  },
  {
   "cell_type": "code",
   "execution_count": 120,
   "metadata": {},
   "outputs": [
    {
     "data": {
      "text/plain": [
       "array([ 2.01559079e-01,  1.81681156e+00,  1.99016701e-03, -7.95532292e-01,\n",
       "        6.99892933e-02,  2.00843496e-04,  3.13369952e-03,  2.89675474e-03,\n",
       "       -2.81145622e-04,  7.51807530e+13, -2.62756523e+01, -2.03026259e+00,\n",
       "       -6.94605740e+01,  5.00564849e+00, -6.02356835e-01, -2.21197673e+00,\n",
       "        2.14702399e-01,  7.48525459e+00,  4.99757521e+01,  4.25308631e+01,\n",
       "       -8.59655627e+00, -1.22898853e+01, -1.90616161e+00,  2.51891509e+00,\n",
       "        4.81857739e+00,  1.07751601e+01,  1.83172037e+00, -9.35490942e+00,\n",
       "       -1.10669043e+01, -2.22497333e+00, -1.48064853e+00, -8.15566423e+01,\n",
       "       -1.39693198e+02,  2.83822409e+14, -2.91699765e+15, -2.43906620e+15,\n",
       "        9.92973640e+13,  1.04375251e+14,  2.07447956e+14,  2.07447956e+14,\n",
       "        2.07447956e+14, -5.77469821e+14, -2.07447956e+14,  2.91699765e+15,\n",
       "       -2.07447956e+14,  2.43906620e+15, -2.82628709e+14,  5.02289068e+14,\n",
       "       -2.07447956e+14, -2.07447956e+14, -2.82628709e+14, -2.82628709e+14,\n",
       "       -2.82628709e+14, -2.07447956e+14,  5.02289068e+14,  2.43906620e+15,\n",
       "       -9.92973640e+13, -2.83822409e+14, -1.04375251e+14, -2.82628709e+14,\n",
       "       -1.04375251e+14,  2.43906620e+15, -2.07447956e+14,  5.77469821e+14,\n",
       "        5.02289068e+14])"
      ]
     },
     "execution_count": 120,
     "metadata": {},
     "output_type": "execute_result"
    }
   ],
   "source": [
    "model.coef_"
   ]
  },
  {
   "cell_type": "code",
   "execution_count": 121,
   "metadata": {},
   "outputs": [
    {
     "data": {
      "text/plain": [
       "0.6953278183116401"
      ]
     },
     "execution_count": 121,
     "metadata": {},
     "output_type": "execute_result"
    }
   ],
   "source": [
    "clf = RidgeCV(alphas=[1e-3, 1e-2, 1e-1, 1, 10, 100, 1000]).fit(X_train, y_train)\n",
    "clf.score(X_test, y_test) "
   ]
  },
  {
   "cell_type": "code",
   "execution_count": 122,
   "metadata": {},
   "outputs": [
    {
     "data": {
      "text/plain": [
       "array([ 2.01579309e-01,  1.83379375e+00,  2.05218927e-03, -8.12559587e-01,\n",
       "        8.47809783e-02,  6.30086642e-04,  3.07354819e-03,  2.62551335e-03,\n",
       "       -2.69058743e-04, -2.04949599e+01, -2.63704885e+01, -2.02227581e+00,\n",
       "       -6.97222106e+01,  5.03017946e+00, -6.21516818e-01, -2.34490139e+00,\n",
       "        2.29355074e-01,  7.63515442e+00,  4.98576038e+01,  4.24974548e+01,\n",
       "       -8.65960267e+00, -1.23401242e+01, -1.73734061e+00,  2.58235731e+00,\n",
       "        4.70202321e+00,  1.06354479e+01,  1.68463725e+00, -9.63829656e+00,\n",
       "       -1.11646581e+01, -2.18337334e+00, -1.54034748e+00, -1.08561522e+01,\n",
       "       -1.35108781e+02, -4.42402291e+00, -1.65726059e+00,  1.22564717e-01,\n",
       "       -1.43572160e+00, -9.72305701e-01,  2.29159435e+01,  3.51120620e+01,\n",
       "       -1.61664230e+01,  2.49359969e+00,  8.97309615e-01, -1.65726059e+00,\n",
       "       -2.22802923e+01, -6.30130514e+00, -8.01344971e+00,  3.69860594e+00,\n",
       "       -2.50028739e+01,  4.16641901e+01,  9.33531149e+00,  3.31239448e+00,\n",
       "       -1.44241079e+01,  3.15160587e+01,  1.15282028e+01, -5.86447052e+01,\n",
       "       -1.43572160e+00, -4.42402291e+00, -2.59711002e-01, -2.45062092e+01,\n",
       "       -7.12594699e-01,  6.50685751e+01,  4.93632512e+01, -1.13075013e+01,\n",
       "       -1.42570773e+00])"
      ]
     },
     "execution_count": 122,
     "metadata": {},
     "output_type": "execute_result"
    }
   ],
   "source": [
    "clf.coef_"
   ]
  },
  {
   "cell_type": "code",
   "execution_count": 123,
   "metadata": {},
   "outputs": [
    {
     "data": {
      "image/png": "[encoded data removed]",
      "text/plain": [
       "<Figure size 720x720 with 1 Axes>"
      ]
     },
     "metadata": {},
     "output_type": "display_data"
    }
   ],
   "source": [
    "# plot prediction and actual data\n",
    "y_pred = clf.predict(X_test) \n",
    "plt.figure(figsize=(10, 10))\n",
    "plt.xlabel('Actual Trip Duration')\n",
    "plt.ylabel('Predicted Trip Duraction')\n",
    "plt.plot(y_test, y_pred, '.')\n",
    "\n",
    "# plot a line, a perfit predict would all fall on this line\n",
    "x = np.linspace(min(y_test.min(), y_pred.min()), max(y_test.max(), y_pred.max()))\n",
    "y = x\n",
    "plt.plot(x, y)\n",
    "plt.show()"
   ]
  },
  {
   "cell_type": "code",
   "execution_count": 124,
   "metadata": {},
   "outputs": [
    {
     "data": {
      "text/plain": [
       "56706.14523193574"
      ]
     },
     "execution_count": 124,
     "metadata": {},
     "output_type": "execute_result"
    }
   ],
   "source": [
    "mean_squared_error(y_test, y_pred)"
   ]
  },
  {
   "cell_type": "markdown",
   "metadata": {},
   "source": [
    "## Improvements:\n",
    "Use the Google Maps API (https://developers.google.com/maps/documentation/distance-matrix/intro) to extract routes from the origin and destination, improving upon the straight-line distance. But hey, while we're at it, the API also outputs estimated trip duration which is exactly what we're looking for! Unfortuately, Google recently cut off free access to the API. It now costs $0.005 per query."
   ]
  },
  {
   "cell_type": "markdown",
   "metadata": {},
   "source": [
    "## The Mayor has a couple of hypothesis which he needs you to verify with the given data. “Do you find a correlation between the star rating and length of reviews?”"
   ]
  },
  {
   "cell_type": "code",
   "execution_count": 125,
   "metadata": {},
   "outputs": [
    {
     "data": {
      "text/html": [
       "<div>\n",
       "<style scoped>\n",
       "    .dataframe tbody tr th:only-of-type {\n",
       "        vertical-align: middle;\n",
       "    }\n",
       "\n",
       "    .dataframe tbody tr th {\n",
       "        vertical-align: top;\n",
       "    }\n",
       "\n",
       "    .dataframe thead th {\n",
       "        text-align: right;\n",
       "    }\n",
       "</style>\n",
       "<table border=\"1\" class=\"dataframe\">\n",
       "  <thead>\n",
       "    <tr style=\"text-align: right;\">\n",
       "      <th></th>\n",
       "      <th>business_id</th>\n",
       "      <th>cool</th>\n",
       "      <th>date</th>\n",
       "      <th>funny</th>\n",
       "      <th>review_id</th>\n",
       "      <th>stars</th>\n",
       "      <th>text</th>\n",
       "      <th>useful</th>\n",
       "      <th>user_id</th>\n",
       "    </tr>\n",
       "  </thead>\n",
       "  <tbody>\n",
       "    <tr>\n",
       "      <th>0</th>\n",
       "      <td>f5O7v_X_jCg2itqacRfxhg</td>\n",
       "      <td>0</td>\n",
       "      <td>2017-10-12</td>\n",
       "      <td>0.0</td>\n",
       "      <td>kS4hrhEScwB9V5JATYjvVQ</td>\n",
       "      <td>5.0</td>\n",
       "      <td>Sansotei serves some top notch ramen. They tak...</td>\n",
       "      <td>0.0</td>\n",
       "      <td>hxqo4NyJFfeOmuoVi--s1A</td>\n",
       "    </tr>\n",
       "    <tr>\n",
       "      <th>1</th>\n",
       "      <td>0bjFYstj8USMzEV4ZQldjA</td>\n",
       "      <td>0</td>\n",
       "      <td>2017-01-19</td>\n",
       "      <td>0.0</td>\n",
       "      <td>VKGvSe0SmYcFc5PqjbxLDQ</td>\n",
       "      <td>5.0</td>\n",
       "      <td>Cool little place, nice atmosphere and staff. ...</td>\n",
       "      <td>0.0</td>\n",
       "      <td>eG6HneK9zLcuZpVuKcsCGQ</td>\n",
       "    </tr>\n",
       "    <tr>\n",
       "      <th>2</th>\n",
       "      <td>gZGsReG0VeX4uKViHTB9EQ</td>\n",
       "      <td>0</td>\n",
       "      <td>2017-08-16</td>\n",
       "      <td>0.0</td>\n",
       "      <td>51RHs_V_fjuistnuKxNpEg</td>\n",
       "      <td>5.0</td>\n",
       "      <td>Finally! After trying many Mexican restaurants...</td>\n",
       "      <td>0.0</td>\n",
       "      <td>5ngpW5tf3ep680eG1HxHzA</td>\n",
       "    </tr>\n",
       "    <tr>\n",
       "      <th>3</th>\n",
       "      <td>-bd4BQcl1ekgo7avaFngIw</td>\n",
       "      <td>0</td>\n",
       "      <td>2017-06-28</td>\n",
       "      <td>0.0</td>\n",
       "      <td>P7kiSTiwzqm0_LbA71EOPg</td>\n",
       "      <td>5.0</td>\n",
       "      <td>One of the best breakfast places I've been to!...</td>\n",
       "      <td>0.0</td>\n",
       "      <td>5ngpW5tf3ep680eG1HxHzA</td>\n",
       "    </tr>\n",
       "    <tr>\n",
       "      <th>4</th>\n",
       "      <td>u73j2VQ3TGWdMO-AG7MABw</td>\n",
       "      <td>0</td>\n",
       "      <td>2017-07-06</td>\n",
       "      <td>0.0</td>\n",
       "      <td>7EgEjUpcb8q-B5dPCMvkaQ</td>\n",
       "      <td>2.0</td>\n",
       "      <td>Food was alright, the service was HORRIBLE! Bo...</td>\n",
       "      <td>1.0</td>\n",
       "      <td>5ngpW5tf3ep680eG1HxHzA</td>\n",
       "    </tr>\n",
       "  </tbody>\n",
       "</table>\n",
       "</div>"
      ],
      "text/plain": [
       "              business_id  cool        date  funny               review_id  \\\n",
       "0  f5O7v_X_jCg2itqacRfxhg     0  2017-10-12    0.0  kS4hrhEScwB9V5JATYjvVQ   \n",
       "1  0bjFYstj8USMzEV4ZQldjA     0  2017-01-19    0.0  VKGvSe0SmYcFc5PqjbxLDQ   \n",
       "2  gZGsReG0VeX4uKViHTB9EQ     0  2017-08-16    0.0  51RHs_V_fjuistnuKxNpEg   \n",
       "3  -bd4BQcl1ekgo7avaFngIw     0  2017-06-28    0.0  P7kiSTiwzqm0_LbA71EOPg   \n",
       "4  u73j2VQ3TGWdMO-AG7MABw     0  2017-07-06    0.0  7EgEjUpcb8q-B5dPCMvkaQ   \n",
       "\n",
       "   stars                                               text  useful  \\\n",
       "0    5.0  Sansotei serves some top notch ramen. They tak...     0.0   \n",
       "1    5.0  Cool little place, nice atmosphere and staff. ...     0.0   \n",
       "2    5.0  Finally! After trying many Mexican restaurants...     0.0   \n",
       "3    5.0  One of the best breakfast places I've been to!...     0.0   \n",
       "4    2.0  Food was alright, the service was HORRIBLE! Bo...     1.0   \n",
       "\n",
       "                  user_id  \n",
       "0  hxqo4NyJFfeOmuoVi--s1A  \n",
       "1  eG6HneK9zLcuZpVuKcsCGQ  \n",
       "2  5ngpW5tf3ep680eG1HxHzA  \n",
       "3  5ngpW5tf3ep680eG1HxHzA  \n",
       "4  5ngpW5tf3ep680eG1HxHzA  "
      ]
     },
     "execution_count": 125,
     "metadata": {},
     "output_type": "execute_result"
    }
   ],
   "source": [
    "review.head()"
   ]
  },
  {
   "cell_type": "code",
   "execution_count": 126,
   "metadata": {},
   "outputs": [],
   "source": [
    "corr_df = pd.DataFrame()"
   ]
  },
  {
   "cell_type": "code",
   "execution_count": 127,
   "metadata": {},
   "outputs": [],
   "source": [
    "corr_df['stars'] = review['stars']"
   ]
  },
  {
   "cell_type": "code",
   "execution_count": 128,
   "metadata": {},
   "outputs": [],
   "source": [
    "corr_df['review_length'] = review['text'].str.len()"
   ]
  },
  {
   "cell_type": "code",
   "execution_count": 129,
   "metadata": {},
   "outputs": [],
   "source": [
    "corr_df = corr_df.dropna()"
   ]
  },
  {
   "cell_type": "code",
   "execution_count": 130,
   "metadata": {},
   "outputs": [
    {
     "data": {
      "image/png": "[encoded data removed]",
      "text/plain": [
       "<Figure size 720x720 with 1 Axes>"
      ]
     },
     "metadata": {},
     "output_type": "display_data"
    }
   ],
   "source": [
    "corr_df.plot(x='stars', y='review_length', kind='scatter', style='o', figsize=(10, 10))\n",
    "plt.show()"
   ]
  },
  {
   "cell_type": "code",
   "execution_count": 131,
   "metadata": {},
   "outputs": [
    {
     "data": {
      "image/png": "[encoded data removed]",
      "text/plain": [
       "<Figure size 1440x720 with 2 Axes>"
      ]
     },
     "metadata": {},
     "output_type": "display_data"
    }
   ],
   "source": [
    "corr_df.hist(figsize=(20, 10))\n",
    "plt.show()"
   ]
  },
  {
   "cell_type": "code",
   "execution_count": 132,
   "metadata": {},
   "outputs": [
    {
     "data": {
      "text/plain": [
       "LinregressResult(slope=-74.60250345114228, intercept=819.8866119452658, rvalue=-0.22207838254262444, pvalue=0.0, stderr=0.2997187072487137)"
      ]
     },
     "execution_count": 132,
     "metadata": {},
     "output_type": "execute_result"
    }
   ],
   "source": [
    "from scipy.stats import linregress\n",
    "linregress(corr_df['stars'], corr_df['review_length'])"
   ]
  },
  {
   "cell_type": "code",
   "execution_count": 133,
   "metadata": {},
   "outputs": [
    {
     "data": {
      "image/png": "[encoded data removed]",
      "text/plain": [
       "<Figure size 720x720 with 1 Axes>"
      ]
     },
     "metadata": {},
     "output_type": "display_data"
    }
   ],
   "source": [
    "fit = np.polyfit(corr_df['stars'], corr_df['review_length'],1)\n",
    "fit_fn = np.poly1d(fit) \n",
    "# fit_fn is now a function which takes in x and returns an estimate for y\n",
    "\n",
    "fig, ax = plt.subplots(figsize=(10, 10))\n",
    "plt.plot(corr_df['stars'], corr_df['review_length'], 'o', corr_df['stars'], fit_fn(corr_df['stars']), '--k')\n",
    "plt.show()"
   ]
  },
  {
   "cell_type": "markdown",
   "metadata": {},
   "source": [
    "## The Mayor also wants us to identify the topics from the reviews of restaurants and explore if these topics are insightful and whether they can be used as inputs to some other classification or predictive work in the future. To do this learn a set of topics by applying topic modeling algorithms such as LDA on textual reviews. Choose the number of topics in a data-driven fashion such as by using a figure that plots perplexity versus number of topics. "
   ]
  },
  {
   "cell_type": "code",
   "execution_count": 134,
   "metadata": {},
   "outputs": [],
   "source": [
    "restaurant_ids = yelp[(yelp['categories'].str.contains('Restaurants') &\n",
    "                      (yelp['is_open'] == 1))\n",
    "                     ]['business_id'].tolist()"
   ]
  },
  {
   "cell_type": "code",
   "execution_count": 135,
   "metadata": {},
   "outputs": [],
   "source": [
    "restaurant_reviews = review[review['business_id'].isin(restaurant_ids)]['text']"
   ]
  },
  {
   "cell_type": "code",
   "execution_count": 136,
   "metadata": {},
   "outputs": [],
   "source": [
    "doc_complete = restaurant_reviews.tolist()"
   ]
  },
  {
   "cell_type": "code",
   "execution_count": 137,
   "metadata": {},
   "outputs": [],
   "source": [
    "from nltk.corpus import stopwords \n",
    "from nltk.stem.wordnet import WordNetLemmatizer\n",
    "import string\n",
    "\n",
    "stop = set(stopwords.words('english'))\n",
    "exclude = set(string.punctuation) \n",
    "lemma = WordNetLemmatizer()\n",
    "def clean(doc):\n",
    "    stop_free = \" \".join([i for i in doc.lower().split() if i not in stop])\n",
    "    punc_free = ''.join(ch for ch in stop_free if ch not in exclude)\n",
    "    normalized = \" \".join(lemma.lemmatize(word) for word in punc_free.split())\n",
    "    return normalized\n",
    "\n",
    "doc_clean = [clean(doc).split() for doc in doc_complete]"
   ]
  },
  {
   "cell_type": "code",
   "execution_count": 138,
   "metadata": {},
   "outputs": [
    {
     "data": {
      "text/plain": [
       "670315"
      ]
     },
     "execution_count": 138,
     "metadata": {},
     "output_type": "execute_result"
    }
   ],
   "source": [
    "len(doc_clean)"
   ]
  },
  {
   "cell_type": "code",
   "execution_count": 139,
   "metadata": {},
   "outputs": [],
   "source": [
    "doc_clean_sample = doc_clean\n",
    "\n",
    "# Take a sample of 1000 reviews in order to speed up processing time\n",
    "# comment out the below line to run LDA on the entire dataset\n",
    "doc_clean_sample = np.random.choice(doc_clean, 5000, replace=False).tolist()"
   ]
  },
  {
   "cell_type": "code",
   "execution_count": 140,
   "metadata": {},
   "outputs": [],
   "source": [
    "from sklearn.model_selection import train_test_split"
   ]
  },
  {
   "cell_type": "code",
   "execution_count": 141,
   "metadata": {},
   "outputs": [],
   "source": [
    "train, test = train_test_split(doc_clean_sample, test_size=0.2, random_state=42)"
   ]
  },
  {
   "cell_type": "code",
   "execution_count": 142,
   "metadata": {},
   "outputs": [],
   "source": [
    "import gensim\n",
    "from gensim import corpora\n",
    "\n",
    "# Creating the term dictionary of our courpus, where every unique term is assigned an index.\n",
    "dictionary = corpora.Dictionary(train)\n",
    "\n",
    "# Converting list of documents (corpus) into Document Term Matrix using dictionary prepared above.\n",
    "doc_term_matrix = [dictionary.doc2bow(doc) for doc in train]"
   ]
  },
  {
   "cell_type": "code",
   "execution_count": 143,
   "metadata": {},
   "outputs": [],
   "source": [
    "# num_topics = [5, 10, 15, 20, 30, 40, 50, 75, 100, 150, 200, 250, 300, 400, 500, 600]\n",
    "num_topics = range(5, 95, 5)"
   ]
  },
  {
   "cell_type": "code",
   "execution_count": 144,
   "metadata": {},
   "outputs": [
    {
     "name": "stdout",
     "output_type": "stream",
     "text": [
      "5\n",
      "10\n",
      "15\n",
      "20\n",
      "25\n",
      "30\n",
      "35\n",
      "40\n",
      "45\n",
      "50\n",
      "55\n",
      "60\n",
      "65\n",
      "70\n",
      "75\n",
      "80\n",
      "85\n",
      "90\n"
     ]
    }
   ],
   "source": [
    "perplexity = []\n",
    "models = {}\n",
    "\n",
    "for num in num_topics:\n",
    "    print(num)\n",
    "    Lda = gensim.models.ldamodel.LdaModel\n",
    "    lda_model = Lda(doc_term_matrix,\n",
    "                    id2word = dictionary,\n",
    "                    num_topics=num,\n",
    "                    passes=10,\n",
    "                    chunksize=50,\n",
    "                    update_every=1)\n",
    "    models[str(num)] = lda_model\n",
    "    perplexity.append(lda_model.log_perplexity([dictionary.doc2bow(doc) for doc in test]))"
   ]
  },
  {
   "cell_type": "code",
   "execution_count": 145,
   "metadata": {},
   "outputs": [
    {
     "data": {
      "image/png": "[encoded data removed]",
      "text/plain": [
       "<Figure size 720x720 with 1 Axes>"
      ]
     },
     "metadata": {},
     "output_type": "display_data"
    }
   ],
   "source": [
    "plt.figure(figsize=(10, 10))\n",
    "plt.xlabel('Number of Topics')\n",
    "plt.ylabel('Perplexity')\n",
    "plt.plot(num_topics, perplexity)\n",
    "plt.show()"
   ]
  },
  {
   "cell_type": "code",
   "execution_count": 146,
   "metadata": {
    "scrolled": true
   },
   "outputs": [
    {
     "data": {
      "text/plain": [
       "[(0,\n",
       "  '0.099*\"quality\" + 0.060*\"portion\" + 0.060*\"price\" + 0.054*\"le\" + 0.051*\"size\" + 0.033*\"highly\" + 0.033*\"simple\" + 0.027*\"restaurant\" + 0.026*\"due\" + 0.024*\"generous\" + 0.023*\"recommended\" + 0.021*\"truly\" + 0.021*\"serving\" + 0.020*\"family\" + 0.014*\"taste\" + 0.012*\"sadly\" + 0.011*\"longer\" + 0.011*\"100\" + 0.011*\"daughter\" + 0.009*\"cleanliness\"'),\n",
       " (1,\n",
       "  '0.073*\"sandwich\" + 0.060*\"lunch\" + 0.045*\"breakfast\" + 0.037*\"delicious\" + 0.029*\"day\" + 0.027*\"menu\" + 0.026*\"brunch\" + 0.026*\"back\" + 0.025*\"ordered\" + 0.024*\"chicken\" + 0.023*\"waffle\" + 0.021*\"definitely\" + 0.021*\"came\" + 0.020*\"entree\" + 0.018*\"also\" + 0.016*\"nice\" + 0.014*\"little\" + 0.014*\"pricey\" + 0.014*\"bread\" + 0.014*\"tomato\"'),\n",
       " (2,\n",
       "  '0.110*\"fish\" + 0.076*\"chip\" + 0.054*\"authentic\" + 0.040*\"eaten\" + 0.029*\"kept\" + 0.027*\"pas\" + 0.026*\"gem\" + 0.022*\"world\" + 0.022*\"crowded\" + 0.019*\"milk\" + 0.017*\"az\" + 0.016*\"greek\" + 0.014*\"shake\" + 0.014*\"mussel\" + 0.013*\"request\" + 0.012*\"corner\" + 0.012*\"oily\" + 0.012*\"consistency\" + 0.012*\"standing\" + 0.012*\"photo\"'),\n",
       " (3,\n",
       "  '0.042*\"de\" + 0.028*\"et\" + 0.027*\"oh\" + 0.022*\"live\" + 0.022*\"i\" + 0.021*\"received\" + 0.019*\"mom\" + 0.015*\"un\" + 0.014*\"belly\" + 0.013*\"à\" + 0.013*\"sad\" + 0.013*\"interesting\" + 0.011*\"jai\" + 0.011*\"pa\" + 0.010*\"over\" + 0.010*\"est\" + 0.010*\"qui\" + 0.009*\"pour\" + 0.009*\"n\" + 0.009*\"buy\"'),\n",
       " (4,\n",
       "  '0.209*\"pizza\" + 0.064*\"disappointed\" + 0.062*\"away\" + 0.055*\"found\" + 0.049*\"use\" + 0.029*\"stay\" + 0.025*\"worst\" + 0.023*\"crust\" + 0.020*\"based\" + 0.020*\"delivery\" + 0.020*\"theyre\" + 0.018*\"including\" + 0.018*\"already\" + 0.016*\"pepperoni\" + 0.015*\"indian\" + 0.014*\"many\" + 0.013*\"please\" + 0.013*\"tasting\" + 0.011*\"margherita\" + 0.011*\"type\"'),\n",
       " (5,\n",
       "  '0.087*\"ill\" + 0.037*\"cheese\" + 0.030*\"sour\" + 0.026*\"chili\" + 0.024*\"personally\" + 0.022*\"me\" + 0.020*\"forget\" + 0.017*\"seasoning\" + 0.015*\"concept\" + 0.015*\"perfectly\" + 0.015*\"rock\" + 0.014*\"heavy\" + 0.014*\"beet\" + 0.013*\"watery\" + 0.013*\"maple\" + 0.013*\"pickle\" + 0.012*\"mood\" + 0.012*\"some\" + 0.012*\"bottom\" + 0.011*\"side\"'),\n",
       " (6,\n",
       "  '0.126*\"always\" + 0.122*\"love\" + 0.108*\"location\" + 0.098*\"since\" + 0.062*\"coming\" + 0.035*\"nice\" + 0.030*\"helpful\" + 0.024*\"in\" + 0.020*\"bathroom\" + 0.019*\"especially\" + 0.019*\"lady\" + 0.018*\"brown\" + 0.016*\"management\" + 0.015*\"pick\" + 0.015*\"case\" + 0.014*\"bring\" + 0.013*\"dining\" + 0.008*\"knowledgeable\" + 0.007*\"hang\" + 0.006*\"reheated\"'),\n",
       " (7,\n",
       "  '0.165*\"flavor\" + 0.118*\"taco\" + 0.053*\"fun\" + 0.047*\"salsa\" + 0.046*\"potato\" + 0.046*\"glad\" + 0.043*\"mexican\" + 0.027*\"sweet\" + 0.023*\"margarita\" + 0.020*\"el\" + 0.019*\"rich\" + 0.017*\"al\" + 0.014*\"telling\" + 0.012*\"hoping\" + 0.011*\"tequila\" + 0.010*\"club\" + 0.009*\"relaxed\" + 0.009*\"shoyu\" + 0.008*\"munchies\" + 0.007*\"dente\"'),\n",
       " (8,\n",
       "  '0.197*\"ive\" + 0.185*\"best\" + 0.076*\"ever\" + 0.041*\"french\" + 0.036*\"often\" + 0.030*\"year\" + 0.024*\"one\" + 0.022*\"toast\" + 0.021*\"guacamole\" + 0.015*\"stuffed\" + 0.014*\"need\" + 0.013*\"vodka\" + 0.008*\"1000\" + 0.008*\"difference\" + 0.008*\"im\" + 0.007*\"hair\" + 0.007*\"banana\" + 0.007*\"vanilla\" + 0.006*\"visitor\" + 0.005*\"suggested\"'),\n",
       " (9,\n",
       "  '0.018*\"ramen\" + 0.016*\"added\" + 0.015*\"almost\" + 0.013*\"dirty\" + 0.013*\"mention\" + 0.012*\"55\" + 0.012*\"corn\" + 0.012*\"is\" + 0.011*\"four\" + 0.011*\"number\" + 0.011*\"spice\" + 0.011*\"were\" + 0.010*\"smoked\" + 0.010*\"filled\" + 0.010*\"attention\" + 0.009*\"five\" + 0.009*\"vietnamese\" + 0.009*\"fat\" + 0.009*\"change\" + 0.009*\"apple\"'),\n",
       " (10,\n",
       "  '0.100*\"steak\" + 0.059*\"party\" + 0.052*\"birthday\" + 0.045*\"hostess\" + 0.043*\"cake\" + 0.041*\"dessert\" + 0.038*\"twice\" + 0.036*\"tuna\" + 0.032*\"rest\" + 0.027*\"mediocre\" + 0.025*\"ring\" + 0.019*\"die\" + 0.018*\"grill\" + 0.014*\"night\" + 0.012*\"bother\" + 0.011*\"ny\" + 0.009*\"plan\" + 0.009*\"lasagna\" + 0.009*\"given\" + 0.009*\"burnt\"'),\n",
       " (11,\n",
       "  '0.067*\"nice\" + 0.066*\"salad\" + 0.064*\"star\" + 0.063*\"good\" + 0.039*\"tasty\" + 0.038*\"4\" + 0.034*\"side\" + 0.032*\"cheese\" + 0.030*\"also\" + 0.029*\"price\" + 0.029*\"table\" + 0.028*\"coffee\" + 0.026*\"overall\" + 0.025*\"quite\" + 0.024*\"really\" + 0.024*\"5\" + 0.023*\"bacon\" + 0.023*\"fantastic\" + 0.022*\"sauce\" + 0.020*\"cool\"'),\n",
       " (12,\n",
       "  '0.089*\"loved\" + 0.065*\"kid\" + 0.042*\"terrible\" + 0.033*\"morning\" + 0.030*\"guess\" + 0.028*\"did\" + 0.027*\"25\" + 0.021*\"perfection\" + 0.021*\"savory\" + 0.021*\"bag\" + 0.019*\"syrup\" + 0.018*\"sub\" + 0.018*\"mixed\" + 0.017*\"cashier\" + 0.016*\"disappoint\" + 0.016*\"hubby\" + 0.015*\"lemon\" + 0.015*\"bud\" + 0.013*\"question\" + 0.012*\"spending\"'),\n",
       " (13,\n",
       "  '0.073*\"late\" + 0.052*\"crab\" + 0.041*\"a\" + 0.041*\"now\" + 0.033*\"take\" + 0.031*\"beyond\" + 0.029*\"butter\" + 0.026*\"summer\" + 0.021*\"filet\" + 0.017*\"woman\" + 0.016*\"montreal\" + 0.015*\"willing\" + 0.014*\"express\" + 0.014*\"weekday\" + 0.013*\"faster\" + 0.012*\"treat\" + 0.012*\"long\" + 0.010*\"ppl\" + 0.009*\"jam\" + 0.009*\"jumbo\"'),\n",
       " (14,\n",
       "  '0.139*\"big\" + 0.074*\"served\" + 0.054*\"had\" + 0.054*\"worth\" + 0.051*\"large\" + 0.029*\"cozy\" + 0.027*\"portion\" + 0.025*\"quickly\" + 0.023*\"tortilla\" + 0.020*\"heaven\" + 0.017*\"greasy\" + 0.015*\"batter\" + 0.014*\"yourself\" + 0.013*\"knife\" + 0.013*\"spring\" + 0.010*\"wise\" + 0.010*\"worker\" + 0.009*\"b\" + 0.009*\"10\" + 0.008*\"but\"'),\n",
       " (15,\n",
       "  '0.033*\"menu\" + 0.031*\"meal\" + 0.028*\"would\" + 0.027*\"give\" + 0.026*\"lot\" + 0.025*\"say\" + 0.024*\"restaurant\" + 0.024*\"like\" + 0.023*\"came\" + 0.021*\"server\" + 0.020*\"could\" + 0.020*\"ordered\" + 0.018*\"item\" + 0.018*\"still\" + 0.017*\"think\" + 0.017*\"little\" + 0.016*\"much\" + 0.015*\"small\" + 0.014*\"also\" + 0.014*\"worth\"'),\n",
       " (16,\n",
       "  '0.092*\"area\" + 0.067*\"fresh\" + 0.062*\"great\" + 0.057*\"new\" + 0.042*\"enjoy\" + 0.041*\"too\" + 0.033*\"wife\" + 0.033*\"patio\" + 0.028*\"so\" + 0.025*\"job\" + 0.024*\"beautiful\" + 0.023*\"par\" + 0.021*\"flavorful\" + 0.019*\"delicious\" + 0.018*\"server\" + 0.015*\"duck\" + 0.015*\"outdoor\" + 0.014*\"lovely\" + 0.014*\"clean\" + 0.013*\"the\"'),\n",
       " (17,\n",
       "  '0.084*\"find\" + 0.084*\"egg\" + 0.057*\"brisket\" + 0.043*\"tender\" + 0.036*\"reason\" + 0.034*\"trip\" + 0.034*\"downtown\" + 0.023*\"show\" + 0.022*\"drink\" + 0.019*\"overpriced\" + 0.019*\"salt\" + 0.019*\"outstanding\" + 0.019*\"something\" + 0.018*\"expecting\" + 0.016*\"chose\" + 0.015*\"latte\" + 0.014*\"biscuit\" + 0.013*\"chill\" + 0.013*\"potato\" + 0.013*\"original\"'),\n",
       " (18,\n",
       "  '0.057*\"customer\" + 0.046*\"experience\" + 0.045*\"sushi\" + 0.045*\"top\" + 0.039*\"make\" + 0.033*\"sure\" + 0.030*\"day\" + 0.027*\"lobster\" + 0.025*\"course\" + 0.023*\"sitting\" + 0.023*\"hand\" + 0.022*\"for\" + 0.022*\"end\" + 0.020*\"plus\" + 0.019*\"sit\" + 0.019*\"girl\" + 0.018*\"service\" + 0.018*\"completely\" + 0.018*\"money\" + 0.017*\"tried\"'),\n",
       " (19,\n",
       "  '0.037*\"slice\" + 0.035*\"black\" + 0.030*\"cook\" + 0.021*\"anyone\" + 0.020*\"yes\" + 0.018*\"recently\" + 0.018*\"compared\" + 0.016*\"dressing\" + 0.016*\"despite\" + 0.015*\"cost\" + 0.014*\"picked\" + 0.014*\"tap\" + 0.014*\"dollar\" + 0.014*\"clearly\" + 0.014*\"ambience\" + 0.012*\"larger\" + 0.012*\"be\" + 0.012*\"gone\" + 0.011*\"heat\" + 0.011*\"north\"'),\n",
       " (20,\n",
       "  '0.116*\"fry\" + 0.110*\"burger\" + 0.077*\"roll\" + 0.060*\"wing\" + 0.042*\"amount\" + 0.037*\"cheese\" + 0.026*\"pepper\" + 0.024*\"bun\" + 0.020*\"pleasant\" + 0.017*\"texas\" + 0.017*\"poor\" + 0.015*\"homemade\" + 0.015*\"ten\" + 0.015*\"7\" + 0.014*\"casual\" + 0.011*\"onion\" + 0.011*\"section\" + 0.010*\"factor\" + 0.008*\"play\" + 0.008*\"soft\"'),\n",
       " (21,\n",
       "  '0.052*\"went\" + 0.048*\"order\" + 0.044*\"said\" + 0.036*\"one\" + 0.031*\"2\" + 0.030*\"told\" + 0.029*\"asked\" + 0.027*\"ordered\" + 0.024*\"put\" + 0.020*\"would\" + 0.020*\"u\" + 0.019*\"without\" + 0.018*\"me\" + 0.018*\"back\" + 0.017*\"get\" + 0.017*\"got\" + 0.016*\"even\" + 0.016*\"it\" + 0.015*\"instead\" + 0.015*\"took\"'),\n",
       " (22,\n",
       "  '0.159*\"chicken\" + 0.076*\"rice\" + 0.075*\"sauce\" + 0.068*\"fried\" + 0.049*\"bowl\" + 0.042*\"fresh\" + 0.040*\"topping\" + 0.031*\"keep\" + 0.029*\"wrong\" + 0.027*\"yummy\" + 0.016*\"salmon\" + 0.014*\"filling\" + 0.013*\"pineapple\" + 0.013*\"fruit\" + 0.012*\"poke\" + 0.011*\"omg\" + 0.011*\"seriously\" + 0.010*\"mango\" + 0.010*\"crunch\" + 0.009*\"especially\"'),\n",
       " (23,\n",
       "  '0.055*\"waitress\" + 0.049*\"drink\" + 0.045*\"minute\" + 0.037*\"water\" + 0.037*\"room\" + 0.035*\"20\" + 0.034*\"waited\" + 0.031*\"took\" + 0.031*\"get\" + 0.030*\"15\" + 0.023*\"another\" + 0.022*\"asked\" + 0.021*\"bill\" + 0.020*\"came\" + 0.019*\"one\" + 0.018*\"glass\" + 0.017*\"help\" + 0.017*\"nothing\" + 0.016*\"true\" + 0.016*\"offered\"'),\n",
       " (24,\n",
       "  '0.091*\"need\" + 0.060*\"street\" + 0.042*\"modern\" + 0.031*\"friday\" + 0.023*\"sooo\" + 0.022*\"venue\" + 0.022*\"craving\" + 0.020*\"cuisine\" + 0.020*\"rare\" + 0.020*\"requested\" + 0.018*\"monday\" + 0.018*\"other\" + 0.015*\"occasion\" + 0.015*\"potential\" + 0.014*\"chair\" + 0.014*\"uncomfortable\" + 0.012*\"hobo\" + 0.011*\"daily\" + 0.010*\"teriyaki\" + 0.010*\"normal\"'),\n",
       " (25,\n",
       "  '0.076*\"dish\" + 0.052*\"soup\" + 0.052*\"special\" + 0.050*\"pork\" + 0.048*\"noodle\" + 0.038*\"beef\" + 0.033*\"bean\" + 0.024*\"crispy\" + 0.024*\"pancake\" + 0.021*\"green\" + 0.021*\"small\" + 0.020*\"meat\" + 0.019*\"tried\" + 0.019*\"veggie\" + 0.016*\"taste\" + 0.015*\"considering\" + 0.015*\"onion\" + 0.015*\"sweet\" + 0.014*\"pulled\" + 0.013*\"like\"'),\n",
       " (26,\n",
       "  '0.108*\"shrimp\" + 0.065*\"return\" + 0.059*\"three\" + 0.026*\"nacho\" + 0.025*\"typical\" + 0.024*\"creative\" + 0.023*\"pie\" + 0.021*\"pm\" + 0.020*\"rainbow\" + 0.019*\"pot\" + 0.017*\"office\" + 0.017*\"fresh\" + 0.016*\"leg\" + 0.015*\"total\" + 0.011*\"coleslaw\" + 0.011*\"macaroni\" + 0.011*\"carte\" + 0.011*\"poboy\" + 0.010*\"looking\" + 0.009*\"picnic\"'),\n",
       " (27,\n",
       "  '0.153*\"beer\" + 0.151*\"friend\" + 0.049*\"date\" + 0.046*\"spot\" + 0.040*\"open\" + 0.030*\"cute\" + 0.024*\"box\" + 0.024*\"buffet\" + 0.021*\"near\" + 0.021*\"craft\" + 0.018*\"her\" + 0.015*\"shot\" + 0.015*\"takeout\" + 0.012*\"parent\" + 0.012*\"day\" + 0.012*\"brewery\" + 0.008*\"happen\" + 0.008*\"bento\" + 0.007*\"another\" + 0.007*\"my\"'),\n",
       " (28,\n",
       "  '0.084*\"vega\" + 0.079*\"bbq\" + 0.064*\"fast\" + 0.049*\"la\" + 0.039*\"choose\" + 0.039*\"stop\" + 0.034*\"ordering\" + 0.032*\"variety\" + 0.025*\"2\" + 0.022*\"want\" + 0.021*\"menu\" + 0.020*\"standard\" + 0.017*\"app\" + 0.017*\"side\" + 0.015*\"option\" + 0.015*\"decision\" + 0.014*\"whats\" + 0.013*\"crap\" + 0.012*\"from\" + 0.011*\"right\"'),\n",
       " (29,\n",
       "  '0.106*\"3\" + 0.071*\"free\" + 0.040*\"sunday\" + 0.037*\"chef\" + 0.032*\"white\" + 0.030*\"menu\" + 0.028*\"ton\" + 0.028*\"evening\" + 0.028*\"returning\" + 0.023*\"shared\" + 0.020*\"look\" + 0.020*\"covered\" + 0.020*\"mostly\" + 0.018*\"eggplant\" + 0.017*\"per\" + 0.017*\"vegan\" + 0.015*\"while\" + 0.015*\"music\" + 0.015*\"fill\" + 0.014*\"outside\"'),\n",
       " (30,\n",
       "  '0.080*\"like\" + 0.055*\"meat\" + 0.052*\"way\" + 0.040*\"super\" + 0.033*\"home\" + 0.029*\"half\" + 0.027*\"good\" + 0.026*\"place\" + 0.023*\"quick\" + 0.023*\"tasted\" + 0.022*\"taste\" + 0.022*\"cold\" + 0.022*\"sweet\" + 0.021*\"seating\" + 0.020*\"food\" + 0.019*\"chinese\" + 0.018*\"got\" + 0.018*\"close\" + 0.016*\"really\" + 0.016*\"thats\"'),\n",
       " (31,\n",
       "  '0.057*\"bad\" + 0.052*\"gave\" + 0.042*\"ingredient\" + 0.040*\"perfectly\" + 0.037*\"yelp\" + 0.035*\"review\" + 0.035*\"broth\" + 0.034*\"pho\" + 0.028*\"dining\" + 0.023*\"charged\" + 0.021*\"8\" + 0.021*\"to\" + 0.018*\"seasoned\" + 0.016*\"others\" + 0.016*\"well\" + 0.016*\"addition\" + 0.016*\"running\" + 0.014*\"hash\" + 0.013*\"thats\" + 0.013*\"website\"'),\n",
       " (32,\n",
       "  '0.071*\"them\" + 0.070*\"light\" + 0.065*\"extremely\" + 0.038*\"crepe\" + 0.028*\"level\" + 0.028*\"limited\" + 0.025*\"worse\" + 0.024*\"popular\" + 0.021*\"au\" + 0.021*\"head\" + 0.019*\"sort\" + 0.018*\"wed\" + 0.018*\"band\" + 0.017*\"oyster\" + 0.015*\"poutine\" + 0.014*\"version\" + 0.013*\"fit\" + 0.013*\"coconut\" + 0.013*\"spanish\" + 0.012*\"tight\"'),\n",
       " (33,\n",
       "  '0.088*\"perfect\" + 0.077*\"awesome\" + 0.050*\"owner\" + 0.040*\"italian\" + 0.040*\"local\" + 0.036*\"reservation\" + 0.028*\"weekend\" + 0.024*\"mouth\" + 0.023*\"totally\" + 0.021*\"everything\" + 0.021*\"make\" + 0.020*\"toronto\" + 0.020*\"experience\" + 0.020*\"visit\" + 0.019*\"eye\" + 0.018*\"next\" + 0.017*\"dough\" + 0.016*\"lack\" + 0.014*\"lover\" + 0.014*\"apparently\"'),\n",
       " (34,\n",
       "  '0.056*\"u\" + 0.047*\"table\" + 0.040*\"people\" + 0.027*\"wait\" + 0.022*\"minute\" + 0.022*\"service\" + 0.022*\"going\" + 0.021*\"order\" + 0.018*\"manager\" + 0.017*\"time\" + 0.017*\"food\" + 0.017*\"got\" + 0.017*\"used\" + 0.016*\"waiting\" + 0.015*\"bad\" + 0.015*\"line\" + 0.015*\"could\" + 0.014*\"couple\" + 0.014*\"around\" + 0.013*\"right\"'),\n",
       " (35,\n",
       "  '0.079*\"high\" + 0.069*\"old\" + 0.060*\"choice\" + 0.056*\"done\" + 0.047*\"offer\" + 0.042*\"neighborhood\" + 0.038*\"fine\" + 0.027*\"juice\" + 0.022*\"traditional\" + 0.018*\"orange\" + 0.018*\"hint\" + 0.017*\"feeling\" + 0.016*\"book\" + 0.015*\"efficient\" + 0.015*\"smooth\" + 0.015*\"fairly\" + 0.014*\"low\" + 0.010*\"tier\" + 0.010*\"machine\" + 0.010*\"espresso\"'),\n",
       " (36,\n",
       "  '0.070*\"want\" + 0.068*\"hot\" + 0.058*\"selection\" + 0.058*\"huge\" + 0.053*\"price\" + 0.049*\"option\" + 0.041*\"red\" + 0.024*\"pretty\" + 0.024*\"fan\" + 0.024*\"cheap\" + 0.023*\"might\" + 0.022*\"reasonable\" + 0.021*\"able\" + 0.020*\"eat\" + 0.018*\"too\" + 0.016*\"enjoyable\" + 0.016*\"many\" + 0.015*\"deep\" + 0.014*\"rating\" + 0.011*\"enchilada\"'),\n",
       " (37,\n",
       "  '0.087*\"food\" + 0.056*\"place\" + 0.051*\"great\" + 0.045*\"good\" + 0.044*\"service\" + 0.026*\"back\" + 0.024*\"delicious\" + 0.021*\"amazing\" + 0.021*\"really\" + 0.020*\"go\" + 0.020*\"well\" + 0.019*\"definitely\" + 0.019*\"staff\" + 0.019*\"restaurant\" + 0.018*\"friendly\" + 0.018*\"try\" + 0.017*\"would\" + 0.017*\"time\" + 0.016*\"come\" + 0.014*\"bit\"'),\n",
       " (38,\n",
       "  '0.195*\"bar\" + 0.077*\"must\" + 0.077*\"hard\" + 0.067*\"work\" + 0.066*\"sat\" + 0.046*\"new\" + 0.041*\"boyfriend\" + 0.026*\"behind\" + 0.017*\"accommodating\" + 0.016*\"self\" + 0.014*\"bottle\" + 0.014*\"afternoon\" + 0.010*\"allowed\" + 0.008*\"york\" + 0.008*\"stumbled\" + 0.007*\"allowing\" + 0.007*\"wet\" + 0.007*\"reminds\" + 0.006*\"arcade\" + 0.006*\"site\"'),\n",
       " (39,\n",
       "  '0.037*\"wish\" + 0.035*\"list\" + 0.034*\"least\" + 0.033*\"average\" + 0.029*\"later\" + 0.027*\"called\" + 0.026*\"across\" + 0.025*\"game\" + 0.025*\"salty\" + 0.024*\"finished\" + 0.023*\"phoenix\" + 0.023*\"prepared\" + 0.020*\"soon\" + 0.018*\"basically\" + 0.018*\"medium\" + 0.018*\"school\" + 0.015*\"watch\" + 0.015*\"visited\" + 0.015*\"tv\" + 0.014*\"call\"'),\n",
       " (40,\n",
       "  '0.146*\"husband\" + 0.059*\"care\" + 0.046*\"im\" + 0.046*\"regular\" + 0.039*\"fact\" + 0.031*\"bland\" + 0.031*\"not\" + 0.025*\"greeted\" + 0.024*\"none\" + 0.023*\"review\" + 0.022*\"thank\" + 0.020*\"sorry\" + 0.019*\"strawberry\" + 0.017*\"floor\" + 0.017*\"giving\" + 0.017*\"grit\" + 0.015*\"smell\" + 0.015*\"although\" + 0.013*\"disgusting\" + 0.013*\"taken\"'),\n",
       " (41,\n",
       "  '0.049*\"chocolate\" + 0.043*\"tea\" + 0.040*\"mac\" + 0.035*\"serve\" + 0.031*\"cookie\" + 0.030*\"disappointing\" + 0.028*\"liked\" + 0.025*\"lamb\" + 0.022*\"cafe\" + 0.019*\"note\" + 0.018*\"type\" + 0.017*\"thin\" + 0.016*\"problem\" + 0.016*\"otherwise\" + 0.015*\"conversation\" + 0.015*\"sugar\" + 0.015*\"cooky\" + 0.013*\"option\" + 0.013*\"fancy\" + 0.012*\"middle\"'),\n",
       " (42,\n",
       "  '0.080*\"wine\" + 0.079*\"spot\" + 0.064*\"town\" + 0.047*\"thai\" + 0.038*\"best\" + 0.034*\"sausage\" + 0.032*\"entire\" + 0.030*\"curry\" + 0.025*\"dip\" + 0.022*\"korean\" + 0.020*\"george\" + 0.019*\"environment\" + 0.016*\"word\" + 0.014*\"pad\" + 0.013*\"boba\" + 0.013*\"mocha\" + 0.013*\"super\" + 0.012*\"yum\" + 0.010*\"tonkotsu\" + 0.009*\"range\"'),\n",
       " (43,\n",
       "  '0.047*\"1\" + 0.046*\"seafood\" + 0.046*\"dog\" + 0.039*\"counter\" + 0.038*\"6\" + 0.036*\"may\" + 0.028*\"seem\" + 0.026*\"soft\" + 0.025*\"set\" + 0.025*\"round\" + 0.021*\"soggy\" + 0.020*\"combination\" + 0.019*\"creamy\" + 0.019*\"cannot\" + 0.018*\"towards\" + 0.018*\"diner\" + 0.016*\"basic\" + 0.016*\"hate\" + 0.014*\"store\" + 0.013*\"california\"'),\n",
       " (44,\n",
       "  '0.052*\"wanted\" + 0.048*\"many\" + 0.042*\"family\" + 0.037*\"guy\" + 0.036*\"outside\" + 0.035*\"bartender\" + 0.035*\"rib\" + 0.033*\"group\" + 0.030*\"joint\" + 0.030*\"everyone\" + 0.027*\"experience\" + 0.025*\"together\" + 0.019*\"seems\" + 0.019*\"see\" + 0.019*\"waiter\" + 0.018*\"upon\" + 0.017*\"take\" + 0.016*\"attentive\" + 0.015*\"bagel\" + 0.015*\"charge\"'),\n",
       " (45,\n",
       "  '0.062*\"else\" + 0.048*\"combo\" + 0.042*\"real\" + 0.029*\"understand\" + 0.028*\"deal\" + 0.028*\"anything\" + 0.027*\"exactly\" + 0.026*\"clam\" + 0.025*\"card\" + 0.023*\"shop\" + 0.022*\"tonight\" + 0.022*\"event\" + 0.021*\"melt\" + 0.019*\"honey\" + 0.019*\"speak\" + 0.018*\"hole\" + 0.018*\"establishment\" + 0.017*\"scottsdale\" + 0.016*\"sample\" + 0.015*\"celebration\"'),\n",
       " (46,\n",
       "  '0.092*\"happy\" + 0.079*\"hour\" + 0.061*\"nothing\" + 0.049*\"business\" + 0.047*\"ended\" + 0.035*\"horrible\" + 0.032*\"loud\" + 0.030*\"priced\" + 0.025*\"surprised\" + 0.025*\"solid\" + 0.019*\"talking\" + 0.018*\"anything\" + 0.017*\"whether\" + 0.016*\"drink\" + 0.016*\"hotel\" + 0.013*\"hear\" + 0.013*\"soda\" + 0.012*\"reasonably\" + 0.011*\"also\" + 0.011*\"nearby\"'),\n",
       " (47,\n",
       "  '0.172*\"favorite\" + 0.100*\"spicy\" + 0.033*\"gotta\" + 0.031*\"cucumber\" + 0.028*\"phone\" + 0.028*\"miss\" + 0.026*\"cooking\" + 0.025*\"12\" + 0.021*\"complain\" + 0.019*\"fair\" + 0.018*\"moved\" + 0.012*\"coworkers\" + 0.012*\"delicate\" + 0.011*\"sm\" + 0.011*\"gh\" + 0.011*\"honest\" + 0.010*\"regret\" + 0.010*\"memory\" + 0.010*\"east\" + 0.009*\"il\"'),\n",
       " (48,\n",
       "  '0.100*\"enjoyed\" + 0.069*\"house\" + 0.059*\"wonderful\" + 0.052*\"ambiance\" + 0.036*\"son\" + 0.031*\"etc\" + 0.031*\"walked\" + 0.024*\"oil\" + 0.023*\"stuff\" + 0.018*\"rather\" + 0.015*\"with\" + 0.015*\"slaw\" + 0.013*\"meal\" + 0.012*\"scallop\" + 0.009*\"age\" + 0.009*\"austin\" + 0.009*\"gnocchi\" + 0.009*\"delightful\" + 0.008*\"wild\" + 0.008*\"kinda\"'),\n",
       " (49,\n",
       "  '0.071*\"time\" + 0.041*\"get\" + 0.030*\"it\" + 0.028*\"im\" + 0.028*\"first\" + 0.027*\"one\" + 0.027*\"like\" + 0.025*\"eat\" + 0.024*\"here\" + 0.023*\"place\" + 0.020*\"thing\" + 0.020*\"really\" + 0.019*\"never\" + 0.017*\"drink\" + 0.016*\"also\" + 0.016*\"next\" + 0.016*\"got\" + 0.015*\"love\" + 0.015*\"there\" + 0.014*\"go\"')]"
      ]
     },
     "execution_count": 146,
     "metadata": {},
     "output_type": "execute_result"
    }
   ],
   "source": [
    "best = 50\n",
    "models[str(best)].print_topics(num_topics=best, num_words=20)"
   ]
  },
  {
   "cell_type": "code",
   "execution_count": null,
   "metadata": {},
   "outputs": [],
   "source": []
  }
 ],
 "metadata": {
  "kernelspec": {
   "display_name": "Python 3",
   "language": "python",
   "name": "python3"
  },
  "language_info": {
   "codemirror_mode": {
    "name": "ipython",
    "version": 3
   },
   "file_extension": ".py",
   "mimetype": "text/x-python",
   "name": "python",
   "nbconvert_exporter": "python",
   "pygments_lexer": "ipython3",
   "version": "3.6.4"
  }
 },
 "nbformat": 4,
 "nbformat_minor": 2
}
