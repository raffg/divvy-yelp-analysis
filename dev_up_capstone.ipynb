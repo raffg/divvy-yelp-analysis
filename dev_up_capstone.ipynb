{
 "cells": [
  {
   "cell_type": "code",
   "execution_count": 1,
   "metadata": {},
   "outputs": [],
   "source": [
    "import pandas as pd\n",
    "import numpy as np\n",
    "import json\n",
    "import matplotlib.pyplot as plt\n",
    "%matplotlib inline"
   ]
  },
  {
   "cell_type": "markdown",
   "metadata": {},
   "source": [
    "# Divvy data"
   ]
  },
  {
   "cell_type": "markdown",
   "metadata": {},
   "source": [
    "## Load and concat the Divvy datasets\n",
    "Download Divvy 2017 datasets from here: https://www.divvybikes.com/system-data"
   ]
  },
  {
   "cell_type": "code",
   "execution_count": 2,
   "metadata": {},
   "outputs": [],
   "source": [
    "divvy1 = pd.read_csv('data/Divvy_Trips_2017_Q1Q2/Divvy_Trips_2017_Q1.csv', parse_dates=['start_time', 'end_time'])\n",
    "divvy2 = pd.read_csv('data/Divvy_Trips_2017_Q1Q2/Divvy_Trips_2017_Q2.csv', parse_dates=['start_time', 'end_time'])\n",
    "divvy3 = pd.read_csv('data/Divvy_Trips_2017_Q3Q4/Divvy_Trips_2017_Q3.csv', parse_dates=['start_time', 'end_time'])\n",
    "divvy4 = pd.read_csv('data/Divvy_Trips_2017_Q3Q4/Divvy_Trips_2017_Q4.csv', parse_dates=['start_time', 'end_time'])\n",
    "\n",
    "divvy = pd.concat([divvy1, divvy2, divvy3, divvy4], ignore_index=True)\n",
    "\n",
    "divvy.to_csv('data/divvy_2017.csv', index=False)"
   ]
  },
  {
   "cell_type": "code",
   "execution_count": 3,
   "metadata": {},
   "outputs": [],
   "source": [
    "divvy = pd.read_csv('data/divvy_2017.csv')"
   ]
  },
  {
   "cell_type": "code",
   "execution_count": 4,
   "metadata": {},
   "outputs": [],
   "source": [
    "station_list = set(list(divvy['from_station_name'].unique()) + list(divvy['to_station_name'].unique()))"
   ]
  },
  {
   "cell_type": "code",
   "execution_count": 5,
   "metadata": {},
   "outputs": [
    {
     "data": {
      "text/plain": [
       "593"
      ]
     },
     "execution_count": 5,
     "metadata": {},
     "output_type": "execute_result"
    }
   ],
   "source": [
    "len(station_list)"
   ]
  },
  {
   "cell_type": "code",
   "execution_count": 143,
   "metadata": {},
   "outputs": [
    {
     "data": {
      "text/html": [
       "<div>\n",
       "<style scoped>\n",
       "    .dataframe tbody tr th:only-of-type {\n",
       "        vertical-align: middle;\n",
       "    }\n",
       "\n",
       "    .dataframe tbody tr th {\n",
       "        vertical-align: top;\n",
       "    }\n",
       "\n",
       "    .dataframe thead th {\n",
       "        text-align: right;\n",
       "    }\n",
       "</style>\n",
       "<table border=\"1\" class=\"dataframe\">\n",
       "  <thead>\n",
       "    <tr style=\"text-align: right;\">\n",
       "      <th></th>\n",
       "      <th>Unnamed: 0</th>\n",
       "      <th>trip_id</th>\n",
       "      <th>start_time</th>\n",
       "      <th>end_time</th>\n",
       "      <th>bikeid</th>\n",
       "      <th>tripduration</th>\n",
       "      <th>from_station_id</th>\n",
       "      <th>from_station_name</th>\n",
       "      <th>to_station_id</th>\n",
       "      <th>to_station_name</th>\n",
       "      <th>usertype</th>\n",
       "      <th>gender</th>\n",
       "      <th>birthyear</th>\n",
       "      <th>from_station_latitude</th>\n",
       "      <th>from_station_longitude</th>\n",
       "      <th>to_station_latitude</th>\n",
       "      <th>to_station_longitude</th>\n",
       "      <th>trip_stations</th>\n",
       "      <th>trip_distance</th>\n",
       "      <th>speed</th>\n",
       "    </tr>\n",
       "  </thead>\n",
       "  <tbody>\n",
       "    <tr>\n",
       "      <th>0</th>\n",
       "      <td>0</td>\n",
       "      <td>13518905</td>\n",
       "      <td>2017-03-31 23:59:07</td>\n",
       "      <td>2017-04-01 00:13:24</td>\n",
       "      <td>5292</td>\n",
       "      <td>857</td>\n",
       "      <td>66</td>\n",
       "      <td>Clinton St &amp; Lake St</td>\n",
       "      <td>171</td>\n",
       "      <td>May St &amp; Cullerton St</td>\n",
       "      <td>Subscriber</td>\n",
       "      <td>Male</td>\n",
       "      <td>1989.0</td>\n",
       "      <td>41.885637</td>\n",
       "      <td>-87.641823</td>\n",
       "      <td>41.855136</td>\n",
       "      <td>-87.654127</td>\n",
       "      <td>Clinton St &amp; Lake St TO May St &amp; Cullerton St</td>\n",
       "      <td>4423.016189</td>\n",
       "      <td>5.161046</td>\n",
       "    </tr>\n",
       "    <tr>\n",
       "      <th>1</th>\n",
       "      <td>1</td>\n",
       "      <td>13518904</td>\n",
       "      <td>2017-03-31 23:56:25</td>\n",
       "      <td>2017-04-01 00:00:21</td>\n",
       "      <td>4408</td>\n",
       "      <td>236</td>\n",
       "      <td>199</td>\n",
       "      <td>Wabash Ave &amp; Grand Ave</td>\n",
       "      <td>26</td>\n",
       "      <td>McClurg Ct &amp; Illinois St</td>\n",
       "      <td>Subscriber</td>\n",
       "      <td>Male</td>\n",
       "      <td>1990.0</td>\n",
       "      <td>41.891466</td>\n",
       "      <td>-87.626761</td>\n",
       "      <td>41.890359</td>\n",
       "      <td>-87.617532</td>\n",
       "      <td>Wabash Ave &amp; Grand Ave TO McClurg Ct &amp; Illinoi...</td>\n",
       "      <td>969.675670</td>\n",
       "      <td>4.108795</td>\n",
       "    </tr>\n",
       "    <tr>\n",
       "      <th>2</th>\n",
       "      <td>2</td>\n",
       "      <td>13518903</td>\n",
       "      <td>2017-03-31 23:55:33</td>\n",
       "      <td>2017-04-01 00:01:21</td>\n",
       "      <td>696</td>\n",
       "      <td>348</td>\n",
       "      <td>520</td>\n",
       "      <td>Greenview Ave &amp; Jarvis Ave</td>\n",
       "      <td>432</td>\n",
       "      <td>Clark St &amp; Lunt Ave</td>\n",
       "      <td>Subscriber</td>\n",
       "      <td>Female</td>\n",
       "      <td>1979.0</td>\n",
       "      <td>42.015962</td>\n",
       "      <td>-87.668570</td>\n",
       "      <td>42.009074</td>\n",
       "      <td>-87.674190</td>\n",
       "      <td>Greenview Ave &amp; Jarvis Ave TO Clark St &amp; Lunt Ave</td>\n",
       "      <td>1119.470513</td>\n",
       "      <td>3.216869</td>\n",
       "    </tr>\n",
       "    <tr>\n",
       "      <th>3</th>\n",
       "      <td>3</td>\n",
       "      <td>13518902</td>\n",
       "      <td>2017-03-31 23:54:46</td>\n",
       "      <td>2017-03-31 23:59:34</td>\n",
       "      <td>4915</td>\n",
       "      <td>288</td>\n",
       "      <td>110</td>\n",
       "      <td>Dearborn St &amp; Erie St</td>\n",
       "      <td>142</td>\n",
       "      <td>McClurg Ct &amp; Erie St</td>\n",
       "      <td>Subscriber</td>\n",
       "      <td>Male</td>\n",
       "      <td>1985.0</td>\n",
       "      <td>41.893992</td>\n",
       "      <td>-87.629318</td>\n",
       "      <td>41.894503</td>\n",
       "      <td>-87.617854</td>\n",
       "      <td>Dearborn St &amp; Erie St TO McClurg Ct &amp; Erie St</td>\n",
       "      <td>1191.329565</td>\n",
       "      <td>4.136561</td>\n",
       "    </tr>\n",
       "    <tr>\n",
       "      <th>4</th>\n",
       "      <td>4</td>\n",
       "      <td>13518901</td>\n",
       "      <td>2017-03-31 23:53:33</td>\n",
       "      <td>2017-04-01 00:00:28</td>\n",
       "      <td>4247</td>\n",
       "      <td>415</td>\n",
       "      <td>327</td>\n",
       "      <td>Sheffield Ave &amp; Webster Ave</td>\n",
       "      <td>331</td>\n",
       "      <td>Halsted St &amp; Blackhawk St (*)</td>\n",
       "      <td>Subscriber</td>\n",
       "      <td>Female</td>\n",
       "      <td>1989.0</td>\n",
       "      <td>41.921540</td>\n",
       "      <td>-87.653818</td>\n",
       "      <td>NaN</td>\n",
       "      <td>NaN</td>\n",
       "      <td>Sheffield Ave &amp; Webster Ave TO Halsted St &amp; Bl...</td>\n",
       "      <td>NaN</td>\n",
       "      <td>NaN</td>\n",
       "    </tr>\n",
       "  </tbody>\n",
       "</table>\n",
       "</div>"
      ],
      "text/plain": [
       "   Unnamed: 0   trip_id           start_time             end_time  bikeid  \\\n",
       "0           0  13518905  2017-03-31 23:59:07  2017-04-01 00:13:24    5292   \n",
       "1           1  13518904  2017-03-31 23:56:25  2017-04-01 00:00:21    4408   \n",
       "2           2  13518903  2017-03-31 23:55:33  2017-04-01 00:01:21     696   \n",
       "3           3  13518902  2017-03-31 23:54:46  2017-03-31 23:59:34    4915   \n",
       "4           4  13518901  2017-03-31 23:53:33  2017-04-01 00:00:28    4247   \n",
       "\n",
       "   tripduration  from_station_id            from_station_name  to_station_id  \\\n",
       "0           857               66         Clinton St & Lake St            171   \n",
       "1           236              199       Wabash Ave & Grand Ave             26   \n",
       "2           348              520   Greenview Ave & Jarvis Ave            432   \n",
       "3           288              110        Dearborn St & Erie St            142   \n",
       "4           415              327  Sheffield Ave & Webster Ave            331   \n",
       "\n",
       "                 to_station_name    usertype  gender  birthyear  \\\n",
       "0          May St & Cullerton St  Subscriber    Male     1989.0   \n",
       "1       McClurg Ct & Illinois St  Subscriber    Male     1990.0   \n",
       "2            Clark St & Lunt Ave  Subscriber  Female     1979.0   \n",
       "3           McClurg Ct & Erie St  Subscriber    Male     1985.0   \n",
       "4  Halsted St & Blackhawk St (*)  Subscriber  Female     1989.0   \n",
       "\n",
       "   from_station_latitude  from_station_longitude  to_station_latitude  \\\n",
       "0              41.885637              -87.641823            41.855136   \n",
       "1              41.891466              -87.626761            41.890359   \n",
       "2              42.015962              -87.668570            42.009074   \n",
       "3              41.893992              -87.629318            41.894503   \n",
       "4              41.921540              -87.653818                  NaN   \n",
       "\n",
       "   to_station_longitude                                      trip_stations  \\\n",
       "0            -87.654127      Clinton St & Lake St TO May St & Cullerton St   \n",
       "1            -87.617532  Wabash Ave & Grand Ave TO McClurg Ct & Illinoi...   \n",
       "2            -87.674190  Greenview Ave & Jarvis Ave TO Clark St & Lunt Ave   \n",
       "3            -87.617854      Dearborn St & Erie St TO McClurg Ct & Erie St   \n",
       "4                   NaN  Sheffield Ave & Webster Ave TO Halsted St & Bl...   \n",
       "\n",
       "   trip_distance     speed  \n",
       "0    4423.016189  5.161046  \n",
       "1     969.675670  4.108795  \n",
       "2    1119.470513  3.216869  \n",
       "3    1191.329565  4.136561  \n",
       "4            NaN       NaN  "
      ]
     },
     "execution_count": 143,
     "metadata": {},
     "output_type": "execute_result"
    }
   ],
   "source": [
    "divvy.head()"
   ]
  },
  {
   "cell_type": "markdown",
   "metadata": {},
   "source": [
    "## Load Divvy station info for GPS coordinates\n",
    "Download the stations json file from the same location: https://www.divvybikes.com/system-data"
   ]
  },
  {
   "cell_type": "code",
   "execution_count": 6,
   "metadata": {},
   "outputs": [],
   "source": [
    "with open('data/stations.json') as json_data:\n",
    "    station_data = json.load(json_data)"
   ]
  },
  {
   "cell_type": "code",
   "execution_count": 145,
   "metadata": {},
   "outputs": [
    {
     "data": {
      "text/plain": [
       "[{'altitude': '',\n",
       "  'availableBikes': 0,\n",
       "  'availableDocks': 39,\n",
       "  'city': 'Chicago',\n",
       "  'id': 2,\n",
       "  'is_renting': True,\n",
       "  'kioskType': 'K3_FULL',\n",
       "  'landMark': '15541',\n",
       "  'lastCommunicationTime': '2018-10-09 13:09:02',\n",
       "  'latitude': 41.87647,\n",
       "  'location': '',\n",
       "  'longitude': -87.62034,\n",
       "  'postalCode': '60605',\n",
       "  'stAddress1': 'Buckingham Fountain',\n",
       "  'stAddress2': '',\n",
       "  'stationName': 'Buckingham Fountain',\n",
       "  'status': 'IN_SERVICE',\n",
       "  'statusKey': 1,\n",
       "  'statusValue': 'In Service',\n",
       "  'testStation': False,\n",
       "  'totalDocks': 39},\n",
       " {'altitude': '',\n",
       "  'availableBikes': 28,\n",
       "  'availableDocks': 26,\n",
       "  'city': 'Chicago',\n",
       "  'id': 3,\n",
       "  'is_renting': True,\n",
       "  'kioskType': 'K3_FULL',\n",
       "  'landMark': '15544',\n",
       "  'lastCommunicationTime': '2018-10-09 13:08:47',\n",
       "  'latitude': 41.86722595682,\n",
       "  'location': '',\n",
       "  'longitude': -87.6153553902,\n",
       "  'postalCode': '',\n",
       "  'stAddress1': 'Shedd Aquarium',\n",
       "  'stAddress2': '',\n",
       "  'stationName': 'Shedd Aquarium',\n",
       "  'status': 'IN_SERVICE',\n",
       "  'statusKey': 1,\n",
       "  'statusValue': 'In Service',\n",
       "  'testStation': False,\n",
       "  'totalDocks': 55}]"
      ]
     },
     "execution_count": 145,
     "metadata": {},
     "output_type": "execute_result"
    }
   ],
   "source": [
    "station_data['stationBeanList'][:2]"
   ]
  },
  {
   "cell_type": "code",
   "execution_count": 8,
   "metadata": {},
   "outputs": [],
   "source": [
    "stations = [station['stationName'] for station in station_data['stationBeanList']]\n",
    "latitude = [station['latitude'] for station in station_data['stationBeanList']]\n",
    "longitude = [station['longitude'] for station in station_data['stationBeanList']]"
   ]
  },
  {
   "cell_type": "code",
   "execution_count": 9,
   "metadata": {},
   "outputs": [],
   "source": [
    "# unknown = []\n",
    "# for station in station_list:\n",
    "#     if station not in stations:\n",
    "#         unknown.append(station)\n",
    "# unknown"
   ]
  },
  {
   "cell_type": "code",
   "execution_count": 10,
   "metadata": {},
   "outputs": [],
   "source": [
    "station_gps = pd.DataFrame({'station_name': stations, 'latitude': latitude, 'longitude': longitude})"
   ]
  },
  {
   "cell_type": "code",
   "execution_count": 11,
   "metadata": {},
   "outputs": [
    {
     "data": {
      "text/html": [
       "<div>\n",
       "<style scoped>\n",
       "    .dataframe tbody tr th:only-of-type {\n",
       "        vertical-align: middle;\n",
       "    }\n",
       "\n",
       "    .dataframe tbody tr th {\n",
       "        vertical-align: top;\n",
       "    }\n",
       "\n",
       "    .dataframe thead th {\n",
       "        text-align: right;\n",
       "    }\n",
       "</style>\n",
       "<table border=\"1\" class=\"dataframe\">\n",
       "  <thead>\n",
       "    <tr style=\"text-align: right;\">\n",
       "      <th></th>\n",
       "      <th>station_name</th>\n",
       "      <th>latitude</th>\n",
       "      <th>longitude</th>\n",
       "    </tr>\n",
       "  </thead>\n",
       "  <tbody>\n",
       "    <tr>\n",
       "      <th>0</th>\n",
       "      <td>Buckingham Fountain</td>\n",
       "      <td>41.876470</td>\n",
       "      <td>-87.620340</td>\n",
       "    </tr>\n",
       "    <tr>\n",
       "      <th>1</th>\n",
       "      <td>Shedd Aquarium</td>\n",
       "      <td>41.867226</td>\n",
       "      <td>-87.615355</td>\n",
       "    </tr>\n",
       "    <tr>\n",
       "      <th>2</th>\n",
       "      <td>Burnham Harbor</td>\n",
       "      <td>41.856268</td>\n",
       "      <td>-87.613348</td>\n",
       "    </tr>\n",
       "    <tr>\n",
       "      <th>3</th>\n",
       "      <td>State St &amp; Harrison St</td>\n",
       "      <td>41.874053</td>\n",
       "      <td>-87.627716</td>\n",
       "    </tr>\n",
       "    <tr>\n",
       "      <th>4</th>\n",
       "      <td>Dusable Harbor</td>\n",
       "      <td>41.886976</td>\n",
       "      <td>-87.612813</td>\n",
       "    </tr>\n",
       "  </tbody>\n",
       "</table>\n",
       "</div>"
      ],
      "text/plain": [
       "             station_name   latitude  longitude\n",
       "0     Buckingham Fountain  41.876470 -87.620340\n",
       "1          Shedd Aquarium  41.867226 -87.615355\n",
       "2          Burnham Harbor  41.856268 -87.613348\n",
       "3  State St & Harrison St  41.874053 -87.627716\n",
       "4          Dusable Harbor  41.886976 -87.612813"
      ]
     },
     "execution_count": 11,
     "metadata": {},
     "output_type": "execute_result"
    }
   ],
   "source": [
    "station_gps.head()"
   ]
  },
  {
   "cell_type": "code",
   "execution_count": 12,
   "metadata": {},
   "outputs": [],
   "source": [
    "def gps_lookup(location):\n",
    "    match = (station_gps['station_name'] == location)\n",
    "    coord = station_gps['latitude'][match]\n",
    "    if len(coord) > 0:\n",
    "        return pd.Series([coord.values[0], station_gps['longitude'][match].values[0]])\n",
    "    else:\n",
    "        return pd.Series([np.nan, np.nan])"
   ]
  },
  {
   "cell_type": "code",
   "execution_count": 13,
   "metadata": {},
   "outputs": [],
   "source": [
    "divvy[['from_station_latitude', 'from_station_longitude']] = divvy['from_station_name'].apply(gps_lookup)\n",
    "divvy[['to_station_latitude', 'to_station_longitude']] = divvy['to_station_name'].apply(gps_lookup)"
   ]
  },
  {
   "cell_type": "code",
   "execution_count": 14,
   "metadata": {},
   "outputs": [],
   "source": [
    "divvy.to_csv('data/divvy_2017.csv', index=False)"
   ]
  },
  {
   "cell_type": "code",
   "execution_count": 15,
   "metadata": {},
   "outputs": [],
   "source": [
    "divvy = pd.read_csv('data/divvy_2017.csv')"
   ]
  },
  {
   "cell_type": "markdown",
   "metadata": {},
   "source": [
    "### 1) Top 5 stations with the most starts (showing # of starts)"
   ]
  },
  {
   "cell_type": "code",
   "execution_count": 16,
   "metadata": {},
   "outputs": [
    {
     "data": {
      "text/plain": [
       "from_station_name\n",
       "Streeter Dr & Grand Ave         97571\n",
       "Lake Shore Dr & Monroe St       53400\n",
       "Canal St & Adams St             50911\n",
       "Clinton St & Washington Blvd    49832\n",
       "Theater on the Lake             47908\n",
       "Name: from_station_name, dtype: int64"
      ]
     },
     "execution_count": 16,
     "metadata": {},
     "output_type": "execute_result"
    }
   ],
   "source": [
    "station_starts = divvy.groupby(['from_station_name'])['from_station_name'].count().sort_values(ascending=False)\n",
    "station_starts.head()"
   ]
  },
  {
   "cell_type": "code",
   "execution_count": 17,
   "metadata": {},
   "outputs": [
    {
     "data": {
      "image/png": "[encoded data removed]",
      "text/plain": [
       "<Figure size 1080x720 with 1 Axes>"
      ]
     },
     "metadata": {},
     "output_type": "display_data"
    }
   ],
   "source": [
    "ax = station_starts.head(5).plot(kind='bar', figsize=(15, 10), title='Top 5 Stations with Most Starts')\n",
    "for p in ax.patches:\n",
    "    ax.annotate(str(p.get_height()), (p.get_x() * 1.005 + .15, p.get_height() * 1.005))"
   ]
  },
  {
   "cell_type": "markdown",
   "metadata": {},
   "source": [
    "### 2) Trip duration by user type"
   ]
  },
  {
   "cell_type": "code",
   "execution_count": 18,
   "metadata": {},
   "outputs": [
    {
     "data": {
      "text/plain": [
       "usertype\n",
       "Customer      1856.081443\n",
       "Dependent      751.857143\n",
       "Subscriber     703.787619\n",
       "Name: tripduration, dtype: float64"
      ]
     },
     "execution_count": 18,
     "metadata": {},
     "output_type": "execute_result"
    }
   ],
   "source": [
    "trip_duration = divvy.groupby(['usertype'])['tripduration'].mean().sort_values(ascending=False)\n",
    "trip_duration"
   ]
  },
  {
   "cell_type": "code",
   "execution_count": 19,
   "metadata": {},
   "outputs": [
    {
     "data": {
      "image/png": "[encoded data removed]",
      "text/plain": [
       "<Figure size 1080x720 with 1 Axes>"
      ]
     },
     "metadata": {},
     "output_type": "display_data"
    }
   ],
   "source": [
    "ax = divvy.boxplot(column='tripduration', by='usertype', figsize=(15,10))"
   ]
  },
  {
   "cell_type": "code",
   "execution_count": 20,
   "metadata": {},
   "outputs": [
    {
     "data": {
      "image/png": "[encoded data removed]",
      "text/plain": [
       "<Figure size 1080x720 with 1 Axes>"
      ]
     },
     "metadata": {},
     "output_type": "display_data"
    }
   ],
   "source": [
    "ax = divvy.boxplot(column='tripduration', by='usertype', figsize=(15,10), showfliers=False)"
   ]
  },
  {
   "cell_type": "markdown",
   "metadata": {},
   "source": [
    "### 3) Most popular trips based on start station and stop station"
   ]
  },
  {
   "cell_type": "code",
   "execution_count": 21,
   "metadata": {},
   "outputs": [],
   "source": [
    "divvy['trip_stations'] = divvy['from_station_name'] + ' TO ' + divvy['to_station_name']"
   ]
  },
  {
   "cell_type": "code",
   "execution_count": 22,
   "metadata": {},
   "outputs": [
    {
     "data": {
      "text/plain": [
       "trip_stations\n",
       "Lake Shore Dr & Monroe St TO Streeter Dr & Grand Ave     12171\n",
       "Streeter Dr & Grand Ave TO Streeter Dr & Grand Ave       10042\n",
       "Streeter Dr & Grand Ave TO Theater on the Lake            8180\n",
       "Streeter Dr & Grand Ave TO Lake Shore Dr & North Blvd     7993\n",
       "Lake Shore Dr & North Blvd TO Streeter Dr & Grand Ave     7226\n",
       "Name: trip_stations, dtype: int64"
      ]
     },
     "execution_count": 22,
     "metadata": {},
     "output_type": "execute_result"
    }
   ],
   "source": [
    "trip_stations = divvy.groupby(['trip_stations'])['trip_stations'].count().sort_values(ascending=False)\n",
    "trip_stations.head()"
   ]
  },
  {
   "cell_type": "code",
   "execution_count": 23,
   "metadata": {},
   "outputs": [
    {
     "data": {
      "image/png": "[encoded data removed]",
      "text/plain": [
       "<Figure size 1080x720 with 1 Axes>"
      ]
     },
     "metadata": {},
     "output_type": "display_data"
    }
   ],
   "source": [
    "ax = trip_stations.head(10).plot(kind='bar', figsize=(15, 10), title='Top 10 Most Popular Trips')\n",
    "for p in ax.patches:\n",
    "    ax.annotate(str(p.get_height()), (p.get_x() * 1.005 + .05, p.get_height() * 1.005))"
   ]
  },
  {
   "cell_type": "markdown",
   "metadata": {},
   "source": [
    "### Create dataframe of paths for Tableau chart"
   ]
  },
  {
   "cell_type": "code",
   "execution_count": 24,
   "metadata": {},
   "outputs": [],
   "source": [
    "trip_dict = {'path': list(trip_stations.index), 'frequency': list(trip_stations.values)}\n",
    "trip_dict['origin'] = [x.split(' TO ')[0] for x in trip_dict['path']]\n",
    "trip_dict['destination'] = [x.split(' TO ')[1] for x in trip_dict['path']]"
   ]
  },
  {
   "cell_type": "code",
   "execution_count": 25,
   "metadata": {},
   "outputs": [],
   "source": [
    "from collections import defaultdict\n",
    "\n",
    "trips = defaultdict(list)\n",
    "\n",
    "for idx in range(len(trip_dict['path'])):\n",
    "    trips['path'].append(trip_dict['path'][idx])\n",
    "    trips['frequency'].append(trip_dict['frequency'][idx])\n",
    "    trips['origin-destination'].append('origin')\n",
    "    trips['station'].append(trip_dict['origin'][idx])\n",
    "    \n",
    "    trips['path'].append(trip_dict['path'][idx])\n",
    "    trips['frequency'].append(trip_dict['frequency'][idx])\n",
    "    trips['origin-destination'].append('destination')\n",
    "    trips['station'].append(trip_dict['destination'][idx])"
   ]
  },
  {
   "cell_type": "code",
   "execution_count": 26,
   "metadata": {},
   "outputs": [],
   "source": [
    "stations_gps = (divvy[divvy['from_station_name'].duplicated()]\n",
    "                [['from_station_name', 'from_station_latitude', 'from_station_longitude']].reset_index(drop=True))"
   ]
  },
  {
   "cell_type": "code",
   "execution_count": 27,
   "metadata": {},
   "outputs": [],
   "source": [
    "trips_df = pd.DataFrame(trips).merge(stations_gps.drop_duplicates(subset=['from_station_name']),\n",
    "                                     how='left',\n",
    "                                     left_on='station',\n",
    "                                     right_on='from_station_name')"
   ]
  },
  {
   "cell_type": "code",
   "execution_count": 28,
   "metadata": {},
   "outputs": [],
   "source": [
    "trips_df.drop(['from_station_name'], axis=1, inplace=True)"
   ]
  },
  {
   "cell_type": "code",
   "execution_count": 29,
   "metadata": {},
   "outputs": [],
   "source": [
    "trips_df.to_csv('data/divvy_trips.csv')"
   ]
  },
  {
   "cell_type": "markdown",
   "metadata": {},
   "source": [
    "### 4) Rider performance by Gender and Age based on avg trip distance (station to station), median speed (distance traveled / trip duration)"
   ]
  },
  {
   "cell_type": "markdown",
   "metadata": {},
   "source": [
    "Multiply geodesic distance by 1.25. Routes follow roads but the calculated route is direct (geodesic). A route straight down a road would be the same as the direct route; a route diagnoal to roads would be multiplied by 1.414 (thanks, Pythagoras!); assuming routes are evenly split between diagonal and direct, with some wiggle room, I'm splitting the difference at 1.25.\n",
    "\n",
    "I looked at using the Google Maps api to calculate the actual, along-the-road distance, but they've removed the free api key option. I also looked at Bing Maps, but it's rate limited and I have more than 98,000 routes in this dataset (and once I saw how big that number was, I realized that using api calls would take more than a few days!). So I opted for this *x1.25* method which is less accurate but far quicker and cheaper."
   ]
  },
  {
   "cell_type": "code",
   "execution_count": 39,
   "metadata": {},
   "outputs": [],
   "source": [
    "from math import isnan\n",
    "from geopy import distance\n",
    "\n",
    "def find_distance(row):\n",
    "    if (not isnan(row['from_station_latitude']) and\n",
    "        not isnan(row['from_station_longitude']) and\n",
    "        not isnan(row['to_station_latitude']) and\n",
    "        not isnan(row['to_station_longitude'])):\n",
    "        dist = (1.25 * (distance.distance((row['from_station_latitude'], row['from_station_longitude']),\n",
    "                                          (row['to_station_latitude'], row['to_station_longitude'])).m))\n",
    "        return dist\n",
    "    else:\n",
    "        return np.nan"
   ]
  },
  {
   "cell_type": "code",
   "execution_count": 41,
   "metadata": {},
   "outputs": [],
   "source": [
    "divvy['trip_distance'] = divvy.apply(find_distance, axis=1)\n",
    "divvy['speed'] = divvy['trip_distance'] / divvy['tripduration']"
   ]
  },
  {
   "cell_type": "code",
   "execution_count": 42,
   "metadata": {},
   "outputs": [],
   "source": [
    "divvy.to_csv('data/divvy_2017.csv')"
   ]
  },
  {
   "cell_type": "code",
   "execution_count": 43,
   "metadata": {},
   "outputs": [],
   "source": [
    "divvy = pd.read_csv('data/divvy_2017.csv')"
   ]
  },
  {
   "cell_type": "markdown",
   "metadata": {},
   "source": [
    "### 5) What is the busiest bike in Chicago in 2017? How many times was it used? How many minutes was it in use?"
   ]
  },
  {
   "cell_type": "code",
   "execution_count": 144,
   "metadata": {},
   "outputs": [
    {
     "data": {
      "text/html": [
       "<div>\n",
       "<style scoped>\n",
       "    .dataframe tbody tr th:only-of-type {\n",
       "        vertical-align: middle;\n",
       "    }\n",
       "\n",
       "    .dataframe tbody tr th {\n",
       "        vertical-align: top;\n",
       "    }\n",
       "\n",
       "    .dataframe thead th {\n",
       "        text-align: right;\n",
       "    }\n",
       "</style>\n",
       "<table border=\"1\" class=\"dataframe\">\n",
       "  <thead>\n",
       "    <tr style=\"text-align: right;\">\n",
       "      <th></th>\n",
       "      <th>Unnamed: 0</th>\n",
       "      <th>trip_id</th>\n",
       "      <th>start_time</th>\n",
       "      <th>end_time</th>\n",
       "      <th>bikeid</th>\n",
       "      <th>tripduration</th>\n",
       "      <th>from_station_id</th>\n",
       "      <th>from_station_name</th>\n",
       "      <th>to_station_id</th>\n",
       "      <th>to_station_name</th>\n",
       "      <th>usertype</th>\n",
       "      <th>gender</th>\n",
       "      <th>birthyear</th>\n",
       "      <th>from_station_latitude</th>\n",
       "      <th>from_station_longitude</th>\n",
       "      <th>to_station_latitude</th>\n",
       "      <th>to_station_longitude</th>\n",
       "      <th>trip_stations</th>\n",
       "      <th>trip_distance</th>\n",
       "      <th>speed</th>\n",
       "    </tr>\n",
       "  </thead>\n",
       "  <tbody>\n",
       "    <tr>\n",
       "      <th>0</th>\n",
       "      <td>0</td>\n",
       "      <td>13518905</td>\n",
       "      <td>2017-03-31 23:59:07</td>\n",
       "      <td>2017-04-01 00:13:24</td>\n",
       "      <td>5292</td>\n",
       "      <td>857</td>\n",
       "      <td>66</td>\n",
       "      <td>Clinton St &amp; Lake St</td>\n",
       "      <td>171</td>\n",
       "      <td>May St &amp; Cullerton St</td>\n",
       "      <td>Subscriber</td>\n",
       "      <td>Male</td>\n",
       "      <td>1989.0</td>\n",
       "      <td>41.885637</td>\n",
       "      <td>-87.641823</td>\n",
       "      <td>41.855136</td>\n",
       "      <td>-87.654127</td>\n",
       "      <td>Clinton St &amp; Lake St TO May St &amp; Cullerton St</td>\n",
       "      <td>4423.016189</td>\n",
       "      <td>5.161046</td>\n",
       "    </tr>\n",
       "    <tr>\n",
       "      <th>1</th>\n",
       "      <td>1</td>\n",
       "      <td>13518904</td>\n",
       "      <td>2017-03-31 23:56:25</td>\n",
       "      <td>2017-04-01 00:00:21</td>\n",
       "      <td>4408</td>\n",
       "      <td>236</td>\n",
       "      <td>199</td>\n",
       "      <td>Wabash Ave &amp; Grand Ave</td>\n",
       "      <td>26</td>\n",
       "      <td>McClurg Ct &amp; Illinois St</td>\n",
       "      <td>Subscriber</td>\n",
       "      <td>Male</td>\n",
       "      <td>1990.0</td>\n",
       "      <td>41.891466</td>\n",
       "      <td>-87.626761</td>\n",
       "      <td>41.890359</td>\n",
       "      <td>-87.617532</td>\n",
       "      <td>Wabash Ave &amp; Grand Ave TO McClurg Ct &amp; Illinoi...</td>\n",
       "      <td>969.675670</td>\n",
       "      <td>4.108795</td>\n",
       "    </tr>\n",
       "    <tr>\n",
       "      <th>2</th>\n",
       "      <td>2</td>\n",
       "      <td>13518903</td>\n",
       "      <td>2017-03-31 23:55:33</td>\n",
       "      <td>2017-04-01 00:01:21</td>\n",
       "      <td>696</td>\n",
       "      <td>348</td>\n",
       "      <td>520</td>\n",
       "      <td>Greenview Ave &amp; Jarvis Ave</td>\n",
       "      <td>432</td>\n",
       "      <td>Clark St &amp; Lunt Ave</td>\n",
       "      <td>Subscriber</td>\n",
       "      <td>Female</td>\n",
       "      <td>1979.0</td>\n",
       "      <td>42.015962</td>\n",
       "      <td>-87.668570</td>\n",
       "      <td>42.009074</td>\n",
       "      <td>-87.674190</td>\n",
       "      <td>Greenview Ave &amp; Jarvis Ave TO Clark St &amp; Lunt Ave</td>\n",
       "      <td>1119.470513</td>\n",
       "      <td>3.216869</td>\n",
       "    </tr>\n",
       "    <tr>\n",
       "      <th>3</th>\n",
       "      <td>3</td>\n",
       "      <td>13518902</td>\n",
       "      <td>2017-03-31 23:54:46</td>\n",
       "      <td>2017-03-31 23:59:34</td>\n",
       "      <td>4915</td>\n",
       "      <td>288</td>\n",
       "      <td>110</td>\n",
       "      <td>Dearborn St &amp; Erie St</td>\n",
       "      <td>142</td>\n",
       "      <td>McClurg Ct &amp; Erie St</td>\n",
       "      <td>Subscriber</td>\n",
       "      <td>Male</td>\n",
       "      <td>1985.0</td>\n",
       "      <td>41.893992</td>\n",
       "      <td>-87.629318</td>\n",
       "      <td>41.894503</td>\n",
       "      <td>-87.617854</td>\n",
       "      <td>Dearborn St &amp; Erie St TO McClurg Ct &amp; Erie St</td>\n",
       "      <td>1191.329565</td>\n",
       "      <td>4.136561</td>\n",
       "    </tr>\n",
       "    <tr>\n",
       "      <th>4</th>\n",
       "      <td>4</td>\n",
       "      <td>13518901</td>\n",
       "      <td>2017-03-31 23:53:33</td>\n",
       "      <td>2017-04-01 00:00:28</td>\n",
       "      <td>4247</td>\n",
       "      <td>415</td>\n",
       "      <td>327</td>\n",
       "      <td>Sheffield Ave &amp; Webster Ave</td>\n",
       "      <td>331</td>\n",
       "      <td>Halsted St &amp; Blackhawk St (*)</td>\n",
       "      <td>Subscriber</td>\n",
       "      <td>Female</td>\n",
       "      <td>1989.0</td>\n",
       "      <td>41.921540</td>\n",
       "      <td>-87.653818</td>\n",
       "      <td>NaN</td>\n",
       "      <td>NaN</td>\n",
       "      <td>Sheffield Ave &amp; Webster Ave TO Halsted St &amp; Bl...</td>\n",
       "      <td>NaN</td>\n",
       "      <td>NaN</td>\n",
       "    </tr>\n",
       "  </tbody>\n",
       "</table>\n",
       "</div>"
      ],
      "text/plain": [
       "   Unnamed: 0   trip_id           start_time             end_time  bikeid  \\\n",
       "0           0  13518905  2017-03-31 23:59:07  2017-04-01 00:13:24    5292   \n",
       "1           1  13518904  2017-03-31 23:56:25  2017-04-01 00:00:21    4408   \n",
       "2           2  13518903  2017-03-31 23:55:33  2017-04-01 00:01:21     696   \n",
       "3           3  13518902  2017-03-31 23:54:46  2017-03-31 23:59:34    4915   \n",
       "4           4  13518901  2017-03-31 23:53:33  2017-04-01 00:00:28    4247   \n",
       "\n",
       "   tripduration  from_station_id            from_station_name  to_station_id  \\\n",
       "0           857               66         Clinton St & Lake St            171   \n",
       "1           236              199       Wabash Ave & Grand Ave             26   \n",
       "2           348              520   Greenview Ave & Jarvis Ave            432   \n",
       "3           288              110        Dearborn St & Erie St            142   \n",
       "4           415              327  Sheffield Ave & Webster Ave            331   \n",
       "\n",
       "                 to_station_name    usertype  gender  birthyear  \\\n",
       "0          May St & Cullerton St  Subscriber    Male     1989.0   \n",
       "1       McClurg Ct & Illinois St  Subscriber    Male     1990.0   \n",
       "2            Clark St & Lunt Ave  Subscriber  Female     1979.0   \n",
       "3           McClurg Ct & Erie St  Subscriber    Male     1985.0   \n",
       "4  Halsted St & Blackhawk St (*)  Subscriber  Female     1989.0   \n",
       "\n",
       "   from_station_latitude  from_station_longitude  to_station_latitude  \\\n",
       "0              41.885637              -87.641823            41.855136   \n",
       "1              41.891466              -87.626761            41.890359   \n",
       "2              42.015962              -87.668570            42.009074   \n",
       "3              41.893992              -87.629318            41.894503   \n",
       "4              41.921540              -87.653818                  NaN   \n",
       "\n",
       "   to_station_longitude                                      trip_stations  \\\n",
       "0            -87.654127      Clinton St & Lake St TO May St & Cullerton St   \n",
       "1            -87.617532  Wabash Ave & Grand Ave TO McClurg Ct & Illinoi...   \n",
       "2            -87.674190  Greenview Ave & Jarvis Ave TO Clark St & Lunt Ave   \n",
       "3            -87.617854      Dearborn St & Erie St TO McClurg Ct & Erie St   \n",
       "4                   NaN  Sheffield Ave & Webster Ave TO Halsted St & Bl...   \n",
       "\n",
       "   trip_distance     speed  \n",
       "0    4423.016189  5.161046  \n",
       "1     969.675670  4.108795  \n",
       "2    1119.470513  3.216869  \n",
       "3    1191.329565  4.136561  \n",
       "4            NaN       NaN  "
      ]
     },
     "execution_count": 144,
     "metadata": {},
     "output_type": "execute_result"
    }
   ],
   "source": [
    "divvy.head()"
   ]
  },
  {
   "cell_type": "code",
   "execution_count": 154,
   "metadata": {},
   "outputs": [],
   "source": [
    "bikes = divvy.groupby(['bikeid']).count()['trip_id'].sort_values(ascending=False)"
   ]
  },
  {
   "cell_type": "code",
   "execution_count": 181,
   "metadata": {},
   "outputs": [],
   "source": [
    "bike_number = bikes.index[0]"
   ]
  },
  {
   "cell_type": "code",
   "execution_count": 182,
   "metadata": {},
   "outputs": [],
   "source": [
    "rides = bikes.iloc[0]"
   ]
  },
  {
   "cell_type": "code",
   "execution_count": 183,
   "metadata": {},
   "outputs": [],
   "source": [
    "minutes_used = (divvy.groupby(['bikeid']).sum()['tripduration'] / 60).loc[2565]"
   ]
  },
  {
   "cell_type": "code",
   "execution_count": 186,
   "metadata": {},
   "outputs": [
    {
     "name": "stdout",
     "output_type": "stream",
     "text": [
      "Bike number 2565 was ridden 1489 times in 2017 for a total of 22526 minutes\n"
     ]
    }
   ],
   "source": [
    "print('Bike number {} was ridden {} times in 2017 for a total of {} minutes'\n",
    "      .format(bike_number, rides, int(minutes_used)))"
   ]
  },
  {
   "cell_type": "markdown",
   "metadata": {},
   "source": [
    "# Yelp data\n",
    "Download Yelp datasets from here: https://www.yelp.com/dataset/"
   ]
  },
  {
   "cell_type": "code",
   "execution_count": 44,
   "metadata": {},
   "outputs": [],
   "source": [
    "business = pd.read_json('data/yelp_dataset/yelp_academic_dataset_business.json', lines=True)\n",
    "\n",
    "checkin = pd.read_json('data/yelp_dataset/yelp_academic_dataset_checkin.json', lines=True)\n",
    "\n",
    "max_records = 1e5\n",
    "df = pd.read_json('data/yelp_dataset/yelp_academic_dataset_review.json', lines=True, chunksize=max_records)\n",
    "review = pd.DataFrame() # Initialize the dataframe\n",
    "try:\n",
    "    for df_chunk in df:\n",
    "        review = pd.concat([review, df_chunk])\n",
    "except ValueError:\n",
    "    print ('\\nSome messages in the file cannot be parsed')"
   ]
  },
  {
   "cell_type": "code",
   "execution_count": 45,
   "metadata": {},
   "outputs": [
    {
     "data": {
      "text/html": [
       "<div>\n",
       "<style scoped>\n",
       "    .dataframe tbody tr th:only-of-type {\n",
       "        vertical-align: middle;\n",
       "    }\n",
       "\n",
       "    .dataframe tbody tr th {\n",
       "        vertical-align: top;\n",
       "    }\n",
       "\n",
       "    .dataframe thead th {\n",
       "        text-align: right;\n",
       "    }\n",
       "</style>\n",
       "<table border=\"1\" class=\"dataframe\">\n",
       "  <thead>\n",
       "    <tr style=\"text-align: right;\">\n",
       "      <th></th>\n",
       "      <th>address</th>\n",
       "      <th>attributes</th>\n",
       "      <th>business_id</th>\n",
       "      <th>categories</th>\n",
       "      <th>city</th>\n",
       "      <th>hours</th>\n",
       "      <th>is_open</th>\n",
       "      <th>latitude</th>\n",
       "      <th>longitude</th>\n",
       "      <th>name</th>\n",
       "      <th>neighborhood</th>\n",
       "      <th>postal_code</th>\n",
       "      <th>review_count</th>\n",
       "      <th>stars</th>\n",
       "      <th>state</th>\n",
       "    </tr>\n",
       "  </thead>\n",
       "  <tbody>\n",
       "    <tr>\n",
       "      <th>0</th>\n",
       "      <td>1314 44 Avenue NE</td>\n",
       "      <td>{'BikeParking': 'False', 'BusinessAcceptsCredi...</td>\n",
       "      <td>Apn5Q_b6Nz61Tq4XzPdf9A</td>\n",
       "      <td>Tours, Breweries, Pizza, Restaurants, Food, Ho...</td>\n",
       "      <td>Calgary</td>\n",
       "      <td>{'Monday': '8:30-17:0', 'Tuesday': '11:0-21:0'...</td>\n",
       "      <td>1</td>\n",
       "      <td>51.091813</td>\n",
       "      <td>-114.031675</td>\n",
       "      <td>Minhas Micro Brewery</td>\n",
       "      <td></td>\n",
       "      <td>T2E 6L6</td>\n",
       "      <td>24</td>\n",
       "      <td>4.0</td>\n",
       "      <td>AB</td>\n",
       "    </tr>\n",
       "    <tr>\n",
       "      <th>1</th>\n",
       "      <td></td>\n",
       "      <td>{'Alcohol': 'none', 'BikeParking': 'False', 'B...</td>\n",
       "      <td>AjEbIBw6ZFfln7ePHha9PA</td>\n",
       "      <td>Chicken Wings, Burgers, Caterers, Street Vendo...</td>\n",
       "      <td>Henderson</td>\n",
       "      <td>{'Friday': '17:0-23:0', 'Saturday': '17:0-23:0...</td>\n",
       "      <td>0</td>\n",
       "      <td>35.960734</td>\n",
       "      <td>-114.939821</td>\n",
       "      <td>CK'S BBQ &amp; Catering</td>\n",
       "      <td></td>\n",
       "      <td>89002</td>\n",
       "      <td>3</td>\n",
       "      <td>4.5</td>\n",
       "      <td>NV</td>\n",
       "    </tr>\n",
       "    <tr>\n",
       "      <th>2</th>\n",
       "      <td>1335 rue Beaubien E</td>\n",
       "      <td>{'Alcohol': 'beer_and_wine', 'Ambience': '{'ro...</td>\n",
       "      <td>O8S5hYJ1SMc8fA4QBtVujA</td>\n",
       "      <td>Breakfast &amp; Brunch, Restaurants, French, Sandw...</td>\n",
       "      <td>Montréal</td>\n",
       "      <td>{'Monday': '10:0-22:0', 'Tuesday': '10:0-22:0'...</td>\n",
       "      <td>0</td>\n",
       "      <td>45.540503</td>\n",
       "      <td>-73.599300</td>\n",
       "      <td>La Bastringue</td>\n",
       "      <td>Rosemont-La Petite-Patrie</td>\n",
       "      <td>H2G 1K7</td>\n",
       "      <td>5</td>\n",
       "      <td>4.0</td>\n",
       "      <td>QC</td>\n",
       "    </tr>\n",
       "    <tr>\n",
       "      <th>3</th>\n",
       "      <td>211 W Monroe St</td>\n",
       "      <td>None</td>\n",
       "      <td>bFzdJJ3wp3PZssNEsyU23g</td>\n",
       "      <td>Insurance, Financial Services</td>\n",
       "      <td>Phoenix</td>\n",
       "      <td>None</td>\n",
       "      <td>1</td>\n",
       "      <td>33.449999</td>\n",
       "      <td>-112.076979</td>\n",
       "      <td>Geico Insurance</td>\n",
       "      <td></td>\n",
       "      <td>85003</td>\n",
       "      <td>8</td>\n",
       "      <td>1.5</td>\n",
       "      <td>AZ</td>\n",
       "    </tr>\n",
       "    <tr>\n",
       "      <th>4</th>\n",
       "      <td>2005 Alyth Place SE</td>\n",
       "      <td>{'BusinessAcceptsCreditCards': 'True'}</td>\n",
       "      <td>8USyCYqpScwiNEb58Bt6CA</td>\n",
       "      <td>Home &amp; Garden, Nurseries &amp; Gardening, Shopping...</td>\n",
       "      <td>Calgary</td>\n",
       "      <td>{'Monday': '8:0-17:0', 'Tuesday': '8:0-17:0', ...</td>\n",
       "      <td>1</td>\n",
       "      <td>51.035591</td>\n",
       "      <td>-114.027366</td>\n",
       "      <td>Action Engine</td>\n",
       "      <td></td>\n",
       "      <td>T2H 0N5</td>\n",
       "      <td>4</td>\n",
       "      <td>2.0</td>\n",
       "      <td>AB</td>\n",
       "    </tr>\n",
       "  </tbody>\n",
       "</table>\n",
       "</div>"
      ],
      "text/plain": [
       "               address                                         attributes  \\\n",
       "0    1314 44 Avenue NE  {'BikeParking': 'False', 'BusinessAcceptsCredi...   \n",
       "1                       {'Alcohol': 'none', 'BikeParking': 'False', 'B...   \n",
       "2  1335 rue Beaubien E  {'Alcohol': 'beer_and_wine', 'Ambience': '{'ro...   \n",
       "3      211 W Monroe St                                               None   \n",
       "4  2005 Alyth Place SE             {'BusinessAcceptsCreditCards': 'True'}   \n",
       "\n",
       "              business_id                                         categories  \\\n",
       "0  Apn5Q_b6Nz61Tq4XzPdf9A  Tours, Breweries, Pizza, Restaurants, Food, Ho...   \n",
       "1  AjEbIBw6ZFfln7ePHha9PA  Chicken Wings, Burgers, Caterers, Street Vendo...   \n",
       "2  O8S5hYJ1SMc8fA4QBtVujA  Breakfast & Brunch, Restaurants, French, Sandw...   \n",
       "3  bFzdJJ3wp3PZssNEsyU23g                      Insurance, Financial Services   \n",
       "4  8USyCYqpScwiNEb58Bt6CA  Home & Garden, Nurseries & Gardening, Shopping...   \n",
       "\n",
       "        city                                              hours  is_open  \\\n",
       "0    Calgary  {'Monday': '8:30-17:0', 'Tuesday': '11:0-21:0'...        1   \n",
       "1  Henderson  {'Friday': '17:0-23:0', 'Saturday': '17:0-23:0...        0   \n",
       "2   Montréal  {'Monday': '10:0-22:0', 'Tuesday': '10:0-22:0'...        0   \n",
       "3    Phoenix                                               None        1   \n",
       "4    Calgary  {'Monday': '8:0-17:0', 'Tuesday': '8:0-17:0', ...        1   \n",
       "\n",
       "    latitude   longitude                  name               neighborhood  \\\n",
       "0  51.091813 -114.031675  Minhas Micro Brewery                              \n",
       "1  35.960734 -114.939821   CK'S BBQ & Catering                              \n",
       "2  45.540503  -73.599300         La Bastringue  Rosemont-La Petite-Patrie   \n",
       "3  33.449999 -112.076979       Geico Insurance                              \n",
       "4  51.035591 -114.027366         Action Engine                              \n",
       "\n",
       "  postal_code  review_count  stars state  \n",
       "0     T2E 6L6            24    4.0    AB  \n",
       "1       89002             3    4.5    NV  \n",
       "2     H2G 1K7             5    4.0    QC  \n",
       "3       85003             8    1.5    AZ  \n",
       "4     T2H 0N5             4    2.0    AB  "
      ]
     },
     "execution_count": 45,
     "metadata": {},
     "output_type": "execute_result"
    }
   ],
   "source": [
    "business.head()"
   ]
  },
  {
   "cell_type": "code",
   "execution_count": 46,
   "metadata": {
    "scrolled": true
   },
   "outputs": [
    {
     "data": {
      "text/html": [
       "<div>\n",
       "<style scoped>\n",
       "    .dataframe tbody tr th:only-of-type {\n",
       "        vertical-align: middle;\n",
       "    }\n",
       "\n",
       "    .dataframe tbody tr th {\n",
       "        vertical-align: top;\n",
       "    }\n",
       "\n",
       "    .dataframe thead th {\n",
       "        text-align: right;\n",
       "    }\n",
       "</style>\n",
       "<table border=\"1\" class=\"dataframe\">\n",
       "  <thead>\n",
       "    <tr style=\"text-align: right;\">\n",
       "      <th></th>\n",
       "      <th>business_id</th>\n",
       "      <th>time</th>\n",
       "    </tr>\n",
       "  </thead>\n",
       "  <tbody>\n",
       "    <tr>\n",
       "      <th>0</th>\n",
       "      <td>7KPBkxAOEtb3QeIL9PEErg</td>\n",
       "      <td>{'Fri-0': 2, 'Sat-0': 1, 'Sun-0': 1, 'Wed-0': ...</td>\n",
       "    </tr>\n",
       "    <tr>\n",
       "      <th>1</th>\n",
       "      <td>kREVIrSBbtqBhIYkTccQUg</td>\n",
       "      <td>{'Mon-13': 1, 'Thu-13': 1, 'Sat-16': 1, 'Wed-1...</td>\n",
       "    </tr>\n",
       "    <tr>\n",
       "      <th>2</th>\n",
       "      <td>tJRDll5yqpZwehenzE2cSg</td>\n",
       "      <td>{'Thu-0': 1, 'Mon-1': 1, 'Mon-12': 1, 'Sat-16'...</td>\n",
       "    </tr>\n",
       "    <tr>\n",
       "      <th>3</th>\n",
       "      <td>tZccfdl6JNw-j5BKnCTIQQ</td>\n",
       "      <td>{'Sun-14': 1, 'Fri-18': 1, 'Mon-20': 1}</td>\n",
       "    </tr>\n",
       "    <tr>\n",
       "      <th>4</th>\n",
       "      <td>r1p7RAMzCV_6NPF0dNoR3g</td>\n",
       "      <td>{'Sat-3': 1, 'Sun-18': 1, 'Sat-21': 1, 'Sat-23...</td>\n",
       "    </tr>\n",
       "  </tbody>\n",
       "</table>\n",
       "</div>"
      ],
      "text/plain": [
       "              business_id                                               time\n",
       "0  7KPBkxAOEtb3QeIL9PEErg  {'Fri-0': 2, 'Sat-0': 1, 'Sun-0': 1, 'Wed-0': ...\n",
       "1  kREVIrSBbtqBhIYkTccQUg  {'Mon-13': 1, 'Thu-13': 1, 'Sat-16': 1, 'Wed-1...\n",
       "2  tJRDll5yqpZwehenzE2cSg  {'Thu-0': 1, 'Mon-1': 1, 'Mon-12': 1, 'Sat-16'...\n",
       "3  tZccfdl6JNw-j5BKnCTIQQ            {'Sun-14': 1, 'Fri-18': 1, 'Mon-20': 1}\n",
       "4  r1p7RAMzCV_6NPF0dNoR3g  {'Sat-3': 1, 'Sun-18': 1, 'Sat-21': 1, 'Sat-23..."
      ]
     },
     "execution_count": 46,
     "metadata": {},
     "output_type": "execute_result"
    }
   ],
   "source": [
    "checkin.head()"
   ]
  },
  {
   "cell_type": "code",
   "execution_count": 47,
   "metadata": {},
   "outputs": [
    {
     "data": {
      "text/html": [
       "<div>\n",
       "<style scoped>\n",
       "    .dataframe tbody tr th:only-of-type {\n",
       "        vertical-align: middle;\n",
       "    }\n",
       "\n",
       "    .dataframe tbody tr th {\n",
       "        vertical-align: top;\n",
       "    }\n",
       "\n",
       "    .dataframe thead th {\n",
       "        text-align: right;\n",
       "    }\n",
       "</style>\n",
       "<table border=\"1\" class=\"dataframe\">\n",
       "  <thead>\n",
       "    <tr style=\"text-align: right;\">\n",
       "      <th></th>\n",
       "      <th>business_id</th>\n",
       "      <th>cool</th>\n",
       "      <th>date</th>\n",
       "      <th>funny</th>\n",
       "      <th>review_id</th>\n",
       "      <th>stars</th>\n",
       "      <th>text</th>\n",
       "      <th>useful</th>\n",
       "      <th>user_id</th>\n",
       "    </tr>\n",
       "  </thead>\n",
       "  <tbody>\n",
       "    <tr>\n",
       "      <th>0</th>\n",
       "      <td>iCQpiavjjPzJ5_3gPD5Ebg</td>\n",
       "      <td>0</td>\n",
       "      <td>2011-02-25</td>\n",
       "      <td>0</td>\n",
       "      <td>x7mDIiDB3jEiPGPHOmDzyw</td>\n",
       "      <td>2</td>\n",
       "      <td>The pizza was okay. Not the best I've had. I p...</td>\n",
       "      <td>0</td>\n",
       "      <td>msQe1u7Z_XuqjGoqhB0J5g</td>\n",
       "    </tr>\n",
       "    <tr>\n",
       "      <th>1</th>\n",
       "      <td>pomGBqfbxcqPv14c3XH-ZQ</td>\n",
       "      <td>0</td>\n",
       "      <td>2012-11-13</td>\n",
       "      <td>0</td>\n",
       "      <td>dDl8zu1vWPdKGihJrwQbpw</td>\n",
       "      <td>5</td>\n",
       "      <td>I love this place! My fiance And I go here atl...</td>\n",
       "      <td>0</td>\n",
       "      <td>msQe1u7Z_XuqjGoqhB0J5g</td>\n",
       "    </tr>\n",
       "    <tr>\n",
       "      <th>2</th>\n",
       "      <td>jtQARsP6P-LbkyjbO1qNGg</td>\n",
       "      <td>1</td>\n",
       "      <td>2014-10-23</td>\n",
       "      <td>1</td>\n",
       "      <td>LZp4UX5zK3e-c5ZGSeo3kA</td>\n",
       "      <td>1</td>\n",
       "      <td>Terrible. Dry corn bread. Rib tips were all fa...</td>\n",
       "      <td>3</td>\n",
       "      <td>msQe1u7Z_XuqjGoqhB0J5g</td>\n",
       "    </tr>\n",
       "    <tr>\n",
       "      <th>3</th>\n",
       "      <td>elqbBhBfElMNSrjFqW3now</td>\n",
       "      <td>0</td>\n",
       "      <td>2011-02-25</td>\n",
       "      <td>0</td>\n",
       "      <td>Er4NBWCmCD4nM8_p1GRdow</td>\n",
       "      <td>2</td>\n",
       "      <td>Back in 2005-2007 this place was my FAVORITE t...</td>\n",
       "      <td>2</td>\n",
       "      <td>msQe1u7Z_XuqjGoqhB0J5g</td>\n",
       "    </tr>\n",
       "    <tr>\n",
       "      <th>4</th>\n",
       "      <td>Ums3gaP2qM3W1XcA5r6SsQ</td>\n",
       "      <td>0</td>\n",
       "      <td>2014-09-05</td>\n",
       "      <td>0</td>\n",
       "      <td>jsDu6QEJHbwP2Blom1PLCA</td>\n",
       "      <td>5</td>\n",
       "      <td>Delicious healthy food. The steak is amazing. ...</td>\n",
       "      <td>0</td>\n",
       "      <td>msQe1u7Z_XuqjGoqhB0J5g</td>\n",
       "    </tr>\n",
       "  </tbody>\n",
       "</table>\n",
       "</div>"
      ],
      "text/plain": [
       "              business_id  cool       date  funny               review_id  \\\n",
       "0  iCQpiavjjPzJ5_3gPD5Ebg     0 2011-02-25      0  x7mDIiDB3jEiPGPHOmDzyw   \n",
       "1  pomGBqfbxcqPv14c3XH-ZQ     0 2012-11-13      0  dDl8zu1vWPdKGihJrwQbpw   \n",
       "2  jtQARsP6P-LbkyjbO1qNGg     1 2014-10-23      1  LZp4UX5zK3e-c5ZGSeo3kA   \n",
       "3  elqbBhBfElMNSrjFqW3now     0 2011-02-25      0  Er4NBWCmCD4nM8_p1GRdow   \n",
       "4  Ums3gaP2qM3W1XcA5r6SsQ     0 2014-09-05      0  jsDu6QEJHbwP2Blom1PLCA   \n",
       "\n",
       "   stars                                               text  useful  \\\n",
       "0      2  The pizza was okay. Not the best I've had. I p...       0   \n",
       "1      5  I love this place! My fiance And I go here atl...       0   \n",
       "2      1  Terrible. Dry corn bread. Rib tips were all fa...       3   \n",
       "3      2  Back in 2005-2007 this place was my FAVORITE t...       2   \n",
       "4      5  Delicious healthy food. The steak is amazing. ...       0   \n",
       "\n",
       "                  user_id  \n",
       "0  msQe1u7Z_XuqjGoqhB0J5g  \n",
       "1  msQe1u7Z_XuqjGoqhB0J5g  \n",
       "2  msQe1u7Z_XuqjGoqhB0J5g  \n",
       "3  msQe1u7Z_XuqjGoqhB0J5g  \n",
       "4  msQe1u7Z_XuqjGoqhB0J5g  "
      ]
     },
     "execution_count": 47,
     "metadata": {},
     "output_type": "execute_result"
    }
   ],
   "source": [
    "review.head()"
   ]
  },
  {
   "cell_type": "code",
   "execution_count": 48,
   "metadata": {},
   "outputs": [],
   "source": [
    "checkin['checkins'] = checkin['time'].apply(lambda x : sum(x.values()))\n",
    "yelp = business.merge(checkin, on='business_id', how='outer')"
   ]
  },
  {
   "cell_type": "code",
   "execution_count": 49,
   "metadata": {},
   "outputs": [],
   "source": [
    "review['date'] = pd.to_datetime(review['date'])\n",
    "review = review[review['date'].dt.year == 2017]"
   ]
  },
  {
   "cell_type": "code",
   "execution_count": 50,
   "metadata": {},
   "outputs": [],
   "source": [
    "business.to_csv('data/yelp_business.csv', index=False)\n",
    "checkin.to_csv('data/yelp_checkin.csv', index=False)\n",
    "review.to_csv('data/yelp_review.csv', index=False)\n",
    "yelp.to_csv('data/yelp.csv', index=False)"
   ]
  },
  {
   "cell_type": "code",
   "execution_count": 51,
   "metadata": {},
   "outputs": [],
   "source": [
    "business = pd.read_csv('data/yelp_business.csv')\n",
    "checkin = pd.read_csv('data/yelp_checkin.csv')\n",
    "review = pd.read_csv('data/yelp_review.csv')\n",
    "yelp = pd.read_csv('data/yelp.csv')"
   ]
  },
  {
   "cell_type": "markdown",
   "metadata": {},
   "source": [
    "### Find the top 10 and bottom 10 restaurants in Illinois having most and least checkins respectively."
   ]
  },
  {
   "cell_type": "code",
   "execution_count": 52,
   "metadata": {},
   "outputs": [
    {
     "data": {
      "text/html": [
       "<div>\n",
       "<style scoped>\n",
       "    .dataframe tbody tr th:only-of-type {\n",
       "        vertical-align: middle;\n",
       "    }\n",
       "\n",
       "    .dataframe tbody tr th {\n",
       "        vertical-align: top;\n",
       "    }\n",
       "\n",
       "    .dataframe thead th {\n",
       "        text-align: right;\n",
       "    }\n",
       "</style>\n",
       "<table border=\"1\" class=\"dataframe\">\n",
       "  <thead>\n",
       "    <tr style=\"text-align: right;\">\n",
       "      <th></th>\n",
       "      <th>address</th>\n",
       "      <th>attributes</th>\n",
       "      <th>business_id</th>\n",
       "      <th>categories</th>\n",
       "      <th>city</th>\n",
       "      <th>hours</th>\n",
       "      <th>is_open</th>\n",
       "      <th>latitude</th>\n",
       "      <th>longitude</th>\n",
       "      <th>name</th>\n",
       "      <th>neighborhood</th>\n",
       "      <th>postal_code</th>\n",
       "      <th>review_count</th>\n",
       "      <th>stars</th>\n",
       "      <th>state</th>\n",
       "      <th>time</th>\n",
       "      <th>checkins</th>\n",
       "    </tr>\n",
       "  </thead>\n",
       "  <tbody>\n",
       "    <tr>\n",
       "      <th>0</th>\n",
       "      <td>1314 44 Avenue NE</td>\n",
       "      <td>{'BikeParking': 'False', 'BusinessAcceptsCredi...</td>\n",
       "      <td>Apn5Q_b6Nz61Tq4XzPdf9A</td>\n",
       "      <td>Tours, Breweries, Pizza, Restaurants, Food, Ho...</td>\n",
       "      <td>Calgary</td>\n",
       "      <td>{'Monday': '8:30-17:0', 'Tuesday': '11:0-21:0'...</td>\n",
       "      <td>1</td>\n",
       "      <td>51.091813</td>\n",
       "      <td>-114.031675</td>\n",
       "      <td>Minhas Micro Brewery</td>\n",
       "      <td>NaN</td>\n",
       "      <td>T2E 6L6</td>\n",
       "      <td>24</td>\n",
       "      <td>4.0</td>\n",
       "      <td>AB</td>\n",
       "      <td>{'Fri-0': 1, 'Sun-0': 3, 'Thu-0': 1, 'Fri-1': ...</td>\n",
       "      <td>29.0</td>\n",
       "    </tr>\n",
       "    <tr>\n",
       "      <th>1</th>\n",
       "      <td>NaN</td>\n",
       "      <td>{'Alcohol': 'none', 'BikeParking': 'False', 'B...</td>\n",
       "      <td>AjEbIBw6ZFfln7ePHha9PA</td>\n",
       "      <td>Chicken Wings, Burgers, Caterers, Street Vendo...</td>\n",
       "      <td>Henderson</td>\n",
       "      <td>{'Friday': '17:0-23:0', 'Saturday': '17:0-23:0...</td>\n",
       "      <td>0</td>\n",
       "      <td>35.960734</td>\n",
       "      <td>-114.939821</td>\n",
       "      <td>CK'S BBQ &amp; Catering</td>\n",
       "      <td>NaN</td>\n",
       "      <td>89002</td>\n",
       "      <td>3</td>\n",
       "      <td>4.5</td>\n",
       "      <td>NV</td>\n",
       "      <td>{'Sun-1': 1}</td>\n",
       "      <td>1.0</td>\n",
       "    </tr>\n",
       "    <tr>\n",
       "      <th>2</th>\n",
       "      <td>1335 rue Beaubien E</td>\n",
       "      <td>{'Alcohol': 'beer_and_wine', 'Ambience': \"{'ro...</td>\n",
       "      <td>O8S5hYJ1SMc8fA4QBtVujA</td>\n",
       "      <td>Breakfast &amp; Brunch, Restaurants, French, Sandw...</td>\n",
       "      <td>Montréal</td>\n",
       "      <td>{'Monday': '10:0-22:0', 'Tuesday': '10:0-22:0'...</td>\n",
       "      <td>0</td>\n",
       "      <td>45.540503</td>\n",
       "      <td>-73.599300</td>\n",
       "      <td>La Bastringue</td>\n",
       "      <td>Rosemont-La Petite-Patrie</td>\n",
       "      <td>H2G 1K7</td>\n",
       "      <td>5</td>\n",
       "      <td>4.0</td>\n",
       "      <td>QC</td>\n",
       "      <td>{'Mon-0': 1, 'Sun-0': 1, 'Fri-1': 1, 'Sun-1': ...</td>\n",
       "      <td>7.0</td>\n",
       "    </tr>\n",
       "    <tr>\n",
       "      <th>3</th>\n",
       "      <td>211 W Monroe St</td>\n",
       "      <td>NaN</td>\n",
       "      <td>bFzdJJ3wp3PZssNEsyU23g</td>\n",
       "      <td>Insurance, Financial Services</td>\n",
       "      <td>Phoenix</td>\n",
       "      <td>NaN</td>\n",
       "      <td>1</td>\n",
       "      <td>33.449999</td>\n",
       "      <td>-112.076979</td>\n",
       "      <td>Geico Insurance</td>\n",
       "      <td>NaN</td>\n",
       "      <td>85003</td>\n",
       "      <td>8</td>\n",
       "      <td>1.5</td>\n",
       "      <td>AZ</td>\n",
       "      <td>{'Wed-18': 1}</td>\n",
       "      <td>1.0</td>\n",
       "    </tr>\n",
       "    <tr>\n",
       "      <th>4</th>\n",
       "      <td>2005 Alyth Place SE</td>\n",
       "      <td>{'BusinessAcceptsCreditCards': 'True'}</td>\n",
       "      <td>8USyCYqpScwiNEb58Bt6CA</td>\n",
       "      <td>Home &amp; Garden, Nurseries &amp; Gardening, Shopping...</td>\n",
       "      <td>Calgary</td>\n",
       "      <td>{'Monday': '8:0-17:0', 'Tuesday': '8:0-17:0', ...</td>\n",
       "      <td>1</td>\n",
       "      <td>51.035591</td>\n",
       "      <td>-114.027366</td>\n",
       "      <td>Action Engine</td>\n",
       "      <td>NaN</td>\n",
       "      <td>T2H 0N5</td>\n",
       "      <td>4</td>\n",
       "      <td>2.0</td>\n",
       "      <td>AB</td>\n",
       "      <td>{'Thu-14': 1, 'Thu-20': 1}</td>\n",
       "      <td>2.0</td>\n",
       "    </tr>\n",
       "  </tbody>\n",
       "</table>\n",
       "</div>"
      ],
      "text/plain": [
       "               address                                         attributes  \\\n",
       "0    1314 44 Avenue NE  {'BikeParking': 'False', 'BusinessAcceptsCredi...   \n",
       "1                  NaN  {'Alcohol': 'none', 'BikeParking': 'False', 'B...   \n",
       "2  1335 rue Beaubien E  {'Alcohol': 'beer_and_wine', 'Ambience': \"{'ro...   \n",
       "3      211 W Monroe St                                                NaN   \n",
       "4  2005 Alyth Place SE             {'BusinessAcceptsCreditCards': 'True'}   \n",
       "\n",
       "              business_id                                         categories  \\\n",
       "0  Apn5Q_b6Nz61Tq4XzPdf9A  Tours, Breweries, Pizza, Restaurants, Food, Ho...   \n",
       "1  AjEbIBw6ZFfln7ePHha9PA  Chicken Wings, Burgers, Caterers, Street Vendo...   \n",
       "2  O8S5hYJ1SMc8fA4QBtVujA  Breakfast & Brunch, Restaurants, French, Sandw...   \n",
       "3  bFzdJJ3wp3PZssNEsyU23g                      Insurance, Financial Services   \n",
       "4  8USyCYqpScwiNEb58Bt6CA  Home & Garden, Nurseries & Gardening, Shopping...   \n",
       "\n",
       "        city                                              hours  is_open  \\\n",
       "0    Calgary  {'Monday': '8:30-17:0', 'Tuesday': '11:0-21:0'...        1   \n",
       "1  Henderson  {'Friday': '17:0-23:0', 'Saturday': '17:0-23:0...        0   \n",
       "2   Montréal  {'Monday': '10:0-22:0', 'Tuesday': '10:0-22:0'...        0   \n",
       "3    Phoenix                                                NaN        1   \n",
       "4    Calgary  {'Monday': '8:0-17:0', 'Tuesday': '8:0-17:0', ...        1   \n",
       "\n",
       "    latitude   longitude                  name               neighborhood  \\\n",
       "0  51.091813 -114.031675  Minhas Micro Brewery                        NaN   \n",
       "1  35.960734 -114.939821   CK'S BBQ & Catering                        NaN   \n",
       "2  45.540503  -73.599300         La Bastringue  Rosemont-La Petite-Patrie   \n",
       "3  33.449999 -112.076979       Geico Insurance                        NaN   \n",
       "4  51.035591 -114.027366         Action Engine                        NaN   \n",
       "\n",
       "  postal_code  review_count  stars state  \\\n",
       "0     T2E 6L6            24    4.0    AB   \n",
       "1       89002             3    4.5    NV   \n",
       "2     H2G 1K7             5    4.0    QC   \n",
       "3       85003             8    1.5    AZ   \n",
       "4     T2H 0N5             4    2.0    AB   \n",
       "\n",
       "                                                time  checkins  \n",
       "0  {'Fri-0': 1, 'Sun-0': 3, 'Thu-0': 1, 'Fri-1': ...      29.0  \n",
       "1                                       {'Sun-1': 1}       1.0  \n",
       "2  {'Mon-0': 1, 'Sun-0': 1, 'Fri-1': 1, 'Sun-1': ...       7.0  \n",
       "3                                      {'Wed-18': 1}       1.0  \n",
       "4                         {'Thu-14': 1, 'Thu-20': 1}       2.0  "
      ]
     },
     "execution_count": 52,
     "metadata": {},
     "output_type": "execute_result"
    }
   ],
   "source": [
    "yelp.head()"
   ]
  },
  {
   "cell_type": "code",
   "execution_count": 53,
   "metadata": {},
   "outputs": [
    {
     "data": {
      "text/plain": [
       "11"
      ]
     },
     "execution_count": 53,
     "metadata": {},
     "output_type": "execute_result"
    }
   ],
   "source": [
    "len(yelp[(yelp['state'] == 'IL') &\n",
    "         (yelp['categories'].str.contains('Restaurants')) &\n",
    "         (yelp['checkins'].isnull()) &\n",
    "         (yelp['is_open'] == 1)])"
   ]
  },
  {
   "cell_type": "code",
   "execution_count": 54,
   "metadata": {},
   "outputs": [
    {
     "data": {
      "text/plain": [
       "15"
      ]
     },
     "execution_count": 54,
     "metadata": {},
     "output_type": "execute_result"
    }
   ],
   "source": [
    "len(yelp[(yelp['state'] == 'IL') &\n",
    "         (yelp['categories'].str.contains('Restaurants')) &\n",
    "         (yelp['checkins'] == 1) &\n",
    "         (yelp['is_open'] == 1)])"
   ]
  },
  {
   "cell_type": "code",
   "execution_count": 55,
   "metadata": {},
   "outputs": [
    {
     "data": {
      "text/plain": [
       "12"
      ]
     },
     "execution_count": 55,
     "metadata": {},
     "output_type": "execute_result"
    }
   ],
   "source": [
    "len(yelp[(yelp['state'] == 'IL') &\n",
    "         (yelp['categories'].str.contains('Restaurants')) &\n",
    "         (yelp['checkins'] == 2) &\n",
    "         (yelp['is_open'] == 1)])"
   ]
  },
  {
   "cell_type": "code",
   "execution_count": 56,
   "metadata": {},
   "outputs": [
    {
     "data": {
      "text/plain": [
       "10"
      ]
     },
     "execution_count": 56,
     "metadata": {},
     "output_type": "execute_result"
    }
   ],
   "source": [
    "len(yelp[(yelp['state'] == 'IL') &\n",
    "         (yelp['categories'].str.contains('Restaurants')) &\n",
    "         (yelp['checkins'] == 3) &\n",
    "         (yelp['is_open'] == 1)])"
   ]
  },
  {
   "cell_type": "code",
   "execution_count": 57,
   "metadata": {},
   "outputs": [],
   "source": [
    "top10 = yelp[(yelp['state'] == 'IL') &\n",
    "             (yelp['categories'].str.contains('Restaurants') &\n",
    "              (yelp['is_open'] == 1))\n",
    "            ].sort_values('checkins', ascending=False).head(10)\n",
    "\n",
    "bottom10 = yelp[(yelp['state'] == 'IL') &\n",
    "                (yelp['categories'].str.contains('Restaurants') &\n",
    "                (yelp['is_open'] == 1))\n",
    "               ].sort_values('checkins', ascending=False).tail(30)"
   ]
  },
  {
   "cell_type": "code",
   "execution_count": 58,
   "metadata": {},
   "outputs": [],
   "source": [
    "top10.to_csv('data/yelp_top10_checkins.csv', index=False)\n",
    "bottom10.to_csv('data/yelp_bottom10_checkins.csv', index=False)"
   ]
  },
  {
   "cell_type": "code",
   "execution_count": 59,
   "metadata": {},
   "outputs": [
    {
     "data": {
      "text/plain": [
       "['Sakanaya',\n",
       " 'Black Dog Smoke & Ale House',\n",
       " 'DESTIHL Restaurant & Brew Works',\n",
       " 'Seven Saints',\n",
       " 'Golden Harbor Authentic Chinese Cuisine',\n",
       " 'Maize Mexican Grill',\n",
       " 'Meijer',\n",
       " 'Cafe Kopi',\n",
       " 'Courier Cafe',\n",
       " 'Big Grove Tavern']"
      ]
     },
     "execution_count": 59,
     "metadata": {},
     "output_type": "execute_result"
    }
   ],
   "source": [
    "top10_names = top10['name'].tolist()\n",
    "top10_names"
   ]
  },
  {
   "cell_type": "code",
   "execution_count": 60,
   "metadata": {},
   "outputs": [
    {
     "data": {
      "text/plain": [
       "['Monicals Pizza',\n",
       " 'Subway',\n",
       " \"McDonald's\",\n",
       " 'The Spice Box',\n",
       " 'Subway',\n",
       " 'Taco Bell',\n",
       " 'Subway',\n",
       " 'Asian Noodle and Sushi',\n",
       " 'Red Cape Hot Pot',\n",
       " \"McDonald's\",\n",
       " 'Main Street Belly Deli',\n",
       " 'Subway',\n",
       " 'Little Caesars Pizza',\n",
       " 'Casa Real',\n",
       " 'Tasty Fish Chicken & Grill',\n",
       " \"J & J's Burgers & Beer\",\n",
       " 'Casa Del Mar',\n",
       " 'Dairy Queen',\n",
       " 'Nanjing Bistro',\n",
       " \"Bergie's - The Occasional Place\",\n",
       " 'Sushi San',\n",
       " \"Papa John's Pizza\",\n",
       " \"Domino's Pizza\",\n",
       " 'Golden Kitchen',\n",
       " 'The Wild Hare',\n",
       " 'Stango Cuisine',\n",
       " \"Tortica's Grill\",\n",
       " 'Manzellas Italian Restaurant',\n",
       " \"Jimmy John's\",\n",
       " \"Domino's Pizza\"]"
      ]
     },
     "execution_count": 60,
     "metadata": {},
     "output_type": "execute_result"
    }
   ],
   "source": [
    "bottom10_names = bottom10['name'].tolist()\n",
    "bottom10_names"
   ]
  },
  {
   "cell_type": "markdown",
   "metadata": {},
   "source": [
    "### For the top 10 and bottom 10 restaurants calculated in step 6, calculate the average star rating and average sentiment score of the reviews"
   ]
  },
  {
   "cell_type": "code",
   "execution_count": 63,
   "metadata": {},
   "outputs": [],
   "source": [
    "top_bottom = top10['business_id'].tolist() + bottom10['business_id'].tolist()"
   ]
  },
  {
   "cell_type": "code",
   "execution_count": 64,
   "metadata": {},
   "outputs": [],
   "source": [
    "sentiment = review[review['business_id'].isin(top_bottom)]"
   ]
  },
  {
   "cell_type": "code",
   "execution_count": 65,
   "metadata": {},
   "outputs": [],
   "source": [
    "from vaderSentiment.vaderSentiment import SentimentIntensityAnalyzer\n",
    "\n",
    "def get_vader_scores(text):\n",
    "    '''\n",
    "    Takes a string of text and outputs four values for Vader's negative,\n",
    "    neutral, positive, and compound (normalized) sentiment scores\n",
    "    INPUT: a string\n",
    "    OUTPUT: a dictionary of four sentiment scores\n",
    "    '''\n",
    "\n",
    "    analyser = SentimentIntensityAnalyzer()\n",
    "    return analyser.polarity_scores(text)\n",
    "\n",
    "\n",
    "def apply_vader(df, column):\n",
    "    '''\n",
    "    Takes a DataFrame with a specified column of text and adds four new columns\n",
    "    to the DataFrame, corresponding to the Vader sentiment scores\n",
    "    INPUT: DataFrame, string\n",
    "    OUTPUT: the original DataFrame with four additional columns\n",
    "    '''\n",
    "\n",
    "    sentiment = pd.DataFrame(df[column].apply(get_vader_scores))\n",
    "    unpacked = pd.DataFrame([d for idx, d in sentiment['text'].iteritems()],\n",
    "                            index=sentiment.index)\n",
    "    unpacked['compound'] += 1\n",
    "    columns = {'neu': 'v_neutral', 'pos': 'v_positive', 'neg': 'v_negative'}\n",
    "    unpacked.rename(columns=columns, inplace=True)\n",
    "    return pd.concat([df, unpacked], axis=1)"
   ]
  },
  {
   "cell_type": "code",
   "execution_count": 66,
   "metadata": {},
   "outputs": [],
   "source": [
    "sentiment = apply_vader(sentiment, 'text')"
   ]
  },
  {
   "cell_type": "code",
   "execution_count": 67,
   "metadata": {},
   "outputs": [],
   "source": [
    "top10_sentiment = {}\n",
    "for biz_id in top10['business_id'].tolist():\n",
    "    top10_sentiment[yelp.loc[yelp['business_id'] == biz_id, 'name'].iloc[0]] = sentiment[sentiment['business_id'] == biz_id].groupby(['business_id']).mean()"
   ]
  },
  {
   "cell_type": "code",
   "execution_count": 68,
   "metadata": {},
   "outputs": [],
   "source": [
    "top10_scores = pd.DataFrame()\n",
    "for restaurant in top10_sentiment:\n",
    "    top10_scores = top10_scores.append(pd.DataFrame(top10_sentiment[restaurant]))\n",
    "top10_scores.reset_index(level=0, inplace=True)"
   ]
  },
  {
   "cell_type": "code",
   "execution_count": 69,
   "metadata": {},
   "outputs": [],
   "source": [
    "top10_scores['name'] = top10_scores['business_id'].apply(lambda business_id: yelp['name']\n",
    "                                                         [(yelp['business_id'] == business_id)].values[0])"
   ]
  },
  {
   "cell_type": "code",
   "execution_count": 70,
   "metadata": {},
   "outputs": [
    {
     "data": {
      "text/html": [
       "<div>\n",
       "<style scoped>\n",
       "    .dataframe tbody tr th:only-of-type {\n",
       "        vertical-align: middle;\n",
       "    }\n",
       "\n",
       "    .dataframe tbody tr th {\n",
       "        vertical-align: top;\n",
       "    }\n",
       "\n",
       "    .dataframe thead th {\n",
       "        text-align: right;\n",
       "    }\n",
       "</style>\n",
       "<table border=\"1\" class=\"dataframe\">\n",
       "  <thead>\n",
       "    <tr style=\"text-align: right;\">\n",
       "      <th></th>\n",
       "      <th>business_id</th>\n",
       "      <th>cool</th>\n",
       "      <th>funny</th>\n",
       "      <th>stars</th>\n",
       "      <th>useful</th>\n",
       "      <th>compound</th>\n",
       "      <th>v_negative</th>\n",
       "      <th>v_neutral</th>\n",
       "      <th>v_positive</th>\n",
       "      <th>name</th>\n",
       "    </tr>\n",
       "  </thead>\n",
       "  <tbody>\n",
       "    <tr>\n",
       "      <th>0</th>\n",
       "      <td>-zEpEmDfFQL-ph0N3BDlXA</td>\n",
       "      <td>0.160920</td>\n",
       "      <td>0.011494</td>\n",
       "      <td>4.413793</td>\n",
       "      <td>0.275862</td>\n",
       "      <td>1.860336</td>\n",
       "      <td>0.019851</td>\n",
       "      <td>0.699230</td>\n",
       "      <td>0.280862</td>\n",
       "      <td>Sakanaya</td>\n",
       "    </tr>\n",
       "    <tr>\n",
       "      <th>1</th>\n",
       "      <td>9MnbQg7kfb_WgxoV0hXKSQ</td>\n",
       "      <td>0.136364</td>\n",
       "      <td>0.022727</td>\n",
       "      <td>4.409091</td>\n",
       "      <td>0.272727</td>\n",
       "      <td>1.872034</td>\n",
       "      <td>0.027705</td>\n",
       "      <td>0.721068</td>\n",
       "      <td>0.251227</td>\n",
       "      <td>Black Dog Smoke &amp; Ale House</td>\n",
       "    </tr>\n",
       "    <tr>\n",
       "      <th>2</th>\n",
       "      <td>-fiUXzkxRfbHY9TKWwuptw</td>\n",
       "      <td>0.160377</td>\n",
       "      <td>0.037736</td>\n",
       "      <td>4.018868</td>\n",
       "      <td>0.273585</td>\n",
       "      <td>1.796705</td>\n",
       "      <td>0.034849</td>\n",
       "      <td>0.712745</td>\n",
       "      <td>0.252406</td>\n",
       "      <td>DESTIHL Restaurant &amp; Brew Works</td>\n",
       "    </tr>\n",
       "    <tr>\n",
       "      <th>3</th>\n",
       "      <td>L2c-qKZWumCmOCR-dqBLrg</td>\n",
       "      <td>0.333333</td>\n",
       "      <td>0.145833</td>\n",
       "      <td>4.416667</td>\n",
       "      <td>0.458333</td>\n",
       "      <td>1.773444</td>\n",
       "      <td>0.030250</td>\n",
       "      <td>0.720354</td>\n",
       "      <td>0.249458</td>\n",
       "      <td>Seven Saints</td>\n",
       "    </tr>\n",
       "    <tr>\n",
       "      <th>4</th>\n",
       "      <td>t_yiQnxUDdPPCN2z4QyezA</td>\n",
       "      <td>0.342105</td>\n",
       "      <td>0.118421</td>\n",
       "      <td>4.302632</td>\n",
       "      <td>0.828947</td>\n",
       "      <td>1.620366</td>\n",
       "      <td>0.055934</td>\n",
       "      <td>0.748132</td>\n",
       "      <td>0.195816</td>\n",
       "      <td>Golden Harbor Authentic Chinese Cuisine</td>\n",
       "    </tr>\n",
       "    <tr>\n",
       "      <th>5</th>\n",
       "      <td>VIJ2KiDKhUVhhpNylEIfog</td>\n",
       "      <td>0.160000</td>\n",
       "      <td>0.040000</td>\n",
       "      <td>4.160000</td>\n",
       "      <td>0.220000</td>\n",
       "      <td>1.729708</td>\n",
       "      <td>0.033660</td>\n",
       "      <td>0.751300</td>\n",
       "      <td>0.215040</td>\n",
       "      <td>Maize Mexican Grill</td>\n",
       "    </tr>\n",
       "    <tr>\n",
       "      <th>6</th>\n",
       "      <td>XbHxWOciYlBhJOjKRQbo9g</td>\n",
       "      <td>0.333333</td>\n",
       "      <td>0.000000</td>\n",
       "      <td>3.166667</td>\n",
       "      <td>0.666667</td>\n",
       "      <td>1.453317</td>\n",
       "      <td>0.049667</td>\n",
       "      <td>0.777167</td>\n",
       "      <td>0.173000</td>\n",
       "      <td>Meijer</td>\n",
       "    </tr>\n",
       "    <tr>\n",
       "      <th>7</th>\n",
       "      <td>e0prCZXtHGQIKeQ_wTW3uw</td>\n",
       "      <td>0.052632</td>\n",
       "      <td>0.105263</td>\n",
       "      <td>3.842105</td>\n",
       "      <td>0.368421</td>\n",
       "      <td>1.799100</td>\n",
       "      <td>0.036842</td>\n",
       "      <td>0.696263</td>\n",
       "      <td>0.266947</td>\n",
       "      <td>Cafe Kopi</td>\n",
       "    </tr>\n",
       "    <tr>\n",
       "      <th>8</th>\n",
       "      <td>o13eH93qmWVNFZogkjhd9w</td>\n",
       "      <td>0.157895</td>\n",
       "      <td>0.000000</td>\n",
       "      <td>4.368421</td>\n",
       "      <td>0.368421</td>\n",
       "      <td>1.878182</td>\n",
       "      <td>0.024026</td>\n",
       "      <td>0.707500</td>\n",
       "      <td>0.268474</td>\n",
       "      <td>Courier Cafe</td>\n",
       "    </tr>\n",
       "    <tr>\n",
       "      <th>9</th>\n",
       "      <td>dn9lwYUxmhs_mLKPu7L25Q</td>\n",
       "      <td>0.106383</td>\n",
       "      <td>0.212766</td>\n",
       "      <td>2.936170</td>\n",
       "      <td>0.787234</td>\n",
       "      <td>1.552809</td>\n",
       "      <td>0.058340</td>\n",
       "      <td>0.759660</td>\n",
       "      <td>0.181979</td>\n",
       "      <td>Big Grove Tavern</td>\n",
       "    </tr>\n",
       "  </tbody>\n",
       "</table>\n",
       "</div>"
      ],
      "text/plain": [
       "              business_id      cool     funny     stars    useful  compound  \\\n",
       "0  -zEpEmDfFQL-ph0N3BDlXA  0.160920  0.011494  4.413793  0.275862  1.860336   \n",
       "1  9MnbQg7kfb_WgxoV0hXKSQ  0.136364  0.022727  4.409091  0.272727  1.872034   \n",
       "2  -fiUXzkxRfbHY9TKWwuptw  0.160377  0.037736  4.018868  0.273585  1.796705   \n",
       "3  L2c-qKZWumCmOCR-dqBLrg  0.333333  0.145833  4.416667  0.458333  1.773444   \n",
       "4  t_yiQnxUDdPPCN2z4QyezA  0.342105  0.118421  4.302632  0.828947  1.620366   \n",
       "5  VIJ2KiDKhUVhhpNylEIfog  0.160000  0.040000  4.160000  0.220000  1.729708   \n",
       "6  XbHxWOciYlBhJOjKRQbo9g  0.333333  0.000000  3.166667  0.666667  1.453317   \n",
       "7  e0prCZXtHGQIKeQ_wTW3uw  0.052632  0.105263  3.842105  0.368421  1.799100   \n",
       "8  o13eH93qmWVNFZogkjhd9w  0.157895  0.000000  4.368421  0.368421  1.878182   \n",
       "9  dn9lwYUxmhs_mLKPu7L25Q  0.106383  0.212766  2.936170  0.787234  1.552809   \n",
       "\n",
       "   v_negative  v_neutral  v_positive                                     name  \n",
       "0    0.019851   0.699230    0.280862                                 Sakanaya  \n",
       "1    0.027705   0.721068    0.251227              Black Dog Smoke & Ale House  \n",
       "2    0.034849   0.712745    0.252406          DESTIHL Restaurant & Brew Works  \n",
       "3    0.030250   0.720354    0.249458                             Seven Saints  \n",
       "4    0.055934   0.748132    0.195816  Golden Harbor Authentic Chinese Cuisine  \n",
       "5    0.033660   0.751300    0.215040                      Maize Mexican Grill  \n",
       "6    0.049667   0.777167    0.173000                                   Meijer  \n",
       "7    0.036842   0.696263    0.266947                                Cafe Kopi  \n",
       "8    0.024026   0.707500    0.268474                             Courier Cafe  \n",
       "9    0.058340   0.759660    0.181979                         Big Grove Tavern  "
      ]
     },
     "execution_count": 70,
     "metadata": {},
     "output_type": "execute_result"
    }
   ],
   "source": [
    "top10_scores"
   ]
  },
  {
   "cell_type": "code",
   "execution_count": 71,
   "metadata": {},
   "outputs": [],
   "source": [
    "bottom10_sentiment = {}\n",
    "for biz_id in bottom10['business_id'].tolist():\n",
    "    bottom10_sentiment[yelp.loc[yelp['business_id'] == biz_id, 'name'].iloc[0]] = sentiment[sentiment['business_id'] == biz_id].groupby(['business_id']).mean()"
   ]
  },
  {
   "cell_type": "code",
   "execution_count": 72,
   "metadata": {},
   "outputs": [],
   "source": [
    "bottom10_scores = pd.DataFrame()\n",
    "for restaurant in bottom10_sentiment:\n",
    "    bottom10_scores = bottom10_scores.append(pd.DataFrame(bottom10_sentiment[restaurant]))\n",
    "bottom10_scores.reset_index(level=0, inplace=True)"
   ]
  },
  {
   "cell_type": "code",
   "execution_count": 73,
   "metadata": {},
   "outputs": [],
   "source": [
    "bottom10_scores['name'] = bottom10_scores['business_id'].apply(lambda business_id: yelp['name']\n",
    "                                                               [(yelp['business_id'] == business_id)].values[0])"
   ]
  },
  {
   "cell_type": "code",
   "execution_count": 74,
   "metadata": {},
   "outputs": [
    {
     "data": {
      "text/html": [
       "<div>\n",
       "<style scoped>\n",
       "    .dataframe tbody tr th:only-of-type {\n",
       "        vertical-align: middle;\n",
       "    }\n",
       "\n",
       "    .dataframe tbody tr th {\n",
       "        vertical-align: top;\n",
       "    }\n",
       "\n",
       "    .dataframe thead th {\n",
       "        text-align: right;\n",
       "    }\n",
       "</style>\n",
       "<table border=\"1\" class=\"dataframe\">\n",
       "  <thead>\n",
       "    <tr style=\"text-align: right;\">\n",
       "      <th></th>\n",
       "      <th>business_id</th>\n",
       "      <th>cool</th>\n",
       "      <th>funny</th>\n",
       "      <th>stars</th>\n",
       "      <th>useful</th>\n",
       "      <th>compound</th>\n",
       "      <th>v_negative</th>\n",
       "      <th>v_neutral</th>\n",
       "      <th>v_positive</th>\n",
       "      <th>name</th>\n",
       "    </tr>\n",
       "  </thead>\n",
       "  <tbody>\n",
       "    <tr>\n",
       "      <th>0</th>\n",
       "      <td>DLhAuWok29OU8VR-DBxP7A</td>\n",
       "      <td>1.000000</td>\n",
       "      <td>0.0</td>\n",
       "      <td>5.000000</td>\n",
       "      <td>0.000000</td>\n",
       "      <td>1.921700</td>\n",
       "      <td>0.000000</td>\n",
       "      <td>0.694000</td>\n",
       "      <td>0.306000</td>\n",
       "      <td>Monicals Pizza</td>\n",
       "    </tr>\n",
       "    <tr>\n",
       "      <th>1</th>\n",
       "      <td>N9osJe0lQOdnd3xLUkJVMw</td>\n",
       "      <td>0.500000</td>\n",
       "      <td>0.0</td>\n",
       "      <td>5.000000</td>\n",
       "      <td>0.000000</td>\n",
       "      <td>1.948100</td>\n",
       "      <td>0.000000</td>\n",
       "      <td>0.699000</td>\n",
       "      <td>0.301000</td>\n",
       "      <td>Subway</td>\n",
       "    </tr>\n",
       "    <tr>\n",
       "      <th>2</th>\n",
       "      <td>fsBAaw7xwHWB78HRSWwQEQ</td>\n",
       "      <td>0.000000</td>\n",
       "      <td>0.0</td>\n",
       "      <td>5.000000</td>\n",
       "      <td>0.000000</td>\n",
       "      <td>1.970700</td>\n",
       "      <td>0.000000</td>\n",
       "      <td>0.660000</td>\n",
       "      <td>0.340000</td>\n",
       "      <td>The Spice Box</td>\n",
       "    </tr>\n",
       "    <tr>\n",
       "      <th>3</th>\n",
       "      <td>hH7qhup_bGKr9r27RpHJPw</td>\n",
       "      <td>0.000000</td>\n",
       "      <td>0.0</td>\n",
       "      <td>1.000000</td>\n",
       "      <td>0.666667</td>\n",
       "      <td>0.798367</td>\n",
       "      <td>0.069000</td>\n",
       "      <td>0.906000</td>\n",
       "      <td>0.024667</td>\n",
       "      <td>Taco Bell</td>\n",
       "    </tr>\n",
       "    <tr>\n",
       "      <th>4</th>\n",
       "      <td>ZvSy8yaly9Aeh64Qm4Dsfw</td>\n",
       "      <td>1.100000</td>\n",
       "      <td>0.9</td>\n",
       "      <td>3.400000</td>\n",
       "      <td>2.300000</td>\n",
       "      <td>1.382270</td>\n",
       "      <td>0.080200</td>\n",
       "      <td>0.751200</td>\n",
       "      <td>0.168700</td>\n",
       "      <td>Red Cape Hot Pot</td>\n",
       "    </tr>\n",
       "    <tr>\n",
       "      <th>5</th>\n",
       "      <td>IFlSq9YWXHZyLnuh0EffKQ</td>\n",
       "      <td>0.666667</td>\n",
       "      <td>0.0</td>\n",
       "      <td>4.666667</td>\n",
       "      <td>0.666667</td>\n",
       "      <td>1.940767</td>\n",
       "      <td>0.023000</td>\n",
       "      <td>0.721000</td>\n",
       "      <td>0.256333</td>\n",
       "      <td>Main Street Belly Deli</td>\n",
       "    </tr>\n",
       "    <tr>\n",
       "      <th>6</th>\n",
       "      <td>ks6JgGsz7phkGEVh9hoHkg</td>\n",
       "      <td>0.000000</td>\n",
       "      <td>0.0</td>\n",
       "      <td>2.333333</td>\n",
       "      <td>0.000000</td>\n",
       "      <td>0.827967</td>\n",
       "      <td>0.093000</td>\n",
       "      <td>0.840000</td>\n",
       "      <td>0.067000</td>\n",
       "      <td>Little Caesars Pizza</td>\n",
       "    </tr>\n",
       "    <tr>\n",
       "      <th>7</th>\n",
       "      <td>AW_d5hMf7sI6yHrz4Ujv8w</td>\n",
       "      <td>1.000000</td>\n",
       "      <td>0.5</td>\n",
       "      <td>3.500000</td>\n",
       "      <td>1.500000</td>\n",
       "      <td>1.901750</td>\n",
       "      <td>0.035000</td>\n",
       "      <td>0.809000</td>\n",
       "      <td>0.156500</td>\n",
       "      <td>Casa Real</td>\n",
       "    </tr>\n",
       "    <tr>\n",
       "      <th>8</th>\n",
       "      <td>62Ibju8UmUZtPIBLDS_nUw</td>\n",
       "      <td>0.000000</td>\n",
       "      <td>0.0</td>\n",
       "      <td>1.750000</td>\n",
       "      <td>0.250000</td>\n",
       "      <td>0.990875</td>\n",
       "      <td>0.116750</td>\n",
       "      <td>0.776750</td>\n",
       "      <td>0.106500</td>\n",
       "      <td>Tasty Fish Chicken &amp; Grill</td>\n",
       "    </tr>\n",
       "    <tr>\n",
       "      <th>9</th>\n",
       "      <td>sDfN5qJlmvrwTfwEPBsxSg</td>\n",
       "      <td>0.000000</td>\n",
       "      <td>0.0</td>\n",
       "      <td>1.000000</td>\n",
       "      <td>0.000000</td>\n",
       "      <td>0.300300</td>\n",
       "      <td>0.293000</td>\n",
       "      <td>0.707000</td>\n",
       "      <td>0.000000</td>\n",
       "      <td>Dairy Queen</td>\n",
       "    </tr>\n",
       "    <tr>\n",
       "      <th>10</th>\n",
       "      <td>Hc5NrzzzL8RAnbcrIAvZug</td>\n",
       "      <td>0.000000</td>\n",
       "      <td>0.0</td>\n",
       "      <td>3.000000</td>\n",
       "      <td>0.000000</td>\n",
       "      <td>1.931200</td>\n",
       "      <td>0.000000</td>\n",
       "      <td>0.759000</td>\n",
       "      <td>0.241000</td>\n",
       "      <td>Nanjing Bistro</td>\n",
       "    </tr>\n",
       "    <tr>\n",
       "      <th>11</th>\n",
       "      <td>hjo4IYguwprIJ16A8lV75A</td>\n",
       "      <td>1.000000</td>\n",
       "      <td>0.0</td>\n",
       "      <td>1.000000</td>\n",
       "      <td>0.000000</td>\n",
       "      <td>0.217500</td>\n",
       "      <td>0.329000</td>\n",
       "      <td>0.671000</td>\n",
       "      <td>0.000000</td>\n",
       "      <td>Domino's Pizza</td>\n",
       "    </tr>\n",
       "    <tr>\n",
       "      <th>12</th>\n",
       "      <td>W7KtVjq4R_5F5EwbCBENQw</td>\n",
       "      <td>0.000000</td>\n",
       "      <td>0.0</td>\n",
       "      <td>5.000000</td>\n",
       "      <td>1.500000</td>\n",
       "      <td>1.928450</td>\n",
       "      <td>0.000000</td>\n",
       "      <td>0.675500</td>\n",
       "      <td>0.324500</td>\n",
       "      <td>Golden Kitchen</td>\n",
       "    </tr>\n",
       "    <tr>\n",
       "      <th>13</th>\n",
       "      <td>21UO0mP1EgEDZyFUFFI9Mg</td>\n",
       "      <td>0.000000</td>\n",
       "      <td>0.0</td>\n",
       "      <td>4.000000</td>\n",
       "      <td>0.000000</td>\n",
       "      <td>1.875633</td>\n",
       "      <td>0.000000</td>\n",
       "      <td>0.656333</td>\n",
       "      <td>0.343667</td>\n",
       "      <td>The Wild Hare</td>\n",
       "    </tr>\n",
       "    <tr>\n",
       "      <th>14</th>\n",
       "      <td>gWZOW4-8N5dLixQAlp8iRg</td>\n",
       "      <td>0.000000</td>\n",
       "      <td>0.0</td>\n",
       "      <td>2.000000</td>\n",
       "      <td>0.000000</td>\n",
       "      <td>0.891733</td>\n",
       "      <td>0.070667</td>\n",
       "      <td>0.851667</td>\n",
       "      <td>0.077667</td>\n",
       "      <td>Manzellas Italian Restaurant</td>\n",
       "    </tr>\n",
       "    <tr>\n",
       "      <th>15</th>\n",
       "      <td>tkbRjBlZm7ngEVSu22n0vg</td>\n",
       "      <td>0.500000</td>\n",
       "      <td>0.0</td>\n",
       "      <td>5.000000</td>\n",
       "      <td>0.000000</td>\n",
       "      <td>1.914800</td>\n",
       "      <td>0.021500</td>\n",
       "      <td>0.626000</td>\n",
       "      <td>0.352500</td>\n",
       "      <td>Jimmy John's</td>\n",
       "    </tr>\n",
       "  </tbody>\n",
       "</table>\n",
       "</div>"
      ],
      "text/plain": [
       "               business_id      cool  funny     stars    useful  compound  \\\n",
       "0   DLhAuWok29OU8VR-DBxP7A  1.000000    0.0  5.000000  0.000000  1.921700   \n",
       "1   N9osJe0lQOdnd3xLUkJVMw  0.500000    0.0  5.000000  0.000000  1.948100   \n",
       "2   fsBAaw7xwHWB78HRSWwQEQ  0.000000    0.0  5.000000  0.000000  1.970700   \n",
       "3   hH7qhup_bGKr9r27RpHJPw  0.000000    0.0  1.000000  0.666667  0.798367   \n",
       "4   ZvSy8yaly9Aeh64Qm4Dsfw  1.100000    0.9  3.400000  2.300000  1.382270   \n",
       "5   IFlSq9YWXHZyLnuh0EffKQ  0.666667    0.0  4.666667  0.666667  1.940767   \n",
       "6   ks6JgGsz7phkGEVh9hoHkg  0.000000    0.0  2.333333  0.000000  0.827967   \n",
       "7   AW_d5hMf7sI6yHrz4Ujv8w  1.000000    0.5  3.500000  1.500000  1.901750   \n",
       "8   62Ibju8UmUZtPIBLDS_nUw  0.000000    0.0  1.750000  0.250000  0.990875   \n",
       "9   sDfN5qJlmvrwTfwEPBsxSg  0.000000    0.0  1.000000  0.000000  0.300300   \n",
       "10  Hc5NrzzzL8RAnbcrIAvZug  0.000000    0.0  3.000000  0.000000  1.931200   \n",
       "11  hjo4IYguwprIJ16A8lV75A  1.000000    0.0  1.000000  0.000000  0.217500   \n",
       "12  W7KtVjq4R_5F5EwbCBENQw  0.000000    0.0  5.000000  1.500000  1.928450   \n",
       "13  21UO0mP1EgEDZyFUFFI9Mg  0.000000    0.0  4.000000  0.000000  1.875633   \n",
       "14  gWZOW4-8N5dLixQAlp8iRg  0.000000    0.0  2.000000  0.000000  0.891733   \n",
       "15  tkbRjBlZm7ngEVSu22n0vg  0.500000    0.0  5.000000  0.000000  1.914800   \n",
       "\n",
       "    v_negative  v_neutral  v_positive                          name  \n",
       "0     0.000000   0.694000    0.306000                Monicals Pizza  \n",
       "1     0.000000   0.699000    0.301000                        Subway  \n",
       "2     0.000000   0.660000    0.340000                 The Spice Box  \n",
       "3     0.069000   0.906000    0.024667                     Taco Bell  \n",
       "4     0.080200   0.751200    0.168700              Red Cape Hot Pot  \n",
       "5     0.023000   0.721000    0.256333        Main Street Belly Deli  \n",
       "6     0.093000   0.840000    0.067000          Little Caesars Pizza  \n",
       "7     0.035000   0.809000    0.156500                     Casa Real  \n",
       "8     0.116750   0.776750    0.106500    Tasty Fish Chicken & Grill  \n",
       "9     0.293000   0.707000    0.000000                   Dairy Queen  \n",
       "10    0.000000   0.759000    0.241000                Nanjing Bistro  \n",
       "11    0.329000   0.671000    0.000000                Domino's Pizza  \n",
       "12    0.000000   0.675500    0.324500                Golden Kitchen  \n",
       "13    0.000000   0.656333    0.343667                 The Wild Hare  \n",
       "14    0.070667   0.851667    0.077667  Manzellas Italian Restaurant  \n",
       "15    0.021500   0.626000    0.352500                  Jimmy John's  "
      ]
     },
     "execution_count": 74,
     "metadata": {},
     "output_type": "execute_result"
    }
   ],
   "source": [
    "bottom10_scores"
   ]
  },
  {
   "cell_type": "code",
   "execution_count": 75,
   "metadata": {},
   "outputs": [],
   "source": [
    "top10_scores.to_csv('data/yelp_top_scores.csv', index=False)\n",
    "bottom10_scores.to_csv('data/yelp_bottom_scores.csv', index=False)"
   ]
  },
  {
   "cell_type": "markdown",
   "metadata": {},
   "source": [
    "### What are the top 10 Cuisine types (Mexican, American, Thai, etc) based on the number of restaurants and number of check ins"
   ]
  },
  {
   "cell_type": "code",
   "execution_count": 76,
   "metadata": {},
   "outputs": [],
   "source": [
    "restaurants = yelp[yelp['categories'].str.contains('Restaurants', na=False)]"
   ]
  },
  {
   "cell_type": "code",
   "execution_count": 77,
   "metadata": {},
   "outputs": [],
   "source": [
    "pd.options.mode.chained_assignment = None  # default='warn'\n",
    "restaurants['categories'] = restaurants['categories'].apply(lambda x: x.split(', '))"
   ]
  },
  {
   "cell_type": "code",
   "execution_count": 78,
   "metadata": {},
   "outputs": [],
   "source": [
    "restaurants = restaurants.join(pd.get_dummies(pd.DataFrame(restaurants['categories'].tolist()).stack()).astype(int).sum(level=0))"
   ]
  },
  {
   "cell_type": "code",
   "execution_count": 79,
   "metadata": {},
   "outputs": [],
   "source": [
    "columns = [item for item in restaurants.columns.tolist() if item not in yelp.columns.tolist()]\n",
    "columns.remove('Restaurants')"
   ]
  },
  {
   "cell_type": "code",
   "execution_count": 80,
   "metadata": {
    "scrolled": true
   },
   "outputs": [
    {
     "data": {
      "text/plain": [
       "Food                         3607.0\n",
       "Nightlife                    2399.0\n",
       "Bars                         2313.0\n",
       "Sandwiches                   2166.0\n",
       "Pizza                        2139.0\n",
       "Fast Food                    2089.0\n",
       "American (Traditional)       2083.0\n",
       "Breakfast & Brunch           1566.0\n",
       "Burgers                      1558.0\n",
       "Italian                      1384.0\n",
       "Mexican                      1335.0\n",
       "American (New)               1308.0\n",
       "Chinese                      1265.0\n",
       "Coffee & Tea                  992.0\n",
       "Cafes                         955.0\n",
       "Chicken Wings                 809.0\n",
       "Japanese                      794.0\n",
       "Salad                         736.0\n",
       "Seafood                       714.0\n",
       "Event Planning & Services     655.0\n",
       "Sushi Bars                    641.0\n",
       "Canadian (New)                614.0\n",
       "Delis                         591.0\n",
       "Mediterranean                 530.0\n",
       "Barbeque                      526.0\n",
       "Asian Fusion                  519.0\n",
       "Steakhouses                   517.0\n",
       "Specialty Food                504.0\n",
       "Sports Bars                   490.0\n",
       "Bakeries                      459.0\n",
       "Caterers                      455.0\n",
       "Thai                          441.0\n",
       "Pubs                          438.0\n",
       "Diners                        428.0\n",
       "Desserts                      426.0\n",
       "Indian                        419.0\n",
       "Vietnamese                    368.0\n",
       "Middle Eastern                362.0\n",
       "Vegetarian                    324.0\n",
       "French                        318.0\n",
       "Greek                         311.0\n",
       "Wine Bars                     281.0\n",
       "Cocktail Bars                 271.0\n",
       "Korean                        266.0\n",
       "Comfort Food                  259.0\n",
       "Soup                          258.0\n",
       "Buffets                       258.0\n",
       "Beer                          255.0\n",
       "Wine & Spirits                255.0\n",
       "Juice Bars & Smoothies        244.0\n",
       "dtype: float64"
      ]
     },
     "execution_count": 80,
     "metadata": {},
     "output_type": "execute_result"
    }
   ],
   "source": [
    "num_restaurants = restaurants[columns].sum(numeric_only=True).sort_values(ascending=False)\n",
    "num_restaurants.head(50)"
   ]
  },
  {
   "cell_type": "code",
   "execution_count": 81,
   "metadata": {},
   "outputs": [],
   "source": [
    "checkin_dict ={}\n",
    "for item in columns:\n",
    "    cnt = restaurants[restaurants[item] == 1].groupby([item])['checkins'].sum()\n",
    "    if cnt.empty:\n",
    "        checkin_dict[item] = 0\n",
    "    else:\n",
    "        checkin_dict[item] = restaurants[restaurants[item] == 1].groupby([item])['checkins'].sum().values[0]"
   ]
  },
  {
   "cell_type": "code",
   "execution_count": 82,
   "metadata": {},
   "outputs": [],
   "source": [
    "checkin_dict = pd.Series(checkin_dict).sort_values(ascending=False)"
   ]
  },
  {
   "cell_type": "code",
   "execution_count": 83,
   "metadata": {
    "scrolled": true
   },
   "outputs": [
    {
     "data": {
      "text/plain": [
       "Food                         586066.0\n",
       "Nightlife                    425034.0\n",
       "Bars                         412979.0\n",
       "Sandwiches                   340887.0\n",
       "Pizza                        324931.0\n",
       "Fast Food                    323460.0\n",
       "American (Traditional)       301669.0\n",
       "Breakfast & Brunch           240952.0\n",
       "Mexican                      234984.0\n",
       "Burgers                      232747.0\n",
       "Chinese                      199874.0\n",
       "Italian                      194569.0\n",
       "American (New)               192660.0\n",
       "Coffee & Tea                 155729.0\n",
       "Chicken Wings                139867.0\n",
       "Japanese                     130470.0\n",
       "Cafes                        129573.0\n",
       "Event Planning & Services    120586.0\n",
       "Salad                        115175.0\n",
       "Thai                         115110.0\n",
       "dtype: float64"
      ]
     },
     "execution_count": 83,
     "metadata": {},
     "output_type": "execute_result"
    }
   ],
   "source": [
    "checkin_dict.head(20)"
   ]
  },
  {
   "cell_type": "code",
   "execution_count": 84,
   "metadata": {},
   "outputs": [
    {
     "name": "stdout",
     "output_type": "stream",
     "text": [
      "Food\n",
      "Nightlife\n",
      "Bars\n",
      "Sandwiches\n",
      "Pizza\n",
      "Fast Food\n",
      "American (Traditional)\n",
      "Breakfast & Brunch\n",
      "Mexican\n",
      "Burgers\n",
      "Chinese\n",
      "Italian\n",
      "American (New)\n",
      "Coffee & Tea\n",
      "Chicken Wings\n",
      "Japanese\n",
      "Cafes\n",
      "Event Planning & Services\n",
      "Salad\n",
      "Thai\n",
      "Seafood\n",
      "Specialty Food\n",
      "Canadian (New)\n",
      "Sports Bars\n",
      "Sushi Bars\n",
      "Caterers\n",
      "Steakhouses\n",
      "Pubs\n",
      "Barbeque\n",
      "Delis\n",
      "Desserts\n",
      "Mediterranean\n",
      "Asian Fusion\n",
      "Bakeries\n",
      "Indian\n",
      "Beer\n",
      "Wine & Spirits\n",
      "Diners\n",
      "Buffets\n",
      "Korean\n",
      "Lounges\n",
      "Greek\n",
      "Wine Bars\n",
      "Cocktail Bars\n",
      "Vegetarian\n",
      "Middle Eastern\n",
      "Gluten-Free\n",
      "Vietnamese\n",
      "Soup\n",
      "French\n"
     ]
    }
   ],
   "source": [
    "for item in checkin_dict.keys()[:50]:\n",
    "    print(item)"
   ]
  },
  {
   "cell_type": "code",
   "execution_count": 85,
   "metadata": {},
   "outputs": [],
   "source": [
    "pd.DataFrame(checkin_dict).to_csv('data/yelp_cuisine_checkin.csv')\n",
    "pd.DataFrame(num_restaurants).to_csv('data/yelp_cuisine_restaurants.csv')"
   ]
  },
  {
   "cell_type": "markdown",
   "metadata": {},
   "source": [
    "### What are the most popular keywords or adjectives that reviewers use for the above list of cuisines (calculated in step 8)"
   ]
  },
  {
   "cell_type": "code",
   "execution_count": 86,
   "metadata": {},
   "outputs": [
    {
     "name": "stderr",
     "output_type": "stream",
     "text": [
      "/anaconda3/lib/python3.6/site-packages/ipykernel_launcher.py:6: UserWarning: This pattern has match groups. To actually get the groups, use str.extract.\n",
      "  \n"
     ]
    }
   ],
   "source": [
    "cuisine_list = ['American (Traditional)', 'Mexican', 'Chinese', 'Italian', 'American (New)',\n",
    "               'Japanese', 'Thai', 'Mediterranean', 'Asian Fusion', 'Indian', 'Korean',\n",
    "                'Greek', 'Middle Eastern', 'Vietnamese', 'French', 'Tex-Mex', 'Caribbean']\n",
    "cuisines = pd.DataFrame()\n",
    "for cuisine in cuisine_list:\n",
    "    businesses = yelp[yelp['categories'].str.contains(cuisine, na=False)]['business_id'].tolist()\n",
    "    temp = review[review['business_id'].isin(businesses)]\n",
    "    temp['cuisine'] = cuisine\n",
    "    cuisines = pd.concat([cuisines, temp], ignore_index=True)"
   ]
  },
  {
   "cell_type": "code",
   "execution_count": 87,
   "metadata": {},
   "outputs": [
    {
     "data": {
      "text/html": [
       "<div>\n",
       "<style scoped>\n",
       "    .dataframe tbody tr th:only-of-type {\n",
       "        vertical-align: middle;\n",
       "    }\n",
       "\n",
       "    .dataframe tbody tr th {\n",
       "        vertical-align: top;\n",
       "    }\n",
       "\n",
       "    .dataframe thead th {\n",
       "        text-align: right;\n",
       "    }\n",
       "</style>\n",
       "<table border=\"1\" class=\"dataframe\">\n",
       "  <thead>\n",
       "    <tr style=\"text-align: right;\">\n",
       "      <th></th>\n",
       "      <th>business_id</th>\n",
       "      <th>cool</th>\n",
       "      <th>date</th>\n",
       "      <th>funny</th>\n",
       "      <th>review_id</th>\n",
       "      <th>stars</th>\n",
       "      <th>text</th>\n",
       "      <th>useful</th>\n",
       "      <th>user_id</th>\n",
       "      <th>cuisine</th>\n",
       "    </tr>\n",
       "  </thead>\n",
       "  <tbody>\n",
       "    <tr>\n",
       "      <th>0</th>\n",
       "      <td>gZGsReG0VeX4uKViHTB9EQ</td>\n",
       "      <td>0</td>\n",
       "      <td>2017-08-16</td>\n",
       "      <td>0.0</td>\n",
       "      <td>51RHs_V_fjuistnuKxNpEg</td>\n",
       "      <td>5.0</td>\n",
       "      <td>Finally! After trying many Mexican restaurants...</td>\n",
       "      <td>0.0</td>\n",
       "      <td>5ngpW5tf3ep680eG1HxHzA</td>\n",
       "      <td>Mexican</td>\n",
       "    </tr>\n",
       "    <tr>\n",
       "      <th>1</th>\n",
       "      <td>yz66FIUPDKGhILDWzRLeKg</td>\n",
       "      <td>0</td>\n",
       "      <td>2017-11-18</td>\n",
       "      <td>0.0</td>\n",
       "      <td>85DRIjwPJOTb4q0qOlBstw</td>\n",
       "      <td>1.0</td>\n",
       "      <td>I wish i could tell you all about the food but...</td>\n",
       "      <td>1.0</td>\n",
       "      <td>Fc_nb6N6Sdurqb-rwsY1Bw</td>\n",
       "      <td>Mexican</td>\n",
       "    </tr>\n",
       "    <tr>\n",
       "      <th>2</th>\n",
       "      <td>vvHr2uKKIhfxVk-fYDmX9Q</td>\n",
       "      <td>0</td>\n",
       "      <td>2017-04-01</td>\n",
       "      <td>0.0</td>\n",
       "      <td>_5rlmreTSW0FVHvdJluRyg</td>\n",
       "      <td>1.0</td>\n",
       "      <td>This Del Taco is just sad. We have been here t...</td>\n",
       "      <td>1.0</td>\n",
       "      <td>GrgjO23ba8soKwyW6BECuw</td>\n",
       "      <td>Mexican</td>\n",
       "    </tr>\n",
       "    <tr>\n",
       "      <th>3</th>\n",
       "      <td>VH2BjFjc9usDquDgoHhptA</td>\n",
       "      <td>0</td>\n",
       "      <td>2017-12-05</td>\n",
       "      <td>0.0</td>\n",
       "      <td>TSqSiHfqtBigBa6ia59K7w</td>\n",
       "      <td>5.0</td>\n",
       "      <td>Amazing tacos! A must try if you're in the are...</td>\n",
       "      <td>0.0</td>\n",
       "      <td>SZHWhyG7WxJZdGp6fBVlRg</td>\n",
       "      <td>Mexican</td>\n",
       "    </tr>\n",
       "    <tr>\n",
       "      <th>4</th>\n",
       "      <td>YBb-sAYuFv86MGfwQP5Ojg</td>\n",
       "      <td>0</td>\n",
       "      <td>2017-03-19</td>\n",
       "      <td>0.0</td>\n",
       "      <td>qv65IQbhyJT9MeJHTv6hNQ</td>\n",
       "      <td>4.0</td>\n",
       "      <td>Best margaritas around! The food is all a la c...</td>\n",
       "      <td>0.0</td>\n",
       "      <td>1ryvfb9F6hYoCZZZaqeCOA</td>\n",
       "      <td>Mexican</td>\n",
       "    </tr>\n",
       "  </tbody>\n",
       "</table>\n",
       "</div>"
      ],
      "text/plain": [
       "              business_id  cool        date  funny               review_id  \\\n",
       "0  gZGsReG0VeX4uKViHTB9EQ     0  2017-08-16    0.0  51RHs_V_fjuistnuKxNpEg   \n",
       "1  yz66FIUPDKGhILDWzRLeKg     0  2017-11-18    0.0  85DRIjwPJOTb4q0qOlBstw   \n",
       "2  vvHr2uKKIhfxVk-fYDmX9Q     0  2017-04-01    0.0  _5rlmreTSW0FVHvdJluRyg   \n",
       "3  VH2BjFjc9usDquDgoHhptA     0  2017-12-05    0.0  TSqSiHfqtBigBa6ia59K7w   \n",
       "4  YBb-sAYuFv86MGfwQP5Ojg     0  2017-03-19    0.0  qv65IQbhyJT9MeJHTv6hNQ   \n",
       "\n",
       "   stars                                               text  useful  \\\n",
       "0    5.0  Finally! After trying many Mexican restaurants...     0.0   \n",
       "1    1.0  I wish i could tell you all about the food but...     1.0   \n",
       "2    1.0  This Del Taco is just sad. We have been here t...     1.0   \n",
       "3    5.0  Amazing tacos! A must try if you're in the are...     0.0   \n",
       "4    4.0  Best margaritas around! The food is all a la c...     0.0   \n",
       "\n",
       "                  user_id  cuisine  \n",
       "0  5ngpW5tf3ep680eG1HxHzA  Mexican  \n",
       "1  Fc_nb6N6Sdurqb-rwsY1Bw  Mexican  \n",
       "2  GrgjO23ba8soKwyW6BECuw  Mexican  \n",
       "3  SZHWhyG7WxJZdGp6fBVlRg  Mexican  \n",
       "4  1ryvfb9F6hYoCZZZaqeCOA  Mexican  "
      ]
     },
     "execution_count": 87,
     "metadata": {},
     "output_type": "execute_result"
    }
   ],
   "source": [
    "cuisines.head()"
   ]
  },
  {
   "cell_type": "code",
   "execution_count": 88,
   "metadata": {},
   "outputs": [],
   "source": [
    "import spacy\n",
    "from collections import Counter\n",
    "\n",
    "nlp = spacy.load('en')\n",
    "\n",
    "nlp.max_length = 1500000"
   ]
  },
  {
   "cell_type": "code",
   "execution_count": 90,
   "metadata": {
    "scrolled": true
   },
   "outputs": [
    {
     "name": "stdout",
     "output_type": "stream",
     "text": [
      "\n",
      "American (Traditional)\n",
      "  chunk 1 of 1\n",
      "  chunk 2 of 1\n",
      "  chunk 3 of 1\n",
      "  chunk 4 of 1\n",
      "\n",
      "Mexican\n",
      "  chunk 1 of 34\n",
      "  chunk 2 of 34\n",
      "  chunk 3 of 34\n",
      "  chunk 4 of 34\n",
      "\n",
      "Chinese\n",
      "  chunk 1 of 24\n",
      "  chunk 2 of 24\n",
      "  chunk 3 of 24\n",
      "  chunk 4 of 24\n",
      "\n",
      "Italian\n",
      "  chunk 1 of 33\n",
      "  chunk 2 of 33\n",
      "  chunk 3 of 33\n",
      "  chunk 4 of 33\n",
      "\n",
      "American (New)\n",
      "  chunk 1 of 1\n",
      "  chunk 2 of 1\n",
      "  chunk 3 of 1\n",
      "  chunk 4 of 1\n",
      "\n",
      "Japanese\n",
      "  chunk 1 of 30\n",
      "  chunk 2 of 30\n",
      "  chunk 3 of 30\n",
      "  chunk 4 of 30\n",
      "\n",
      "Thai\n",
      "  chunk 1 of 11\n",
      "  chunk 2 of 11\n",
      "  chunk 3 of 11\n",
      "  chunk 4 of 11\n",
      "\n",
      "Mediterranean\n",
      "  chunk 1 of 12\n",
      "  chunk 2 of 12\n",
      "  chunk 3 of 12\n",
      "  chunk 4 of 12\n",
      "\n",
      "Asian Fusion\n",
      "  chunk 1 of 23\n",
      "  chunk 2 of 23\n",
      "  chunk 3 of 23\n",
      "  chunk 4 of 23\n",
      "\n",
      "Indian\n",
      "  chunk 1 of 7\n",
      "  chunk 2 of 7\n",
      "  chunk 3 of 7\n",
      "  chunk 4 of 7\n",
      "\n",
      "Korean\n",
      "  chunk 1 of 11\n",
      "  chunk 2 of 11\n",
      "  chunk 3 of 11\n",
      "  chunk 4 of 11\n",
      "\n",
      "Greek\n",
      "  chunk 1 of 5\n",
      "  chunk 2 of 5\n",
      "  chunk 3 of 5\n",
      "  chunk 4 of 5\n",
      "\n",
      "Middle Eastern\n",
      "  chunk 1 of 6\n",
      "  chunk 2 of 6\n",
      "  chunk 3 of 6\n",
      "  chunk 4 of 6\n",
      "\n",
      "Vietnamese\n",
      "  chunk 1 of 8\n",
      "  chunk 2 of 8\n",
      "  chunk 3 of 8\n",
      "  chunk 4 of 8\n",
      "\n",
      "French\n",
      "  chunk 1 of 9\n",
      "  chunk 2 of 9\n",
      "  chunk 3 of 9\n",
      "  chunk 4 of 9\n",
      "\n",
      "Tex-Mex\n",
      "  chunk 1 of 5\n",
      "  chunk 2 of 5\n",
      "  chunk 3 of 5\n",
      "  chunk 4 of 5\n",
      "\n",
      "Caribbean\n",
      "  chunk 1 of 3\n",
      "  chunk 2 of 3\n",
      "  chunk 3 of 3\n",
      "  chunk 4 of 3\n"
     ]
    }
   ],
   "source": [
    "cuisine_docs = {}\n",
    "\n",
    "for cuisine in cuisine_list:\n",
    "    print()\n",
    "    print(cuisine)\n",
    "    text = cuisines[cuisines['cuisine'] == cuisine]['text'].str.cat(sep=' ')\n",
    "    chunk_size = 1000000\n",
    "    num_chunks = len(text) // chunk_size + 1\n",
    "    \n",
    "    words = []\n",
    "    adj = []\n",
    "    \n",
    "    for chunk in range(num_chunks):\n",
    "        print('  chunk', chunk + 1, 'of', num_chunks)\n",
    "        chunk_start = chunk_size * (chunk - 1)\n",
    "        chunk_end = chunk_size * chunk\n",
    "        chunk_text = text[chunk_start: chunk_end]\n",
    "    \n",
    "        doc = nlp(chunk_text)\n",
    "        # all tokens that arent stop words or punctuations\n",
    "        words.extend([token.text for token in doc if\n",
    "                      token.is_stop !=True and token.is_punct != True])\n",
    "\n",
    "        # adjective tokens that arent stop words or punctuations\n",
    "        adj.extend([token.text for token in doc if\n",
    "                    token.is_stop != True and\n",
    "                    token.is_punct != True and token.pos_ == \"ADJ\"])\n",
    "\n",
    "    # 200 most common tokens\n",
    "    word_freq = Counter(words)\n",
    "    common_words = word_freq.most_common(200)\n",
    "\n",
    "    # five most common adjective tokens\n",
    "    adj_freq = Counter(adj)\n",
    "    common_adj = adj_freq.most_common(200)\n",
    "    \n",
    "    cuisine_docs[cuisine] = {'words': words,\n",
    "                               'adj': adj,\n",
    "                               'common_words': common_words,\n",
    "                               'common_adj': common_adj}"
   ]
  },
  {
   "cell_type": "code",
   "execution_count": 91,
   "metadata": {},
   "outputs": [],
   "source": [
    "for cuisine in cuisine_docs.keys():\n",
    "    with open('data/yelp_cuisine_' + cuisine + '.json', 'w') as fp:\n",
    "        json.dump(cuisine_docs[cuisine], fp)"
   ]
  },
  {
   "cell_type": "code",
   "execution_count": 92,
   "metadata": {},
   "outputs": [],
   "source": [
    "cuisine_df = pd.DataFrame()\n",
    "\n",
    "for cuisine in cuisine_docs.keys():\n",
    "    temp = pd.DataFrame({'words': ' '.join(cuisine_docs[cuisine]['words']).replace('\\n', ' ').replace('\\r', ''),\n",
    "                         'adj': ' '.join(cuisine_docs[cuisine]['adj']).replace('\\n', ' ').replace('\\r', ''),\n",
    "                         'common_words': [cuisine_docs[cuisine]['common_words']],\n",
    "                         'common_adj': [cuisine_docs[cuisine]['common_adj']]})\n",
    "    temp['cuisine'] = cuisine\n",
    "    cuisine_df = pd.concat([cuisine_df, temp], ignore_index=True)"
   ]
  },
  {
   "cell_type": "code",
   "execution_count": 93,
   "metadata": {},
   "outputs": [
    {
     "data": {
      "text/html": [
       "<div>\n",
       "<style scoped>\n",
       "    .dataframe tbody tr th:only-of-type {\n",
       "        vertical-align: middle;\n",
       "    }\n",
       "\n",
       "    .dataframe tbody tr th {\n",
       "        vertical-align: top;\n",
       "    }\n",
       "\n",
       "    .dataframe thead th {\n",
       "        text-align: right;\n",
       "    }\n",
       "</style>\n",
       "<table border=\"1\" class=\"dataframe\">\n",
       "  <thead>\n",
       "    <tr style=\"text-align: right;\">\n",
       "      <th></th>\n",
       "      <th>words</th>\n",
       "      <th>adj</th>\n",
       "      <th>common_words</th>\n",
       "      <th>common_adj</th>\n",
       "      <th>cuisine</th>\n",
       "    </tr>\n",
       "  </thead>\n",
       "  <tbody>\n",
       "    <tr>\n",
       "      <th>0</th>\n",
       "      <td></td>\n",
       "      <td></td>\n",
       "      <td>[]</td>\n",
       "      <td>[]</td>\n",
       "      <td>American (Traditional)</td>\n",
       "    </tr>\n",
       "    <tr>\n",
       "      <th>1</th>\n",
       "      <td>Finally After trying Mexican restaurants Phoen...</td>\n",
       "      <td>Mexican authentic Mexican AMAZING Fresh ready ...</td>\n",
       "      <td>[(I, 14242), ( , 6880), (The, 5793), (food, 57...</td>\n",
       "      <td>[(good, 3059), (great, 2382), (Mexican, 1441),...</td>\n",
       "      <td>Mexican</td>\n",
       "    </tr>\n",
       "    <tr>\n",
       "      <th>2</th>\n",
       "      <td>The spicy wonton favorite We ordered round pot...</td>\n",
       "      <td>spicy favorite good better salty okay Great ye...</td>\n",
       "      <td>[(I, 14122), ( , 6025), (food, 5903), (The, 57...</td>\n",
       "      <td>[(good, 3265), (great, 1648), (Chinese, 1518),...</td>\n",
       "      <td>Chinese</td>\n",
       "    </tr>\n",
       "    <tr>\n",
       "      <th>3</th>\n",
       "      <td>Had ruby salad carpaccio salmon ravioli litera...</td>\n",
       "      <td>amazing amazing bad quick cold hot ok busy bes...</td>\n",
       "      <td>[(I, 12566), ( , 7811), (The, 5661), (food, 40...</td>\n",
       "      <td>[(good, 2676), (great, 2334), (Italian, 1040),...</td>\n",
       "      <td>Italian</td>\n",
       "    </tr>\n",
       "    <tr>\n",
       "      <th>4</th>\n",
       "      <td></td>\n",
       "      <td></td>\n",
       "      <td>[]</td>\n",
       "      <td>[]</td>\n",
       "      <td>American (New)</td>\n",
       "    </tr>\n",
       "    <tr>\n",
       "      <th>5</th>\n",
       "      <td>Sansotei serves notch ramen They reservations ...</td>\n",
       "      <td>half normal favorite Our spicy exceptional rig...</td>\n",
       "      <td>[(I, 13724), (The, 5884), ( , 5356), (food, 40...</td>\n",
       "      <td>[(good, 3080), (great, 2202), (fresh, 1143), (...</td>\n",
       "      <td>Japanese</td>\n",
       "    </tr>\n",
       "    <tr>\n",
       "      <th>6</th>\n",
       "      <td>I REALLY wanted like place A lot friends menti...</td>\n",
       "      <td>amazing nice great busy amazing yellow generou...</td>\n",
       "      <td>[(I, 15617), (food, 6045), (The, 5932), ( , 53...</td>\n",
       "      <td>[(good, 3263), (great, 2027), (delicious, 1205...</td>\n",
       "      <td>Thai</td>\n",
       "    </tr>\n",
       "    <tr>\n",
       "      <th>7</th>\n",
       "      <td>This far favorite Mediterranean restaurant Alw...</td>\n",
       "      <td>favorite fresh delightful amazing large primar...</td>\n",
       "      <td>[(I, 14655), (The, 6437), ( , 6133), (food, 55...</td>\n",
       "      <td>[(good, 3001), (great, 2116), (delicious, 1491...</td>\n",
       "      <td>Mediterranean</td>\n",
       "    </tr>\n",
       "    <tr>\n",
       "      <th>8</th>\n",
       "      <td>The spicy wonton favorite We ordered round pot...</td>\n",
       "      <td>spicy favorite good better salty okay good fri...</td>\n",
       "      <td>[(I, 14258), (The, 6038), ( , 5667), (food, 50...</td>\n",
       "      <td>[(good, 3129), (great, 2031), (delicious, 1027...</td>\n",
       "      <td>Asian Fusion</td>\n",
       "    </tr>\n",
       "    <tr>\n",
       "      <th>9</th>\n",
       "      <td>Non existened service   The waiter great liste...</td>\n",
       "      <td>male different Its dreadful worse fast YOUR Ex...</td>\n",
       "      <td>[(I, 13829), (food, 7215), (The, 6214), ( , 47...</td>\n",
       "      <td>[(good, 3255), (Indian, 3234), (great, 1806), ...</td>\n",
       "      <td>Indian</td>\n",
       "    </tr>\n",
       "    <tr>\n",
       "      <th>10</th>\n",
       "      <td>Excellent food service friendly servers seriou...</td>\n",
       "      <td>Excellent friendly soft best attentive quick k...</td>\n",
       "      <td>[(I, 13363), (The, 6059), (\\n\\n, 4594), (food,...</td>\n",
       "      <td>[(good, 3091), (Korean, 2400), (great, 1905), ...</td>\n",
       "      <td>Korean</td>\n",
       "    </tr>\n",
       "    <tr>\n",
       "      <th>11</th>\n",
       "      <td>Not happy meal I got Mama Mia gyro meat small ...</td>\n",
       "      <td>happy gyro small small heavy odd Greek greek d...</td>\n",
       "      <td>[(I, 15777), (The, 6567), ( , 6547), (food, 57...</td>\n",
       "      <td>[(good, 3202), (great, 2207), (Greek, 1918), (...</td>\n",
       "      <td>Greek</td>\n",
       "    </tr>\n",
       "    <tr>\n",
       "      <th>12</th>\n",
       "      <td>Posted photos experience wife I yesterday Para...</td>\n",
       "      <td>busy fresh disappointed difficult worst upset ...</td>\n",
       "      <td>[(I, 15624), (The, 6494), (food, 5693), ( , 51...</td>\n",
       "      <td>[(good, 2954), (great, 1905), (delicious, 1490...</td>\n",
       "      <td>Middle Eastern</td>\n",
       "    </tr>\n",
       "    <tr>\n",
       "      <th>13</th>\n",
       "      <td>Food good   Prices Jen 's street meat portions...</td>\n",
       "      <td>good bigger My favourite homemade outstanding ...</td>\n",
       "      <td>[(I, 16310), (The, 6160), ( , 5278), (pho, 430...</td>\n",
       "      <td>[(good, 3457), (great, 1725), (Vietnamese, 142...</td>\n",
       "      <td>Vietnamese</td>\n",
       "    </tr>\n",
       "    <tr>\n",
       "      <th>14</th>\n",
       "      <td>Loved fried goat cheese tomato sauce dogfish 6...</td>\n",
       "      <td>nice excellent new streaky warm cool warm blan...</td>\n",
       "      <td>[(I, 12246), ( , 6098), (The, 6080), (\\n\\n, 40...</td>\n",
       "      <td>[(good, 2511), (great, 1846), (delicious, 1297...</td>\n",
       "      <td>French</td>\n",
       "    </tr>\n",
       "    <tr>\n",
       "      <th>15</th>\n",
       "      <td>Let start saying I love Taco Bell worst I 've ...</td>\n",
       "      <td>worst wrong Last spicy burrito sour awful new ...</td>\n",
       "      <td>[(I, 15430), ( , 6046), (The, 5494), (food, 44...</td>\n",
       "      <td>[(good, 2957), (great, 2111), (My, 1004), (Mex...</td>\n",
       "      <td>Tex-Mex</td>\n",
       "    </tr>\n",
       "    <tr>\n",
       "      <th>16</th>\n",
       "      <td>First let service fantastic Jason Elsie came c...</td>\n",
       "      <td>fantastic multiple Fabulous closer good amazin...</td>\n",
       "      <td>[(I, 13129), (The, 5198), ( , 4278), (food, 42...</td>\n",
       "      <td>[(good, 2475), (great, 1454), (delicious, 967)...</td>\n",
       "      <td>Caribbean</td>\n",
       "    </tr>\n",
       "  </tbody>\n",
       "</table>\n",
       "</div>"
      ],
      "text/plain": [
       "                                                words  \\\n",
       "0                                                       \n",
       "1   Finally After trying Mexican restaurants Phoen...   \n",
       "2   The spicy wonton favorite We ordered round pot...   \n",
       "3   Had ruby salad carpaccio salmon ravioli litera...   \n",
       "4                                                       \n",
       "5   Sansotei serves notch ramen They reservations ...   \n",
       "6   I REALLY wanted like place A lot friends menti...   \n",
       "7   This far favorite Mediterranean restaurant Alw...   \n",
       "8   The spicy wonton favorite We ordered round pot...   \n",
       "9   Non existened service   The waiter great liste...   \n",
       "10  Excellent food service friendly servers seriou...   \n",
       "11  Not happy meal I got Mama Mia gyro meat small ...   \n",
       "12  Posted photos experience wife I yesterday Para...   \n",
       "13  Food good   Prices Jen 's street meat portions...   \n",
       "14  Loved fried goat cheese tomato sauce dogfish 6...   \n",
       "15  Let start saying I love Taco Bell worst I 've ...   \n",
       "16  First let service fantastic Jason Elsie came c...   \n",
       "\n",
       "                                                  adj  \\\n",
       "0                                                       \n",
       "1   Mexican authentic Mexican AMAZING Fresh ready ...   \n",
       "2   spicy favorite good better salty okay Great ye...   \n",
       "3   amazing amazing bad quick cold hot ok busy bes...   \n",
       "4                                                       \n",
       "5   half normal favorite Our spicy exceptional rig...   \n",
       "6   amazing nice great busy amazing yellow generou...   \n",
       "7   favorite fresh delightful amazing large primar...   \n",
       "8   spicy favorite good better salty okay good fri...   \n",
       "9   male different Its dreadful worse fast YOUR Ex...   \n",
       "10  Excellent friendly soft best attentive quick k...   \n",
       "11  happy gyro small small heavy odd Greek greek d...   \n",
       "12  busy fresh disappointed difficult worst upset ...   \n",
       "13  good bigger My favourite homemade outstanding ...   \n",
       "14  nice excellent new streaky warm cool warm blan...   \n",
       "15  worst wrong Last spicy burrito sour awful new ...   \n",
       "16  fantastic multiple Fabulous closer good amazin...   \n",
       "\n",
       "                                         common_words  \\\n",
       "0                                                  []   \n",
       "1   [(I, 14242), ( , 6880), (The, 5793), (food, 57...   \n",
       "2   [(I, 14122), ( , 6025), (food, 5903), (The, 57...   \n",
       "3   [(I, 12566), ( , 7811), (The, 5661), (food, 40...   \n",
       "4                                                  []   \n",
       "5   [(I, 13724), (The, 5884), ( , 5356), (food, 40...   \n",
       "6   [(I, 15617), (food, 6045), (The, 5932), ( , 53...   \n",
       "7   [(I, 14655), (The, 6437), ( , 6133), (food, 55...   \n",
       "8   [(I, 14258), (The, 6038), ( , 5667), (food, 50...   \n",
       "9   [(I, 13829), (food, 7215), (The, 6214), ( , 47...   \n",
       "10  [(I, 13363), (The, 6059), (\\n\\n, 4594), (food,...   \n",
       "11  [(I, 15777), (The, 6567), ( , 6547), (food, 57...   \n",
       "12  [(I, 15624), (The, 6494), (food, 5693), ( , 51...   \n",
       "13  [(I, 16310), (The, 6160), ( , 5278), (pho, 430...   \n",
       "14  [(I, 12246), ( , 6098), (The, 6080), (\\n\\n, 40...   \n",
       "15  [(I, 15430), ( , 6046), (The, 5494), (food, 44...   \n",
       "16  [(I, 13129), (The, 5198), ( , 4278), (food, 42...   \n",
       "\n",
       "                                           common_adj                 cuisine  \n",
       "0                                                  []  American (Traditional)  \n",
       "1   [(good, 3059), (great, 2382), (Mexican, 1441),...                 Mexican  \n",
       "2   [(good, 3265), (great, 1648), (Chinese, 1518),...                 Chinese  \n",
       "3   [(good, 2676), (great, 2334), (Italian, 1040),...                 Italian  \n",
       "4                                                  []          American (New)  \n",
       "5   [(good, 3080), (great, 2202), (fresh, 1143), (...                Japanese  \n",
       "6   [(good, 3263), (great, 2027), (delicious, 1205...                    Thai  \n",
       "7   [(good, 3001), (great, 2116), (delicious, 1491...           Mediterranean  \n",
       "8   [(good, 3129), (great, 2031), (delicious, 1027...            Asian Fusion  \n",
       "9   [(good, 3255), (Indian, 3234), (great, 1806), ...                  Indian  \n",
       "10  [(good, 3091), (Korean, 2400), (great, 1905), ...                  Korean  \n",
       "11  [(good, 3202), (great, 2207), (Greek, 1918), (...                   Greek  \n",
       "12  [(good, 2954), (great, 1905), (delicious, 1490...          Middle Eastern  \n",
       "13  [(good, 3457), (great, 1725), (Vietnamese, 142...              Vietnamese  \n",
       "14  [(good, 2511), (great, 1846), (delicious, 1297...                  French  \n",
       "15  [(good, 2957), (great, 2111), (My, 1004), (Mex...                 Tex-Mex  \n",
       "16  [(good, 2475), (great, 1454), (delicious, 967)...               Caribbean  "
      ]
     },
     "execution_count": 93,
     "metadata": {},
     "output_type": "execute_result"
    }
   ],
   "source": [
    "cuisine_df.head(50)"
   ]
  },
  {
   "cell_type": "code",
   "execution_count": 94,
   "metadata": {},
   "outputs": [],
   "source": [
    "cuisine_df.to_csv('data/yelp_cuisine_words.csv', index=False)"
   ]
  },
  {
   "cell_type": "markdown",
   "metadata": {},
   "source": [
    "## The Mayor would like Divvy Bike to add a new feature to their kiosks: “Enter a destination and we’ll tell you how long the trip will take”. We need you to build a model that can predict how long a trip will take given a starting point and destination. You will need to get creative about the factors that will predict travel time. For example, weather and traffic patterns may have an impact on Divvy Bike travel time. There is certainly dataout there –you just should find it."
   ]
  },
  {
   "cell_type": "markdown",
   "metadata": {},
   "source": [
    "### Download weather data from Weather Underground\n",
    "Unfortunately, Weather Underground has started charging for their API: https://www.wunderground.com/weather/api"
   ]
  },
  {
   "cell_type": "code",
   "execution_count": 95,
   "metadata": {},
   "outputs": [
    {
     "data": {
      "text/plain": [
       "\"\\n# Query data in different years\\n# You can get keys from https://www.wunderground.com/\\nkeys = ['***************', '***************', '***************', \\n        '***************', '***************']\\nyears = [2017]\\n\\nfor key, year in zip(keys, years):\\n    path = './data/weather_' + str(year) + '.csv'\\n    if os.path.isfile(path):\\n        continue\\n    df, _ = query_weather(key=key, year=year, state='IL', area='Chicago')\\n    df.to_csv(path, index=False)\\n    print('File saved:\\t', path)\\n\""
      ]
     },
     "execution_count": 95,
     "metadata": {},
     "output_type": "execute_result"
    }
   ],
   "source": [
    "# # Query data in different years\n",
    "# # You can get keys from https://www.wunderground.com/\n",
    "# keys = ['***************', '***************', '***************', \n",
    "#         '***************', '***************']\n",
    "# years = [2017]\n",
    "\n",
    "# for key, year in zip(keys, years):\n",
    "#     path = './data/weather_' + str(year) + '.csv'\n",
    "#     if os.path.isfile(path):\n",
    "#         continue\n",
    "#     df, _ = query_weather(key=key, year=year, state='IL', area='Chicago')\n",
    "#     df.to_csv(path, index=False)\n",
    "#     print('File saved:\\t', path)"
   ]
  },
  {
   "cell_type": "markdown",
   "metadata": {},
   "source": [
    "### so, just join with the Kaggle dataset instead\n",
    "download the dataset here: https://www.kaggle.com/yingwurenjian/chicago-divvy-bicycle-sharing-data\n",
    "\n",
    "We'll be only extracting the weather information from this dataset"
   ]
  },
  {
   "cell_type": "code",
   "execution_count": 96,
   "metadata": {},
   "outputs": [],
   "source": [
    "divvy_kaggle = pd.read_csv('data/chicago-divvy-bicycle-sharing-data/data_raw.csv', parse_dates=['starttime', 'stoptime'])"
   ]
  },
  {
   "cell_type": "code",
   "execution_count": 97,
   "metadata": {},
   "outputs": [],
   "source": [
    "divvy_kaggle = divvy_kaggle[divvy_kaggle['starttime'].dt.year == 2017].reset_index(drop=True)"
   ]
  },
  {
   "cell_type": "code",
   "execution_count": 98,
   "metadata": {},
   "outputs": [],
   "source": [
    "divvy_kaggle.to_csv('data/divvy_2017_kaggle.csv', index=False)"
   ]
  },
  {
   "cell_type": "code",
   "execution_count": 99,
   "metadata": {},
   "outputs": [],
   "source": [
    "divvy_kaggle = pd.read_csv('data/divvy_2017_kaggle.csv')"
   ]
  },
  {
   "cell_type": "code",
   "execution_count": 100,
   "metadata": {},
   "outputs": [
    {
     "data": {
      "text/plain": [
       "Index(['Unnamed: 0', 'trip_id', 'usertype', 'gender', 'starttime', 'stoptime',\n",
       "       'tripduration', 'from_station_id', 'from_station_name',\n",
       "       'latitude_start', 'longitude_start', 'dpcapacity_start',\n",
       "       'to_station_id', 'to_station_name', 'latitude_end', 'longitude_end',\n",
       "       'dpcapacity_end', 'temperature', 'windchill', 'dewpoint', 'humidity',\n",
       "       'pressure', 'visibility', 'wind_speed', 'precipitation', 'events',\n",
       "       'rain', 'conditions'],\n",
       "      dtype='object')"
      ]
     },
     "execution_count": 100,
     "metadata": {},
     "output_type": "execute_result"
    }
   ],
   "source": [
    "divvy_kaggle.columns"
   ]
  },
  {
   "cell_type": "code",
   "execution_count": 101,
   "metadata": {},
   "outputs": [
    {
     "data": {
      "text/plain": [
       "Index(['Unnamed: 0', 'trip_id', 'start_time', 'end_time', 'bikeid',\n",
       "       'tripduration', 'from_station_id', 'from_station_name', 'to_station_id',\n",
       "       'to_station_name', 'usertype', 'gender', 'birthyear',\n",
       "       'from_station_latitude', 'from_station_longitude',\n",
       "       'to_station_latitude', 'to_station_longitude', 'trip_stations',\n",
       "       'trip_distance', 'speed'],\n",
       "      dtype='object')"
      ]
     },
     "execution_count": 101,
     "metadata": {},
     "output_type": "execute_result"
    }
   ],
   "source": [
    "divvy.columns"
   ]
  },
  {
   "cell_type": "code",
   "execution_count": 102,
   "metadata": {},
   "outputs": [
    {
     "data": {
      "text/plain": [
       "3826746"
      ]
     },
     "execution_count": 102,
     "metadata": {},
     "output_type": "execute_result"
    }
   ],
   "source": [
    "len(divvy_kaggle)"
   ]
  },
  {
   "cell_type": "code",
   "execution_count": 103,
   "metadata": {},
   "outputs": [
    {
     "data": {
      "text/plain": [
       "3829014"
      ]
     },
     "execution_count": 103,
     "metadata": {},
     "output_type": "execute_result"
    }
   ],
   "source": [
    "len(divvy)"
   ]
  },
  {
   "cell_type": "code",
   "execution_count": 104,
   "metadata": {},
   "outputs": [],
   "source": [
    "df = divvy.merge(divvy_kaggle[['trip_id', 'temperature', 'windchill',\n",
    "                               'dewpoint', 'humidity', 'pressure',\n",
    "                               'visibility', 'wind_speed',\n",
    "                               'precipitation', 'events',\n",
    "                               'rain', 'conditions']], on='trip_id', how='inner')"
   ]
  },
  {
   "cell_type": "code",
   "execution_count": 105,
   "metadata": {},
   "outputs": [],
   "source": [
    "df.dropna(inplace=True)\n",
    "df = df[(df['tripduration'] <= 3600) & (df['trip_distance'] >= 200)]"
   ]
  },
  {
   "cell_type": "code",
   "execution_count": 106,
   "metadata": {},
   "outputs": [],
   "source": [
    "df.to_csv('data/divvy_weather.csv', index=False)"
   ]
  },
  {
   "cell_type": "code",
   "execution_count": 107,
   "metadata": {},
   "outputs": [
    {
     "data": {
      "text/plain": [
       "Index(['Unnamed: 0', 'trip_id', 'start_time', 'end_time', 'bikeid',\n",
       "       'tripduration', 'from_station_id', 'from_station_name', 'to_station_id',\n",
       "       'to_station_name', 'usertype', 'gender', 'birthyear',\n",
       "       'from_station_latitude', 'from_station_longitude',\n",
       "       'to_station_latitude', 'to_station_longitude', 'trip_stations',\n",
       "       'trip_distance', 'speed', 'temperature', 'windchill', 'dewpoint',\n",
       "       'humidity', 'pressure', 'visibility', 'wind_speed', 'precipitation',\n",
       "       'events', 'rain', 'conditions'],\n",
       "      dtype='object')"
      ]
     },
     "execution_count": 107,
     "metadata": {},
     "output_type": "execute_result"
    }
   ],
   "source": [
    "df.columns"
   ]
  },
  {
   "cell_type": "code",
   "execution_count": 108,
   "metadata": {},
   "outputs": [
    {
     "data": {
      "text/html": [
       "<div>\n",
       "<style scoped>\n",
       "    .dataframe tbody tr th:only-of-type {\n",
       "        vertical-align: middle;\n",
       "    }\n",
       "\n",
       "    .dataframe tbody tr th {\n",
       "        vertical-align: top;\n",
       "    }\n",
       "\n",
       "    .dataframe thead th {\n",
       "        text-align: right;\n",
       "    }\n",
       "</style>\n",
       "<table border=\"1\" class=\"dataframe\">\n",
       "  <thead>\n",
       "    <tr style=\"text-align: right;\">\n",
       "      <th></th>\n",
       "      <th>Unnamed: 0</th>\n",
       "      <th>trip_id</th>\n",
       "      <th>start_time</th>\n",
       "      <th>end_time</th>\n",
       "      <th>bikeid</th>\n",
       "      <th>tripduration</th>\n",
       "      <th>from_station_id</th>\n",
       "      <th>from_station_name</th>\n",
       "      <th>to_station_id</th>\n",
       "      <th>to_station_name</th>\n",
       "      <th>...</th>\n",
       "      <th>windchill</th>\n",
       "      <th>dewpoint</th>\n",
       "      <th>humidity</th>\n",
       "      <th>pressure</th>\n",
       "      <th>visibility</th>\n",
       "      <th>wind_speed</th>\n",
       "      <th>precipitation</th>\n",
       "      <th>events</th>\n",
       "      <th>rain</th>\n",
       "      <th>conditions</th>\n",
       "    </tr>\n",
       "  </thead>\n",
       "  <tbody>\n",
       "    <tr>\n",
       "      <th>0</th>\n",
       "      <td>0</td>\n",
       "      <td>13518905</td>\n",
       "      <td>2017-03-31 23:59:07</td>\n",
       "      <td>2017-04-01 00:13:24</td>\n",
       "      <td>5292</td>\n",
       "      <td>857</td>\n",
       "      <td>66</td>\n",
       "      <td>Clinton St &amp; Lake St</td>\n",
       "      <td>171</td>\n",
       "      <td>May St &amp; Cullerton St</td>\n",
       "      <td>...</td>\n",
       "      <td>32.1</td>\n",
       "      <td>30.9</td>\n",
       "      <td>76.0</td>\n",
       "      <td>30.05</td>\n",
       "      <td>10.0</td>\n",
       "      <td>8.1</td>\n",
       "      <td>-9999.0</td>\n",
       "      <td>partlycloudy</td>\n",
       "      <td>0</td>\n",
       "      <td>Partly Cloudy</td>\n",
       "    </tr>\n",
       "    <tr>\n",
       "      <th>1</th>\n",
       "      <td>1</td>\n",
       "      <td>13518904</td>\n",
       "      <td>2017-03-31 23:56:25</td>\n",
       "      <td>2017-04-01 00:00:21</td>\n",
       "      <td>4408</td>\n",
       "      <td>236</td>\n",
       "      <td>199</td>\n",
       "      <td>Wabash Ave &amp; Grand Ave</td>\n",
       "      <td>26</td>\n",
       "      <td>McClurg Ct &amp; Illinois St</td>\n",
       "      <td>...</td>\n",
       "      <td>32.1</td>\n",
       "      <td>30.9</td>\n",
       "      <td>76.0</td>\n",
       "      <td>30.05</td>\n",
       "      <td>10.0</td>\n",
       "      <td>8.1</td>\n",
       "      <td>-9999.0</td>\n",
       "      <td>partlycloudy</td>\n",
       "      <td>0</td>\n",
       "      <td>Partly Cloudy</td>\n",
       "    </tr>\n",
       "    <tr>\n",
       "      <th>2</th>\n",
       "      <td>2</td>\n",
       "      <td>13518903</td>\n",
       "      <td>2017-03-31 23:55:33</td>\n",
       "      <td>2017-04-01 00:01:21</td>\n",
       "      <td>696</td>\n",
       "      <td>348</td>\n",
       "      <td>520</td>\n",
       "      <td>Greenview Ave &amp; Jarvis Ave</td>\n",
       "      <td>432</td>\n",
       "      <td>Clark St &amp; Lunt Ave</td>\n",
       "      <td>...</td>\n",
       "      <td>32.1</td>\n",
       "      <td>30.9</td>\n",
       "      <td>76.0</td>\n",
       "      <td>30.05</td>\n",
       "      <td>10.0</td>\n",
       "      <td>8.1</td>\n",
       "      <td>-9999.0</td>\n",
       "      <td>partlycloudy</td>\n",
       "      <td>0</td>\n",
       "      <td>Partly Cloudy</td>\n",
       "    </tr>\n",
       "    <tr>\n",
       "      <th>3</th>\n",
       "      <td>3</td>\n",
       "      <td>13518902</td>\n",
       "      <td>2017-03-31 23:54:46</td>\n",
       "      <td>2017-03-31 23:59:34</td>\n",
       "      <td>4915</td>\n",
       "      <td>288</td>\n",
       "      <td>110</td>\n",
       "      <td>Dearborn St &amp; Erie St</td>\n",
       "      <td>142</td>\n",
       "      <td>McClurg Ct &amp; Erie St</td>\n",
       "      <td>...</td>\n",
       "      <td>32.1</td>\n",
       "      <td>30.9</td>\n",
       "      <td>76.0</td>\n",
       "      <td>30.05</td>\n",
       "      <td>10.0</td>\n",
       "      <td>8.1</td>\n",
       "      <td>-9999.0</td>\n",
       "      <td>partlycloudy</td>\n",
       "      <td>0</td>\n",
       "      <td>Partly Cloudy</td>\n",
       "    </tr>\n",
       "    <tr>\n",
       "      <th>5</th>\n",
       "      <td>5</td>\n",
       "      <td>13518900</td>\n",
       "      <td>2017-03-31 23:51:17</td>\n",
       "      <td>2017-03-31 23:55:19</td>\n",
       "      <td>3536</td>\n",
       "      <td>242</td>\n",
       "      <td>143</td>\n",
       "      <td>Sedgwick St &amp; Webster Ave</td>\n",
       "      <td>289</td>\n",
       "      <td>Wells St &amp; Concord Ln</td>\n",
       "      <td>...</td>\n",
       "      <td>32.1</td>\n",
       "      <td>30.9</td>\n",
       "      <td>76.0</td>\n",
       "      <td>30.05</td>\n",
       "      <td>10.0</td>\n",
       "      <td>8.1</td>\n",
       "      <td>-9999.0</td>\n",
       "      <td>partlycloudy</td>\n",
       "      <td>0</td>\n",
       "      <td>Partly Cloudy</td>\n",
       "    </tr>\n",
       "  </tbody>\n",
       "</table>\n",
       "<p>5 rows × 31 columns</p>\n",
       "</div>"
      ],
      "text/plain": [
       "   Unnamed: 0   trip_id           start_time             end_time  bikeid  \\\n",
       "0           0  13518905  2017-03-31 23:59:07  2017-04-01 00:13:24    5292   \n",
       "1           1  13518904  2017-03-31 23:56:25  2017-04-01 00:00:21    4408   \n",
       "2           2  13518903  2017-03-31 23:55:33  2017-04-01 00:01:21     696   \n",
       "3           3  13518902  2017-03-31 23:54:46  2017-03-31 23:59:34    4915   \n",
       "5           5  13518900  2017-03-31 23:51:17  2017-03-31 23:55:19    3536   \n",
       "\n",
       "   tripduration  from_station_id           from_station_name  to_station_id  \\\n",
       "0           857               66        Clinton St & Lake St            171   \n",
       "1           236              199      Wabash Ave & Grand Ave             26   \n",
       "2           348              520  Greenview Ave & Jarvis Ave            432   \n",
       "3           288              110       Dearborn St & Erie St            142   \n",
       "5           242              143   Sedgwick St & Webster Ave            289   \n",
       "\n",
       "            to_station_name      ...       windchill dewpoint  humidity  \\\n",
       "0     May St & Cullerton St      ...            32.1     30.9      76.0   \n",
       "1  McClurg Ct & Illinois St      ...            32.1     30.9      76.0   \n",
       "2       Clark St & Lunt Ave      ...            32.1     30.9      76.0   \n",
       "3      McClurg Ct & Erie St      ...            32.1     30.9      76.0   \n",
       "5     Wells St & Concord Ln      ...            32.1     30.9      76.0   \n",
       "\n",
       "   pressure  visibility  wind_speed  precipitation        events  rain  \\\n",
       "0     30.05        10.0         8.1        -9999.0  partlycloudy     0   \n",
       "1     30.05        10.0         8.1        -9999.0  partlycloudy     0   \n",
       "2     30.05        10.0         8.1        -9999.0  partlycloudy     0   \n",
       "3     30.05        10.0         8.1        -9999.0  partlycloudy     0   \n",
       "5     30.05        10.0         8.1        -9999.0  partlycloudy     0   \n",
       "\n",
       "      conditions  \n",
       "0  Partly Cloudy  \n",
       "1  Partly Cloudy  \n",
       "2  Partly Cloudy  \n",
       "3  Partly Cloudy  \n",
       "5  Partly Cloudy  \n",
       "\n",
       "[5 rows x 31 columns]"
      ]
     },
     "execution_count": 108,
     "metadata": {},
     "output_type": "execute_result"
    }
   ],
   "source": [
    "df.head()"
   ]
  },
  {
   "cell_type": "code",
   "execution_count": 109,
   "metadata": {},
   "outputs": [],
   "source": [
    "df['start_time'] = pd.to_datetime(df['start_time'])"
   ]
  },
  {
   "cell_type": "code",
   "execution_count": 110,
   "metadata": {},
   "outputs": [],
   "source": [
    "df['day'] = df['start_time'].dt.dayofweek\n",
    "df['month'] = df['start_time'].dt.month"
   ]
  },
  {
   "cell_type": "code",
   "execution_count": 111,
   "metadata": {},
   "outputs": [],
   "source": [
    "df = pd.get_dummies(df, columns=['day'])\n",
    "df = pd.get_dummies(df, columns=['month'])\n",
    "df = pd.get_dummies(df, columns=['usertype'])\n",
    "df = pd.get_dummies(df, columns=['events'])\n",
    "df = pd.get_dummies(df, columns=['conditions'])"
   ]
  },
  {
   "cell_type": "markdown",
   "metadata": {},
   "source": [
    "### Get traffic data for Chicago rush hours: https://www.illinoisvehicle.com/about-us/blog/traffic-patterns-chicago/"
   ]
  },
  {
   "cell_type": "code",
   "execution_count": 112,
   "metadata": {},
   "outputs": [],
   "source": [
    "df['morning_rush_hour'] = np.where(((df['start_time'].dt.hour > 6) &\n",
    "                                    (df['start_time'].dt.hour < 10)),\n",
    "                                    1, 0)\n",
    "\n",
    "df['evening_rush_hour'] = np.where(((df['start_time'].dt.hour > 15) &\n",
    "                                    (df['start_time'].dt.hour < 19)),\n",
    "                                    1, 0)\n",
    "\n",
    "df['night'] = np.where(((df['start_time'].dt.hour <= 19) &\n",
    "                        (df['start_time'].dt.hour <= 6)),\n",
    "                         1, 0)\n",
    "\n",
    "df['midday'] = np.where(((df['start_time'].dt.hour >= 10) &\n",
    "                         (df['start_time'].dt.hour <= 15)),\n",
    "                         1, 0)"
   ]
  },
  {
   "cell_type": "code",
   "execution_count": 113,
   "metadata": {},
   "outputs": [
    {
     "data": {
      "text/plain": [
       "Index(['Unnamed: 0', 'trip_id', 'start_time', 'end_time', 'bikeid',\n",
       "       'tripduration', 'from_station_id', 'from_station_name', 'to_station_id',\n",
       "       'to_station_name', 'gender', 'birthyear', 'from_station_latitude',\n",
       "       'from_station_longitude', 'to_station_latitude', 'to_station_longitude',\n",
       "       'trip_stations', 'trip_distance', 'speed', 'temperature', 'windchill',\n",
       "       'dewpoint', 'humidity', 'pressure', 'visibility', 'wind_speed',\n",
       "       'precipitation', 'rain', 'day_0', 'day_1', 'day_2', 'day_3', 'day_4',\n",
       "       'day_5', 'day_6', 'month_1', 'month_2', 'month_3', 'month_4', 'month_5',\n",
       "       'month_6', 'month_7', 'month_8', 'month_9', 'month_10', 'month_11',\n",
       "       'month_12', 'usertype_Customer', 'usertype_Dependent',\n",
       "       'usertype_Subscriber', 'events_clear', 'events_cloudy', 'events_fog',\n",
       "       'events_hazy', 'events_mostlycloudy', 'events_partlycloudy',\n",
       "       'events_rain', 'events_sleet', 'events_snow', 'events_tstorms',\n",
       "       'conditions_Clear', 'conditions_Drizzle', 'conditions_Fog',\n",
       "       'conditions_Freezing Rain', 'conditions_Haze', 'conditions_Heavy Rain',\n",
       "       'conditions_Heavy Thunderstorms and Rain', 'conditions_Light Drizzle',\n",
       "       'conditions_Light Freezing Drizzle', 'conditions_Light Freezing Rain',\n",
       "       'conditions_Light Hail', 'conditions_Light Rain',\n",
       "       'conditions_Light Snow', 'conditions_Light Thunderstorms and Rain',\n",
       "       'conditions_Mist', 'conditions_Mostly Cloudy', 'conditions_Overcast',\n",
       "       'conditions_Partly Cloudy', 'conditions_Rain',\n",
       "       'conditions_Scattered Clouds', 'conditions_Smoke', 'conditions_Snow',\n",
       "       'conditions_Thunderstorm', 'conditions_Thunderstorms and Rain',\n",
       "       'morning_rush_hour', 'evening_rush_hour', 'night', 'midday'],\n",
       "      dtype='object')"
      ]
     },
     "execution_count": 113,
     "metadata": {},
     "output_type": "execute_result"
    }
   ],
   "source": [
    "df.columns"
   ]
  },
  {
   "cell_type": "code",
   "execution_count": 114,
   "metadata": {},
   "outputs": [],
   "source": [
    "from sklearn.linear_model import LinearRegression"
   ]
  },
  {
   "cell_type": "code",
   "execution_count": 115,
   "metadata": {},
   "outputs": [],
   "source": [
    "columns = ['trip_distance', 'temperature', 'windchill', 'dewpoint',\n",
    "           'humidity', 'pressure', 'visibility', 'wind_speed', 'precipitation',\n",
    "           'rain', 'morning_rush_hour',\n",
    "           'evening_rush_hour', 'night', 'midday', 'day_0', 'day_1', 'day_2',\n",
    "           'day_3', 'day_4', 'day_5', 'day_6', 'month_1', 'month_2', 'month_3',\n",
    "           'month_4', 'month_5', 'month_6', 'month_7', 'month_8', 'month_9',\n",
    "           'month_10', 'month_11', 'month_12', 'usertype_Customer',\n",
    "           'usertype_Dependent', 'usertype_Subscriber',\n",
    "           'events_clear', 'events_cloudy', 'events_fog', 'events_hazy',\n",
    "           'events_mostlycloudy', 'events_partlycloudy', 'events_rain',\n",
    "           'events_sleet', 'events_snow', 'events_tstorms', 'conditions_Clear',\n",
    "           'conditions_Drizzle', 'conditions_Fog', 'conditions_Freezing Rain',\n",
    "           'conditions_Haze', 'conditions_Heavy Rain',\n",
    "           'conditions_Heavy Thunderstorms and Rain', 'conditions_Light Drizzle',\n",
    "           'conditions_Light Freezing Drizzle', 'conditions_Light Freezing Rain',\n",
    "           'conditions_Light Hail', 'conditions_Light Rain',\n",
    "           'conditions_Light Snow', 'conditions_Light Thunderstorms and Rain',\n",
    "           'conditions_Mist', 'conditions_Mostly Cloudy', 'conditions_Overcast',\n",
    "           'conditions_Partly Cloudy', 'conditions_Rain',\n",
    "           'conditions_Scattered Clouds', 'conditions_Smoke', 'conditions_Snow',\n",
    "           'conditions_Thunderstorm', 'conditions_Thunderstorms and Rain']"
   ]
  },
  {
   "cell_type": "code",
   "execution_count": 116,
   "metadata": {},
   "outputs": [],
   "source": [
    "from sklearn.model_selection import train_test_split\n",
    "X_train, X_test, y_train, y_test = train_test_split(df[columns],\n",
    "                                                    df['tripduration'],\n",
    "                                                    test_size=0.2, random_state=0)"
   ]
  },
  {
   "cell_type": "code",
   "execution_count": 117,
   "metadata": {},
   "outputs": [
    {
     "data": {
      "text/plain": [
       "0.6953155274967133"
      ]
     },
     "execution_count": 117,
     "metadata": {},
     "output_type": "execute_result"
    }
   ],
   "source": [
    "model = LinearRegression(normalize=True)\n",
    "model.fit(X_train, y_train)\n",
    "model.score(X_test, y_test)"
   ]
  },
  {
   "cell_type": "code",
   "execution_count": 118,
   "metadata": {},
   "outputs": [
    {
     "data": {
      "image/png": "[encoded data removed]",
      "text/plain": [
       "<Figure size 720x720 with 1 Axes>"
      ]
     },
     "metadata": {},
     "output_type": "display_data"
    }
   ],
   "source": [
    "# plot prediction and actual data\n",
    "y_pred = model.predict(X_test) \n",
    "plt.figure(figsize=(10, 10))\n",
    "plt.xlabel('Actual Trip Duration')\n",
    "plt.ylabel('Predicted Trip Duraction')\n",
    "plt.plot(y_test, y_pred, '.')\n",
    "\n",
    "# plot a line, a perfit predict would all fall on this line\n",
    "x = np.linspace(0, 3600, 4000)\n",
    "y = x\n",
    "plt.plot(x, y)\n",
    "plt.show()"
   ]
  },
  {
   "cell_type": "code",
   "execution_count": 119,
   "metadata": {},
   "outputs": [
    {
     "data": {
      "text/plain": [
       "array([ 2.01558435e-01,  1.78647570e+00,  1.72449502e-03, -7.63907783e-01,\n",
       "        7.01625760e-02,  1.34458324e-03,  3.41920078e-03,  4.53169416e-03,\n",
       "       -1.98492548e-04, -1.19389176e+15, -2.65393518e+01, -1.97000809e+00,\n",
       "       -6.88070234e+01,  5.11135833e+00, -5.56528014e+13, -5.56528014e+13,\n",
       "       -5.56528014e+13, -5.56528014e+13, -5.56528014e+13, -5.56528014e+13,\n",
       "       -5.56528014e+13, -5.03520256e+13, -5.03520256e+13, -5.03520256e+13,\n",
       "       -5.03520256e+13, -5.03520256e+13, -5.03520256e+13, -5.03520256e+13,\n",
       "       -5.03520256e+13, -5.03520256e+13, -5.03520256e+13, -5.03520256e+13,\n",
       "       -5.03520256e+13, -5.83143809e+15, -5.83143809e+15, -5.83143809e+15,\n",
       "       -2.25429139e+14, -1.67788924e+14,  4.12403018e+15,  4.41671166e+14,\n",
       "       -6.10682946e+14,  3.27819129e+14,  5.86292237e+14,  5.86292237e+14,\n",
       "        5.86292237e+14,  1.40698728e+15,  3.51892774e+13, -7.76532098e+14,\n",
       "       -4.31427005e+15, -7.76532098e+14, -6.31911027e+14,  4.17359663e+14,\n",
       "       -4.03335382e+14, -7.76532098e+14, -7.76532098e+14,  4.17359663e+14,\n",
       "        4.17359663e+14,  4.17359663e+14, -7.76532098e+14, -4.03335382e+14,\n",
       "       -6.31911027e+14,  4.20443085e+14, -2.24509374e+13, -5.18058990e+14,\n",
       "        4.17359663e+14, -5.18058990e+14, -6.31911027e+14, -7.76532098e+14,\n",
       "       -1.59722714e+15, -4.03335382e+14])"
      ]
     },
     "execution_count": 119,
     "metadata": {},
     "output_type": "execute_result"
    }
   ],
   "source": [
    "model.coef_"
   ]
  },
  {
   "cell_type": "markdown",
   "metadata": {},
   "source": [
    "## Improvements:\n",
    "Use the Google Maps API (https://developers.google.com/maps/documentation/distance-matrix/intro) to extract routes from the origin and destination, improving upon the straight-line distance. But hey, while we're at it, the API also outputs estimated trip duration which is exactly what we're looking for! Unfortuately, Google recently cut off free access to the API. It now costs $0.005 per query."
   ]
  },
  {
   "cell_type": "markdown",
   "metadata": {},
   "source": [
    "## The Mayor has a couple of hypothesis which he needs you to verify with the given data. “Do you find a correlation between the star rating and length of reviews?”"
   ]
  },
  {
   "cell_type": "code",
   "execution_count": 120,
   "metadata": {},
   "outputs": [
    {
     "data": {
      "text/html": [
       "<div>\n",
       "<style scoped>\n",
       "    .dataframe tbody tr th:only-of-type {\n",
       "        vertical-align: middle;\n",
       "    }\n",
       "\n",
       "    .dataframe tbody tr th {\n",
       "        vertical-align: top;\n",
       "    }\n",
       "\n",
       "    .dataframe thead th {\n",
       "        text-align: right;\n",
       "    }\n",
       "</style>\n",
       "<table border=\"1\" class=\"dataframe\">\n",
       "  <thead>\n",
       "    <tr style=\"text-align: right;\">\n",
       "      <th></th>\n",
       "      <th>business_id</th>\n",
       "      <th>cool</th>\n",
       "      <th>date</th>\n",
       "      <th>funny</th>\n",
       "      <th>review_id</th>\n",
       "      <th>stars</th>\n",
       "      <th>text</th>\n",
       "      <th>useful</th>\n",
       "      <th>user_id</th>\n",
       "    </tr>\n",
       "  </thead>\n",
       "  <tbody>\n",
       "    <tr>\n",
       "      <th>0</th>\n",
       "      <td>f5O7v_X_jCg2itqacRfxhg</td>\n",
       "      <td>0</td>\n",
       "      <td>2017-10-12</td>\n",
       "      <td>0.0</td>\n",
       "      <td>kS4hrhEScwB9V5JATYjvVQ</td>\n",
       "      <td>5.0</td>\n",
       "      <td>Sansotei serves some top notch ramen. They tak...</td>\n",
       "      <td>0.0</td>\n",
       "      <td>hxqo4NyJFfeOmuoVi--s1A</td>\n",
       "    </tr>\n",
       "    <tr>\n",
       "      <th>1</th>\n",
       "      <td>0bjFYstj8USMzEV4ZQldjA</td>\n",
       "      <td>0</td>\n",
       "      <td>2017-01-19</td>\n",
       "      <td>0.0</td>\n",
       "      <td>VKGvSe0SmYcFc5PqjbxLDQ</td>\n",
       "      <td>5.0</td>\n",
       "      <td>Cool little place, nice atmosphere and staff. ...</td>\n",
       "      <td>0.0</td>\n",
       "      <td>eG6HneK9zLcuZpVuKcsCGQ</td>\n",
       "    </tr>\n",
       "    <tr>\n",
       "      <th>2</th>\n",
       "      <td>gZGsReG0VeX4uKViHTB9EQ</td>\n",
       "      <td>0</td>\n",
       "      <td>2017-08-16</td>\n",
       "      <td>0.0</td>\n",
       "      <td>51RHs_V_fjuistnuKxNpEg</td>\n",
       "      <td>5.0</td>\n",
       "      <td>Finally! After trying many Mexican restaurants...</td>\n",
       "      <td>0.0</td>\n",
       "      <td>5ngpW5tf3ep680eG1HxHzA</td>\n",
       "    </tr>\n",
       "    <tr>\n",
       "      <th>3</th>\n",
       "      <td>-bd4BQcl1ekgo7avaFngIw</td>\n",
       "      <td>0</td>\n",
       "      <td>2017-06-28</td>\n",
       "      <td>0.0</td>\n",
       "      <td>P7kiSTiwzqm0_LbA71EOPg</td>\n",
       "      <td>5.0</td>\n",
       "      <td>One of the best breakfast places I've been to!...</td>\n",
       "      <td>0.0</td>\n",
       "      <td>5ngpW5tf3ep680eG1HxHzA</td>\n",
       "    </tr>\n",
       "    <tr>\n",
       "      <th>4</th>\n",
       "      <td>u73j2VQ3TGWdMO-AG7MABw</td>\n",
       "      <td>0</td>\n",
       "      <td>2017-07-06</td>\n",
       "      <td>0.0</td>\n",
       "      <td>7EgEjUpcb8q-B5dPCMvkaQ</td>\n",
       "      <td>2.0</td>\n",
       "      <td>Food was alright, the service was HORRIBLE! Bo...</td>\n",
       "      <td>1.0</td>\n",
       "      <td>5ngpW5tf3ep680eG1HxHzA</td>\n",
       "    </tr>\n",
       "  </tbody>\n",
       "</table>\n",
       "</div>"
      ],
      "text/plain": [
       "              business_id  cool        date  funny               review_id  \\\n",
       "0  f5O7v_X_jCg2itqacRfxhg     0  2017-10-12    0.0  kS4hrhEScwB9V5JATYjvVQ   \n",
       "1  0bjFYstj8USMzEV4ZQldjA     0  2017-01-19    0.0  VKGvSe0SmYcFc5PqjbxLDQ   \n",
       "2  gZGsReG0VeX4uKViHTB9EQ     0  2017-08-16    0.0  51RHs_V_fjuistnuKxNpEg   \n",
       "3  -bd4BQcl1ekgo7avaFngIw     0  2017-06-28    0.0  P7kiSTiwzqm0_LbA71EOPg   \n",
       "4  u73j2VQ3TGWdMO-AG7MABw     0  2017-07-06    0.0  7EgEjUpcb8q-B5dPCMvkaQ   \n",
       "\n",
       "   stars                                               text  useful  \\\n",
       "0    5.0  Sansotei serves some top notch ramen. They tak...     0.0   \n",
       "1    5.0  Cool little place, nice atmosphere and staff. ...     0.0   \n",
       "2    5.0  Finally! After trying many Mexican restaurants...     0.0   \n",
       "3    5.0  One of the best breakfast places I've been to!...     0.0   \n",
       "4    2.0  Food was alright, the service was HORRIBLE! Bo...     1.0   \n",
       "\n",
       "                  user_id  \n",
       "0  hxqo4NyJFfeOmuoVi--s1A  \n",
       "1  eG6HneK9zLcuZpVuKcsCGQ  \n",
       "2  5ngpW5tf3ep680eG1HxHzA  \n",
       "3  5ngpW5tf3ep680eG1HxHzA  \n",
       "4  5ngpW5tf3ep680eG1HxHzA  "
      ]
     },
     "execution_count": 120,
     "metadata": {},
     "output_type": "execute_result"
    }
   ],
   "source": [
    "review.head()"
   ]
  },
  {
   "cell_type": "code",
   "execution_count": 121,
   "metadata": {},
   "outputs": [],
   "source": [
    "corr_df = pd.DataFrame()"
   ]
  },
  {
   "cell_type": "code",
   "execution_count": 122,
   "metadata": {},
   "outputs": [],
   "source": [
    "corr_df['stars'] = review['stars']"
   ]
  },
  {
   "cell_type": "code",
   "execution_count": 123,
   "metadata": {},
   "outputs": [],
   "source": [
    "corr_df['review_length'] = review['text'].str.len()"
   ]
  },
  {
   "cell_type": "code",
   "execution_count": 124,
   "metadata": {},
   "outputs": [],
   "source": [
    "corr_df = corr_df.dropna()"
   ]
  },
  {
   "cell_type": "code",
   "execution_count": 125,
   "metadata": {},
   "outputs": [
    {
     "data": {
      "image/png": "[encoded data removed]",
      "text/plain": [
       "<Figure size 720x720 with 1 Axes>"
      ]
     },
     "metadata": {},
     "output_type": "display_data"
    }
   ],
   "source": [
    "corr_df.plot(x='stars', y='review_length', kind='scatter', style='o', figsize=(10, 10))\n",
    "plt.show()"
   ]
  },
  {
   "cell_type": "code",
   "execution_count": 126,
   "metadata": {},
   "outputs": [
    {
     "data": {
      "image/png": "[encoded data removed]",
      "text/plain": [
       "<Figure size 1440x720 with 2 Axes>"
      ]
     },
     "metadata": {},
     "output_type": "display_data"
    }
   ],
   "source": [
    "corr_df.hist(figsize=(20, 10))\n",
    "plt.show()"
   ]
  },
  {
   "cell_type": "code",
   "execution_count": 127,
   "metadata": {},
   "outputs": [
    {
     "data": {
      "text/plain": [
       "LinregressResult(slope=-74.60250345114228, intercept=819.8866119452658, rvalue=-0.22207838254262444, pvalue=0.0, stderr=0.2997187072487137)"
      ]
     },
     "execution_count": 127,
     "metadata": {},
     "output_type": "execute_result"
    }
   ],
   "source": [
    "from scipy.stats import linregress\n",
    "linregress(corr_df['stars'], corr_df['review_length'])"
   ]
  },
  {
   "cell_type": "code",
   "execution_count": 128,
   "metadata": {},
   "outputs": [
    {
     "data": {
      "image/png": "[encoded data removed]",
      "text/plain": [
       "<Figure size 720x720 with 1 Axes>"
      ]
     },
     "metadata": {},
     "output_type": "display_data"
    }
   ],
   "source": [
    "fit = np.polyfit(corr_df['stars'], corr_df['review_length'],1)\n",
    "fit_fn = np.poly1d(fit) \n",
    "# fit_fn is now a function which takes in x and returns an estimate for y\n",
    "\n",
    "fig, ax = plt.subplots(figsize=(10, 10))\n",
    "plt.plot(corr_df['stars'], corr_df['review_length'], 'o', corr_df['stars'], fit_fn(corr_df['stars']), '--k')\n",
    "plt.show()"
   ]
  },
  {
   "cell_type": "markdown",
   "metadata": {},
   "source": [
    "## The Mayor also wants us to identify the topics from the reviews of restaurants and explore if these topics are insightful and whether they can be used as inputs to some other classification or predictive work in the future. To do this learn a set of topics by applying topic modeling algorithms such as LDA on textual reviews. Choose the number of topics in a data-driven fashion such as by using a figure that plots perplexity versus number of topics. "
   ]
  },
  {
   "cell_type": "code",
   "execution_count": 129,
   "metadata": {},
   "outputs": [],
   "source": [
    "restaurant_ids = yelp[(yelp['categories'].str.contains('Restaurants') &\n",
    "                      (yelp['is_open'] == 1))\n",
    "                     ]['business_id'].tolist()"
   ]
  },
  {
   "cell_type": "code",
   "execution_count": 130,
   "metadata": {},
   "outputs": [],
   "source": [
    "restaurant_reviews = review[review['business_id'].isin(restaurant_ids)]['text']"
   ]
  },
  {
   "cell_type": "code",
   "execution_count": 131,
   "metadata": {},
   "outputs": [],
   "source": [
    "doc_complete = restaurant_reviews.tolist()"
   ]
  },
  {
   "cell_type": "code",
   "execution_count": 132,
   "metadata": {},
   "outputs": [],
   "source": [
    "from nltk.corpus import stopwords \n",
    "from nltk.stem.wordnet import WordNetLemmatizer\n",
    "import string\n",
    "\n",
    "stop = set(stopwords.words('english'))\n",
    "exclude = set(string.punctuation) \n",
    "lemma = WordNetLemmatizer()\n",
    "def clean(doc):\n",
    "    stop_free = \" \".join([i for i in doc.lower().split() if i not in stop])\n",
    "    punc_free = ''.join(ch for ch in stop_free if ch not in exclude)\n",
    "    normalized = \" \".join(lemma.lemmatize(word) for word in punc_free.split())\n",
    "    return normalized\n",
    "\n",
    "doc_clean = [clean(doc).split() for doc in doc_complete]"
   ]
  },
  {
   "cell_type": "code",
   "execution_count": 133,
   "metadata": {},
   "outputs": [
    {
     "data": {
      "text/plain": [
       "670315"
      ]
     },
     "execution_count": 133,
     "metadata": {},
     "output_type": "execute_result"
    }
   ],
   "source": [
    "len(doc_clean)"
   ]
  },
  {
   "cell_type": "code",
   "execution_count": 134,
   "metadata": {},
   "outputs": [],
   "source": [
    "doc_clean_sample = doc_clean\n",
    "\n",
    "# Take a sample of 1000 reviews in order to speed up processing time\n",
    "# comment out the below line to run LDA on the entire dataset\n",
    "doc_clean_sample = np.random.choice(doc_clean, 5000, replace=False).tolist()"
   ]
  },
  {
   "cell_type": "code",
   "execution_count": 135,
   "metadata": {},
   "outputs": [],
   "source": [
    "from sklearn.model_selection import train_test_split"
   ]
  },
  {
   "cell_type": "code",
   "execution_count": 136,
   "metadata": {},
   "outputs": [],
   "source": [
    "train, test = train_test_split(doc_clean_sample, test_size=0.2, random_state=42)"
   ]
  },
  {
   "cell_type": "code",
   "execution_count": 137,
   "metadata": {},
   "outputs": [],
   "source": [
    "import gensim\n",
    "from gensim import corpora\n",
    "\n",
    "# Creating the term dictionary of our courpus, where every unique term is assigned an index.\n",
    "dictionary = corpora.Dictionary(train)\n",
    "\n",
    "# Converting list of documents (corpus) into Document Term Matrix using dictionary prepared above.\n",
    "doc_term_matrix = [dictionary.doc2bow(doc) for doc in train]"
   ]
  },
  {
   "cell_type": "code",
   "execution_count": 139,
   "metadata": {},
   "outputs": [],
   "source": [
    "# num_topics = [5, 10, 15, 20, 30, 40, 50, 75, 100, 150, 200, 250, 300, 400, 500, 600]\n",
    "num_topics = range(5, 95, 5)"
   ]
  },
  {
   "cell_type": "code",
   "execution_count": 140,
   "metadata": {},
   "outputs": [
    {
     "name": "stdout",
     "output_type": "stream",
     "text": [
      "5\n",
      "10\n",
      "15\n",
      "20\n",
      "25\n",
      "30\n",
      "35\n",
      "40\n",
      "45\n",
      "50\n",
      "55\n",
      "60\n",
      "65\n",
      "70\n",
      "75\n",
      "80\n",
      "85\n",
      "90\n"
     ]
    }
   ],
   "source": [
    "perplexity = []\n",
    "models = {}\n",
    "\n",
    "for num in num_topics:\n",
    "    print(num)\n",
    "    Lda = gensim.models.ldamodel.LdaModel\n",
    "    lda_model = Lda(doc_term_matrix,\n",
    "                    id2word = dictionary,\n",
    "                    num_topics=num,\n",
    "                    passes=10,\n",
    "                    chunksize=50,\n",
    "                    update_every=1)\n",
    "    models[str(num)] = lda_model\n",
    "    perplexity.append(lda_model.log_perplexity([dictionary.doc2bow(doc) for doc in test]))"
   ]
  },
  {
   "cell_type": "code",
   "execution_count": 141,
   "metadata": {},
   "outputs": [
    {
     "data": {
      "image/png": "[encoded data removed]",
      "text/plain": [
       "<Figure size 720x720 with 1 Axes>"
      ]
     },
     "metadata": {},
     "output_type": "display_data"
    }
   ],
   "source": [
    "plt.figure(figsize=(10, 10))\n",
    "plt.xlabel('Number of Topics')\n",
    "plt.ylabel('Perplexity')\n",
    "plt.plot(num_topics, perplexity)\n",
    "plt.show()"
   ]
  },
  {
   "cell_type": "code",
   "execution_count": 142,
   "metadata": {
    "scrolled": true
   },
   "outputs": [
    {
     "data": {
      "text/plain": [
       "[(0,\n",
       "  '0.130*\"dish\" + 0.062*\"dessert\" + 0.036*\"fish\" + 0.032*\"you\" + 0.027*\"birthday\" + 0.026*\"cheese\" + 0.025*\"night\" + 0.025*\"music\" + 0.023*\"restaurant\" + 0.023*\"chef\" + 0.022*\"enough\" + 0.021*\"more\" + 0.021*\"soon\" + 0.020*\"slice\" + 0.020*\"exactly\" + 0.018*\"etc\" + 0.017*\"side\" + 0.017*\"mac\" + 0.017*\"mediocre\" + 0.016*\"expectation\"'),\n",
       " (1,\n",
       "  '0.061*\"place\" + 0.056*\"food\" + 0.053*\"good\" + 0.039*\"great\" + 0.032*\"really\" + 0.029*\"menu\" + 0.024*\"nice\" + 0.022*\"also\" + 0.021*\"service\" + 0.021*\"restaurant\" + 0.020*\"price\" + 0.018*\"try\" + 0.017*\"get\" + 0.016*\"like\" + 0.016*\"go\" + 0.014*\"little\" + 0.014*\"would\" + 0.013*\"bar\" + 0.012*\"well\" + 0.012*\"make\"'),\n",
       " (2,\n",
       "  '0.073*\"ramen\" + 0.068*\"waiter\" + 0.057*\"couple\" + 0.043*\"saw\" + 0.037*\"reasonable\" + 0.034*\"counter\" + 0.029*\"recommendation\" + 0.028*\"beautiful\" + 0.020*\"third\" + 0.020*\"pita\" + 0.019*\"question\" + 0.017*\"madison\" + 0.016*\"negative\" + 0.015*\"seen\" + 0.015*\"sashimi\" + 0.012*\"carry\" + 0.011*\"melt\" + 0.011*\"he\" + 0.011*\"positive\" + 0.011*\"beverage\"'),\n",
       " (3,\n",
       "  '0.036*\"bartender\" + 0.035*\"tasting\" + 0.028*\"now\" + 0.027*\"style\" + 0.022*\"limited\" + 0.020*\"cuisine\" + 0.018*\"unless\" + 0.018*\"which\" + 0.017*\"elsewhere\" + 0.017*\"number\" + 0.017*\"mistake\" + 0.016*\"penne\" + 0.015*\"set\" + 0.015*\"gluten\" + 0.015*\"with\" + 0.015*\"shot\" + 0.013*\"corner\" + 0.011*\"montreal\" + 0.011*\"then\" + 0.011*\"booth\"'),\n",
       " (4,\n",
       "  '0.143*\"flavor\" + 0.052*\"person\" + 0.026*\"giving\" + 0.024*\"besides\" + 0.022*\"tough\" + 0.022*\"classic\" + 0.020*\"cafe\" + 0.018*\"trip\" + 0.018*\"phoenix\" + 0.017*\"basic\" + 0.016*\"toasted\" + 0.016*\"hate\" + 0.015*\"refund\" + 0.014*\"hot\" + 0.012*\"north\" + 0.012*\"bf\" + 0.011*\"otherwise\" + 0.010*\"appreciated\" + 0.010*\"reading\" + 0.010*\"m\"'),\n",
       " (5,\n",
       "  '0.237*\"amazing\" + 0.092*\"sandwich\" + 0.063*\"loved\" + 0.056*\"especially\" + 0.022*\"gave\" + 0.020*\"full\" + 0.019*\"tofu\" + 0.016*\"valley\" + 0.015*\"bag\" + 0.015*\"request\" + 0.012*\"king\" + 0.011*\"baby\" + 0.011*\"course\" + 0.010*\"chopped\" + 0.010*\"regret\" + 0.009*\"pittsburgh\" + 0.009*\"lemonade\" + 0.008*\"comfort\" + 0.008*\"went\" + 0.008*\"staple\"'),\n",
       " (6,\n",
       "  '0.339*\"love\" + 0.057*\"ingredient\" + 0.045*\"curry\" + 0.029*\"value\" + 0.024*\"son\" + 0.023*\"hip\" + 0.020*\"9\" + 0.019*\"do\" + 0.017*\"3\" + 0.016*\"brisket\" + 0.015*\"ball\" + 0.014*\"hummus\" + 0.013*\"picky\" + 0.011*\"smell\" + 0.008*\"reverse\" + 0.007*\"visitor\" + 0.007*\"tossed\" + 0.006*\"grande\" + 0.006*\"sometimes\" + 0.006*\"admit\"'),\n",
       " (7,\n",
       "  '0.071*\"strip\" + 0.065*\"hand\" + 0.059*\"tip\" + 0.031*\"yelp\" + 0.021*\"closed\" + 0.021*\"either\" + 0.016*\"minimum\" + 0.015*\"boy\" + 0.014*\"wonder\" + 0.014*\"oxtail\" + 0.013*\"dim\" + 0.013*\"cibo\" + 0.012*\"handled\" + 0.012*\"container\" + 0.011*\"cash\" + 0.010*\"chopstick\" + 0.010*\"flag\" + 0.009*\"slight\" + 0.008*\"driver\" + 0.008*\"basis\"'),\n",
       " (8,\n",
       "  '0.101*\"best\" + 0.053*\"delicious\" + 0.049*\"around\" + 0.046*\"excellent\" + 0.033*\"definitely\" + 0.029*\"ive\" + 0.028*\"dining\" + 0.025*\"top\" + 0.024*\"server\" + 0.022*\"far\" + 0.022*\"attentive\" + 0.021*\"bbq\" + 0.020*\"restaurant\" + 0.019*\"place\" + 0.019*\"wine\" + 0.018*\"onion\" + 0.018*\"one\" + 0.018*\"meat\" + 0.018*\"plate\" + 0.017*\"well\"'),\n",
       " (9,\n",
       "  '0.043*\"felt\" + 0.031*\"dollar\" + 0.025*\"gotten\" + 0.024*\"online\" + 0.022*\"el\" + 0.020*\"fair\" + 0.020*\"rating\" + 0.020*\"support\" + 0.019*\"forget\" + 0.018*\"considering\" + 0.018*\"carne\" + 0.018*\"tiny\" + 0.017*\"milkshake\" + 0.017*\"pineapple\" + 0.017*\"disappointed\" + 0.017*\"e\" + 0.015*\"donut\" + 0.015*\"asada\" + 0.014*\"thinking\" + 0.013*\"olive\"'),\n",
       " (10,\n",
       "  '0.055*\"order\" + 0.040*\"however\" + 0.039*\"take\" + 0.033*\"flavorful\" + 0.030*\"else\" + 0.029*\"let\" + 0.028*\"wrong\" + 0.027*\"rude\" + 0.026*\"eating\" + 0.025*\"ask\" + 0.025*\"show\" + 0.025*\"shop\" + 0.024*\"people\" + 0.024*\"not\" + 0.022*\"30\" + 0.021*\"enough\" + 0.020*\"already\" + 0.018*\"say\" + 0.018*\"tried\" + 0.017*\"help\"'),\n",
       " (11,\n",
       "  '0.091*\"dinner\" + 0.062*\"husband\" + 0.044*\"mushroom\" + 0.030*\"mango\" + 0.028*\"crab\" + 0.021*\"on\" + 0.019*\"ravioli\" + 0.018*\"spice\" + 0.016*\"suggestion\" + 0.015*\"wedding\" + 0.015*\"protein\" + 0.014*\"from\" + 0.014*\"leg\" + 0.013*\"happened\" + 0.013*\"hubby\" + 0.013*\"lunch\" + 0.013*\"shell\" + 0.013*\"exceptional\" + 0.011*\"personally\" + 0.010*\"boston\"'),\n",
       " (12,\n",
       "  '0.115*\"always\" + 0.083*\"fresh\" + 0.078*\"staff\" + 0.076*\"friendly\" + 0.062*\"delicious\" + 0.058*\"food\" + 0.040*\"fast\" + 0.034*\"kid\" + 0.032*\"usually\" + 0.032*\"time\" + 0.030*\"lunch\" + 0.023*\"great\" + 0.022*\"year\" + 0.020*\"order\" + 0.018*\"eat\" + 0.014*\"weekend\" + 0.014*\"close\" + 0.013*\"environment\" + 0.012*\"location\" + 0.011*\"chicken\"'),\n",
       " (13,\n",
       "  '0.071*\"work\" + 0.055*\"live\" + 0.049*\"expect\" + 0.038*\"mean\" + 0.035*\"mention\" + 0.026*\"customer\" + 0.022*\"offer\" + 0.022*\"pulled\" + 0.021*\"latte\" + 0.021*\"future\" + 0.019*\"ever\" + 0.018*\"issue\" + 0.018*\"there\" + 0.017*\"immediately\" + 0.016*\"chain\" + 0.016*\"child\" + 0.015*\"lucky\" + 0.014*\"stomach\" + 0.014*\"update\" + 0.013*\"design\"'),\n",
       " (14,\n",
       "  '0.114*\"family\" + 0.084*\"old\" + 0.049*\"employee\" + 0.049*\"change\" + 0.042*\"tea\" + 0.035*\"authentic\" + 0.031*\"single\" + 0.024*\"crust\" + 0.022*\"watching\" + 0.019*\"provide\" + 0.017*\"pastry\" + 0.015*\"tire\" + 0.014*\"certainly\" + 0.013*\"while\" + 0.013*\"correct\" + 0.009*\"dust\" + 0.008*\"indeed\" + 0.008*\"random\" + 0.008*\"cutting\" + 0.007*\"straight\"'),\n",
       " (15,\n",
       "  '0.099*\"le\" + 0.071*\"de\" + 0.062*\"la\" + 0.050*\"plus\" + 0.033*\"ambiance\" + 0.024*\"à\" + 0.016*\"une\" + 0.012*\"atlas\" + 0.012*\"section\" + 0.010*\"en\" + 0.009*\"est\" + 0.008*\"restaurant\" + 0.007*\"muy\" + 0.007*\"service\" + 0.007*\"ny\" + 0.006*\"tout\" + 0.006*\"yard\" + 0.006*\"noise\" + 0.005*\"il\" + 0.005*\"poulet\"'),\n",
       " (16,\n",
       "  '0.032*\"reservation\" + 0.032*\"had\" + 0.029*\"room\" + 0.025*\"business\" + 0.022*\"may\" + 0.021*\"call\" + 0.021*\"enjoyed\" + 0.020*\"pancake\" + 0.020*\"although\" + 0.020*\"oh\" + 0.019*\"available\" + 0.017*\"theyre\" + 0.017*\"wa\" + 0.016*\"tell\" + 0.014*\"pot\" + 0.014*\"summer\" + 0.014*\"front\" + 0.014*\"group\" + 0.014*\"stick\" + 0.013*\"anyway\"'),\n",
       " (17,\n",
       "  '0.092*\"big\" + 0.087*\"breakfast\" + 0.074*\"egg\" + 0.058*\"bacon\" + 0.034*\"store\" + 0.030*\"potato\" + 0.022*\"buck\" + 0.020*\"gravy\" + 0.020*\"sausage\" + 0.019*\"fruit\" + 0.016*\"crunchy\" + 0.014*\"hoping\" + 0.014*\"greasy\" + 0.014*\"patron\" + 0.014*\"various\" + 0.013*\"overall\" + 0.012*\"overcooked\" + 0.011*\"cooked\" + 0.010*\"mine\" + 0.010*\"cheddar\"'),\n",
       " (18,\n",
       "  '0.085*\"beef\" + 0.065*\"check\" + 0.045*\"enjoyed\" + 0.045*\"though\" + 0.043*\"look\" + 0.038*\"in\" + 0.036*\"served\" + 0.032*\"margarita\" + 0.030*\"walk\" + 0.030*\"ended\" + 0.024*\"average\" + 0.022*\"anyone\" + 0.020*\"date\" + 0.020*\"opinion\" + 0.020*\"given\" + 0.020*\"flavour\" + 0.018*\"spicy\" + 0.018*\"craving\" + 0.018*\"bring\" + 0.016*\"nacho\"'),\n",
       " (19,\n",
       "  '0.097*\"awesome\" + 0.090*\"find\" + 0.081*\"spicy\" + 0.068*\"clean\" + 0.068*\"quick\" + 0.053*\"stop\" + 0.034*\"salmon\" + 0.028*\"definitely\" + 0.027*\"seafood\" + 0.027*\"perfectly\" + 0.025*\"poutine\" + 0.020*\"prepared\" + 0.019*\"truly\" + 0.016*\"lemon\" + 0.015*\"desert\" + 0.013*\"patient\" + 0.013*\"oyster\" + 0.010*\"very\" + 0.008*\"highlight\" + 0.008*\"island\"'),\n",
       " (20,\n",
       "  '0.159*\"minute\" + 0.072*\"bread\" + 0.056*\"coffee\" + 0.040*\"away\" + 0.036*\"problem\" + 0.035*\"8\" + 0.032*\"15\" + 0.028*\"45\" + 0.024*\"20\" + 0.023*\"choice\" + 0.023*\"pick\" + 0.022*\"40\" + 0.017*\"avocado\" + 0.015*\"please\" + 0.011*\"needle\" + 0.011*\"took\" + 0.009*\"nobody\" + 0.009*\"bathroom\" + 0.009*\"welcomed\" + 0.008*\"arrive\"'),\n",
       " (21,\n",
       "  '0.043*\"money\" + 0.039*\"house\" + 0.038*\"done\" + 0.037*\"pay\" + 0.034*\"poor\" + 0.033*\"surprised\" + 0.030*\"down\" + 0.030*\"card\" + 0.029*\"forgot\" + 0.025*\"worst\" + 0.022*\"pleasantly\" + 0.020*\"completely\" + 0.018*\"taking\" + 0.018*\"ridiculous\" + 0.015*\"returned\" + 0.015*\"idea\" + 0.014*\"credit\" + 0.013*\"tender\" + 0.013*\"almost\" + 0.012*\"placed\"'),\n",
       " (22,\n",
       "  '0.147*\"pretty\" + 0.126*\"pizza\" + 0.058*\"pasta\" + 0.052*\"hard\" + 0.036*\"veggie\" + 0.028*\"poke\" + 0.027*\"thanks\" + 0.021*\"is\" + 0.020*\"tomato\" + 0.019*\"guest\" + 0.019*\"stuffed\" + 0.018*\"shared\" + 0.018*\"visited\" + 0.017*\"japanese\" + 0.016*\"outstanding\" + 0.013*\"accommodating\" + 0.012*\"let\" + 0.012*\"hawaiian\" + 0.010*\"meatball\" + 0.009*\"garden\"'),\n",
       " (23,\n",
       "  '0.048*\"u\" + 0.044*\"food\" + 0.033*\"order\" + 0.031*\"wait\" + 0.030*\"came\" + 0.030*\"table\" + 0.026*\"service\" + 0.022*\"asked\" + 0.021*\"drink\" + 0.020*\"server\" + 0.020*\"got\" + 0.018*\"long\" + 0.018*\"get\" + 0.017*\"said\" + 0.016*\"right\" + 0.016*\"made\" + 0.015*\"two\" + 0.014*\"one\" + 0.013*\"waitress\" + 0.013*\"took\"'),\n",
       " (24,\n",
       "  '0.127*\"salad\" + 0.073*\"perfect\" + 0.061*\"quite\" + 0.058*\"lunch\" + 0.053*\"regular\" + 0.046*\"size\" + 0.031*\"kitchen\" + 0.027*\"overall\" + 0.026*\"seems\" + 0.025*\"making\" + 0.025*\"appetizer\" + 0.022*\"serving\" + 0.018*\"dressing\" + 0.017*\"lettuce\" + 0.015*\"end\" + 0.015*\"caesar\" + 0.015*\"missing\" + 0.014*\"chewy\" + 0.011*\"hen\" + 0.009*\"served\"'),\n",
       " (25,\n",
       "  '0.197*\"recommend\" + 0.133*\"portion\" + 0.087*\"highly\" + 0.062*\"mexican\" + 0.034*\"recommended\" + 0.019*\"large\" + 0.016*\"affordable\" + 0.016*\"daily\" + 0.014*\"include\" + 0.013*\"visit\" + 0.010*\"brewery\" + 0.010*\"haitian\" + 0.009*\"german\" + 0.008*\"scottsdale\" + 0.008*\"habit\" + 0.007*\"james\" + 0.006*\"spiced\" + 0.006*\"terrific\" + 0.006*\"crappy\" + 0.006*\"keeping\"'),\n",
       " (26,\n",
       "  '0.044*\"steak\" + 0.034*\"told\" + 0.028*\"owner\" + 0.028*\"used\" + 0.023*\"delivery\" + 0.023*\"overall\" + 0.022*\"might\" + 0.019*\"min\" + 0.019*\"soft\" + 0.016*\"job\" + 0.016*\"rib\" + 0.015*\"italian\" + 0.015*\"away\" + 0.015*\"salt\" + 0.015*\"morning\" + 0.014*\"cake\" + 0.014*\"delivered\" + 0.014*\"called\" + 0.014*\"kept\" + 0.014*\"finish\"'),\n",
       " (27,\n",
       "  '0.101*\"bit\" + 0.075*\"favorite\" + 0.070*\"5\" + 0.063*\"need\" + 0.061*\"meat\" + 0.040*\"enjoy\" + 0.037*\"must\" + 0.033*\"eating\" + 0.030*\"new\" + 0.027*\"different\" + 0.024*\"vegetarian\" + 0.024*\"filling\" + 0.022*\"though\" + 0.021*\"side\" + 0.020*\"unfortunately\" + 0.019*\"neighborhood\" + 0.016*\"type\" + 0.014*\"found\" + 0.014*\"excited\" + 0.013*\"try\"'),\n",
       " (28,\n",
       "  '0.105*\"item\" + 0.096*\"lot\" + 0.078*\"small\" + 0.059*\"town\" + 0.056*\"parking\" + 0.039*\"drive\" + 0.034*\"gone\" + 0.024*\"garlic\" + 0.022*\"korean\" + 0.019*\"anyways\" + 0.018*\"expected\" + 0.017*\"car\" + 0.016*\"inside\" + 0.014*\"cozy\" + 0.014*\"thru\" + 0.013*\"consistently\" + 0.013*\"sort\" + 0.012*\"going\" + 0.012*\"mostly\" + 0.012*\"host\"'),\n",
       " (29,\n",
       "  '0.034*\"noodle\" + 0.028*\"name\" + 0.027*\"extra\" + 0.017*\"broth\" + 0.016*\"game\" + 0.015*\"fine\" + 0.015*\"add\" + 0.015*\"yes\" + 0.014*\"totally\" + 0.014*\"for\" + 0.014*\"to\" + 0.013*\"early\" + 0.013*\"vegetable\" + 0.012*\"friday\" + 0.012*\"seat\" + 0.011*\"light\" + 0.011*\"opened\" + 0.011*\"cooking\" + 0.011*\"pleasant\" + 0.009*\"joint\"'),\n",
       " (30,\n",
       "  '0.084*\"extremely\" + 0.064*\"cream\" + 0.051*\"ice\" + 0.047*\"serve\" + 0.028*\"near\" + 0.024*\"standard\" + 0.023*\"beyond\" + 0.022*\"toronto\" + 0.018*\"vanilla\" + 0.017*\"airport\" + 0.016*\"paper\" + 0.015*\"flight\" + 0.014*\"syrup\" + 0.014*\"loaded\" + 0.011*\"sadly\" + 0.011*\"2nd\" + 0.011*\"baked\" + 0.011*\"fountain\" + 0.010*\"raclette\" + 0.009*\"heading\"'),\n",
       " (31,\n",
       "  '0.047*\"amount\" + 0.040*\"combo\" + 0.038*\"glad\" + 0.033*\"small\" + 0.033*\"ready\" + 0.032*\"seem\" + 0.031*\"charge\" + 0.031*\"able\" + 0.031*\"salty\" + 0.030*\"thats\" + 0.028*\"warm\" + 0.025*\"cup\" + 0.023*\"four\" + 0.022*\"nearby\" + 0.022*\"picture\" + 0.017*\"hotel\" + 0.015*\"ok\" + 0.014*\"covered\" + 0.014*\"50\" + 0.014*\"usual\"'),\n",
       " (32,\n",
       "  '0.125*\"tasty\" + 0.104*\"bowl\" + 0.069*\"topping\" + 0.053*\"id\" + 0.040*\"grilled\" + 0.034*\"healthy\" + 0.030*\"empty\" + 0.029*\"easy\" + 0.029*\"loud\" + 0.027*\"leave\" + 0.024*\"mouth\" + 0.019*\"traditional\" + 0.017*\"uncomfortable\" + 0.016*\"offering\" + 0.015*\"complain\" + 0.014*\"rather\" + 0.009*\"wide\" + 0.009*\"layer\" + 0.008*\"menu\" + 0.008*\"side\"'),\n",
       " (33,\n",
       "  '0.085*\"manager\" + 0.073*\"cold\" + 0.068*\"year\" + 0.055*\"wing\" + 0.035*\"lobster\" + 0.034*\"weve\" + 0.033*\"short\" + 0.028*\"ago\" + 0.023*\"dip\" + 0.021*\"window\" + 0.021*\"view\" + 0.017*\"horrible\" + 0.014*\"packed\" + 0.014*\"2\" + 0.013*\"free\" + 0.012*\"parmesan\" + 0.012*\"6\" + 0.011*\"avoid\" + 0.011*\"calamari\" + 0.010*\"new\"'),\n",
       " (34,\n",
       "  '0.066*\"ordered\" + 0.060*\"chicken\" + 0.036*\"like\" + 0.034*\"good\" + 0.025*\"still\" + 0.023*\"soup\" + 0.022*\"came\" + 0.021*\"got\" + 0.021*\"wanted\" + 0.020*\"sauce\" + 0.020*\"also\" + 0.019*\"really\" + 0.018*\"food\" + 0.018*\"it\" + 0.016*\"hot\" + 0.015*\"actually\" + 0.015*\"meal\" + 0.014*\"start\" + 0.014*\"looked\" + 0.014*\"taste\"'),\n",
       " (35,\n",
       "  '0.106*\"beer\" + 0.045*\"wish\" + 0.032*\"french\" + 0.032*\"needed\" + 0.032*\"sit\" + 0.029*\"street\" + 0.026*\"bite\" + 0.025*\"vibe\" + 0.023*\"toast\" + 0.022*\"medium\" + 0.020*\"hungry\" + 0.019*\"daughter\" + 0.019*\"white\" + 0.018*\"truffle\" + 0.018*\"n\" + 0.016*\"understand\" + 0.015*\"across\" + 0.015*\"complaint\" + 0.014*\"rare\" + 0.014*\"walked\"'),\n",
       " (36,\n",
       "  '0.068*\"fantastic\" + 0.064*\"three\" + 0.052*\"wife\" + 0.049*\"buffet\" + 0.049*\"use\" + 0.039*\"sitting\" + 0.031*\"remember\" + 0.031*\"level\" + 0.020*\"addition\" + 0.019*\"eat\" + 0.017*\"club\" + 0.016*\"compared\" + 0.013*\"momofuku\" + 0.013*\"park\" + 0.012*\"finding\" + 0.012*\"w\" + 0.011*\"hit\" + 0.010*\"decided\" + 0.010*\"breaded\" + 0.009*\"machine\"'),\n",
       " (37,\n",
       "  '0.076*\"worth\" + 0.065*\"waffle\" + 0.048*\"variety\" + 0.036*\"believe\" + 0.022*\"establishment\" + 0.021*\"round\" + 0.021*\"stir\" + 0.020*\"bunch\" + 0.016*\"hearty\" + 0.015*\"hype\" + 0.013*\"move\" + 0.013*\"it\" + 0.013*\"worry\" + 0.012*\"mi\" + 0.011*\"guy\" + 0.010*\"self\" + 0.009*\"south\" + 0.009*\"state\" + 0.008*\"banh\" + 0.008*\"cheesecake\"'),\n",
       " (38,\n",
       "  '0.113*\"taco\" + 0.059*\"chip\" + 0.037*\"bean\" + 0.037*\"started\" + 0.037*\"burrito\" + 0.036*\"salsa\" + 0.034*\"cute\" + 0.023*\"homemade\" + 0.022*\"tortilla\" + 0.021*\"off\" + 0.019*\"guacamole\" + 0.014*\"included\" + 0.014*\"pleased\" + 0.013*\"cost\" + 0.011*\"clearly\" + 0.011*\"unlimited\" + 0.011*\"mild\" + 0.011*\"onion\" + 0.010*\"cheese\" + 0.010*\"checking\"'),\n",
       " (39,\n",
       "  '0.151*\"vega\" + 0.137*\"sushi\" + 0.084*\"huge\" + 0.063*\"10\" + 0.050*\"fan\" + 0.030*\"ayce\" + 0.019*\"chance\" + 0.010*\"interested\" + 0.010*\"trust\" + 0.009*\"oliver\" + 0.009*\"sense\" + 0.009*\"married\" + 0.008*\"seaweed\" + 0.008*\"tax\" + 0.007*\"skip\" + 0.007*\"kb\" + 0.007*\"hibachi\" + 0.007*\"4pm\" + 0.006*\"give\" + 0.006*\"pint\"'),\n",
       " (40,\n",
       "  '0.076*\"fun\" + 0.043*\"cool\" + 0.027*\"et\" + 0.025*\"dog\" + 0.022*\"lamb\" + 0.017*\"que\" + 0.016*\"un\" + 0.015*\"over\" + 0.014*\"disappointment\" + 0.014*\"qui\" + 0.013*\"je\" + 0.013*\"coupon\" + 0.013*\"professional\" + 0.012*\"discount\" + 0.012*\"pour\" + 0.011*\"receipt\" + 0.011*\"difference\" + 0.010*\"flavored\" + 0.010*\"par\" + 0.010*\"cest\"'),\n",
       " (41,\n",
       "  '0.108*\"fry\" + 0.083*\"spot\" + 0.071*\"cheese\" + 0.048*\"every\" + 0.039*\"ordered\" + 0.038*\"ever\" + 0.038*\"choice\" + 0.034*\"piece\" + 0.031*\"put\" + 0.024*\"plate\" + 0.023*\"okay\" + 0.022*\"offer\" + 0.018*\"cheap\" + 0.015*\"yum\" + 0.014*\"meat\" + 0.014*\"entire\" + 0.014*\"crowded\" + 0.013*\"many\" + 0.013*\"paid\" + 0.013*\"delicious\"'),\n",
       " (42,\n",
       "  '0.069*\"deal\" + 0.065*\"sunday\" + 0.040*\"point\" + 0.039*\"within\" + 0.035*\"still\" + 0.033*\"visiting\" + 0.032*\"evening\" + 0.025*\"stuff\" + 0.023*\"similar\" + 0.018*\"sport\" + 0.014*\"realize\" + 0.012*\"running\" + 0.011*\"honey\" + 0.011*\"choosing\" + 0.011*\"apologize\" + 0.010*\"cabin\" + 0.010*\"fewer\" + 0.009*\"nearly\" + 0.009*\"allow\" + 0.009*\"tamale\"'),\n",
       " (43,\n",
       "  '0.087*\"tried\" + 0.075*\"line\" + 0.074*\"out\" + 0.058*\"want\" + 0.050*\"too\" + 0.036*\"pho\" + 0.035*\"right\" + 0.035*\"trying\" + 0.033*\"yummy\" + 0.033*\"saturday\" + 0.031*\"close\" + 0.027*\"quickly\" + 0.023*\"25\" + 0.020*\"stand\" + 0.018*\"still\" + 0.015*\"base\" + 0.014*\"fresh\" + 0.013*\"weird\" + 0.011*\"but\" + 0.011*\"crazy\"'),\n",
       " (44,\n",
       "  '0.066*\"rice\" + 0.063*\"pork\" + 0.062*\"sauce\" + 0.052*\"shrimp\" + 0.048*\"cooked\" + 0.046*\"chicken\" + 0.041*\"fried\" + 0.024*\"high\" + 0.023*\"sweet\" + 0.015*\"generous\" + 0.015*\"dry\" + 0.014*\"hot\" + 0.013*\"mom\" + 0.013*\"chili\" + 0.012*\"diner\" + 0.012*\"tasted\" + 0.011*\"dirty\" + 0.011*\"everything\" + 0.011*\"except\" + 0.011*\"ton\"'),\n",
       " (45,\n",
       "  '0.102*\"roll\" + 0.058*\"them\" + 0.055*\"green\" + 0.048*\"stopped\" + 0.045*\"gem\" + 0.037*\"entree\" + 0.031*\"girl\" + 0.030*\"hope\" + 0.026*\"hidden\" + 0.026*\"mind\" + 0.024*\"butter\" + 0.023*\"spring\" + 0.022*\"bigger\" + 0.020*\"hostess\" + 0.019*\"picked\" + 0.015*\"tend\" + 0.014*\"saying\" + 0.012*\"eye\" + 0.012*\"additional\" + 0.012*\"milk\"'),\n",
       " (46,\n",
       "  '0.196*\"friend\" + 0.117*\"coming\" + 0.069*\"wonderful\" + 0.025*\"pricey\" + 0.023*\"fabulous\" + 0.022*\"welcoming\" + 0.020*\"grill\" + 0.019*\"greek\" + 0.017*\"flat\" + 0.013*\"age\" + 0.013*\"savory\" + 0.012*\"dough\" + 0.011*\"went\" + 0.011*\"mgm\" + 0.010*\"chunk\" + 0.009*\"hollandaise\" + 0.008*\"tater\" + 0.008*\"adorable\" + 0.007*\"iron\" + 0.007*\"blow\"'),\n",
       " (47,\n",
       "  '0.075*\"time\" + 0.036*\"place\" + 0.032*\"first\" + 0.028*\"back\" + 0.023*\"ive\" + 0.021*\"go\" + 0.020*\"location\" + 0.019*\"better\" + 0.019*\"would\" + 0.018*\"im\" + 0.018*\"like\" + 0.018*\"come\" + 0.017*\"good\" + 0.017*\"last\" + 0.016*\"one\" + 0.016*\"never\" + 0.016*\"thing\" + 0.015*\"eat\" + 0.015*\"get\" + 0.014*\"definitely\"'),\n",
       " (48,\n",
       "  '0.159*\"great\" + 0.135*\"service\" + 0.098*\"food\" + 0.057*\"customer\" + 0.037*\"friendly\" + 0.033*\"back\" + 0.033*\"good\" + 0.026*\"come\" + 0.021*\"helpful\" + 0.021*\"super\" + 0.019*\"server\" + 0.014*\"main\" + 0.011*\"sure\" + 0.010*\"whenever\" + 0.010*\"group\" + 0.009*\"sooo\" + 0.008*\"impressed\" + 0.008*\"were\" + 0.007*\"upscale\" + 0.007*\"adult\"'),\n",
       " (49,\n",
       "  '0.113*\"burger\" + 0.102*\"star\" + 0.047*\"brunch\" + 0.045*\"4\" + 0.041*\"absolutely\" + 0.039*\"delicious\" + 0.032*\"dinner\" + 0.032*\"vegan\" + 0.029*\"without\" + 0.021*\"five\" + 0.020*\"potato\" + 0.018*\"sweet\" + 0.018*\"eating\" + 0.017*\"along\" + 0.017*\"black\" + 0.015*\"made\" + 0.015*\"recently\" + 0.013*\"received\" + 0.012*\"want\" + 0.012*\"every\"')]"
      ]
     },
     "execution_count": 142,
     "metadata": {},
     "output_type": "execute_result"
    }
   ],
   "source": [
    "best = 50\n",
    "models[str(best)].print_topics(num_topics=best, num_words=20)"
   ]
  },
  {
   "cell_type": "code",
   "execution_count": null,
   "metadata": {},
   "outputs": [],
   "source": []
  }
 ],
 "metadata": {
  "kernelspec": {
   "display_name": "Python 3",
   "language": "python",
   "name": "python3"
  },
  "language_info": {
   "codemirror_mode": {
    "name": "ipython",
    "version": 3
   },
   "file_extension": ".py",
   "mimetype": "text/x-python",
   "name": "python",
   "nbconvert_exporter": "python",
   "pygments_lexer": "ipython3",
   "version": "3.6.4"
  }
 },
 "nbformat": 4,
 "nbformat_minor": 2
}
