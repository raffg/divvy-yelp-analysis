{
 "cells": [
  {
   "cell_type": "code",
   "execution_count": 1,
   "metadata": {},
   "outputs": [],
   "source": [
    "import pandas as pd\n",
    "import numpy as np\n",
    "import json\n",
    "import matplotlib.pyplot as plt\n",
    "%matplotlib inline"
   ]
  },
  {
   "cell_type": "markdown",
   "metadata": {},
   "source": [
    "# Divvy data"
   ]
  },
  {
   "cell_type": "markdown",
   "metadata": {},
   "source": [
    "## Load and concat the Divvy datasets\n",
    "Download Divvy 2017 datasets from here: https://www.divvybikes.com/system-data"
   ]
  },
  {
   "cell_type": "code",
   "execution_count": null,
   "metadata": {},
   "outputs": [],
   "source": [
    "divvy1 = pd.read_csv('data/Divvy_Trips_2017_Q1Q2/Divvy_Trips_2017_Q1.csv', parse_dates=['start_time', 'end_time'])\n",
    "divvy2 = pd.read_csv('data/Divvy_Trips_2017_Q1Q2/Divvy_Trips_2017_Q2.csv', parse_dates=['start_time', 'end_time'])\n",
    "divvy3 = pd.read_csv('data/Divvy_Trips_2017_Q3Q4/Divvy_Trips_2017_Q3.csv', parse_dates=['start_time', 'end_time'])\n",
    "divvy4 = pd.read_csv('data/Divvy_Trips_2017_Q3Q4/Divvy_Trips_2017_Q4.csv', parse_dates=['start_time', 'end_time'])\n",
    "\n",
    "divvy = pd.concat([divvy1, divvy2, divvy3, divvy4], ignore_index=True)\n",
    "\n",
    "divvy.to_csv('data/divvy_2017.csv', index=False)"
   ]
  },
  {
   "cell_type": "code",
   "execution_count": null,
   "metadata": {},
   "outputs": [],
   "source": [
    "divvy = pd.read_csv('data/divvy_2017.csv')"
   ]
  },
  {
   "cell_type": "code",
   "execution_count": null,
   "metadata": {},
   "outputs": [],
   "source": [
    "station_list = set(list(divvy['from_station_name'].unique()) + list(divvy['to_station_name'].unique()))"
   ]
  },
  {
   "cell_type": "code",
   "execution_count": null,
   "metadata": {},
   "outputs": [],
   "source": [
    "len(station_list)"
   ]
  },
  {
   "cell_type": "markdown",
   "metadata": {},
   "source": [
    "## Load Divvy station info for GPS coordinates\n",
    "Download the stations json file from the same location: https://www.divvybikes.com/system-data"
   ]
  },
  {
   "cell_type": "code",
   "execution_count": null,
   "metadata": {},
   "outputs": [],
   "source": [
    "with open('data/stations.json') as json_data:\n",
    "    station_data = json.load(json_data)"
   ]
  },
  {
   "cell_type": "code",
   "execution_count": null,
   "metadata": {},
   "outputs": [],
   "source": [
    "station_data['stationBeanList']"
   ]
  },
  {
   "cell_type": "code",
   "execution_count": null,
   "metadata": {},
   "outputs": [],
   "source": [
    "stations = [station['stationName'] for station in station_data['stationBeanList']]\n",
    "latitude = [station['latitude'] for station in station_data['stationBeanList']]\n",
    "longitude = [station['longitude'] for station in station_data['stationBeanList']]"
   ]
  },
  {
   "cell_type": "code",
   "execution_count": null,
   "metadata": {},
   "outputs": [],
   "source": [
    "# unknown = []\n",
    "# for station in station_list:\n",
    "#     if station not in stations:\n",
    "#         unknown.append(station)\n",
    "# unknown"
   ]
  },
  {
   "cell_type": "code",
   "execution_count": null,
   "metadata": {},
   "outputs": [],
   "source": [
    "station_gps = pd.DataFrame({'station_name': stations, 'latitude': latitude, 'longitude': longitude})"
   ]
  },
  {
   "cell_type": "code",
   "execution_count": null,
   "metadata": {},
   "outputs": [],
   "source": [
    "station_gps.head()"
   ]
  },
  {
   "cell_type": "code",
   "execution_count": null,
   "metadata": {},
   "outputs": [],
   "source": [
    "def gps_lookup(location):\n",
    "    match = (station_gps['station_name'] == location)\n",
    "    coord = station_gps['latitude'][match]\n",
    "    if len(coord) > 0:\n",
    "        return pd.Series([coord.values[0], station_gps['longitude'][match].values[0]])\n",
    "    else:\n",
    "        return pd.Series([np.nan, np.nan])"
   ]
  },
  {
   "cell_type": "code",
   "execution_count": null,
   "metadata": {},
   "outputs": [],
   "source": [
    "divvy[['from_station_latitude', 'from_station_longitude']] = divvy['from_station_name'].apply(gps_lookup)\n",
    "divvy[['to_station_latitude', 'to_station_longitude']] = divvy['to_station_name'].apply(gps_lookup)"
   ]
  },
  {
   "cell_type": "code",
   "execution_count": null,
   "metadata": {},
   "outputs": [],
   "source": [
    "divvy.to_csv('data/divvy_2017.csv', index=False)"
   ]
  },
  {
   "cell_type": "code",
   "execution_count": 26,
   "metadata": {},
   "outputs": [],
   "source": [
    "divvy = pd.read_csv('data/divvy_2017.csv')"
   ]
  },
  {
   "cell_type": "markdown",
   "metadata": {},
   "source": [
    "### 1) Top 5 stations with the most starts (showing # of starts)"
   ]
  },
  {
   "cell_type": "code",
   "execution_count": null,
   "metadata": {},
   "outputs": [],
   "source": [
    "station_starts = divvy.groupby(['from_station_name'])['from_station_name'].count().sort_values(ascending=False)\n",
    "station_starts.head()"
   ]
  },
  {
   "cell_type": "code",
   "execution_count": null,
   "metadata": {},
   "outputs": [],
   "source": [
    "ax = station_starts.head(5).plot(kind='bar', figsize=(15, 10), title='Top 5 Stations with Most Starts')\n",
    "for p in ax.patches:\n",
    "    ax.annotate(str(p.get_height()), (p.get_x() * 1.005 + .15, p.get_height() * 1.005))"
   ]
  },
  {
   "cell_type": "markdown",
   "metadata": {},
   "source": [
    "### 2) Trip duration by user type"
   ]
  },
  {
   "cell_type": "code",
   "execution_count": null,
   "metadata": {},
   "outputs": [],
   "source": [
    "trip_duration = divvy.groupby(['usertype'])['tripduration'].mean().sort_values(ascending=False)\n",
    "trip_duration"
   ]
  },
  {
   "cell_type": "code",
   "execution_count": null,
   "metadata": {},
   "outputs": [],
   "source": [
    "ax = divvy.boxplot(column='tripduration', by='usertype', figsize=(15,10))"
   ]
  },
  {
   "cell_type": "code",
   "execution_count": null,
   "metadata": {},
   "outputs": [],
   "source": [
    "ax = divvy.boxplot(column='tripduration', by='usertype', figsize=(15,10), showfliers=False)"
   ]
  },
  {
   "cell_type": "markdown",
   "metadata": {},
   "source": [
    "### 3) Most popular trips based on start station and stop station"
   ]
  },
  {
   "cell_type": "code",
   "execution_count": null,
   "metadata": {},
   "outputs": [],
   "source": [
    "divvy['trip_stations'] = divvy['from_station_name'] + ' TO ' + divvy['to_station_name']"
   ]
  },
  {
   "cell_type": "code",
   "execution_count": null,
   "metadata": {},
   "outputs": [],
   "source": [
    "trip_stations = divvy.groupby(['trip_stations'])['trip_stations'].count().sort_values(ascending=False)\n",
    "trip_stations.head()"
   ]
  },
  {
   "cell_type": "code",
   "execution_count": null,
   "metadata": {},
   "outputs": [],
   "source": [
    "ax = trip_stations.head(10).plot(kind='bar', figsize=(15, 10), title='Top 10 Most Popular Trips')\n",
    "for p in ax.patches:\n",
    "    ax.annotate(str(p.get_height()), (p.get_x() * 1.005 + .05, p.get_height() * 1.005))"
   ]
  },
  {
   "cell_type": "markdown",
   "metadata": {},
   "source": [
    "### Create dataframe of paths for Tableau chart"
   ]
  },
  {
   "cell_type": "code",
   "execution_count": null,
   "metadata": {},
   "outputs": [],
   "source": [
    "trip_dict = {'path': list(trip_stations.index), 'frequency': list(trip_stations.values)}\n",
    "trip_dict['origin'] = [x.split(' TO ')[0] for x in trip_dict['path']]\n",
    "trip_dict['destination'] = [x.split(' TO ')[1] for x in trip_dict['path']]"
   ]
  },
  {
   "cell_type": "code",
   "execution_count": null,
   "metadata": {},
   "outputs": [],
   "source": [
    "from collections import defaultdict\n",
    "\n",
    "trips = defaultdict(list)\n",
    "\n",
    "for idx in range(len(trip_dict['path'])):\n",
    "    trips['path'].append(trip_dict['path'][idx])\n",
    "    trips['frequency'].append(trip_dict['frequency'][idx])\n",
    "    trips['origin-destination'].append('origin')\n",
    "    trips['station'].append(trip_dict['origin'][idx])\n",
    "    \n",
    "    trips['path'].append(trip_dict['path'][idx])\n",
    "    trips['frequency'].append(trip_dict['frequency'][idx])\n",
    "    trips['origin-destination'].append('destination')\n",
    "    trips['station'].append(trip_dict['destination'][idx])"
   ]
  },
  {
   "cell_type": "code",
   "execution_count": null,
   "metadata": {},
   "outputs": [],
   "source": [
    "stations_gps = (divvy[divvy['from_station_name'].duplicated()]\n",
    "                [['from_station_name', 'from_station_latitude', 'from_station_longitude']].reset_index(drop=True))"
   ]
  },
  {
   "cell_type": "code",
   "execution_count": null,
   "metadata": {},
   "outputs": [],
   "source": [
    "trips_df = pd.DataFrame(trips).merge(stations_gps.drop_duplicates(subset=['from_station_name']),\n",
    "                                     how='left',\n",
    "                                     left_on='station',\n",
    "                                     right_on='from_station_name')"
   ]
  },
  {
   "cell_type": "code",
   "execution_count": null,
   "metadata": {},
   "outputs": [],
   "source": [
    "trips_df.drop(['from_station_name'], axis=1, inplace=True)"
   ]
  },
  {
   "cell_type": "code",
   "execution_count": null,
   "metadata": {},
   "outputs": [],
   "source": [
    "trips_df.to_csv('data/divvy_trips.csv')"
   ]
  },
  {
   "cell_type": "markdown",
   "metadata": {},
   "source": [
    "### 4) Rider performance by Gender and Age based on avg trip distance (station to station), median speed (distance traveled / trip duration)"
   ]
  },
  {
   "cell_type": "markdown",
   "metadata": {},
   "source": [
    "Multiply geodesic distance by 1.25. Routes follow roads but the calculated route is direct (geodesic). A route straight down a road would be the same as the direct route; a route diagnoal to roads would be multiplied by 1.414 (thanks, Pythagoras!); assuming routes are evenly split between diagonal and direct, with some wiggle room, I'm splitting the difference at 1.25.\n",
    "\n",
    "I looked at using the Google Maps api to calculate the actual, along-the-road distance, but they've removed the free api key option. I also looked at Bing Maps, but it's rate limited and I have more than 98,000 routes in this dataset (and once I saw how big that number was, I realized that using api calls would take more than a few days!). So I opted for this *x1.25* method which is less accurate but far quicker and cheaper."
   ]
  },
  {
   "cell_type": "code",
   "execution_count": null,
   "metadata": {},
   "outputs": [],
   "source": [
    "from math import isnan\n",
    "\n",
    "def find_distance(row):\n",
    "    if (not isnan(row['from_station_latitude']) and\n",
    "        not isnan(row['from_station_longitude']) and\n",
    "        not isnan(row['to_station_latitude']) and\n",
    "        not isnan(row['to_station_longitude'])):\n",
    "        return (1.25 * (geopy.distance.distance((row['from_station_latitude'], row['from_station_longitude']),\n",
    "                                                (row['to_station_latitude'], row['to_station_longitude'])).m))\n",
    "    return np.nan"
   ]
  },
  {
   "cell_type": "code",
   "execution_count": null,
   "metadata": {},
   "outputs": [],
   "source": [
    "from math import isnan\n",
    "\n",
    "def find_distance(row):\n",
    "    if (not isnan(row['from_station_latitude']) and\n",
    "        not isnan(row['from_station_longitude']) and\n",
    "        not isnan(row['to_station_latitude']) and\n",
    "        not isnan(row['to_station_longitude'])):\n",
    "        distance = (1.25 * (geopy.distance.distance((row['from_station_latitude'], row['from_station_longitude']),\n",
    "                                                (row['to_station_latitude'], row['to_station_longitude'])).m))\n",
    "        print(distance)\n",
    "        return distance\n",
    "    else:\n",
    "        print(np.nan)\n",
    "    return np.nan"
   ]
  },
  {
   "cell_type": "code",
   "execution_count": null,
   "metadata": {},
   "outputs": [],
   "source": [
    "divvy['trip_distance'] = divvy.apply(find_distance, axis=1)\n",
    "divvy['speed'] = divvy['trip_distance'] / divvy['tripduration']"
   ]
  },
  {
   "cell_type": "code",
   "execution_count": null,
   "metadata": {},
   "outputs": [],
   "source": [
    "divvy.to_csv('data/divvy_2017.csv')"
   ]
  },
  {
   "cell_type": "code",
   "execution_count": null,
   "metadata": {},
   "outputs": [],
   "source": [
    "divvy = pd.read_csv('data/divvy_2017.csv')"
   ]
  },
  {
   "cell_type": "markdown",
   "metadata": {},
   "source": [
    "# Yelp data\n",
    "Download Yelp datasets from here: https://www.yelp.com/dataset/"
   ]
  },
  {
   "cell_type": "code",
   "execution_count": null,
   "metadata": {},
   "outputs": [],
   "source": [
    "business = pd.read_json('data/yelp_dataset/yelp_academic_dataset_business.json', lines=True)\n",
    "\n",
    "checkin = pd.read_json('data/yelp_dataset/yelp_academic_dataset_checkin.json', lines=True)\n",
    "\n",
    "max_records = 1e5\n",
    "df = pd.read_json('data/yelp_dataset/yelp_academic_dataset_review.json', lines=True, chunksize=max_records)\n",
    "review = pd.DataFrame() # Initialize the dataframe\n",
    "try:\n",
    "    for df_chunk in df:\n",
    "        review = pd.concat([review, df_chunk])\n",
    "except ValueError:\n",
    "    print ('\\nSome messages in the file cannot be parsed')"
   ]
  },
  {
   "cell_type": "code",
   "execution_count": null,
   "metadata": {},
   "outputs": [],
   "source": [
    "business.head()"
   ]
  },
  {
   "cell_type": "code",
   "execution_count": null,
   "metadata": {
    "scrolled": true
   },
   "outputs": [],
   "source": [
    "checkin.head()"
   ]
  },
  {
   "cell_type": "code",
   "execution_count": null,
   "metadata": {},
   "outputs": [],
   "source": [
    "review.head()"
   ]
  },
  {
   "cell_type": "code",
   "execution_count": null,
   "metadata": {},
   "outputs": [],
   "source": [
    "checkin['checkins'] = checkin['time'].apply(lambda x : sum(x.values()))\n",
    "yelp = business.merge(checkin, on='business_id', how='outer')"
   ]
  },
  {
   "cell_type": "code",
   "execution_count": null,
   "metadata": {},
   "outputs": [],
   "source": [
    "review['date'] = pd.to_datetime(review['date'])\n",
    "review = review[review['date'].dt.year == 2017]"
   ]
  },
  {
   "cell_type": "code",
   "execution_count": null,
   "metadata": {},
   "outputs": [],
   "source": [
    "business.to_csv('data/yelp_business.csv', index=False)\n",
    "checkin.to_csv('data/yelp_checkin.csv', index=False)\n",
    "review.to_csv('data/yelp_review.csv', index=False)\n",
    "yelp.to_csv('data/yelp.csv', index=False)"
   ]
  },
  {
   "cell_type": "code",
   "execution_count": 2,
   "metadata": {},
   "outputs": [],
   "source": [
    "business = pd.read_csv('data/yelp_business.csv')\n",
    "checkin = pd.read_csv('data/yelp_checkin.csv')\n",
    "review = pd.read_csv('data/yelp_review.csv')\n",
    "yelp = pd.read_csv('data/yelp.csv')"
   ]
  },
  {
   "cell_type": "markdown",
   "metadata": {},
   "source": [
    "### Find the top 10 and bottom 10 restaurants in Illinois having most and least checkins respectively."
   ]
  },
  {
   "cell_type": "code",
   "execution_count": null,
   "metadata": {},
   "outputs": [],
   "source": [
    "yelp.head()"
   ]
  },
  {
   "cell_type": "code",
   "execution_count": null,
   "metadata": {},
   "outputs": [],
   "source": [
    "len(yelp[(yelp['state'] == 'IL') &\n",
    "         (yelp['categories'].str.contains('Restaurants')) &\n",
    "         (yelp['checkins'].isnull()) &\n",
    "         (yelp['is_open'] == 1)])"
   ]
  },
  {
   "cell_type": "code",
   "execution_count": null,
   "metadata": {},
   "outputs": [],
   "source": [
    "len(yelp[(yelp['state'] == 'IL') &\n",
    "         (yelp['categories'].str.contains('Restaurants')) &\n",
    "         (yelp['checkins'] == 1) &\n",
    "         (yelp['is_open'] == 1)])"
   ]
  },
  {
   "cell_type": "code",
   "execution_count": null,
   "metadata": {},
   "outputs": [],
   "source": [
    "len(yelp[(yelp['state'] == 'IL') &\n",
    "         (yelp['categories'].str.contains('Restaurants')) &\n",
    "         (yelp['checkins'] == 2) &\n",
    "         (yelp['is_open'] == 1)])"
   ]
  },
  {
   "cell_type": "code",
   "execution_count": null,
   "metadata": {},
   "outputs": [],
   "source": [
    "len(yelp[(yelp['state'] == 'IL') &\n",
    "         (yelp['categories'].str.contains('Restaurants')) &\n",
    "         (yelp['checkins'] == 3) &\n",
    "         (yelp['is_open'] == 1)])"
   ]
  },
  {
   "cell_type": "code",
   "execution_count": null,
   "metadata": {},
   "outputs": [],
   "source": [
    "top10 = yelp[(yelp['state'] == 'IL') &\n",
    "             (yelp['categories'].str.contains('Restaurants') &\n",
    "              (yelp['is_open'] == 1))\n",
    "            ].sort_values('checkins', ascending=False).head(10)\n",
    "\n",
    "bottom10 = yelp[(yelp['state'] == 'IL') &\n",
    "                (yelp['categories'].str.contains('Restaurants') &\n",
    "                (yelp['is_open'] == 1))\n",
    "               ].sort_values('checkins', ascending=False).tail(30)"
   ]
  },
  {
   "cell_type": "code",
   "execution_count": null,
   "metadata": {},
   "outputs": [],
   "source": [
    "top10.to_csv('data/yelp_top10_checkins.csv', index=False)\n",
    "bottom10.to_csv('data/yelp_bottom10_checkins.csv', index=False)"
   ]
  },
  {
   "cell_type": "code",
   "execution_count": null,
   "metadata": {},
   "outputs": [],
   "source": [
    "top10_names = top10['name'].tolist()\n",
    "top10_names"
   ]
  },
  {
   "cell_type": "code",
   "execution_count": null,
   "metadata": {},
   "outputs": [],
   "source": [
    "bottom10_names = bottom10['name'].tolist()\n",
    "bottom10_names"
   ]
  },
  {
   "cell_type": "markdown",
   "metadata": {},
   "source": [
    "### For the top 10 and bottom 10 restaurants calculated in step 6, calculate the average star rating and average sentiment score of the reviews"
   ]
  },
  {
   "cell_type": "code",
   "execution_count": null,
   "metadata": {},
   "outputs": [],
   "source": [
    "top_bottom = top10['business_id'].tolist() + bottom10['business_id'].tolist()"
   ]
  },
  {
   "cell_type": "code",
   "execution_count": null,
   "metadata": {},
   "outputs": [],
   "source": [
    "np.random.choice(doc_clean, 50000, replace=False).tolist()\n",
    "top_bottom = (np.random.choice(top10['business_id'].tolist(), 1000, replace=False).tolist() +\n",
    "              np.random.choice(bottom10['business_id'].tolist(), 1000, replace=False).tolist())\n"
   ]
  },
  {
   "cell_type": "code",
   "execution_count": null,
   "metadata": {},
   "outputs": [],
   "source": [
    "sentiment = review[review['business_id'].isin(top_bottom)]"
   ]
  },
  {
   "cell_type": "code",
   "execution_count": null,
   "metadata": {},
   "outputs": [],
   "source": [
    "from vaderSentiment.vaderSentiment import SentimentIntensityAnalyzer\n",
    "\n",
    "def get_vader_scores(text):\n",
    "    '''\n",
    "    Takes a string of text and outputs four values for Vader's negative,\n",
    "    neutral, positive, and compound (normalized) sentiment scores\n",
    "    INPUT: a string\n",
    "    OUTPUT: a dictionary of four sentiment scores\n",
    "    '''\n",
    "\n",
    "    analyser = SentimentIntensityAnalyzer()\n",
    "    return analyser.polarity_scores(text)\n",
    "\n",
    "\n",
    "def apply_vader(df, column):\n",
    "    '''\n",
    "    Takes a DataFrame with a specified column of text and adds four new columns\n",
    "    to the DataFrame, corresponding to the Vader sentiment scores\n",
    "    INPUT: DataFrame, string\n",
    "    OUTPUT: the original DataFrame with four additional columns\n",
    "    '''\n",
    "\n",
    "    sentiment = pd.DataFrame(df[column].apply(get_vader_scores))\n",
    "    unpacked = pd.DataFrame([d for idx, d in sentiment['text'].iteritems()],\n",
    "                            index=sentiment.index)\n",
    "    unpacked['compound'] += 1\n",
    "    columns = {'neu': 'v_neutral', 'pos': 'v_positive', 'neg': 'v_negative'}\n",
    "    unpacked.rename(columns=columns, inplace=True)\n",
    "    return pd.concat([df, unpacked], axis=1)"
   ]
  },
  {
   "cell_type": "code",
   "execution_count": null,
   "metadata": {},
   "outputs": [],
   "source": [
    "sentiment = apply_vader(sentiment, 'text')"
   ]
  },
  {
   "cell_type": "code",
   "execution_count": null,
   "metadata": {},
   "outputs": [],
   "source": [
    "top10_sentiment = {}\n",
    "for biz_id in top10['business_id'].tolist():\n",
    "    top10_sentiment[yelp.loc[yelp['business_id'] == biz_id, 'name'].iloc[0]] = sentiment[sentiment['business_id'] == biz_id].groupby(['business_id']).mean()"
   ]
  },
  {
   "cell_type": "code",
   "execution_count": null,
   "metadata": {},
   "outputs": [],
   "source": [
    "top10_scores = pd.DataFrame()\n",
    "for restaurant in top10_sentiment:\n",
    "    top10_scores = top10_scores.append(pd.DataFrame(top10_sentiment[restaurant]))\n",
    "top10_scores.reset_index(level=0, inplace=True)"
   ]
  },
  {
   "cell_type": "code",
   "execution_count": null,
   "metadata": {},
   "outputs": [],
   "source": [
    "top10_scores['name'] = top10_scores['business_id'].apply(lambda business_id: yelp['name']\n",
    "                                                         [(yelp['business_id'] == business_id)].values[0])"
   ]
  },
  {
   "cell_type": "code",
   "execution_count": null,
   "metadata": {},
   "outputs": [],
   "source": [
    "top10_scores"
   ]
  },
  {
   "cell_type": "code",
   "execution_count": null,
   "metadata": {},
   "outputs": [],
   "source": [
    "bottom10_sentiment = {}\n",
    "for biz_id in bottom10['business_id'].tolist():\n",
    "    bottom10_sentiment[yelp.loc[yelp['business_id'] == biz_id, 'name'].iloc[0]] = sentiment[sentiment['business_id'] == biz_id].groupby(['business_id']).mean()"
   ]
  },
  {
   "cell_type": "code",
   "execution_count": null,
   "metadata": {},
   "outputs": [],
   "source": [
    "bottom10_scores = pd.DataFrame()\n",
    "for restaurant in bottom10_sentiment:\n",
    "    bottom10_scores = bottom10_scores.append(pd.DataFrame(bottom10_sentiment[restaurant]))\n",
    "bottom10_scores.reset_index(level=0, inplace=True)"
   ]
  },
  {
   "cell_type": "code",
   "execution_count": null,
   "metadata": {},
   "outputs": [],
   "source": [
    "bottom10_scores['name'] = bottom10_scores['business_id'].apply(lambda business_id: yelp['name']\n",
    "                                                               [(yelp['business_id'] == business_id)].values[0])"
   ]
  },
  {
   "cell_type": "code",
   "execution_count": null,
   "metadata": {},
   "outputs": [],
   "source": [
    "bottom10_scores"
   ]
  },
  {
   "cell_type": "code",
   "execution_count": null,
   "metadata": {},
   "outputs": [],
   "source": [
    "top10_scores.to_csv('data/yelp_top_scores.csv', index=False)\n",
    "bottom10_scores.to_csv('data/yelp_bottom_scores.csv', index=False)"
   ]
  },
  {
   "cell_type": "markdown",
   "metadata": {},
   "source": [
    "### What are the top 10 Cuisine types (Mexican, American, Thai, etc) based on the number of restaurants and number of check ins"
   ]
  },
  {
   "cell_type": "code",
   "execution_count": null,
   "metadata": {},
   "outputs": [],
   "source": [
    "restaurants = yelp[yelp['categories'].str.contains('Restaurants', na=False)]"
   ]
  },
  {
   "cell_type": "code",
   "execution_count": null,
   "metadata": {},
   "outputs": [],
   "source": [
    "pd.options.mode.chained_assignment = None  # default='warn'\n",
    "restaurants['categories'] = restaurants['categories'].apply(lambda x: x.split(', '))"
   ]
  },
  {
   "cell_type": "code",
   "execution_count": null,
   "metadata": {},
   "outputs": [],
   "source": [
    "restaurants = restaurants.join(pd.get_dummies(pd.DataFrame(restaurants['categories'].tolist()).stack()).astype(int).sum(level=0))"
   ]
  },
  {
   "cell_type": "code",
   "execution_count": null,
   "metadata": {},
   "outputs": [],
   "source": [
    "columns = [item for item in restaurants.columns.tolist() if item not in yelp.columns.tolist()]\n",
    "columns.remove('Restaurants')"
   ]
  },
  {
   "cell_type": "code",
   "execution_count": null,
   "metadata": {
    "scrolled": true
   },
   "outputs": [],
   "source": [
    "num_restaurants = restaurants[columns].sum(numeric_only=True).sort_values(ascending=False)\n",
    "num_restaurants"
   ]
  },
  {
   "cell_type": "code",
   "execution_count": null,
   "metadata": {},
   "outputs": [],
   "source": [
    "checkin_dict ={}\n",
    "for item in columns:\n",
    "    cnt = restaurants[restaurants[item] == 1].groupby([item])['checkins'].sum()\n",
    "    if cnt.empty:\n",
    "        checkin_dict[item] = 0\n",
    "    else:\n",
    "        checkin_dict[item] = restaurants[restaurants[item] == 1].groupby([item])['checkins'].sum().values[0]"
   ]
  },
  {
   "cell_type": "code",
   "execution_count": null,
   "metadata": {},
   "outputs": [],
   "source": [
    "checkin_dict = pd.Series(checkin_dict).sort_values(ascending=False)"
   ]
  },
  {
   "cell_type": "code",
   "execution_count": null,
   "metadata": {
    "scrolled": true
   },
   "outputs": [],
   "source": [
    "checkin_dict"
   ]
  },
  {
   "cell_type": "code",
   "execution_count": null,
   "metadata": {},
   "outputs": [],
   "source": [
    "for item in checkin_dict.keys():\n",
    "    print(item)"
   ]
  },
  {
   "cell_type": "code",
   "execution_count": null,
   "metadata": {},
   "outputs": [],
   "source": [
    "pd.DataFrame(checkin_dict).to_csv('data/yelp_cuisine_checkin.csv')\n",
    "pd.DataFrame(num_restaurants).to_csv('data/yelp_cuisine_restaurants.csv')"
   ]
  },
  {
   "cell_type": "markdown",
   "metadata": {},
   "source": [
    "### What are the most popular keywords or adjectives that reviewers use for the above list of cuisines (calculated in step 8)"
   ]
  },
  {
   "cell_type": "code",
   "execution_count": null,
   "metadata": {},
   "outputs": [],
   "source": [
    "cuisine_list = ['American (Traditional)', 'Mexican', 'Chinese', 'Italian', 'American (New)',\n",
    "               'Japanese', 'Thai', 'Mediterranean', 'Asian Fusion', 'Indian', 'Korean',\n",
    "                'Greek', 'Middle Eastern', 'Vietnamese', 'French', 'Tex-Mex', 'Caribbean']\n",
    "cuisines = pd.DataFrame()\n",
    "for cuisine in cuisine_list:\n",
    "    businesses = yelp[yelp['categories'].str.contains(cuisine, na=False)]['business_id'].tolist()\n",
    "    temp = review[review['business_id'].isin(businesses)]\n",
    "    temp['cuisine'] = cuisine\n",
    "    cuisines = pd.concat([cuisines, temp], ignore_index=True)"
   ]
  },
  {
   "cell_type": "code",
   "execution_count": null,
   "metadata": {},
   "outputs": [],
   "source": [
    "cuisines.head()"
   ]
  },
  {
   "cell_type": "code",
   "execution_count": null,
   "metadata": {},
   "outputs": [],
   "source": [
    "import spacy\n",
    "from collections import Counter\n",
    "\n",
    "nlp = spacy.load('en')\n",
    "\n",
    "nlp.max_length = 1500000"
   ]
  },
  {
   "cell_type": "code",
   "execution_count": null,
   "metadata": {
    "scrolled": true
   },
   "outputs": [],
   "source": [
    "cuisine_docs = {}\n",
    "\n",
    "for cuisine in cuisine_list:\n",
    "    print()\n",
    "    print(cuisine)\n",
    "    text = cuisines[cuisines['cuisine'] == cuisine]['text'].str.cat(sep=' ')\n",
    "    chunk_size = 1000000\n",
    "    num_chunks = len(text) // chunk_size + 1\n",
    "    \n",
    "    words = []\n",
    "    adj = []\n",
    "    \n",
    "    for chunk in range(num_chunks):\n",
    "        print('  chunk', chunk + 1, 'of', num_chunks)\n",
    "        chunk_start = chunk_size * (chunk - 1)\n",
    "        chunk_end = chunk_size * chunk\n",
    "        chunk_text = text[chunk_start: chunk_end]\n",
    "    \n",
    "        doc = nlp(chunk_text)\n",
    "        # all tokens that arent stop words or punctuations\n",
    "        words.extend([token.text for token in doc if\n",
    "                      token.is_stop !=True and token.is_punct != True])\n",
    "\n",
    "        # adjective tokens that arent stop words or punctuations\n",
    "        adj.extend([token.text for token in doc if\n",
    "                    token.is_stop != True and\n",
    "                    token.is_punct != True and token.pos_ == \"ADJ\"])\n",
    "\n",
    "    # 200 most common tokens\n",
    "    word_freq = Counter(words)\n",
    "    common_words = word_freq.most_common(200)\n",
    "\n",
    "    # five most common adjective tokens\n",
    "    adj_freq = Counter(adj)\n",
    "    common_adj = adj_freq.most_common(200)\n",
    "    \n",
    "    cuisine_docs[cuisine] = {'words': words,\n",
    "                               'adj': adj,\n",
    "                               'common_words': common_words,\n",
    "                               'common_adj': common_adj}"
   ]
  },
  {
   "cell_type": "code",
   "execution_count": null,
   "metadata": {},
   "outputs": [],
   "source": [
    "for cuisine in cuisine_docs.keys():\n",
    "    with open('data/yelp_cuisine_' + cuisine + '.json', 'w') as fp:\n",
    "        json.dump(cuisine_docs[cuisine], fp)"
   ]
  },
  {
   "cell_type": "code",
   "execution_count": null,
   "metadata": {},
   "outputs": [],
   "source": [
    "cuisine_df = pd.DataFrame()\n",
    "\n",
    "for cuisine in cuisine_docs.keys():\n",
    "    temp = pd.DataFrame({'words': ' '.join(cuisine_docs[cuisine]['words']).replace('\\n', ' ').replace('\\r', ''),\n",
    "                         'adj': ' '.join(cuisine_docs[cuisine]['adj']).replace('\\n', ' ').replace('\\r', ''),\n",
    "                         'common_words': [cuisine_docs[cuisine]['common_words']],\n",
    "                         'common_adj': [cuisine_docs[cuisine]['common_adj']]})\n",
    "    temp['cuisine'] = cuisine\n",
    "    cuisine_df = pd.concat([cuisine_df, temp], ignore_index=True)"
   ]
  },
  {
   "cell_type": "code",
   "execution_count": null,
   "metadata": {},
   "outputs": [],
   "source": [
    "cuisine_df.head(50)"
   ]
  },
  {
   "cell_type": "code",
   "execution_count": null,
   "metadata": {},
   "outputs": [],
   "source": [
    "cuisine_df.to_csv('data/yelp_cuisine_words.csv', index=False)"
   ]
  },
  {
   "cell_type": "markdown",
   "metadata": {},
   "source": [
    "## The Mayor would like Divvy Bike to add a new feature to their kiosks: “Enter a destination and we’ll tell you how long the trip will take”. We need you to build a model that can predict how long a trip will take given a starting point and destination. You will need to get creative about the factors that will predict travel time. For example, weather and traffic patterns may have an impact on Divvy Bike travel time. There is certainly dataout there –you just should find it."
   ]
  },
  {
   "cell_type": "markdown",
   "metadata": {},
   "source": [
    "### Download weather data from Weather Underground\n",
    "Unfortunately, Weather Underground has started charging for their API: https://www.wunderground.com/weather/api"
   ]
  },
  {
   "cell_type": "code",
   "execution_count": null,
   "metadata": {},
   "outputs": [],
   "source": [
    "# Query data in different years\n",
    "# You can get keys from https://www.wunderground.com/\n",
    "keys = ['***************', '***************', '***************', \n",
    "        '***************', '***************']\n",
    "years = [2017]\n",
    "\n",
    "for key, year in zip(keys, years):\n",
    "    path = './data/weather_' + str(year) + '.csv'\n",
    "    if os.path.isfile(path):\n",
    "        continue\n",
    "    df, _ = query_weather(key=key, year=year, state='IL', area='Chicago')\n",
    "    df.to_csv(path, index=False)\n",
    "    print('File saved:\\t', path)"
   ]
  },
  {
   "cell_type": "markdown",
   "metadata": {},
   "source": [
    "### so, just join with the Kaggle dataset instead\n",
    "download the dataset here: https://www.kaggle.com/yingwurenjian/chicago-divvy-bicycle-sharing-data\n",
    "\n",
    "We'll be only extracting the weather information from this dataset"
   ]
  },
  {
   "cell_type": "code",
   "execution_count": 20,
   "metadata": {},
   "outputs": [],
   "source": [
    "divvy_kaggle = pd.read_csv('data/chicago-divvy-bicycle-sharing-data/data_raw.csv', parse_dates=['starttime', 'stoptime'])"
   ]
  },
  {
   "cell_type": "code",
   "execution_count": 21,
   "metadata": {},
   "outputs": [],
   "source": [
    "divvy_kaggle = divvy_kaggle[divvy_kaggle['starttime'].dt.year == 2017].reset_index(drop=True)"
   ]
  },
  {
   "cell_type": "code",
   "execution_count": 22,
   "metadata": {},
   "outputs": [],
   "source": [
    "# divvy_kaggle.to_csv('data/divvy_2017_kaggle.csv')"
   ]
  },
  {
   "cell_type": "code",
   "execution_count": 23,
   "metadata": {},
   "outputs": [],
   "source": [
    "divvy_kaggle = pd.read_csv('data/divvy_2017_kaggle.csv')"
   ]
  },
  {
   "cell_type": "code",
   "execution_count": 24,
   "metadata": {},
   "outputs": [
    {
     "data": {
      "text/plain": [
       "Index(['Unnamed: 0', 'trip_id', 'usertype', 'gender', 'starttime', 'stoptime',\n",
       "       'tripduration', 'from_station_id', 'from_station_name',\n",
       "       'latitude_start', 'longitude_start', 'dpcapacity_start',\n",
       "       'to_station_id', 'to_station_name', 'latitude_end', 'longitude_end',\n",
       "       'dpcapacity_end', 'temperature', 'windchill', 'dewpoint', 'humidity',\n",
       "       'pressure', 'visibility', 'wind_speed', 'precipitation', 'events',\n",
       "       'rain', 'conditions'],\n",
       "      dtype='object')"
      ]
     },
     "execution_count": 24,
     "metadata": {},
     "output_type": "execute_result"
    }
   ],
   "source": [
    "divvy_kaggle.columns"
   ]
  },
  {
   "cell_type": "code",
   "execution_count": 27,
   "metadata": {},
   "outputs": [
    {
     "data": {
      "text/plain": [
       "Index(['Unnamed: 0', 'trip_id', 'start_time', 'end_time', 'bikeid',\n",
       "       'tripduration', 'from_station_id', 'from_station_name', 'to_station_id',\n",
       "       'to_station_name', 'usertype', 'gender', 'birthyear',\n",
       "       'from_station_latitude', 'from_station_longitude',\n",
       "       'to_station_latitude', 'to_station_longitude', 'trip_distance',\n",
       "       'speed'],\n",
       "      dtype='object')"
      ]
     },
     "execution_count": 27,
     "metadata": {},
     "output_type": "execute_result"
    }
   ],
   "source": [
    "divvy.columns"
   ]
  },
  {
   "cell_type": "code",
   "execution_count": 28,
   "metadata": {},
   "outputs": [
    {
     "data": {
      "text/plain": [
       "3826746"
      ]
     },
     "execution_count": 28,
     "metadata": {},
     "output_type": "execute_result"
    }
   ],
   "source": [
    "len(divvy_kaggle)"
   ]
  },
  {
   "cell_type": "code",
   "execution_count": 29,
   "metadata": {},
   "outputs": [
    {
     "data": {
      "text/plain": [
       "3829014"
      ]
     },
     "execution_count": 29,
     "metadata": {},
     "output_type": "execute_result"
    }
   ],
   "source": [
    "len(divvy)"
   ]
  },
  {
   "cell_type": "code",
   "execution_count": 30,
   "metadata": {},
   "outputs": [],
   "source": [
    "df = divvy.merge(divvy_kaggle[['trip_id', 'temperature', 'windchill',\n",
    "                               'dewpoint', 'humidity', 'pressure',\n",
    "                               'visibility', 'wind_speed',\n",
    "                               'precipitation', 'events',\n",
    "                               'rain', 'conditions']], on='trip_id', how='inner')"
   ]
  },
  {
   "cell_type": "code",
   "execution_count": 31,
   "metadata": {},
   "outputs": [],
   "source": [
    "df.dropna(inplace=True)\n",
    "df = df[(df['tripduration'] <= 3600) & (df['trip_distance'] >= 200)]"
   ]
  },
  {
   "cell_type": "code",
   "execution_count": 32,
   "metadata": {},
   "outputs": [],
   "source": [
    "df.to_csv('data/divvy_weather.csv', index=False)"
   ]
  },
  {
   "cell_type": "code",
   "execution_count": 33,
   "metadata": {},
   "outputs": [
    {
     "data": {
      "text/plain": [
       "Index(['Unnamed: 0', 'trip_id', 'start_time', 'end_time', 'bikeid',\n",
       "       'tripduration', 'from_station_id', 'from_station_name', 'to_station_id',\n",
       "       'to_station_name', 'usertype', 'gender', 'birthyear',\n",
       "       'from_station_latitude', 'from_station_longitude',\n",
       "       'to_station_latitude', 'to_station_longitude', 'trip_distance', 'speed',\n",
       "       'temperature', 'windchill', 'dewpoint', 'humidity', 'pressure',\n",
       "       'visibility', 'wind_speed', 'precipitation', 'events', 'rain',\n",
       "       'conditions'],\n",
       "      dtype='object')"
      ]
     },
     "execution_count": 33,
     "metadata": {},
     "output_type": "execute_result"
    }
   ],
   "source": [
    "df.columns"
   ]
  },
  {
   "cell_type": "code",
   "execution_count": 34,
   "metadata": {},
   "outputs": [
    {
     "data": {
      "text/html": [
       "<div>\n",
       "<style scoped>\n",
       "    .dataframe tbody tr th:only-of-type {\n",
       "        vertical-align: middle;\n",
       "    }\n",
       "\n",
       "    .dataframe tbody tr th {\n",
       "        vertical-align: top;\n",
       "    }\n",
       "\n",
       "    .dataframe thead th {\n",
       "        text-align: right;\n",
       "    }\n",
       "</style>\n",
       "<table border=\"1\" class=\"dataframe\">\n",
       "  <thead>\n",
       "    <tr style=\"text-align: right;\">\n",
       "      <th></th>\n",
       "      <th>Unnamed: 0</th>\n",
       "      <th>trip_id</th>\n",
       "      <th>start_time</th>\n",
       "      <th>end_time</th>\n",
       "      <th>bikeid</th>\n",
       "      <th>tripduration</th>\n",
       "      <th>from_station_id</th>\n",
       "      <th>from_station_name</th>\n",
       "      <th>to_station_id</th>\n",
       "      <th>to_station_name</th>\n",
       "      <th>...</th>\n",
       "      <th>windchill</th>\n",
       "      <th>dewpoint</th>\n",
       "      <th>humidity</th>\n",
       "      <th>pressure</th>\n",
       "      <th>visibility</th>\n",
       "      <th>wind_speed</th>\n",
       "      <th>precipitation</th>\n",
       "      <th>events</th>\n",
       "      <th>rain</th>\n",
       "      <th>conditions</th>\n",
       "    </tr>\n",
       "  </thead>\n",
       "  <tbody>\n",
       "    <tr>\n",
       "      <th>0</th>\n",
       "      <td>0</td>\n",
       "      <td>13518905</td>\n",
       "      <td>2017-03-31 23:59:07</td>\n",
       "      <td>2017-04-01 00:13:24</td>\n",
       "      <td>5292</td>\n",
       "      <td>857</td>\n",
       "      <td>66</td>\n",
       "      <td>Clinton St &amp; Lake St</td>\n",
       "      <td>171</td>\n",
       "      <td>May St &amp; Cullerton St</td>\n",
       "      <td>...</td>\n",
       "      <td>32.1</td>\n",
       "      <td>30.9</td>\n",
       "      <td>76.0</td>\n",
       "      <td>30.05</td>\n",
       "      <td>10.0</td>\n",
       "      <td>8.1</td>\n",
       "      <td>-9999.0</td>\n",
       "      <td>partlycloudy</td>\n",
       "      <td>0</td>\n",
       "      <td>Partly Cloudy</td>\n",
       "    </tr>\n",
       "    <tr>\n",
       "      <th>1</th>\n",
       "      <td>1</td>\n",
       "      <td>13518904</td>\n",
       "      <td>2017-03-31 23:56:25</td>\n",
       "      <td>2017-04-01 00:00:21</td>\n",
       "      <td>4408</td>\n",
       "      <td>236</td>\n",
       "      <td>199</td>\n",
       "      <td>Wabash Ave &amp; Grand Ave</td>\n",
       "      <td>26</td>\n",
       "      <td>McClurg Ct &amp; Illinois St</td>\n",
       "      <td>...</td>\n",
       "      <td>32.1</td>\n",
       "      <td>30.9</td>\n",
       "      <td>76.0</td>\n",
       "      <td>30.05</td>\n",
       "      <td>10.0</td>\n",
       "      <td>8.1</td>\n",
       "      <td>-9999.0</td>\n",
       "      <td>partlycloudy</td>\n",
       "      <td>0</td>\n",
       "      <td>Partly Cloudy</td>\n",
       "    </tr>\n",
       "    <tr>\n",
       "      <th>2</th>\n",
       "      <td>2</td>\n",
       "      <td>13518903</td>\n",
       "      <td>2017-03-31 23:55:33</td>\n",
       "      <td>2017-04-01 00:01:21</td>\n",
       "      <td>696</td>\n",
       "      <td>348</td>\n",
       "      <td>520</td>\n",
       "      <td>Greenview Ave &amp; Jarvis Ave</td>\n",
       "      <td>432</td>\n",
       "      <td>Clark St &amp; Lunt Ave</td>\n",
       "      <td>...</td>\n",
       "      <td>32.1</td>\n",
       "      <td>30.9</td>\n",
       "      <td>76.0</td>\n",
       "      <td>30.05</td>\n",
       "      <td>10.0</td>\n",
       "      <td>8.1</td>\n",
       "      <td>-9999.0</td>\n",
       "      <td>partlycloudy</td>\n",
       "      <td>0</td>\n",
       "      <td>Partly Cloudy</td>\n",
       "    </tr>\n",
       "    <tr>\n",
       "      <th>3</th>\n",
       "      <td>3</td>\n",
       "      <td>13518902</td>\n",
       "      <td>2017-03-31 23:54:46</td>\n",
       "      <td>2017-03-31 23:59:34</td>\n",
       "      <td>4915</td>\n",
       "      <td>288</td>\n",
       "      <td>110</td>\n",
       "      <td>Dearborn St &amp; Erie St</td>\n",
       "      <td>142</td>\n",
       "      <td>McClurg Ct &amp; Erie St</td>\n",
       "      <td>...</td>\n",
       "      <td>32.1</td>\n",
       "      <td>30.9</td>\n",
       "      <td>76.0</td>\n",
       "      <td>30.05</td>\n",
       "      <td>10.0</td>\n",
       "      <td>8.1</td>\n",
       "      <td>-9999.0</td>\n",
       "      <td>partlycloudy</td>\n",
       "      <td>0</td>\n",
       "      <td>Partly Cloudy</td>\n",
       "    </tr>\n",
       "    <tr>\n",
       "      <th>5</th>\n",
       "      <td>5</td>\n",
       "      <td>13518900</td>\n",
       "      <td>2017-03-31 23:51:17</td>\n",
       "      <td>2017-03-31 23:55:19</td>\n",
       "      <td>3536</td>\n",
       "      <td>242</td>\n",
       "      <td>143</td>\n",
       "      <td>Sedgwick St &amp; Webster Ave</td>\n",
       "      <td>289</td>\n",
       "      <td>Wells St &amp; Concord Ln</td>\n",
       "      <td>...</td>\n",
       "      <td>32.1</td>\n",
       "      <td>30.9</td>\n",
       "      <td>76.0</td>\n",
       "      <td>30.05</td>\n",
       "      <td>10.0</td>\n",
       "      <td>8.1</td>\n",
       "      <td>-9999.0</td>\n",
       "      <td>partlycloudy</td>\n",
       "      <td>0</td>\n",
       "      <td>Partly Cloudy</td>\n",
       "    </tr>\n",
       "  </tbody>\n",
       "</table>\n",
       "<p>5 rows × 30 columns</p>\n",
       "</div>"
      ],
      "text/plain": [
       "   Unnamed: 0   trip_id           start_time             end_time  bikeid  \\\n",
       "0           0  13518905  2017-03-31 23:59:07  2017-04-01 00:13:24    5292   \n",
       "1           1  13518904  2017-03-31 23:56:25  2017-04-01 00:00:21    4408   \n",
       "2           2  13518903  2017-03-31 23:55:33  2017-04-01 00:01:21     696   \n",
       "3           3  13518902  2017-03-31 23:54:46  2017-03-31 23:59:34    4915   \n",
       "5           5  13518900  2017-03-31 23:51:17  2017-03-31 23:55:19    3536   \n",
       "\n",
       "   tripduration  from_station_id           from_station_name  to_station_id  \\\n",
       "0           857               66        Clinton St & Lake St            171   \n",
       "1           236              199      Wabash Ave & Grand Ave             26   \n",
       "2           348              520  Greenview Ave & Jarvis Ave            432   \n",
       "3           288              110       Dearborn St & Erie St            142   \n",
       "5           242              143   Sedgwick St & Webster Ave            289   \n",
       "\n",
       "            to_station_name      ...       windchill dewpoint  humidity  \\\n",
       "0     May St & Cullerton St      ...            32.1     30.9      76.0   \n",
       "1  McClurg Ct & Illinois St      ...            32.1     30.9      76.0   \n",
       "2       Clark St & Lunt Ave      ...            32.1     30.9      76.0   \n",
       "3      McClurg Ct & Erie St      ...            32.1     30.9      76.0   \n",
       "5     Wells St & Concord Ln      ...            32.1     30.9      76.0   \n",
       "\n",
       "   pressure  visibility  wind_speed  precipitation        events  rain  \\\n",
       "0     30.05        10.0         8.1        -9999.0  partlycloudy     0   \n",
       "1     30.05        10.0         8.1        -9999.0  partlycloudy     0   \n",
       "2     30.05        10.0         8.1        -9999.0  partlycloudy     0   \n",
       "3     30.05        10.0         8.1        -9999.0  partlycloudy     0   \n",
       "5     30.05        10.0         8.1        -9999.0  partlycloudy     0   \n",
       "\n",
       "      conditions  \n",
       "0  Partly Cloudy  \n",
       "1  Partly Cloudy  \n",
       "2  Partly Cloudy  \n",
       "3  Partly Cloudy  \n",
       "5  Partly Cloudy  \n",
       "\n",
       "[5 rows x 30 columns]"
      ]
     },
     "execution_count": 34,
     "metadata": {},
     "output_type": "execute_result"
    }
   ],
   "source": [
    "df.head()"
   ]
  },
  {
   "cell_type": "code",
   "execution_count": 35,
   "metadata": {},
   "outputs": [],
   "source": [
    "df['start_time'] = pd.to_datetime(df['start_time'])"
   ]
  },
  {
   "cell_type": "code",
   "execution_count": 36,
   "metadata": {},
   "outputs": [],
   "source": [
    "df['day'] = df['start_time'].dt.dayofweek\n",
    "df['month'] = df['start_time'].dt.month"
   ]
  },
  {
   "cell_type": "code",
   "execution_count": 37,
   "metadata": {},
   "outputs": [],
   "source": [
    "df = pd.get_dummies(df, columns=['day'])\n",
    "df = pd.get_dummies(df, columns=['month'])\n",
    "df = pd.get_dummies(df, columns=['usertype'])\n",
    "df = pd.get_dummies(df, columns=['events'])\n",
    "df = pd.get_dummies(df, columns=['conditions'])"
   ]
  },
  {
   "cell_type": "markdown",
   "metadata": {},
   "source": [
    "### Get traffic data for Chicago rush hours: https://www.illinoisvehicle.com/about-us/blog/traffic-patterns-chicago/"
   ]
  },
  {
   "cell_type": "code",
   "execution_count": 38,
   "metadata": {},
   "outputs": [],
   "source": [
    "df['morning_rush_hour'] = np.where(((df['start_time'].dt.hour > 6) &\n",
    "                                    (df['start_time'].dt.hour < 10)),\n",
    "                                    1, 0)\n",
    "\n",
    "df['evening_rush_hour'] = np.where(((df['start_time'].dt.hour > 15) &\n",
    "                                    (df['start_time'].dt.hour < 19)),\n",
    "                                    1, 0)\n",
    "\n",
    "df['night'] = np.where(((df['start_time'].dt.hour <= 19) &\n",
    "                        (df['start_time'].dt.hour <= 6)),\n",
    "                         1, 0)\n",
    "\n",
    "df['midday'] = np.where(((df['start_time'].dt.hour >= 10) &\n",
    "                         (df['start_time'].dt.hour <= 15)),\n",
    "                         1, 0)"
   ]
  },
  {
   "cell_type": "code",
   "execution_count": 39,
   "metadata": {},
   "outputs": [
    {
     "data": {
      "text/plain": [
       "Index(['Unnamed: 0', 'trip_id', 'start_time', 'end_time', 'bikeid',\n",
       "       'tripduration', 'from_station_id', 'from_station_name', 'to_station_id',\n",
       "       'to_station_name', 'gender', 'birthyear', 'from_station_latitude',\n",
       "       'from_station_longitude', 'to_station_latitude', 'to_station_longitude',\n",
       "       'trip_distance', 'speed', 'temperature', 'windchill', 'dewpoint',\n",
       "       'humidity', 'pressure', 'visibility', 'wind_speed', 'precipitation',\n",
       "       'rain', 'day_0', 'day_1', 'day_2', 'day_3', 'day_4', 'day_5', 'day_6',\n",
       "       'month_1', 'month_2', 'month_3', 'month_4', 'month_5', 'month_6',\n",
       "       'month_7', 'month_8', 'month_9', 'month_10', 'month_11', 'month_12',\n",
       "       'usertype_Customer', 'usertype_Dependent', 'usertype_Subscriber',\n",
       "       'events_clear', 'events_cloudy', 'events_fog', 'events_hazy',\n",
       "       'events_mostlycloudy', 'events_partlycloudy', 'events_rain',\n",
       "       'events_sleet', 'events_snow', 'events_tstorms', 'conditions_Clear',\n",
       "       'conditions_Drizzle', 'conditions_Fog', 'conditions_Freezing Rain',\n",
       "       'conditions_Haze', 'conditions_Heavy Rain',\n",
       "       'conditions_Heavy Thunderstorms and Rain', 'conditions_Light Drizzle',\n",
       "       'conditions_Light Freezing Drizzle', 'conditions_Light Freezing Rain',\n",
       "       'conditions_Light Hail', 'conditions_Light Rain',\n",
       "       'conditions_Light Snow', 'conditions_Light Thunderstorms and Rain',\n",
       "       'conditions_Mist', 'conditions_Mostly Cloudy', 'conditions_Overcast',\n",
       "       'conditions_Partly Cloudy', 'conditions_Rain',\n",
       "       'conditions_Scattered Clouds', 'conditions_Smoke', 'conditions_Snow',\n",
       "       'conditions_Thunderstorm', 'conditions_Thunderstorms and Rain',\n",
       "       'morning_rush_hour', 'evening_rush_hour', 'night', 'midday'],\n",
       "      dtype='object')"
      ]
     },
     "execution_count": 39,
     "metadata": {},
     "output_type": "execute_result"
    }
   ],
   "source": [
    "df.columns"
   ]
  },
  {
   "cell_type": "code",
   "execution_count": 40,
   "metadata": {},
   "outputs": [],
   "source": [
    "from sklearn.linear_model import LinearRegression"
   ]
  },
  {
   "cell_type": "code",
   "execution_count": 41,
   "metadata": {},
   "outputs": [],
   "source": [
    "columns = ['trip_distance', 'temperature', 'windchill', 'dewpoint',\n",
    "           'humidity', 'pressure', 'visibility', 'wind_speed', 'precipitation',\n",
    "           'rain', 'morning_rush_hour',\n",
    "           'evening_rush_hour', 'night', 'midday', 'day_0', 'day_1', 'day_2',\n",
    "           'day_3', 'day_4', 'day_5', 'day_6', 'month_1', 'month_2', 'month_3',\n",
    "           'month_4', 'month_5', 'month_6', 'month_7', 'month_8', 'month_9',\n",
    "           'month_10', 'month_11', 'month_12', 'usertype_Customer',\n",
    "           'usertype_Dependent', 'usertype_Subscriber',\n",
    "           'events_clear', 'events_cloudy', 'events_fog', 'events_hazy',\n",
    "           'events_mostlycloudy', 'events_partlycloudy', 'events_rain',\n",
    "           'events_sleet', 'events_snow', 'events_tstorms', 'conditions_Clear',\n",
    "           'conditions_Drizzle', 'conditions_Fog', 'conditions_Freezing Rain',\n",
    "           'conditions_Haze', 'conditions_Heavy Rain',\n",
    "           'conditions_Heavy Thunderstorms and Rain', 'conditions_Light Drizzle',\n",
    "           'conditions_Light Freezing Drizzle', 'conditions_Light Freezing Rain',\n",
    "           'conditions_Light Hail', 'conditions_Light Rain',\n",
    "           'conditions_Light Snow', 'conditions_Light Thunderstorms and Rain',\n",
    "           'conditions_Mist', 'conditions_Mostly Cloudy', 'conditions_Overcast',\n",
    "           'conditions_Partly Cloudy', 'conditions_Rain',\n",
    "           'conditions_Scattered Clouds', 'conditions_Smoke', 'conditions_Snow',\n",
    "           'conditions_Thunderstorm', 'conditions_Thunderstorms and Rain']"
   ]
  },
  {
   "cell_type": "code",
   "execution_count": 42,
   "metadata": {},
   "outputs": [],
   "source": [
    "from sklearn.model_selection import train_test_split\n",
    "X_train, X_test, y_train, y_test = train_test_split(df[columns],\n",
    "                                                    df['tripduration'],\n",
    "                                                    test_size=0.2, random_state=0)"
   ]
  },
  {
   "cell_type": "code",
   "execution_count": 43,
   "metadata": {},
   "outputs": [
    {
     "data": {
      "text/plain": [
       "0.6953254654844158"
      ]
     },
     "execution_count": 43,
     "metadata": {},
     "output_type": "execute_result"
    }
   ],
   "source": [
    "model = LinearRegression(normalize=True)\n",
    "model.fit(X_train, y_train)\n",
    "model.score(X_test, y_test)"
   ]
  },
  {
   "cell_type": "code",
   "execution_count": 44,
   "metadata": {},
   "outputs": [
    {
     "data": {
      "image/png": "[encoded data removed]",
      "text/plain": [
       "<Figure size 720x720 with 1 Axes>"
      ]
     },
     "metadata": {},
     "output_type": "display_data"
    }
   ],
   "source": [
    "# plot prediction and actual data\n",
    "y_pred = model.predict(X_test) \n",
    "plt.figure(figsize=(10, 10))\n",
    "plt.xlabel('Actual Trip Duration')\n",
    "plt.ylabel('Predicted Trip Duraction')\n",
    "plt.plot(y_test, y_pred, '.')\n",
    "\n",
    "# plot a line, a perfit predict would all fall on this line\n",
    "x = np.linspace(0, 3600, 4000)\n",
    "y = x\n",
    "plt.plot(x, y)\n",
    "plt.show()"
   ]
  },
  {
   "cell_type": "code",
   "execution_count": 45,
   "metadata": {},
   "outputs": [
    {
     "data": {
      "text/plain": [
       "array([ 2.01559262e-01,  1.82800989e+00,  2.06755493e-03, -8.06925397e-01,\n",
       "        8.63757649e-02,  4.44838315e-04,  3.35732050e-03,  2.80555941e-03,\n",
       "       -2.14719937e-04, -5.01427868e+14, -2.63340610e+01, -1.80986772e+00,\n",
       "       -6.95594253e+01,  5.17835340e+00, -1.14233163e+14, -1.14233163e+14,\n",
       "       -1.14233163e+14, -1.14233163e+14, -1.14233163e+14, -1.14233163e+14,\n",
       "       -1.14233163e+14,  7.30449668e+13,  7.30449668e+13,  7.30449668e+13,\n",
       "        7.30449668e+13,  7.30449668e+13,  7.30449668e+13,  7.30449668e+13,\n",
       "        7.30449668e+13,  7.30449668e+13,  7.30449668e+13,  7.30449668e+13,\n",
       "        7.30449668e+13, -3.33862192e+15, -3.33862192e+15, -3.33862192e+15,\n",
       "        3.47867404e+14, -1.59517337e+14,  4.82715280e+15,  2.20728927e+14,\n",
       "       -7.11238251e+13,  2.06028987e+14,  2.86424030e+14,  2.86424030e+14,\n",
       "        2.86424030e+14,  2.00457204e+14, -2.01874743e+14, -1.40431368e+14,\n",
       "       -4.68116014e+15, -1.40431368e+14, -7.47362654e+13,  3.60996499e+14,\n",
       "        4.46963325e+14, -1.40431368e+14, -1.40431368e+14,  3.60996499e+14,\n",
       "        3.60996499e+14,  3.60996499e+14, -1.40431368e+14,  4.46963325e+14,\n",
       "       -7.47362654e+13,  2.17116486e+14,  3.05509998e+14, -6.00363256e+13,\n",
       "        3.60996499e+14, -6.00363256e+13, -7.47362654e+13, -1.40431368e+14,\n",
       "       -5.44645430e+13,  4.46963325e+14])"
      ]
     },
     "execution_count": 45,
     "metadata": {},
     "output_type": "execute_result"
    }
   ],
   "source": [
    "model.coef_"
   ]
  },
  {
   "cell_type": "markdown",
   "metadata": {},
   "source": [
    "## Improvements:\n",
    "Use the Google Maps API (https://developers.google.com/maps/documentation/distance-matrix/intro) to extract routes from the origin and destination, improving upon the straight-line distance. But hey, while we're at it, the API also outputs estimated trip duration which is exactly what we're looking for! Unfortuately, Google recently cut off free access to the API. It now costs $0.005 per query."
   ]
  },
  {
   "cell_type": "markdown",
   "metadata": {},
   "source": [
    "## The Mayor has a couple of hypothesis which he needs you to verify with the given data. “Do you find a correlation between the star rating and length of reviews?”"
   ]
  },
  {
   "cell_type": "code",
   "execution_count": null,
   "metadata": {},
   "outputs": [],
   "source": [
    "review.head()"
   ]
  },
  {
   "cell_type": "code",
   "execution_count": 46,
   "metadata": {},
   "outputs": [],
   "source": [
    "corr_df = pd.DataFrame()"
   ]
  },
  {
   "cell_type": "code",
   "execution_count": 47,
   "metadata": {},
   "outputs": [],
   "source": [
    "corr_df['stars'] = review['stars']"
   ]
  },
  {
   "cell_type": "code",
   "execution_count": 48,
   "metadata": {},
   "outputs": [],
   "source": [
    "corr_df['review_length'] = review['text'].str.len()"
   ]
  },
  {
   "cell_type": "code",
   "execution_count": 49,
   "metadata": {},
   "outputs": [],
   "source": [
    "corr_df = corr_df.dropna()"
   ]
  },
  {
   "cell_type": "code",
   "execution_count": 50,
   "metadata": {},
   "outputs": [
    {
     "data": {
      "image/png": "[encoded data removed]",
      "text/plain": [
       "<Figure size 720x720 with 1 Axes>"
      ]
     },
     "metadata": {},
     "output_type": "display_data"
    }
   ],
   "source": [
    "corr_df.plot(x='stars', y='review_length', kind='scatter', style='o', figsize=(10, 10))\n",
    "plt.show()"
   ]
  },
  {
   "cell_type": "code",
   "execution_count": 51,
   "metadata": {},
   "outputs": [
    {
     "data": {
      "image/png": "[encoded data removed]",
      "text/plain": [
       "<Figure size 1440x720 with 2 Axes>"
      ]
     },
     "metadata": {},
     "output_type": "display_data"
    }
   ],
   "source": [
    "corr_df.hist(figsize=(20, 10))\n",
    "plt.show()"
   ]
  },
  {
   "cell_type": "code",
   "execution_count": 52,
   "metadata": {},
   "outputs": [
    {
     "data": {
      "text/plain": [
       "LinregressResult(slope=-74.60250345114228, intercept=819.8866119452658, rvalue=-0.22207838254262444, pvalue=0.0, stderr=0.2997187072487137)"
      ]
     },
     "execution_count": 52,
     "metadata": {},
     "output_type": "execute_result"
    }
   ],
   "source": [
    "from scipy.stats import linregress\n",
    "linregress(corr_df['stars'], corr_df['review_length'])"
   ]
  },
  {
   "cell_type": "code",
   "execution_count": 53,
   "metadata": {},
   "outputs": [
    {
     "data": {
      "image/png": "[encoded data removed]",
      "text/plain": [
       "<Figure size 720x720 with 1 Axes>"
      ]
     },
     "metadata": {},
     "output_type": "display_data"
    }
   ],
   "source": [
    "fit = np.polyfit(corr_df['stars'], corr_df['review_length'],1)\n",
    "fit_fn = np.poly1d(fit) \n",
    "# fit_fn is now a function which takes in x and returns an estimate for y\n",
    "\n",
    "fig, ax = plt.subplots(figsize=(10, 10))\n",
    "plt.plot(corr_df['stars'], corr_df['review_length'], 'o', corr_df['stars'], fit_fn(corr_df['stars']), '--k')\n",
    "plt.show()"
   ]
  },
  {
   "cell_type": "markdown",
   "metadata": {},
   "source": [
    "## The Mayor also wants us to identify the topics from the reviews of restaurants and explore if these topics are insightful and whether they can be used as inputs to some other classification or predictive work in the future. To do this learn a set of topics by applying topic modeling algorithms such as LDA on textual reviews. Choose the number of topics in a data-driven fashion such as by using a figure that plots perplexity versus number of topics. "
   ]
  },
  {
   "cell_type": "code",
   "execution_count": 3,
   "metadata": {},
   "outputs": [],
   "source": [
    "restaurant_ids = yelp[(yelp['categories'].str.contains('Restaurants') &\n",
    "                      (yelp['is_open'] == 1))\n",
    "                     ]['business_id'].tolist()"
   ]
  },
  {
   "cell_type": "code",
   "execution_count": 4,
   "metadata": {},
   "outputs": [],
   "source": [
    "restaurant_reviews = review[review['business_id'].isin(restaurant_ids)]['text']"
   ]
  },
  {
   "cell_type": "code",
   "execution_count": 5,
   "metadata": {},
   "outputs": [],
   "source": [
    "doc_complete = restaurant_reviews.tolist()"
   ]
  },
  {
   "cell_type": "code",
   "execution_count": 6,
   "metadata": {},
   "outputs": [],
   "source": [
    "from nltk.corpus import stopwords \n",
    "from nltk.stem.wordnet import WordNetLemmatizer\n",
    "import string\n",
    "\n",
    "stop = set(stopwords.words('english'))\n",
    "exclude = set(string.punctuation) \n",
    "lemma = WordNetLemmatizer()\n",
    "def clean(doc):\n",
    "    stop_free = \" \".join([i for i in doc.lower().split() if i not in stop])\n",
    "    punc_free = ''.join(ch for ch in stop_free if ch not in exclude)\n",
    "    normalized = \" \".join(lemma.lemmatize(word) for word in punc_free.split())\n",
    "    return normalized\n",
    "\n",
    "doc_clean = [clean(doc).split() for doc in doc_complete]"
   ]
  },
  {
   "cell_type": "code",
   "execution_count": 7,
   "metadata": {},
   "outputs": [
    {
     "data": {
      "text/plain": [
       "670315"
      ]
     },
     "execution_count": 7,
     "metadata": {},
     "output_type": "execute_result"
    }
   ],
   "source": [
    "len(doc_clean)"
   ]
  },
  {
   "cell_type": "code",
   "execution_count": 8,
   "metadata": {},
   "outputs": [],
   "source": [
    "# Take a sample of 50,000 reviews in order to speed up processing time\n",
    "doc_clean_sample = np.random.choice(doc_clean, 50000, replace=False).tolist()"
   ]
  },
  {
   "cell_type": "code",
   "execution_count": 9,
   "metadata": {},
   "outputs": [],
   "source": [
    "from sklearn.model_selection import train_test_split"
   ]
  },
  {
   "cell_type": "code",
   "execution_count": 10,
   "metadata": {},
   "outputs": [],
   "source": [
    "train, test = train_test_split(doc_clean_sample, test_size=0.2, random_state=42)"
   ]
  },
  {
   "cell_type": "code",
   "execution_count": 11,
   "metadata": {},
   "outputs": [],
   "source": [
    "import gensim\n",
    "from gensim import corpora\n",
    "\n",
    "# Creating the term dictionary of our courpus, where every unique term is assigned an index.\n",
    "dictionary = corpora.Dictionary(train)\n",
    "\n",
    "# Converting list of documents (corpus) into Document Term Matrix using dictionary prepared above.\n",
    "doc_term_matrix = [dictionary.doc2bow(doc) for doc in train]"
   ]
  },
  {
   "cell_type": "code",
   "execution_count": 12,
   "metadata": {},
   "outputs": [],
   "source": [
    "num_topics = [5, 10, 15, 20, 30, 40, 50, 75]"
   ]
  },
  {
   "cell_type": "code",
   "execution_count": 13,
   "metadata": {},
   "outputs": [
    {
     "name": "stdout",
     "output_type": "stream",
     "text": [
      "5\n",
      "10\n",
      "15\n",
      "20\n",
      "30\n",
      "40\n",
      "50\n",
      "75\n"
     ]
    }
   ],
   "source": [
    "perplexity = []\n",
    "models = {}\n",
    "\n",
    "for num in num_topics:\n",
    "    print(num)\n",
    "    Lda = gensim.models.ldamodel.LdaModel\n",
    "    lda_model = Lda(doc_term_matrix,\n",
    "                    id2word = dictionary,\n",
    "                    num_topics=num,\n",
    "                    passes=10,\n",
    "                    chunksize=100,\n",
    "                    update_every=1)\n",
    "    models[str(num)] = lda_model\n",
    "    perplexity.append(lda_model.log_perplexity([dictionary.doc2bow(doc) for doc in test]))"
   ]
  },
  {
   "cell_type": "code",
   "execution_count": 19,
   "metadata": {},
   "outputs": [
    {
     "data": {
      "image/png": "[encoded data removed]",
      "text/plain": [
       "<Figure size 720x720 with 1 Axes>"
      ]
     },
     "metadata": {},
     "output_type": "display_data"
    }
   ],
   "source": [
    "plt.figure(figsize=(10, 10))\n",
    "plt.xlabel('Number of Topics')\n",
    "plt.ylabel('Perplexity')\n",
    "plt.plot(num_topics, perplexity)\n",
    "plt.show()"
   ]
  },
  {
   "cell_type": "code",
   "execution_count": 57,
   "metadata": {
    "scrolled": true
   },
   "outputs": [
    {
     "data": {
      "text/plain": [
       "[(0,\n",
       "  '0.070*\"okay\" + 0.059*\"warm\" + 0.055*\"thank\" + 0.050*\"vegetarian\" + 0.046*\"medium\" + 0.036*\"cute\" + 0.036*\"finish\" + 0.031*\"outstanding\" + 0.030*\"wall\" + 0.028*\"classic\" + 0.025*\"cozy\" + 0.025*\"opinion\" + 0.017*\"welcome\" + 0.017*\"new\" + 0.017*\"you\" + 0.016*\"york\" + 0.015*\"didnt\" + 0.015*\"flat\" + 0.014*\"piping\" + 0.012*\"based\"'),\n",
       " (1,\n",
       "  '0.097*\"quality\" + 0.081*\"meat\" + 0.070*\"fast\" + 0.051*\"though\" + 0.048*\"clean\" + 0.047*\"price\" + 0.026*\"charge\" + 0.022*\"better\" + 0.019*\"tried\" + 0.019*\"even\" + 0.016*\"bomb\" + 0.016*\"hot\" + 0.016*\"favourite\" + 0.015*\"personal\" + 0.014*\"raw\" + 0.013*\"twice\" + 0.013*\"way\" + 0.013*\"overpriced\" + 0.013*\"ridiculous\" + 0.010*\"running\"'),\n",
       " (2,\n",
       "  '0.087*\"soup\" + 0.058*\"fish\" + 0.044*\"noodle\" + 0.031*\"2\" + 0.027*\"crispy\" + 0.025*\"choice\" + 0.024*\"dish\" + 0.022*\"flavour\" + 0.022*\"3\" + 0.022*\"4\" + 0.021*\"shrimp\" + 0.020*\"special\" + 0.020*\"nothing\" + 0.018*\"level\" + 0.017*\"cold\" + 0.017*\"morning\" + 0.017*\"disappointing\" + 0.016*\"taste\" + 0.015*\"rating\" + 0.015*\"1\"'),\n",
       " (3,\n",
       "  '0.113*\"fried\" + 0.071*\"pork\" + 0.063*\"rice\" + 0.042*\"dish\" + 0.027*\"note\" + 0.024*\"sour\" + 0.021*\"dumpling\" + 0.020*\"daughter\" + 0.019*\"tried\" + 0.017*\"filled\" + 0.015*\"sweet\" + 0.014*\"tiny\" + 0.013*\"tasty\" + 0.013*\"host\" + 0.013*\"from\" + 0.013*\"deep\" + 0.013*\"fluffy\" + 0.012*\"variety\" + 0.012*\"sprout\" + 0.012*\"wonton\"'),\n",
       " (4,\n",
       "  '0.273*\"location\" + 0.080*\"extra\" + 0.047*\"job\" + 0.041*\"surprised\" + 0.038*\"new\" + 0.032*\"today\" + 0.030*\"guest\" + 0.019*\"working\" + 0.016*\"recently\" + 0.015*\"pleasantly\" + 0.012*\"court\" + 0.010*\"site\" + 0.010*\"computer\" + 0.009*\"sold\" + 0.009*\"bruschetta\" + 0.007*\"speaking\" + 0.007*\"keeping\" + 0.007*\"ourselves\" + 0.007*\"custom\" + 0.006*\"catering\"'),\n",
       " (5,\n",
       "  '0.161*\"chicken\" + 0.073*\"sauce\" + 0.034*\"spicy\" + 0.033*\"hot\" + 0.030*\"rice\" + 0.026*\"ordered\" + 0.022*\"tasty\" + 0.022*\"beef\" + 0.021*\"dish\" + 0.020*\"chinese\" + 0.019*\"curry\" + 0.017*\"flavor\" + 0.015*\"garlic\" + 0.015*\"also\" + 0.015*\"fresh\" + 0.013*\"side\" + 0.012*\"vegetable\" + 0.012*\"order\" + 0.011*\"tender\" + 0.010*\"piece\"'),\n",
       " (6,\n",
       "  '0.093*\"chip\" + 0.080*\"bean\" + 0.074*\"salsa\" + 0.068*\"mexican\" + 0.059*\"soon\" + 0.038*\"mom\" + 0.030*\"pricey\" + 0.028*\"bathroom\" + 0.026*\"watch\" + 0.022*\"tv\" + 0.017*\"basic\" + 0.016*\"quesadilla\" + 0.011*\"beer\" + 0.010*\"pastor\" + 0.010*\"became\" + 0.009*\"reminds\" + 0.009*\"defiantly\" + 0.008*\"towel\" + 0.008*\"recipe\" + 0.007*\"searching\"'),\n",
       " (7,\n",
       "  '0.129*\"probably\" + 0.064*\"late\" + 0.048*\"bland\" + 0.035*\"mediocre\" + 0.030*\"ok\" + 0.030*\"night\" + 0.026*\"suggest\" + 0.025*\"cheesecake\" + 0.022*\"standard\" + 0.018*\"hate\" + 0.018*\"alright\" + 0.016*\"nearly\" + 0.013*\"entrance\" + 0.013*\"sticky\" + 0.013*\"vietnamese\" + 0.013*\"drinking\" + 0.011*\"waitstaff\" + 0.011*\"throughout\" + 0.010*\"0\" + 0.009*\"tapa\"'),\n",
       " (8,\n",
       "  '0.087*\"authentic\" + 0.068*\"might\" + 0.059*\"rather\" + 0.058*\"given\" + 0.042*\"more\" + 0.041*\"nacho\" + 0.041*\"immediately\" + 0.037*\"lettuce\" + 0.024*\"otherwise\" + 0.023*\"question\" + 0.020*\"together\" + 0.018*\"flavourful\" + 0.017*\"add\" + 0.016*\"cheaper\" + 0.015*\"pesto\" + 0.015*\"promptly\" + 0.011*\"alfredo\" + 0.011*\"stock\" + 0.010*\"drivethru\" + 0.009*\"bellwoods\"'),\n",
       " (9,\n",
       "  '0.077*\"place\" + 0.070*\"love\" + 0.060*\"great\" + 0.055*\"food\" + 0.054*\"always\" + 0.049*\"amazing\" + 0.032*\"favorite\" + 0.029*\"service\" + 0.027*\"recommend\" + 0.027*\"go\" + 0.027*\"awesome\" + 0.026*\"beer\" + 0.024*\"delicious\" + 0.018*\"highly\" + 0.017*\"also\" + 0.016*\"good\" + 0.013*\"here\" + 0.013*\"new\" + 0.013*\"eat\" + 0.011*\"try\"'),\n",
       " (10,\n",
       "  '0.075*\"cake\" + 0.041*\"typical\" + 0.028*\"read\" + 0.027*\"girlfriend\" + 0.024*\"changed\" + 0.024*\"fall\" + 0.021*\"compared\" + 0.021*\"leftover\" + 0.017*\"con\" + 0.016*\"cheesy\" + 0.015*\"consistency\" + 0.014*\"moist\" + 0.013*\"eater\" + 0.013*\"angry\" + 0.013*\"plastic\" + 0.012*\"recent\" + 0.011*\"mint\" + 0.011*\"dead\" + 0.010*\"bakery\" + 0.010*\"los\"'),\n",
       " (11,\n",
       "  '0.072*\"owner\" + 0.066*\"free\" + 0.058*\"home\" + 0.049*\"actually\" + 0.046*\"that\" + 0.036*\"gave\" + 0.033*\"cook\" + 0.032*\"serving\" + 0.028*\"man\" + 0.028*\"yes\" + 0.022*\"single\" + 0.021*\"bagel\" + 0.021*\"word\" + 0.021*\"grill\" + 0.020*\"plan\" + 0.019*\"returning\" + 0.018*\"young\" + 0.015*\"gluten\" + 0.015*\"woman\" + 0.011*\"fire\"'),\n",
       " (12,\n",
       "  '0.054*\"good\" + 0.031*\"place\" + 0.028*\"like\" + 0.028*\"really\" + 0.021*\"also\" + 0.019*\"food\" + 0.017*\"try\" + 0.017*\"ordered\" + 0.017*\"pretty\" + 0.016*\"little\" + 0.016*\"got\" + 0.015*\"it\" + 0.015*\"would\" + 0.015*\"one\" + 0.014*\"well\" + 0.014*\"nice\" + 0.014*\"back\" + 0.013*\"bit\" + 0.011*\"menu\" + 0.011*\"get\"'),\n",
       " (13,\n",
       "  '0.089*\"outside\" + 0.074*\"old\" + 0.071*\"employee\" + 0.053*\"flavorful\" + 0.046*\"ambiance\" + 0.027*\"slightly\" + 0.026*\"juicy\" + 0.025*\"greasy\" + 0.023*\"polite\" + 0.020*\"lovely\" + 0.019*\"actually\" + 0.018*\"sent\" + 0.017*\"park\" + 0.015*\"section\" + 0.014*\"comfort\" + 0.014*\"sit\" + 0.014*\"suggestion\" + 0.014*\"though\" + 0.013*\"memorable\" + 0.013*\"tasteless\"'),\n",
       " (14,\n",
       "  '0.052*\"u\" + 0.036*\"table\" + 0.032*\"came\" + 0.030*\"order\" + 0.029*\"minute\" + 0.026*\"ordered\" + 0.024*\"got\" + 0.021*\"took\" + 0.021*\"server\" + 0.018*\"asked\" + 0.017*\"wait\" + 0.016*\"drink\" + 0.016*\"said\" + 0.015*\"away\" + 0.013*\"long\" + 0.013*\"told\" + 0.013*\"right\" + 0.013*\"waitress\" + 0.012*\"food\" + 0.012*\"10\"'),\n",
       " (15,\n",
       "  '0.114*\"steak\" + 0.072*\"tea\" + 0.059*\"ice\" + 0.058*\"cream\" + 0.045*\"star\" + 0.039*\"5\" + 0.026*\"cooked\" + 0.023*\"vega\" + 0.021*\"perfection\" + 0.021*\"solid\" + 0.020*\"perfect\" + 0.018*\"strong\" + 0.016*\"iced\" + 0.015*\"35\" + 0.013*\"beat\" + 0.012*\"hawaiian\" + 0.011*\"roasted\" + 0.010*\"cant\" + 0.009*\"madison\" + 0.009*\"topped\"'),\n",
       " (16,\n",
       "  '0.076*\"service\" + 0.056*\"food\" + 0.051*\"customer\" + 0.025*\"never\" + 0.021*\"manager\" + 0.019*\"experience\" + 0.016*\"slow\" + 0.016*\"bad\" + 0.015*\"min\" + 0.015*\"ever\" + 0.015*\"glass\" + 0.014*\"sitting\" + 0.014*\"lady\" + 0.014*\"water\" + 0.013*\"eat\" + 0.013*\"anything\" + 0.013*\"point\" + 0.013*\"review\" + 0.013*\"worst\" + 0.013*\"terrible\"'),\n",
       " (17,\n",
       "  '0.046*\"restaurant\" + 0.035*\"le\" + 0.035*\"dessert\" + 0.033*\"dinner\" + 0.031*\"dining\" + 0.029*\"reservation\" + 0.025*\"dish\" + 0.025*\"lobster\" + 0.025*\"special\" + 0.024*\"birthday\" + 0.023*\"experience\" + 0.020*\"course\" + 0.019*\"main\" + 0.017*\"world\" + 0.016*\"appetizer\" + 0.015*\"entree\" + 0.015*\"view\" + 0.014*\"hotel\" + 0.013*\"menu\" + 0.012*\"made\"'),\n",
       " (18,\n",
       "  '0.119*\"bar\" + 0.084*\"excellent\" + 0.061*\"thai\" + 0.058*\"selection\" + 0.054*\"drink\" + 0.052*\"fun\" + 0.035*\"street\" + 0.035*\"bartender\" + 0.030*\"priced\" + 0.029*\"game\" + 0.023*\"pad\" + 0.020*\"joint\" + 0.018*\"town\" + 0.017*\"die\" + 0.015*\"cool\" + 0.014*\"casino\" + 0.012*\"reasonably\" + 0.011*\"heart\" + 0.010*\"usually\" + 0.009*\"across\"'),\n",
       " (19,\n",
       "  '0.093*\"shrimp\" + 0.037*\"early\" + 0.036*\"poor\" + 0.036*\"margarita\" + 0.031*\"short\" + 0.030*\"space\" + 0.029*\"booth\" + 0.028*\"refill\" + 0.026*\"low\" + 0.026*\"simply\" + 0.023*\"building\" + 0.022*\"interior\" + 0.019*\"mussel\" + 0.015*\"request\" + 0.015*\"bonus\" + 0.013*\"possible\" + 0.011*\"blend\" + 0.011*\"delightful\" + 0.010*\"finger\" + 0.010*\"separate\"'),\n",
       " (20,\n",
       "  '0.061*\"bbq\" + 0.055*\"rib\" + 0.042*\"meat\" + 0.041*\"salmon\" + 0.040*\"trip\" + 0.039*\"pho\" + 0.027*\"beef\" + 0.027*\"believe\" + 0.025*\"pork\" + 0.022*\"chance\" + 0.021*\"visiting\" + 0.020*\"bone\" + 0.020*\"north\" + 0.019*\"tried\" + 0.018*\"mall\" + 0.017*\"environment\" + 0.017*\"smoked\" + 0.016*\"rare\" + 0.015*\"stand\" + 0.015*\"japanese\"'),\n",
       " (21,\n",
       "  '0.080*\"guy\" + 0.068*\"dry\" + 0.056*\"called\" + 0.052*\"call\" + 0.039*\"name\" + 0.029*\"online\" + 0.024*\"cost\" + 0.023*\"kinda\" + 0.023*\"certainly\" + 0.022*\"sad\" + 0.017*\"west\" + 0.016*\"bottom\" + 0.015*\"sell\" + 0.014*\"break\" + 0.014*\"discount\" + 0.014*\"gift\" + 0.012*\"coupon\" + 0.012*\"1st\" + 0.012*\"hype\" + 0.011*\"consider\"'),\n",
       " (22,\n",
       "  '0.278*\"pizza\" + 0.039*\"slice\" + 0.039*\"crust\" + 0.037*\"cheese\" + 0.027*\"thin\" + 0.023*\"thick\" + 0.020*\"picked\" + 0.018*\"scallop\" + 0.017*\"meatball\" + 0.017*\"guacamole\" + 0.016*\"delivered\" + 0.012*\"mozzarella\" + 0.011*\"trust\" + 0.011*\"stick\" + 0.010*\"ordered\" + 0.010*\"ordering\" + 0.010*\"lover\" + 0.009*\"crunchy\" + 0.009*\"book\" + 0.007*\"pickup\"'),\n",
       " (23,\n",
       "  '0.284*\"best\" + 0.143*\"sandwich\" + 0.108*\"ever\" + 0.107*\"ive\" + 0.059*\"had\" + 0.035*\"bite\" + 0.033*\"one\" + 0.020*\"ton\" + 0.015*\"chicago\" + 0.014*\"usually\" + 0.011*\"since\" + 0.007*\"relaxing\" + 0.006*\"remember\" + 0.005*\"jalapeno\" + 0.005*\"he\" + 0.004*\"stingy\" + 0.003*\"bang\" + 0.003*\"disappoints\" + 0.003*\"reheated\" + 0.003*\"blt\"'),\n",
       " (24,\n",
       "  '0.125*\"coffee\" + 0.031*\"tasting\" + 0.029*\"cafe\" + 0.024*\"latte\" + 0.022*\"event\" + 0.018*\"tap\" + 0.014*\"chai\" + 0.014*\"pour\" + 0.014*\"brew\" + 0.013*\"sample\" + 0.013*\"et\" + 0.012*\"en\" + 0.012*\"pack\" + 0.011*\"je\" + 0.010*\"smooth\" + 0.010*\"purchase\" + 0.010*\"à\" + 0.009*\"pa\" + 0.009*\"si\" + 0.008*\"wifi\"'),\n",
       " (25,\n",
       "  '0.050*\"line\" + 0.042*\"id\" + 0.037*\"burrito\" + 0.030*\"parking\" + 0.027*\"for\" + 0.021*\"part\" + 0.019*\"area\" + 0.018*\"real\" + 0.018*\"store\" + 0.017*\"hit\" + 0.017*\"located\" + 0.016*\"fresh\" + 0.015*\"expect\" + 0.015*\"clean\" + 0.015*\"pie\" + 0.015*\"seen\" + 0.015*\"spot\" + 0.014*\"since\" + 0.014*\"mention\" + 0.013*\"strip\"'),\n",
       " (26,\n",
       "  '0.099*\"too\" + 0.092*\"perfect\" + 0.083*\"everything\" + 0.056*\"make\" + 0.056*\"amazing\" + 0.040*\"tried\" + 0.036*\"everyone\" + 0.029*\"thanks\" + 0.027*\"filling\" + 0.026*\"sure\" + 0.026*\"made\" + 0.020*\"fruit\" + 0.017*\"delicious\" + 0.016*\"last\" + 0.016*\"helped\" + 0.015*\"ball\" + 0.014*\"catch\" + 0.012*\"cannot\" + 0.011*\"team\" + 0.010*\"omelet\"'),\n",
       " (27,\n",
       "  '0.141*\"every\" + 0.076*\"week\" + 0.048*\"theyre\" + 0.044*\"packed\" + 0.038*\"always\" + 0.033*\"ago\" + 0.030*\"seriously\" + 0.028*\"wrap\" + 0.019*\"worker\" + 0.017*\"continue\" + 0.016*\"sugar\" + 0.015*\"pastry\" + 0.014*\"somewhat\" + 0.013*\"literally\" + 0.011*\"process\" + 0.010*\"far\" + 0.010*\"nasty\" + 0.010*\"quantity\" + 0.008*\"comfy\" + 0.008*\"travel\"'),\n",
       " (28,\n",
       "  '0.071*\"ate\" + 0.062*\"big\" + 0.042*\"card\" + 0.036*\"visit\" + 0.033*\"light\" + 0.032*\"8\" + 0.030*\"grab\" + 0.025*\"per\" + 0.025*\"cheap\" + 0.024*\"expectation\" + 0.021*\"boy\" + 0.017*\"eats\" + 0.017*\"machine\" + 0.016*\"tried\" + 0.015*\"soda\" + 0.015*\"apple\" + 0.015*\"signature\" + 0.014*\"while\" + 0.014*\"prefer\" + 0.013*\"34\"'),\n",
       " (29,\n",
       "  '0.146*\"cheese\" + 0.139*\"burger\" + 0.112*\"fry\" + 0.042*\"bacon\" + 0.033*\"mac\" + 0.023*\"bun\" + 0.022*\"top\" + 0.018*\"shake\" + 0.015*\"bite\" + 0.015*\"pulled\" + 0.013*\"ketchup\" + 0.012*\"bigger\" + 0.012*\"notch\" + 0.012*\"patty\" + 0.012*\"buffalo\" + 0.012*\"poutine\" + 0.009*\"half\" + 0.009*\"city\" + 0.009*\"satisfying\" + 0.008*\"jam\"'),\n",
       " (30,\n",
       "  '0.083*\"menu\" + 0.082*\"item\" + 0.060*\"must\" + 0.048*\"chef\" + 0.044*\"crab\" + 0.035*\"bring\" + 0.032*\"simple\" + 0.024*\"establishment\" + 0.021*\"try\" + 0.018*\"new\" + 0.017*\"talk\" + 0.017*\"family\" + 0.016*\"including\" + 0.016*\"platter\" + 0.016*\"see\" + 0.015*\"concept\" + 0.015*\"interesting\" + 0.015*\"kind\" + 0.015*\"dine\" + 0.014*\"hear\"'),\n",
       " (31,\n",
       "  '0.033*\"sweet\" + 0.032*\"sauce\" + 0.028*\"potato\" + 0.028*\"kind\" + 0.020*\"oh\" + 0.019*\"right\" + 0.019*\"black\" + 0.019*\"made\" + 0.018*\"white\" + 0.017*\"veggie\" + 0.016*\"much\" + 0.016*\"not\" + 0.015*\"mushroom\" + 0.015*\"nothing\" + 0.014*\"added\" + 0.013*\"either\" + 0.013*\"without\" + 0.012*\"prepared\" + 0.012*\"super\" + 0.012*\"amount\"'),\n",
       " (32,\n",
       "  '0.042*\"time\" + 0.031*\"get\" + 0.020*\"place\" + 0.020*\"order\" + 0.020*\"one\" + 0.019*\"go\" + 0.018*\"like\" + 0.017*\"food\" + 0.016*\"make\" + 0.014*\"first\" + 0.014*\"people\" + 0.014*\"would\" + 0.013*\"even\" + 0.013*\"know\" + 0.012*\"star\" + 0.012*\"going\" + 0.012*\"im\" + 0.012*\"back\" + 0.012*\"come\" + 0.012*\"say\"'),\n",
       " (33,\n",
       "  '0.050*\"family\" + 0.045*\"husband\" + 0.039*\"bread\" + 0.033*\"meal\" + 0.030*\"italian\" + 0.030*\"pasta\" + 0.027*\"seafood\" + 0.025*\"year\" + 0.023*\"home\" + 0.019*\"fresh\" + 0.018*\"loud\" + 0.018*\"noticed\" + 0.017*\"chili\" + 0.017*\"that\" + 0.015*\"dip\" + 0.015*\"sausage\" + 0.014*\"made\" + 0.013*\"garlic\" + 0.012*\"lemon\" + 0.011*\"entire\"'),\n",
       " (34,\n",
       "  '0.177*\"taco\" + 0.076*\"wing\" + 0.061*\"them\" + 0.053*\"topping\" + 0.037*\"chocolate\" + 0.023*\"yum\" + 0.020*\"tuesday\" + 0.019*\"pittsburgh\" + 0.018*\"tortilla\" + 0.014*\"club\" + 0.013*\"company\" + 0.012*\"bell\" + 0.012*\"boba\" + 0.012*\"omelette\" + 0.012*\"pineapple\" + 0.011*\"guac\" + 0.010*\"venue\" + 0.010*\"def\" + 0.010*\"art\" + 0.009*\"strawberry\"'),\n",
       " (35,\n",
       "  '0.108*\"roll\" + 0.070*\"bowl\" + 0.036*\"usually\" + 0.035*\"plus\" + 0.034*\"ramen\" + 0.026*\"fresh\" + 0.026*\"waffle\" + 0.023*\"sometimes\" + 0.023*\"lol\" + 0.023*\"healthy\" + 0.021*\"poke\" + 0.020*\"feeling\" + 0.019*\"included\" + 0.017*\"head\" + 0.017*\"broth\" + 0.017*\"spring\" + 0.016*\"combination\" + 0.015*\"big\" + 0.014*\"craving\" + 0.014*\"leaving\"'),\n",
       " (36,\n",
       "  '0.092*\"year\" + 0.080*\"yummy\" + 0.065*\"music\" + 0.034*\"which\" + 0.033*\"exactly\" + 0.031*\"stay\" + 0.031*\"heat\" + 0.027*\"original\" + 0.023*\"this\" + 0.021*\"buy\" + 0.017*\"play\" + 0.017*\"goat\" + 0.017*\"country\" + 0.015*\"wanting\" + 0.014*\"potential\" + 0.011*\"training\" + 0.010*\"inch\" + 0.009*\"mini\" + 0.009*\"organic\" + 0.009*\"can\"'),\n",
       " (37,\n",
       "  '0.082*\"wait\" + 0.048*\"long\" + 0.033*\"cant\" + 0.032*\"night\" + 0.030*\"several\" + 0.029*\"walk\" + 0.028*\"often\" + 0.027*\"expected\" + 0.026*\"evening\" + 0.025*\"beautiful\" + 0.024*\"friday\" + 0.022*\"complaint\" + 0.021*\"anyone\" + 0.017*\"door\" + 0.016*\"fact\" + 0.015*\"crowd\" + 0.014*\"50\" + 0.013*\"decide\" + 0.013*\"addition\" + 0.012*\"patio\"'),\n",
       " (38,\n",
       "  '0.102*\"wine\" + 0.091*\"kid\" + 0.072*\"wife\" + 0.037*\"others\" + 0.035*\"were\" + 0.031*\"casual\" + 0.030*\"bottle\" + 0.026*\"pm\" + 0.026*\"welcoming\" + 0.017*\"rich\" + 0.013*\"adult\" + 0.013*\"loved\" + 0.012*\"certain\" + 0.012*\"towards\" + 0.012*\"of\" + 0.011*\"overwhelming\" + 0.010*\"stew\" + 0.010*\"fee\" + 0.010*\"bellagio\" + 0.009*\"risotto\"'),\n",
       " (39,\n",
       "  '0.112*\"disappointed\" + 0.074*\"brunch\" + 0.048*\"down\" + 0.036*\"five\" + 0.035*\"extremely\" + 0.034*\"review\" + 0.027*\"gravy\" + 0.027*\"brisket\" + 0.019*\"yelp\" + 0.018*\"ginger\" + 0.018*\"sort\" + 0.018*\"seasoning\" + 0.017*\"seeing\" + 0.017*\"biscuit\" + 0.015*\"syrup\" + 0.015*\"mimosa\" + 0.014*\"lacking\" + 0.014*\"south\" + 0.013*\"known\" + 0.013*\"many\"'),\n",
       " (40,\n",
       "  '0.079*\"option\" + 0.047*\"decent\" + 0.034*\"seating\" + 0.028*\"choose\" + 0.027*\"vegan\" + 0.025*\"seem\" + 0.024*\"totally\" + 0.024*\"variety\" + 0.024*\"spot\" + 0.024*\"offer\" + 0.024*\"different\" + 0.023*\"shop\" + 0.023*\"on\" + 0.020*\"inside\" + 0.020*\"limited\" + 0.018*\"area\" + 0.018*\"though\" + 0.016*\"local\" + 0.016*\"outdoor\" + 0.015*\"cup\"'),\n",
       " (41,\n",
       "  '0.064*\"lunch\" + 0.060*\"fresh\" + 0.057*\"quick\" + 0.043*\"portion\" + 0.042*\"green\" + 0.041*\"size\" + 0.031*\"hot\" + 0.025*\"staff\" + 0.024*\"helpful\" + 0.024*\"large\" + 0.024*\"decor\" + 0.024*\"friendly\" + 0.023*\"add\" + 0.020*\"small\" + 0.019*\"hand\" + 0.019*\"red\" + 0.018*\"served\" + 0.017*\"pleasant\" + 0.013*\"extra\" + 0.013*\"greeted\"'),\n",
       " (42,\n",
       "  '0.089*\"la\" + 0.089*\"fantastic\" + 0.059*\"wonderful\" + 0.053*\"perfectly\" + 0.038*\"delivery\" + 0.037*\"wow\" + 0.035*\"weve\" + 0.031*\"eaten\" + 0.030*\"excellent\" + 0.021*\"belly\" + 0.020*\"par\" + 0.020*\"el\" + 0.018*\"pricing\" + 0.017*\"fancy\" + 0.017*\"consistently\" + 0.013*\"spaghetti\" + 0.012*\"style\" + 0.012*\"hubby\" + 0.012*\"sport\" + 0.012*\"absolutely\"'),\n",
       " (43,\n",
       "  '0.044*\"ingredient\" + 0.043*\"may\" + 0.033*\"recommended\" + 0.031*\"hope\" + 0.030*\"many\" + 0.029*\"opened\" + 0.028*\"type\" + 0.027*\"and\" + 0.025*\"life\" + 0.022*\"etc\" + 0.021*\"a\" + 0.021*\"cashier\" + 0.020*\"enjoy\" + 0.020*\"calamari\" + 0.020*\"truly\" + 0.019*\"smell\" + 0.018*\"pickle\" + 0.018*\"start\" + 0.015*\"crepe\" + 0.015*\"cut\"'),\n",
       " (44,\n",
       "  '0.115*\"egg\" + 0.109*\"breakfast\" + 0.054*\"drive\" + 0.042*\"french\" + 0.039*\"pancake\" + 0.037*\"reasonable\" + 0.034*\"mean\" + 0.032*\"toast\" + 0.024*\"gem\" + 0.018*\"banana\" + 0.017*\"hidden\" + 0.014*\"airport\" + 0.014*\"benedict\" + 0.014*\"overly\" + 0.013*\"sausage\" + 0.012*\"daily\" + 0.011*\"closer\" + 0.010*\"mcdonalds\" + 0.009*\"god\" + 0.009*\"sampler\"'),\n",
       " (45,\n",
       "  '0.037*\"date\" + 0.032*\"n\" + 0.032*\"toronto\" + 0.029*\"milk\" + 0.028*\"spice\" + 0.025*\"comfortable\" + 0.022*\"cuisine\" + 0.021*\"sick\" + 0.021*\"professional\" + 0.021*\"treat\" + 0.019*\"tough\" + 0.019*\"likely\" + 0.018*\"miso\" + 0.018*\"crisp\" + 0.016*\"honey\" + 0.015*\"heavy\" + 0.014*\"why\" + 0.013*\"movie\" + 0.013*\"support\" + 0.013*\"pleased\"'),\n",
       " (46,\n",
       "  '0.156*\"sushi\" + 0.082*\"high\" + 0.061*\"average\" + 0.036*\"combo\" + 0.027*\"awful\" + 0.026*\"ahead\" + 0.026*\"dirty\" + 0.023*\"sashimi\" + 0.022*\"surprise\" + 0.021*\"ayce\" + 0.018*\"disgusting\" + 0.018*\"chair\" + 0.015*\"coleslaw\" + 0.013*\"efficient\" + 0.013*\"heaven\" + 0.013*\"half\" + 0.011*\"stale\" + 0.010*\"pub\" + 0.010*\"nigiri\" + 0.009*\"chat\"'),\n",
       " (47,\n",
       "  '0.217*\"salad\" + 0.060*\"onion\" + 0.058*\"tasty\" + 0.057*\"room\" + 0.051*\"regular\" + 0.032*\"phoenix\" + 0.027*\"tuna\" + 0.027*\"downtown\" + 0.026*\"dressing\" + 0.018*\"easily\" + 0.018*\"similar\" + 0.016*\"ring\" + 0.014*\"gyro\" + 0.014*\"zero\" + 0.013*\"traditional\" + 0.013*\"mouth\" + 0.012*\"difficult\" + 0.010*\"melt\" + 0.008*\"many\" + 0.007*\"once\"'),\n",
       " (48,\n",
       "  '0.015*\"serve\" + 0.014*\"buffet\" + 0.012*\"unfortunately\" + 0.010*\"taking\" + 0.010*\"corn\" + 0.009*\"ordering\" + 0.009*\"dog\" + 0.009*\"mix\" + 0.009*\"off\" + 0.009*\"de\" + 0.009*\"phone\" + 0.009*\"behind\" + 0.009*\"along\" + 0.009*\"completely\" + 0.008*\"sorry\" + 0.007*\"working\" + 0.007*\"cut\" + 0.007*\"baked\" + 0.007*\"dim\" + 0.006*\"double\"'),\n",
       " (49,\n",
       "  '0.082*\"great\" + 0.076*\"food\" + 0.053*\"service\" + 0.043*\"good\" + 0.029*\"staff\" + 0.027*\"friendly\" + 0.026*\"nice\" + 0.024*\"back\" + 0.024*\"restaurant\" + 0.023*\"time\" + 0.021*\"definitely\" + 0.020*\"place\" + 0.020*\"atmosphere\" + 0.019*\"delicious\" + 0.017*\"happy\" + 0.015*\"loved\" + 0.014*\"vega\" + 0.014*\"really\" + 0.014*\"visit\" + 0.013*\"attentive\"')]"
      ]
     },
     "execution_count": 57,
     "metadata": {},
     "output_type": "execute_result"
    }
   ],
   "source": [
    "best = 50\n",
    "models[str(best)].print_topics(num_topics=best, num_words=20)"
   ]
  },
  {
   "cell_type": "code",
   "execution_count": null,
   "metadata": {},
   "outputs": [],
   "source": []
  }
 ],
 "metadata": {
  "kernelspec": {
   "display_name": "Python 3",
   "language": "python",
   "name": "python3"
  },
  "language_info": {
   "codemirror_mode": {
    "name": "ipython",
    "version": 3
   },
   "file_extension": ".py",
   "mimetype": "text/x-python",
   "name": "python",
   "nbconvert_exporter": "python",
   "pygments_lexer": "ipython3",
   "version": "3.6.4"
  }
 },
 "nbformat": 4,
 "nbformat_minor": 2
}
